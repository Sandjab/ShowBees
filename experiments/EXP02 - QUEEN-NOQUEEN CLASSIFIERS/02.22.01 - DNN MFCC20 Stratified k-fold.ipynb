{
 "cells": [
  {
   "cell_type": "markdown",
   "metadata": {},
   "source": [
    "# 00.24 - QUEEN-NOQUEEN - NN Classification Stratified k-fold\n",
    "\n",
    "## Prerequisites\n",
    "\n",
    "- The dataset exists (if not, execute 00 - Dataset Initialisation)\n",
    "- The dataset features have been populated (if not, execute 02 - Features Computation)\n"
   ]
  },
  {
   "cell_type": "code",
   "execution_count": 1,
   "metadata": {
    "scrolled": true
   },
   "outputs": [
    {
     "name": "stdout",
     "output_type": "stream",
     "text": [
      "[2020-08-31/09:47:58.530|15.1%|77.5%|0.28GB] ------------------------------------------------------\n",
      "[2020-08-31/09:47:58.530|00.0%|77.5%|0.28GB] DATASET NAME          : MAIN1000\n",
      "[2020-08-31/09:47:58.531|00.0%|77.5%|0.28GB] DATASET PATH          : D:\\Jupyter\\ShowBees\\datasets\\MAIN1000\n",
      "[2020-08-31/09:47:58.531|00.0%|77.5%|0.28GB] DATASET DB PATH       : D:\\Jupyter\\ShowBees\\datasets\\MAIN1000\\MAIN1000.db\n",
      "[2020-08-31/09:47:58.531|00.0%|77.5%|0.28GB] DATASET SAMPLES PATH  : D:\\Jupyter\\ShowBees\\datasets\\MAIN1000\\samples\n",
      "[2020-08-31/09:47:58.531|00.0%|77.5%|0.28GB] NB SOURCE AUDIO FILES : 48\n",
      "[2020-08-31/09:47:58.531|00.0%|77.5%|0.28GB] SAMPLE RATE           : 22050\n",
      "[2020-08-31/09:47:58.531|00.0%|77.5%|0.28GB] DURATION              : 1.0\n",
      "[2020-08-31/09:47:58.531|00.0%|77.5%|0.28GB] OVERLAP               : 0.0\n",
      "[2020-08-31/09:47:58.531|00.0%|77.5%|0.28GB] NB AUDIO CHUNKS       : 24788\n",
      "[2020-08-31/09:47:58.532|00.0%|77.5%|0.28GB] ------------------------------------------------------\n"
     ]
    }
   ],
   "source": [
    "import warnings                      # This block prevents display of harmless warnings, but should be\n",
    "warnings.filterwarnings('ignore')    # commented out till the experiment final version,\n",
    "                                     # in order to avoid missing \"real\" warnings \n",
    "\n",
    "import kilroy_was_here               # Mandatory. Allow access to shared python code from repository root\n",
    "from audace.jupytools import (\n",
    "    iprint,                          # timestamped (to the ms) print with CPU and RAM consumption information                     \n",
    "    say_my_name,                     # gets notebook name\n",
    "    predestination                   # seeds various PRNGs for reproducibiliy\n",
    ")\n",
    "\n",
    "from audace.audiodataset import AudioDataset      # Main class for audio dataset handling\n",
    "\n",
    "# Experiment name will be used to prefix potential outputs\n",
    "EXP_NAME = say_my_name()\n",
    "\n",
    "# Dataset name is the master key for dataset adressing\n",
    "# Change it according to the dataset you want to process\n",
    "DATASET_NAME = 'MAIN1000'\n",
    "\n",
    "# Initialize Dataset Object. \n",
    "ds = AudioDataset(DATASET_NAME)\n",
    "    \n",
    "# Display AudioDataset summary    \n",
    "ds.info()"
   ]
  },
  {
   "cell_type": "code",
   "execution_count": 3,
   "metadata": {},
   "outputs": [],
   "source": [
    "def simple_model(input_dim):\n",
    "    model = keras.models.Sequential()\n",
    "    model.add(keras.layers.Flatten(input_shape=input_dim))\n",
    "    model.add(keras.layers.Dense(2, activation=\"relu\"))\n",
    "    model.add(keras.layers.BatchNormalization())\n",
    "    model.add(keras.layers.Dropout(0.25))\n",
    "    model.add(keras.layers.Dense(2, activation=\"relu\"))\n",
    "    model.add(keras.layers.BatchNormalization())\n",
    "    model.add(keras.layers.Dropout(0.25))\n",
    "    model.add(keras.layers.Dense(1, activation=\"sigmoid\"))\n",
    "\n",
    "    model.compile(loss=\"binary_crossentropy\",\n",
    "                  optimizer=\"adam\",\n",
    "                  metrics=[\"accuracy\"]\n",
    "    )    \n",
    "    \n",
    "    return model\n",
    "\n",
    "\n",
    "def simple_model2(n_inputs):\n",
    "    model = keras.models.Sequential()\n",
    "    model.add(keras.layers.Flatten(input_shape=n_inputs))\n",
    "    model.add(keras.layers.Dense(2, activation=\"selu\", kernel_initializer=\"lecun_normal\"))\n",
    "    #model.add(keras.layers.BatchNormalization())\n",
    "    #model.add(keras.layers.Dropout(0.25))\n",
    "    model.add(keras.layers.Dense(2, activation=\"selu\", kernel_initializer=\"lecun_normal\"))\n",
    "    #model.add(keras.layers.BatchNormalization())\n",
    "    #model.add(keras.layers.Dropout(0.25))\n",
    "    model.add(keras.layers.Dense(1, activation=\"sigmoid\"))\n",
    "\n",
    "    model.compile(loss=\"binary_crossentropy\",\n",
    "                  optimizer=\"nadam\",\n",
    "                  metrics=[\"accuracy\"]\n",
    "    )    \n",
    "    \n",
    "    return model"
   ]
  },
  {
   "cell_type": "code",
   "execution_count": 4,
   "metadata": {
    "scrolled": true
   },
   "outputs": [
    {
     "name": "stderr",
     "output_type": "stream",
     "text": [
      "Using TensorFlow backend.\n"
     ]
    },
    {
     "name": "stdout",
     "output_type": "stream",
     "text": [
      "[2020-08-31/09:48:08.075|07.6%|76.0%|0.28GB] >>>>> Query features and labels\n",
      "Train on 13764 samples\n",
      "Epoch 1/10\n",
      "13764/13764 - 3s - loss: 0.5565 - accuracy: 0.7274\n",
      "Epoch 2/10\n",
      "13764/13764 - 3s - loss: 0.4708 - accuracy: 0.7975\n",
      "Epoch 3/10\n",
      "13764/13764 - 3s - loss: 0.4419 - accuracy: 0.8205\n",
      "Epoch 4/10\n",
      "13764/13764 - 3s - loss: 0.4358 - accuracy: 0.8208\n",
      "Epoch 5/10\n",
      "13764/13764 - 3s - loss: 0.4271 - accuracy: 0.8238\n",
      "Epoch 6/10\n",
      "13764/13764 - 3s - loss: 0.4317 - accuracy: 0.8192\n",
      "Epoch 7/10\n",
      "13764/13764 - 3s - loss: 0.4146 - accuracy: 0.8346\n",
      "Epoch 8/10\n",
      "13764/13764 - 4s - loss: 0.4087 - accuracy: 0.8357\n",
      "Epoch 9/10\n",
      "13764/13764 - 4s - loss: 0.3944 - accuracy: 0.8366\n",
      "Epoch 10/10\n",
      "13764/13764 - 4s - loss: 0.4015 - accuracy: 0.8407\n",
      "3441/3441 - 1s - loss: 0.1578 - accuracy: 0.9555\n",
      "Train on 13764 samples\n",
      "Epoch 1/10\n",
      "13764/13764 - 5s - loss: 0.6039 - accuracy: 0.6669\n",
      "Epoch 2/10\n",
      "13764/13764 - 4s - loss: 0.4899 - accuracy: 0.7570\n",
      "Epoch 3/10\n",
      "13764/13764 - 4s - loss: 0.4795 - accuracy: 0.7648\n",
      "Epoch 4/10\n",
      "13764/13764 - 4s - loss: 0.4603 - accuracy: 0.7770\n",
      "Epoch 5/10\n",
      "13764/13764 - 4s - loss: 0.4619 - accuracy: 0.7752\n",
      "Epoch 6/10\n",
      "13764/13764 - 4s - loss: 0.4570 - accuracy: 0.7770\n",
      "Epoch 7/10\n",
      "13764/13764 - 4s - loss: 0.4477 - accuracy: 0.7833\n",
      "Epoch 8/10\n",
      "13764/13764 - 5s - loss: 0.4621 - accuracy: 0.7742\n",
      "Epoch 9/10\n",
      "13764/13764 - 5s - loss: 0.4591 - accuracy: 0.7765\n",
      "Epoch 10/10\n",
      "13764/13764 - 5s - loss: 0.4523 - accuracy: 0.7773\n",
      "3441/3441 - 1s - loss: 0.2534 - accuracy: 0.9009\n",
      "Train on 13764 samples\n",
      "Epoch 1/10\n",
      "13764/13764 - 6s - loss: 0.5741 - accuracy: 0.7005\n",
      "Epoch 2/10\n",
      "13764/13764 - 4s - loss: 0.4937 - accuracy: 0.7669\n",
      "Epoch 3/10\n",
      "13764/13764 - 4s - loss: 0.4594 - accuracy: 0.7994\n",
      "Epoch 4/10\n",
      "13764/13764 - 4s - loss: 0.4707 - accuracy: 0.7814\n",
      "Epoch 5/10\n",
      "13764/13764 - 4s - loss: 0.4594 - accuracy: 0.7911\n",
      "Epoch 6/10\n",
      "13764/13764 - 4s - loss: 0.4459 - accuracy: 0.8032\n",
      "Epoch 7/10\n",
      "13764/13764 - 4s - loss: 0.4397 - accuracy: 0.8022\n",
      "Epoch 8/10\n",
      "13764/13764 - 4s - loss: 0.4265 - accuracy: 0.8082\n",
      "Epoch 9/10\n",
      "13764/13764 - 4s - loss: 0.4364 - accuracy: 0.8025\n",
      "Epoch 10/10\n",
      "13764/13764 - 4s - loss: 0.4292 - accuracy: 0.8045\n",
      "3441/3441 - 1s - loss: 0.2656 - accuracy: 0.8901\n",
      "Train on 13764 samples\n",
      "Epoch 1/10\n",
      "13764/13764 - 5s - loss: 0.5569 - accuracy: 0.7340\n",
      "Epoch 2/10\n",
      "13764/13764 - 4s - loss: 0.4935 - accuracy: 0.7778\n",
      "Epoch 3/10\n",
      "13764/13764 - 5s - loss: 0.4676 - accuracy: 0.7935\n",
      "Epoch 4/10\n",
      "13764/13764 - 5s - loss: 0.4652 - accuracy: 0.7922\n",
      "Epoch 5/10\n",
      "13764/13764 - 5s - loss: 0.4458 - accuracy: 0.8043\n",
      "Epoch 6/10\n",
      "13764/13764 - 5s - loss: 0.4523 - accuracy: 0.8008\n",
      "Epoch 7/10\n",
      "13764/13764 - 4s - loss: 0.4495 - accuracy: 0.8017\n",
      "Epoch 8/10\n",
      "13764/13764 - 4s - loss: 0.4405 - accuracy: 0.8060\n",
      "Epoch 9/10\n",
      "13764/13764 - 4s - loss: 0.4423 - accuracy: 0.8051\n",
      "Epoch 10/10\n",
      "13764/13764 - 4s - loss: 0.4415 - accuracy: 0.8055\n",
      "3441/3441 - 1s - loss: 0.2776 - accuracy: 0.9003\n",
      "Train on 13764 samples\n",
      "Epoch 1/10\n",
      "13764/13764 - 4s - loss: 0.5402 - accuracy: 0.7255\n",
      "Epoch 2/10\n",
      "13764/13764 - 4s - loss: 0.4841 - accuracy: 0.7687\n",
      "Epoch 3/10\n",
      "13764/13764 - 4s - loss: 0.4798 - accuracy: 0.7711\n",
      "Epoch 4/10\n",
      "13764/13764 - 4s - loss: 0.4772 - accuracy: 0.7825\n",
      "Epoch 5/10\n",
      "13764/13764 - 4s - loss: 0.4571 - accuracy: 0.8000\n",
      "Epoch 6/10\n",
      "13764/13764 - 4s - loss: 0.4435 - accuracy: 0.8067\n",
      "Epoch 7/10\n",
      "13764/13764 - 5s - loss: 0.4501 - accuracy: 0.8028\n",
      "Epoch 8/10\n",
      "13764/13764 - 5s - loss: 0.4402 - accuracy: 0.8036\n",
      "Epoch 9/10\n",
      "13764/13764 - 5s - loss: 0.4498 - accuracy: 0.7961\n",
      "Epoch 10/10\n",
      "13764/13764 - 6s - loss: 0.4389 - accuracy: 0.8051\n",
      "3441/3441 - 1s - loss: 0.2413 - accuracy: 0.8971\n",
      "Standardized: 90.88% (2.37%)\n"
     ]
    }
   ],
   "source": [
    "import numpy as np\n",
    "from sklearn.model_selection import train_test_split\n",
    "from sklearn.preprocessing import StandardScaler\n",
    "from sklearn.model_selection import cross_val_score\n",
    "from sklearn.model_selection import StratifiedKFold\n",
    "from sklearn.pipeline import Pipeline\n",
    "import tensorflow as tf\n",
    "from tensorflow import keras\n",
    "from keras.wrappers.scikit_learn import KerasClassifier\n",
    "\n",
    "from audace.jupytools import predestination\n",
    "from audace.audiodataset import serie_to_2D\n",
    "\n",
    "\n",
    "# Experiment parameters\n",
    "FEATURE_NAME = 'mfcc20'\n",
    "\n",
    "# Seed the various PRNGs\n",
    "predestination()\n",
    "\n",
    "# Get pandas dataframe containing the columns we will need for this experiment\n",
    "# and shuffle it\n",
    "iprint(\">>>>> Query features and labels\")\n",
    "sql = F\"select {FEATURE_NAME}, queen from samples where nobee = 0\"\n",
    "df = ds.queryDataFrame(sql).sample(frac=1)\n",
    "\n",
    "# Get features and labels\n",
    "X = serie_to_2D(df[FEATURE_NAME])\n",
    "y = df['queen']\n",
    "keras.backend.clear_session()\n",
    "\n",
    "estimators = []\n",
    "estimators.append(('standardize', StandardScaler()))\n",
    "estimators.append(('mlp', KerasClassifier(build_fn=simple_model, input_dim=X[0].shape, epochs=10, batch_size=5, verbose=2)))\n",
    "\n",
    "pipeline = Pipeline(estimators)\n",
    "\n",
    "kfold = StratifiedKFold(n_splits=5, shuffle=True)\n",
    "results = cross_val_score(pipeline, X, y, cv=kfold)\n",
    "\n",
    "print(\"Standardized: %.2f%% (%.2f%%)\" % (results.mean()*100, results.std()*100))"
   ]
  },
  {
   "cell_type": "code",
   "execution_count": 4,
   "metadata": {},
   "outputs": [
    {
     "ename": "NameError",
     "evalue": "name 'history' is not defined",
     "output_type": "error",
     "traceback": [
      "\u001b[1;31m---------------------------------------------------------------------------\u001b[0m",
      "\u001b[1;31mNameError\u001b[0m                                 Traceback (most recent call last)",
      "\u001b[1;32m<ipython-input-4-cb9d2b8c3ff0>\u001b[0m in \u001b[0;36m<module>\u001b[1;34m\u001b[0m\n\u001b[0;32m      4\u001b[0m \u001b[1;33m\u001b[0m\u001b[0m\n\u001b[0;32m      5\u001b[0m \u001b[0mplt\u001b[0m\u001b[1;33m.\u001b[0m\u001b[0msubplot\u001b[0m\u001b[1;33m(\u001b[0m\u001b[1;36m121\u001b[0m\u001b[1;33m)\u001b[0m\u001b[1;33m\u001b[0m\u001b[1;33m\u001b[0m\u001b[0m\n\u001b[1;32m----> 6\u001b[1;33m \u001b[0mplt\u001b[0m\u001b[1;33m.\u001b[0m\u001b[0mplot\u001b[0m\u001b[1;33m(\u001b[0m\u001b[0mhistory\u001b[0m\u001b[1;33m.\u001b[0m\u001b[0mhistory\u001b[0m\u001b[1;33m[\u001b[0m\u001b[1;34m'accuracy'\u001b[0m\u001b[1;33m]\u001b[0m\u001b[1;33m)\u001b[0m\u001b[1;33m\u001b[0m\u001b[1;33m\u001b[0m\u001b[0m\n\u001b[0m\u001b[0;32m      7\u001b[0m \u001b[0mplt\u001b[0m\u001b[1;33m.\u001b[0m\u001b[0mplot\u001b[0m\u001b[1;33m(\u001b[0m\u001b[0mhistory\u001b[0m\u001b[1;33m.\u001b[0m\u001b[0mhistory\u001b[0m\u001b[1;33m[\u001b[0m\u001b[1;34m'val_accuracy'\u001b[0m\u001b[1;33m]\u001b[0m\u001b[1;33m)\u001b[0m\u001b[1;33m\u001b[0m\u001b[1;33m\u001b[0m\u001b[0m\n\u001b[0;32m      8\u001b[0m \u001b[0mplt\u001b[0m\u001b[1;33m.\u001b[0m\u001b[0mtitle\u001b[0m\u001b[1;33m(\u001b[0m\u001b[1;34m'model accuracy'\u001b[0m\u001b[1;33m)\u001b[0m\u001b[1;33m\u001b[0m\u001b[1;33m\u001b[0m\u001b[0m\n",
      "\u001b[1;31mNameError\u001b[0m: name 'history' is not defined"
     ]
    },
    {
     "data": {
      "image/png": "[encoded data removed]",
      "text/plain": [
       "<Figure size 1008x288 with 1 Axes>"
      ]
     },
     "metadata": {
      "needs_background": "light"
     },
     "output_type": "display_data"
    }
   ],
   "source": [
    "import matplotlib.pyplot as plt\n",
    "\n",
    "plt.figure(figsize=(14, 4))\n",
    "\n",
    "plt.subplot(121)\n",
    "plt.plot(history.history['accuracy'])\n",
    "plt.plot(history.history['val_accuracy'])\n",
    "plt.title('model accuracy')\n",
    "plt.ylabel('accuracy')\n",
    "plt.xlabel('epoch')\n",
    "plt.grid()\n",
    "plt.legend(['train', 'val'], loc='upper left')\n",
    "\n",
    "plt.subplot(122)\n",
    "plt.plot(history.history['loss'])\n",
    "plt.plot(history.history['val_loss'])\n",
    "plt.title('model loss')\n",
    "plt.ylabel('loss')\n",
    "plt.xlabel('epoch')\n",
    "plt.grid()\n",
    "plt.legend(['train', 'val'], loc='upper left')\n",
    "\n",
    "plt.tight_layout()"
   ]
  },
  {
   "cell_type": "code",
   "execution_count": 5,
   "metadata": {},
   "outputs": [
    {
     "ename": "NameError",
     "evalue": "name 'history' is not defined",
     "output_type": "error",
     "traceback": [
      "\u001b[1;31m---------------------------------------------------------------------------\u001b[0m",
      "\u001b[1;31mNameError\u001b[0m                                 Traceback (most recent call last)",
      "\u001b[1;32m<ipython-input-5-986532fabf4b>\u001b[0m in \u001b[0;36m<module>\u001b[1;34m\u001b[0m\n\u001b[0;32m      1\u001b[0m \u001b[1;32mimport\u001b[0m \u001b[0mpandas\u001b[0m \u001b[1;32mas\u001b[0m \u001b[0mpd\u001b[0m\u001b[1;33m\u001b[0m\u001b[1;33m\u001b[0m\u001b[0m\n\u001b[1;32m----> 2\u001b[1;33m \u001b[0mpd\u001b[0m\u001b[1;33m.\u001b[0m\u001b[0mDataFrame\u001b[0m\u001b[1;33m(\u001b[0m\u001b[0mhistory\u001b[0m\u001b[1;33m.\u001b[0m\u001b[0mhistory\u001b[0m\u001b[1;33m)\u001b[0m\u001b[1;33m.\u001b[0m\u001b[0mplot\u001b[0m\u001b[1;33m(\u001b[0m\u001b[0mfigsize\u001b[0m\u001b[1;33m=\u001b[0m\u001b[1;33m(\u001b[0m\u001b[1;36m12\u001b[0m\u001b[1;33m,\u001b[0m \u001b[1;36m8\u001b[0m\u001b[1;33m)\u001b[0m\u001b[1;33m)\u001b[0m\u001b[1;33m\u001b[0m\u001b[1;33m\u001b[0m\u001b[0m\n\u001b[0m\u001b[0;32m      3\u001b[0m \u001b[0mplt\u001b[0m\u001b[1;33m.\u001b[0m\u001b[0mgrid\u001b[0m\u001b[1;33m(\u001b[0m\u001b[1;32mTrue\u001b[0m\u001b[1;33m)\u001b[0m\u001b[1;33m\u001b[0m\u001b[1;33m\u001b[0m\u001b[0m\n\u001b[0;32m      4\u001b[0m \u001b[0mplt\u001b[0m\u001b[1;33m.\u001b[0m\u001b[0mgca\u001b[0m\u001b[1;33m(\u001b[0m\u001b[1;33m)\u001b[0m\u001b[1;33m.\u001b[0m\u001b[0mset_ylim\u001b[0m\u001b[1;33m(\u001b[0m\u001b[1;36m0\u001b[0m\u001b[1;33m,\u001b[0m \u001b[1;36m1\u001b[0m\u001b[1;33m)\u001b[0m \u001b[1;31m# set the vertical range to [0-1]\u001b[0m\u001b[1;33m\u001b[0m\u001b[1;33m\u001b[0m\u001b[0m\n\u001b[0;32m      5\u001b[0m \u001b[0mplt\u001b[0m\u001b[1;33m.\u001b[0m\u001b[0mshow\u001b[0m\u001b[1;33m(\u001b[0m\u001b[1;33m)\u001b[0m\u001b[1;33m\u001b[0m\u001b[1;33m\u001b[0m\u001b[0m\n",
      "\u001b[1;31mNameError\u001b[0m: name 'history' is not defined"
     ]
    }
   ],
   "source": [
    "import pandas as pd\n",
    "pd.DataFrame(history.history).plot(figsize=(12, 8))\n",
    "plt.grid(True)\n",
    "plt.gca().set_ylim(0, 1) # set the vertical range to [0-1]\n",
    "plt.show()"
   ]
  },
  {
   "cell_type": "code",
   "execution_count": 6,
   "metadata": {},
   "outputs": [
    {
     "name": "stdout",
     "output_type": "stream",
     "text": [
      "[2020-08-28/20:23:10.790|13.5%|82.1%|0.48GB] >>>>> Predict\n"
     ]
    },
    {
     "ename": "NameError",
     "evalue": "name 'model' is not defined",
     "output_type": "error",
     "traceback": [
      "\u001b[1;31m---------------------------------------------------------------------------\u001b[0m",
      "\u001b[1;31mNameError\u001b[0m                                 Traceback (most recent call last)",
      "\u001b[1;32m<ipython-input-6-99865957d9e9>\u001b[0m in \u001b[0;36m<module>\u001b[1;34m\u001b[0m\n\u001b[0;32m      3\u001b[0m \u001b[1;31m#Predict the response for test dataset\u001b[0m\u001b[1;33m\u001b[0m\u001b[1;33m\u001b[0m\u001b[1;33m\u001b[0m\u001b[0m\n\u001b[0;32m      4\u001b[0m \u001b[0miprint\u001b[0m\u001b[1;33m(\u001b[0m\u001b[1;34m'>>>>> Predict'\u001b[0m\u001b[1;33m)\u001b[0m\u001b[1;33m\u001b[0m\u001b[1;33m\u001b[0m\u001b[0m\n\u001b[1;32m----> 5\u001b[1;33m \u001b[0my_pred\u001b[0m \u001b[1;33m=\u001b[0m \u001b[0mmodel\u001b[0m\u001b[1;33m.\u001b[0m\u001b[0mpredict\u001b[0m\u001b[1;33m(\u001b[0m\u001b[0mX_test\u001b[0m\u001b[1;33m)\u001b[0m\u001b[1;33m\u001b[0m\u001b[1;33m\u001b[0m\u001b[0m\n\u001b[0m\u001b[0;32m      6\u001b[0m \u001b[1;33m\u001b[0m\u001b[0m\n\u001b[0;32m      7\u001b[0m \u001b[1;31m# Display information about the classifier performance\u001b[0m\u001b[1;33m\u001b[0m\u001b[1;33m\u001b[0m\u001b[1;33m\u001b[0m\u001b[0m\n",
      "\u001b[1;31mNameError\u001b[0m: name 'model' is not defined"
     ]
    }
   ],
   "source": [
    "from sklearn import metrics\n",
    "\n",
    "#Predict the response for test dataset\n",
    "iprint('>>>>> Predict')\n",
    "y_pred = model.predict(X_test)\n",
    "\n",
    "# Display information about the classifier performance\n",
    "iprint(\"Accuracy  :\",metrics.accuracy_score(y_test, y_pred))\n",
    "iprint(\"Precision :\",metrics.precision_score(y_test, y_pred))\n",
    "iprint(\"Recall    :\",metrics.recall_score(y_test, y_pred))\n",
    "iprint(\"F-Measure :\",metrics.f1_score(y_test, y_pred))"
   ]
  },
  {
   "cell_type": "code",
   "execution_count": 13,
   "metadata": {},
   "outputs": [
    {
     "name": "stdout",
     "output_type": "stream",
     "text": [
      "Model: \"sequential\"\n",
      "_________________________________________________________________\n",
      "Layer (type)                 Output Shape              Param #   \n",
      "=================================================================\n",
      "flatten (Flatten)            (None, 880)               0         \n",
      "_________________________________________________________________\n",
      "dense (Dense)                (None, 8)                 7048      \n",
      "_________________________________________________________________\n",
      "batch_normalization (BatchNo (None, 8)                 32        \n",
      "_________________________________________________________________\n",
      "dropout (Dropout)            (None, 8)                 0         \n",
      "_________________________________________________________________\n",
      "dense_1 (Dense)              (None, 8)                 72        \n",
      "_________________________________________________________________\n",
      "batch_normalization_1 (Batch (None, 8)                 32        \n",
      "_________________________________________________________________\n",
      "dropout_1 (Dropout)          (None, 8)                 0         \n",
      "_________________________________________________________________\n",
      "dense_2 (Dense)              (None, 1)                 9         \n",
      "=================================================================\n",
      "Total params: 7,193\n",
      "Trainable params: 7,161\n",
      "Non-trainable params: 32\n",
      "_________________________________________________________________\n"
     ]
    }
   ],
   "source": [
    "model.summary()"
   ]
  },
  {
   "cell_type": "code",
   "execution_count": 14,
   "metadata": {},
   "outputs": [
    {
     "data": {
      "image/png": "[encoded data removed]",
      "text/plain": [
       "<IPython.core.display.Image object>"
      ]
     },
     "execution_count": 14,
     "metadata": {},
     "output_type": "execute_result"
    }
   ],
   "source": [
    "keras.utils.plot_model(model, \"mlp.png\", show_shapes=True)"
   ]
  },
  {
   "cell_type": "code",
   "execution_count": 18,
   "metadata": {
    "scrolled": true
   },
   "outputs": [
    {
     "ename": "ValueError",
     "evalue": "Classification metrics can't handle a mix of binary and continuous targets",
     "output_type": "error",
     "traceback": [
      "\u001b[1;31m---------------------------------------------------------------------------\u001b[0m",
      "\u001b[1;31mValueError\u001b[0m                                Traceback (most recent call last)",
      "\u001b[1;32m<ipython-input-18-87362a04549d>\u001b[0m in \u001b[0;36m<module>\u001b[1;34m\u001b[0m\n\u001b[0;32m      8\u001b[0m \u001b[1;33m\u001b[0m\u001b[0m\n\u001b[0;32m      9\u001b[0m \u001b[0mfigure_name\u001b[0m \u001b[1;33m=\u001b[0m \u001b[1;34mF\"Full Report - ({DATASET_NAME}) - [Trn{trn:02d},Tst{tst:02d}]\"\u001b[0m\u001b[1;33m\u001b[0m\u001b[1;33m\u001b[0m\u001b[0m\n\u001b[1;32m---> 10\u001b[1;33m \u001b[0mclf_full_report\u001b[0m\u001b[1;33m(\u001b[0m\u001b[0mmodel\u001b[0m\u001b[1;33m,\u001b[0m \u001b[0mX_test\u001b[0m\u001b[1;33m,\u001b[0m \u001b[0my_test\u001b[0m\u001b[1;33m,\u001b[0m \u001b[0mtarget_names\u001b[0m\u001b[1;33m,\u001b[0m \u001b[0mEXP_NAME\u001b[0m\u001b[1;33m,\u001b[0m \u001b[0mfigure_name\u001b[0m\u001b[1;33m)\u001b[0m\u001b[1;33m\u001b[0m\u001b[1;33m\u001b[0m\u001b[0m\n\u001b[0m\u001b[0;32m     11\u001b[0m \u001b[1;33m\u001b[0m\u001b[0m\n\u001b[0;32m     12\u001b[0m \u001b[1;33m\u001b[0m\u001b[0m\n",
      "\u001b[1;32mD:\\Jupyter\\ShowBees\\audace\\plotters.py\u001b[0m in \u001b[0;36mclf_full_report\u001b[1;34m(clf, X, y, target_names, exp_name, save_as)\u001b[0m\n\u001b[0;32m    201\u001b[0m     \u001b[0my_pred\u001b[0m \u001b[1;33m=\u001b[0m \u001b[0mclf\u001b[0m\u001b[1;33m.\u001b[0m\u001b[0mpredict\u001b[0m\u001b[1;33m(\u001b[0m\u001b[0mX\u001b[0m\u001b[1;33m)\u001b[0m\u001b[1;33m\u001b[0m\u001b[1;33m\u001b[0m\u001b[0m\n\u001b[0;32m    202\u001b[0m     \u001b[1;31m# Compute confusion matrix\u001b[0m\u001b[1;33m\u001b[0m\u001b[1;33m\u001b[0m\u001b[1;33m\u001b[0m\u001b[0m\n\u001b[1;32m--> 203\u001b[1;33m     \u001b[0mcnf_matrix\u001b[0m \u001b[1;33m=\u001b[0m \u001b[0mconfusion_matrix\u001b[0m\u001b[1;33m(\u001b[0m\u001b[0my\u001b[0m\u001b[1;33m,\u001b[0m \u001b[0my_pred\u001b[0m\u001b[1;33m)\u001b[0m\u001b[1;33m\u001b[0m\u001b[1;33m\u001b[0m\u001b[0m\n\u001b[0m\u001b[0;32m    204\u001b[0m \u001b[1;33m\u001b[0m\u001b[0m\n\u001b[0;32m    205\u001b[0m     \u001b[0mplt\u001b[0m\u001b[1;33m.\u001b[0m\u001b[0mfigure\u001b[0m\u001b[1;33m(\u001b[0m\u001b[0mfigsize\u001b[0m\u001b[1;33m=\u001b[0m\u001b[1;33m(\u001b[0m\u001b[1;36m12\u001b[0m\u001b[1;33m,\u001b[0m \u001b[1;36m15\u001b[0m\u001b[1;33m)\u001b[0m\u001b[1;33m)\u001b[0m\u001b[1;33m\u001b[0m\u001b[1;33m\u001b[0m\u001b[0m\n",
      "\u001b[1;32mD:\\Anaconda3\\lib\\site-packages\\sklearn\\utils\\validation.py\u001b[0m in \u001b[0;36minner_f\u001b[1;34m(*args, **kwargs)\u001b[0m\n\u001b[0;32m     70\u001b[0m                           FutureWarning)\n\u001b[0;32m     71\u001b[0m         \u001b[0mkwargs\u001b[0m\u001b[1;33m.\u001b[0m\u001b[0mupdate\u001b[0m\u001b[1;33m(\u001b[0m\u001b[1;33m{\u001b[0m\u001b[0mk\u001b[0m\u001b[1;33m:\u001b[0m \u001b[0marg\u001b[0m \u001b[1;32mfor\u001b[0m \u001b[0mk\u001b[0m\u001b[1;33m,\u001b[0m \u001b[0marg\u001b[0m \u001b[1;32min\u001b[0m \u001b[0mzip\u001b[0m\u001b[1;33m(\u001b[0m\u001b[0msig\u001b[0m\u001b[1;33m.\u001b[0m\u001b[0mparameters\u001b[0m\u001b[1;33m,\u001b[0m \u001b[0margs\u001b[0m\u001b[1;33m)\u001b[0m\u001b[1;33m}\u001b[0m\u001b[1;33m)\u001b[0m\u001b[1;33m\u001b[0m\u001b[1;33m\u001b[0m\u001b[0m\n\u001b[1;32m---> 72\u001b[1;33m         \u001b[1;32mreturn\u001b[0m \u001b[0mf\u001b[0m\u001b[1;33m(\u001b[0m\u001b[1;33m**\u001b[0m\u001b[0mkwargs\u001b[0m\u001b[1;33m)\u001b[0m\u001b[1;33m\u001b[0m\u001b[1;33m\u001b[0m\u001b[0m\n\u001b[0m\u001b[0;32m     73\u001b[0m     \u001b[1;32mreturn\u001b[0m \u001b[0minner_f\u001b[0m\u001b[1;33m\u001b[0m\u001b[1;33m\u001b[0m\u001b[0m\n\u001b[0;32m     74\u001b[0m \u001b[1;33m\u001b[0m\u001b[0m\n",
      "\u001b[1;32mD:\\Anaconda3\\lib\\site-packages\\sklearn\\metrics\\_classification.py\u001b[0m in \u001b[0;36mconfusion_matrix\u001b[1;34m(y_true, y_pred, labels, sample_weight, normalize)\u001b[0m\n\u001b[0;32m    274\u001b[0m \u001b[1;33m\u001b[0m\u001b[0m\n\u001b[0;32m    275\u001b[0m     \"\"\"\n\u001b[1;32m--> 276\u001b[1;33m     \u001b[0my_type\u001b[0m\u001b[1;33m,\u001b[0m \u001b[0my_true\u001b[0m\u001b[1;33m,\u001b[0m \u001b[0my_pred\u001b[0m \u001b[1;33m=\u001b[0m \u001b[0m_check_targets\u001b[0m\u001b[1;33m(\u001b[0m\u001b[0my_true\u001b[0m\u001b[1;33m,\u001b[0m \u001b[0my_pred\u001b[0m\u001b[1;33m)\u001b[0m\u001b[1;33m\u001b[0m\u001b[1;33m\u001b[0m\u001b[0m\n\u001b[0m\u001b[0;32m    277\u001b[0m     \u001b[1;32mif\u001b[0m \u001b[0my_type\u001b[0m \u001b[1;32mnot\u001b[0m \u001b[1;32min\u001b[0m \u001b[1;33m(\u001b[0m\u001b[1;34m\"binary\"\u001b[0m\u001b[1;33m,\u001b[0m \u001b[1;34m\"multiclass\"\u001b[0m\u001b[1;33m)\u001b[0m\u001b[1;33m:\u001b[0m\u001b[1;33m\u001b[0m\u001b[1;33m\u001b[0m\u001b[0m\n\u001b[0;32m    278\u001b[0m         \u001b[1;32mraise\u001b[0m \u001b[0mValueError\u001b[0m\u001b[1;33m(\u001b[0m\u001b[1;34m\"%s is not supported\"\u001b[0m \u001b[1;33m%\u001b[0m \u001b[0my_type\u001b[0m\u001b[1;33m)\u001b[0m\u001b[1;33m\u001b[0m\u001b[1;33m\u001b[0m\u001b[0m\n",
      "\u001b[1;32mD:\\Anaconda3\\lib\\site-packages\\sklearn\\metrics\\_classification.py\u001b[0m in \u001b[0;36m_check_targets\u001b[1;34m(y_true, y_pred)\u001b[0m\n\u001b[0;32m     89\u001b[0m     \u001b[1;32mif\u001b[0m \u001b[0mlen\u001b[0m\u001b[1;33m(\u001b[0m\u001b[0my_type\u001b[0m\u001b[1;33m)\u001b[0m \u001b[1;33m>\u001b[0m \u001b[1;36m1\u001b[0m\u001b[1;33m:\u001b[0m\u001b[1;33m\u001b[0m\u001b[1;33m\u001b[0m\u001b[0m\n\u001b[0;32m     90\u001b[0m         raise ValueError(\"Classification metrics can't handle a mix of {0} \"\n\u001b[1;32m---> 91\u001b[1;33m                          \"and {1} targets\".format(type_true, type_pred))\n\u001b[0m\u001b[0;32m     92\u001b[0m \u001b[1;33m\u001b[0m\u001b[0m\n\u001b[0;32m     93\u001b[0m     \u001b[1;31m# We can't have more than one value on y_type => The set is no more needed\u001b[0m\u001b[1;33m\u001b[0m\u001b[1;33m\u001b[0m\u001b[1;33m\u001b[0m\u001b[0m\n",
      "\u001b[1;31mValueError\u001b[0m: Classification metrics can't handle a mix of binary and continuous targets"
     ]
    }
   ],
   "source": [
    "from audace.plotters import clf_full_report\n",
    "from sklearn import metrics\n",
    "\n",
    "target_names = ['no queen', 'queen']\n",
    "\n",
    "tst = int(100*TEST_FRAC)\n",
    "trn = 100 -tst\n",
    "\n",
    "figure_name = F\"Full Report - ({DATASET_NAME}) - [Trn{trn:02d},Tst{tst:02d}]\"\n",
    "clf_full_report(model, X_test, y_test, target_names, EXP_NAME, figure_name)\n",
    "\n",
    "\n",
    "print(\"------------------------------------------------------------------------------------------\")\n",
    "print(metrics.classification_report(y_test, y_pred , target_names=target_names))\n",
    "print(\"------------------------------------------------------------------------------------------\")\n",
    "print('Area Under ROC Curve', metrics.roc_auc_score(y_test, clf.decision_function(X_test)))\n",
    "print(\"------------------------------------------------------------------------------------------\")"
   ]
  }
 ],
 "metadata": {
  "kernelspec": {
   "display_name": "Python 3",
   "language": "python",
   "name": "python3"
  },
  "language_info": {
   "codemirror_mode": {
    "name": "ipython",
    "version": 3
   },
   "file_extension": ".py",
   "mimetype": "text/x-python",
   "name": "python",
   "nbconvert_exporter": "python",
   "pygments_lexer": "ipython3",
   "version": "3.7.7"
  }
 },
 "nbformat": 4,
 "nbformat_minor": 4
}
