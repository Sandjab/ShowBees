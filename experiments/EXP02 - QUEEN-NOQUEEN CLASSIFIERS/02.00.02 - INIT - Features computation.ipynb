{
 "cells": [
  {
   "cell_type": "markdown",
   "metadata": {},
   "source": [
    "# 02.00.02 - INIT - Features computation\n",
    "\n",
    "## Prerequisites\n",
    "\n",
    "- The dataset exists (if not, execute 02.00.01)"
   ]
  },
  {
   "cell_type": "code",
   "execution_count": 1,
   "metadata": {},
   "outputs": [
    {
     "name": "stdout",
     "output_type": "stream",
     "text": [
      "[2020-09-01/20:55:29.481|13.2%|54.5%|0.28GB] ------------------------------------------------------\n",
      "[2020-09-01/20:55:29.482|00.0%|54.5%|0.28GB] DATASET NAME          : MAIN0100\n",
      "[2020-09-01/20:55:29.482|00.0%|54.5%|0.28GB] DATASET PATH          : D:\\Jupyter\\ShowBees\\datasets\\MAIN0100\n",
      "[2020-09-01/20:55:29.482|00.0%|54.5%|0.28GB] DATASET DB PATH       : D:\\Jupyter\\ShowBees\\datasets\\MAIN0100\\MAIN0100.db\n",
      "[2020-09-01/20:55:29.482|00.0%|54.5%|0.28GB] DATASET SAMPLES PATH  : D:\\Jupyter\\ShowBees\\datasets\\MAIN0100\\samples\n",
      "[2020-09-01/20:55:29.482|00.0%|54.5%|0.28GB] NB SOURCE AUDIO FILES : 48\n",
      "[2020-09-01/20:55:29.483|00.0%|54.5%|0.28GB] SAMPLE RATE           : 22050\n",
      "[2020-09-01/20:55:29.483|00.0%|54.5%|0.28GB] DURATION              : 0.1\n",
      "[2020-09-01/20:55:29.483|00.0%|54.5%|0.28GB] OVERLAP               : 0.0\n",
      "[2020-09-01/20:55:29.483|00.0%|54.5%|0.28GB] NB AUDIO CHUNKS       : 247967\n",
      "[2020-09-01/20:55:29.483|00.0%|54.5%|0.28GB] ------------------------------------------------------\n"
     ]
    }
   ],
   "source": [
    "import warnings                            # This block prevents display of harmless warnings, but should be\n",
    "warnings.filterwarnings('ignore')          # commented out till the final version, to avoid missing \"real\" warnings \n",
    "\n",
    "import kilroy_was_here                     # Mandatory. Allow access to shared python code from repository root\n",
    "from audace.audiodataset import AudioDataset  # Class for audio dataset handling\n",
    "from audace.providers import FromSample\n",
    "from audace.transformers import Standardize, PreEmphasize\n",
    "from audace.featurizers import MFCC, Magic, STFT\n",
    "\n",
    "# Dataset name is the master key for dataset adressing\n",
    "# Change it according to the dataset you want to process\n",
    "DATASET_NAME = 'MAIN1000'\n",
    "\n",
    "# Initialize Dataset Object. \n",
    "ds = AudioDataset(DATASET_NAME)\n",
    "\n",
    "# Display dataset summary\n",
    "ds.info()\n"
   ]
  },
  {
   "cell_type": "code",
   "execution_count": 2,
   "metadata": {
    "scrolled": true
   },
   "outputs": [
    {
     "data": {
      "application/vnd.jupyter.widget-view+json": {
       "model_id": "dee48ecb2e4e4ea6871af4eef02e5f2b",
       "version_major": 2,
       "version_minor": 0
      },
      "text/plain": [
       "HBox(children=(FloatProgress(value=0.0, description='Computing stft128', max=247967.0, style=ProgressStyle(des…"
      ]
     },
     "metadata": {},
     "output_type": "display_data"
    },
    {
     "name": "stdout",
     "output_type": "stream",
     "text": [
      "\n"
     ]
    },
    {
     "data": {
      "text/html": [
       "<div>\n",
       "<style scoped>\n",
       "    .dataframe tbody tr th:only-of-type {\n",
       "        vertical-align: middle;\n",
       "    }\n",
       "\n",
       "    .dataframe tbody tr th {\n",
       "        vertical-align: top;\n",
       "    }\n",
       "\n",
       "    .dataframe thead th {\n",
       "        text-align: right;\n",
       "    }\n",
       "</style>\n",
       "<table border=\"1\" class=\"dataframe\">\n",
       "  <thead>\n",
       "    <tr style=\"text-align: right;\">\n",
       "      <th></th>\n",
       "      <th>stft128</th>\n",
       "    </tr>\n",
       "  </thead>\n",
       "  <tbody>\n",
       "    <tr>\n",
       "      <th>0</th>\n",
       "      <td>[[1.133948], [0.15067694], [0.6027897], [0.238...</td>\n",
       "    </tr>\n",
       "    <tr>\n",
       "      <th>1</th>\n",
       "      <td>[[1.5611067], [0.49741468], [0.43312585], [0.1...</td>\n",
       "    </tr>\n",
       "    <tr>\n",
       "      <th>2</th>\n",
       "      <td>[[0.042955033], [0.33032516], [0.31072056], [0...</td>\n",
       "    </tr>\n",
       "    <tr>\n",
       "      <th>3</th>\n",
       "      <td>[[1.1018239], [0.81242585], [0.33371982], [0.1...</td>\n",
       "    </tr>\n",
       "    <tr>\n",
       "      <th>4</th>\n",
       "      <td>[[2.0023682], [0.8602039], [0.26082948], [0.15...</td>\n",
       "    </tr>\n",
       "    <tr>\n",
       "      <th>...</th>\n",
       "      <td>...</td>\n",
       "    </tr>\n",
       "    <tr>\n",
       "      <th>247962</th>\n",
       "      <td>[[0.019434664], [0.036368623], [0.045913555], ...</td>\n",
       "    </tr>\n",
       "    <tr>\n",
       "      <th>247963</th>\n",
       "      <td>[[0.023407502], [0.07834716], [0.13089599], [0...</td>\n",
       "    </tr>\n",
       "    <tr>\n",
       "      <th>247964</th>\n",
       "      <td>[[0.3803382], [0.1471629], [0.08743325], [0.05...</td>\n",
       "    </tr>\n",
       "    <tr>\n",
       "      <th>247965</th>\n",
       "      <td>[[0.108324185], [0.11630237], [0.10594257], [0...</td>\n",
       "    </tr>\n",
       "    <tr>\n",
       "      <th>247966</th>\n",
       "      <td>[[0.07168174], [0.02811415], [0.05415358], [0....</td>\n",
       "    </tr>\n",
       "  </tbody>\n",
       "</table>\n",
       "<p>247967 rows × 1 columns</p>\n",
       "</div>"
      ],
      "text/plain": [
       "                                                  stft128\n",
       "0       [[1.133948], [0.15067694], [0.6027897], [0.238...\n",
       "1       [[1.5611067], [0.49741468], [0.43312585], [0.1...\n",
       "2       [[0.042955033], [0.33032516], [0.31072056], [0...\n",
       "3       [[1.1018239], [0.81242585], [0.33371982], [0.1...\n",
       "4       [[2.0023682], [0.8602039], [0.26082948], [0.15...\n",
       "...                                                   ...\n",
       "247962  [[0.019434664], [0.036368623], [0.045913555], ...\n",
       "247963  [[0.023407502], [0.07834716], [0.13089599], [0...\n",
       "247964  [[0.3803382], [0.1471629], [0.08743325], [0.05...\n",
       "247965  [[0.108324185], [0.11630237], [0.10594257], [0...\n",
       "247966  [[0.07168174], [0.02811415], [0.05415358], [0....\n",
       "\n",
       "[247967 rows x 1 columns]"
      ]
     },
     "execution_count": 2,
     "metadata": {},
     "output_type": "execute_result"
    }
   ],
   "source": [
    "# Compute various features\n",
    "if ds.addFeature('mfcc20'):\n",
    "    ds.setFeature('mfcc20', FromSample(ds.samples_path, MFCC(n_mfcc=20)))\n",
    "\n",
    "if ds.addFeature('stft128'):\n",
    "    ds.setFeature('stft128', FromSample(ds.samples_path, STFT(n_fft = 128, hop_length = 22051, win_length = 128)))\n",
    "    "
   ]
  }
 ],
 "metadata": {
  "kernelspec": {
   "display_name": "Python 3",
   "language": "python",
   "name": "python3"
  },
  "language_info": {
   "codemirror_mode": {
    "name": "ipython",
    "version": 3
   },
   "file_extension": ".py",
   "mimetype": "text/x-python",
   "name": "python",
   "nbconvert_exporter": "python",
   "pygments_lexer": "ipython3",
   "version": "3.7.7"
  }
 },
 "nbformat": 4,
 "nbformat_minor": 4
}
