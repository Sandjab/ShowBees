{
 "cells": [
  {
   "cell_type": "code",
   "execution_count": 1,
   "metadata": {
    "scrolled": false
   },
   "outputs": [
    {
     "name": "stdout",
     "output_type": "stream",
     "text": [
      "[2020-08-10/12:35:17.547|12.0%|58.4%|0.26GB] Dataset creation. This may take up to 10 mn. Go grab a coffee.\n",
      "[2020-08-10/12:35:17.547|00.0%|58.4%|0.26GB] >>>>> Starting Dataset MAIN1000 build\n",
      "[2020-08-10/12:35:17.575|25.0%|58.4%|0.26GB] Starting to process 48 audio files.\n",
      "[2020-08-10/12:41:44.027|51.6%|55.5%|0.26GB] Creating Database\n",
      "[2020-08-10/12:41:44.097|22.5%|55.5%|0.26GB] Database created\n",
      "[2020-08-10/12:41:44.100|00.0%|55.4%|0.26GB] Please wait, computing checksum...\n",
      "[2020-08-10/12:41:54.493|11.8%|55.2%|0.26GB]   Computed checksum 964a87370f449298e0ef681efe6094bb\n",
      "[2020-08-10/12:41:54.493|00.0%|55.2%|0.26GB]   Expected checksum 1ba14f84b713fcaf1c7dccff8b1e36a7\n",
      "[2020-08-10/12:41:54.493|00.0%|55.2%|0.26GB] >>>>> Dataset MAIN1000 successfully created.\n",
      "[2020-08-10/12:41:54.494|00.0%|55.2%|0.26GB] ------------------------------------------------------\n",
      "[2020-08-10/12:41:54.494|00.0%|55.2%|0.26GB] DATASET PATH          : D:\\Jupyter\\ShowBees\\datasets\\MAIN1000\n",
      "[2020-08-10/12:41:54.494|00.0%|55.2%|0.26GB] DATASET DB PATH       : D:\\Jupyter\\ShowBees\\datasets\\MAIN1000\\database.db\n",
      "[2020-08-10/12:41:54.494|00.0%|55.2%|0.26GB] DATASET SAMPLES PATH  : D:\\Jupyter\\ShowBees\\datasets\\MAIN1000\\samples\n",
      "[2020-08-10/12:41:54.494|00.0%|55.2%|0.26GB] NB SOURCE AUDIO FILES : 48\n",
      "[2020-08-10/12:41:54.494|00.0%|55.2%|0.26GB] SAMPLE RATE           : 22050\n",
      "[2020-08-10/12:41:54.494|00.0%|55.2%|0.26GB] DURATION              : 1.0\n",
      "[2020-08-10/12:41:54.495|00.0%|55.2%|0.26GB] OVERLAP               : 0.0\n",
      "[2020-08-10/12:41:54.495|00.0%|55.2%|0.26GB] NB AUDIO CHUNKS       : 24788\n",
      "[2020-08-10/12:41:54.495|00.0%|55.2%|0.26GB] ------------------------------------------------------\n",
      "[2020-08-10/12:41:54.745|14.2%|55.2%|0.26GB] 24788 samples where processed for 'queen' label\n"
     ]
    },
    {
     "data": {
      "application/vnd.jupyter.widget-view+json": {
       "model_id": "4679ebb0fbe94208adf9fa856d6939e7",
       "version_major": 2,
       "version_minor": 0
      },
      "text/plain": [
       "HBox(children=(FloatProgress(value=0.0, description='Annotating nobee', max=48.0, style=ProgressStyle(descript…"
      ]
     },
     "metadata": {},
     "output_type": "display_data"
    },
    {
     "name": "stdout",
     "output_type": "stream",
     "text": [
      "\n",
      "[2020-08-10/12:42:01.408|14.1%|54.9%|0.27GB] 24788 samples where processed for 'nobee' label\n"
     ]
    },
    {
     "data": {
      "text/plain": [
       "24788"
      ]
     },
     "execution_count": 1,
     "metadata": {},
     "output_type": "execute_result"
    }
   ],
   "source": [
    "import warnings                            # This block prevents display of harmless warnings, but should be\n",
    "warnings.filterwarnings('ignore')          # commented out till the final version, to avoid missing \"real\" warnings\n",
    "\n",
    "import kilroy_was_here                        # Mandatory. Allow access to shared python code from repository root\n",
    "from audace.jupytools import iprint           # timstamped (to the ms) print with CPU and RAM consumption information\n",
    "from audace.audiodataset import AudioDataset  # Class for audio dataset handling\n",
    "from audace import providers\n",
    "from audace import transformers\n",
    "from audace import featurizers\n",
    "\n",
    "\n",
    "# Path where to find initial annotated dataset (audio and lab files)\n",
    "SOURCE_PATH ='/Users/jpg/Documents/Nolasco'\n",
    "\n",
    "# Dataset name is the master key for dataset adressing\n",
    "DATASET_NAME = 'MAIN1000'\n",
    "\n",
    "# Initialize Dataset Object. \n",
    "try:\n",
    "    #By providing a source path,we implicitly indicates that you want to CREATE the data set.\n",
    "    # Run with a pool of 4 processes\n",
    "    iprint(\"Dataset creation. This may take up to 10 mn. Go grab a coffee.\")\n",
    "    ds = AudioDataset(DATASET_NAME, SOURCE_PATH, nprocs=4)\n",
    "    \n",
    "except FileExistsError:\n",
    "    # To allow rerun, we catch the exception in case the dataset was already created.\n",
    "    # Ideally, you should create the dataset once for all in a dedicated notebook,\n",
    "    # and then retrieve it from other notebooks when needed\n",
    "    # Here, by not providing a source path, we implicitly express the intent of RETRIEVING\n",
    "    # an existing dataset rather than CREATING a new one\n",
    "    iprint(\"Failing back to existing dataset retrieval\")\n",
    "    ds = AudioDataset(DATASET_NAME)\n",
    "    iprint(\"Dataset retrieved\")\n",
    "    \n",
    "# The following line provides some information about the newly created (or retrived) AudioDataset object    \n",
    "ds.info()\n",
    "\n",
    "ds.addLabel(\"nobee\")\n",
    "ds.addLabel(\"queen\")\n",
    "\n",
    "# The \"queen\" label value is deduced from the source file name, using a StringMapper transformer\n",
    "# This transformer iterates over a list 2-uples (regular expression, target value) and return\n",
    "# the target value as soon as a match is found. Thus, you must order your list from stricter to looser\n",
    "trsfrm_queen = transformers.StringMapper(\n",
    "        [('(?i)active', 1), \n",
    "         ('(?i)missing queen', 0),\n",
    "         ('NO_QueenBee', 0),\n",
    "         ('QueenBee', 1)     \n",
    "        ])\n",
    "\n",
    "# The transformer is then used over the source filenames, using the FromFileName labelizer\n",
    "# This labelizer does not provide label strength.\n",
    "\n",
    "n = ds.setLabel('queen', providers.FromFileName(trsfrm_queen))\n",
    "iprint(n, \"samples where processed for 'queen' label\")\n",
    "\n",
    "# The \"nobee\" label value comes from annotation files, (.lab files using the same base name as the audio\n",
    "# source file they annotate), using the FromAnnotation labelizer, with no transformation.\n",
    "# This labelizer takes 2 arguments:\n",
    "# - a mandatory source path, pointing to the directory where the .lab files reside\n",
    "# - an optional threshold, allowing to disregard any \"label\" event with a duration under this treshold\n",
    "# The label strength over a sample is computed by summing the duration of \"label\" events (if > th) and dividing\n",
    "# this sum by the sample duration.\n",
    "\n",
    "# Here we use a 0.5s threshold\n",
    "n = ds.setLabel('nobee', providers.FromAnnotation(SOURCE_PATH, th=0.5))\n",
    "iprint(n, \"samples where processed for 'nobee' label\")\n",
    "\n",
    "#The string matcher transformer behave differently than the StringMapper. It uses regexp\n",
    "# capture group to retrieve part pf a string matching a specific pattern. This can be used\n",
    "# either for complex or very basic matching. Here we just ask for the five first chars,\n",
    "# provided they belong to characters valid for identifiers (A-Z, a-z,0-9 and underscore)\n",
    "ds.addAttribute('hive')\n",
    "ds.setAttribute('hive', providers.FromFileName(transformers.StringMatcher(\"^(\\w{5})\")))\n",
    "\n",
    "# Display dataset as a pandas dataframe\n",
    "#ds.dumpDataFrame()"
   ]
  },
  {
   "cell_type": "code",
   "execution_count": 2,
   "metadata": {
    "scrolled": true
   },
   "outputs": [
    {
     "data": {
      "application/vnd.jupyter.widget-view+json": {
       "model_id": "949de07d8eb844e1a870c9874230dd93",
       "version_major": 2,
       "version_minor": 0
      },
      "text/plain": [
       "HBox(children=(FloatProgress(value=0.0, description='Computing MFCC', max=24788.0, style=ProgressStyle(descrip…"
      ]
     },
     "metadata": {},
     "output_type": "display_data"
    },
    {
     "name": "stdout",
     "output_type": "stream",
     "text": [
      "\n"
     ]
    },
    {
     "data": {
      "text/plain": [
       "24788"
      ]
     },
     "execution_count": 2,
     "metadata": {},
     "output_type": "execute_result"
    }
   ],
   "source": [
    "ds.addFeature('MFCC')\n",
    "ds.setFeature('MFCC', providers.FromSample(ds.samples_path, featurizers.MFCC(n_mfcc=20)))"
   ]
  }
 ],
 "metadata": {
  "kernelspec": {
   "display_name": "Python 3",
   "language": "python",
   "name": "python3"
  },
  "language_info": {
   "codemirror_mode": {
    "name": "ipython",
    "version": 3
   },
   "file_extension": ".py",
   "mimetype": "text/x-python",
   "name": "python",
   "nbconvert_exporter": "python",
   "pygments_lexer": "ipython3",
   "version": "3.7.7"
  }
 },
 "nbformat": 4,
 "nbformat_minor": 4
}
