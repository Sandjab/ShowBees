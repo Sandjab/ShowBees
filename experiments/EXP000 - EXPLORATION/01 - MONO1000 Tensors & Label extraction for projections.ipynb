{
 "cells": [
  {
   "cell_type": "code",
   "execution_count": 2,
   "metadata": {},
   "outputs": [
    {
     "name": "stdout",
     "output_type": "stream",
     "text": [
      "[2020-08-11/14:25:58.085|14.6%|73.5%|0.26GB] ------------------------------------------------------\n",
      "[2020-08-11/14:25:58.085|00.0%|73.5%|0.26GB] DATASET PATH          : D:\\Jupyter\\ShowBees\\datasets\\MONO1000\n",
      "[2020-08-11/14:25:58.085|00.0%|73.5%|0.26GB] DATASET DB PATH       : D:\\Jupyter\\ShowBees\\datasets\\MONO1000\\database.db\n",
      "[2020-08-11/14:25:58.085|00.0%|73.5%|0.26GB] DATASET SAMPLES PATH  : D:\\Jupyter\\ShowBees\\datasets\\MONO1000\\samples\n",
      "[2020-08-11/14:25:58.085|00.0%|73.5%|0.26GB] NB SOURCE AUDIO FILES : 2\n",
      "[2020-08-11/14:25:58.085|00.0%|73.5%|0.26GB] SAMPLE RATE           : 22050\n",
      "[2020-08-11/14:25:58.086|00.0%|73.5%|0.26GB] DURATION              : 1.0\n",
      "[2020-08-11/14:25:58.086|00.0%|73.5%|0.26GB] OVERLAP               : 0.5\n",
      "[2020-08-11/14:25:58.086|00.0%|73.5%|0.26GB] NB AUDIO CHUNKS       : 2366\n",
      "[2020-08-11/14:25:58.086|00.0%|73.5%|0.26GB] ------------------------------------------------------\n"
     ]
    }
   ],
   "source": [
    "import warnings                            # This block prevents display of harmless warnings, but should be\n",
    "warnings.filterwarnings('ignore')          # commented out till the final version, to avoid missing \"real\" warnings \n",
    "\n",
    "import kilroy_was_here                     # Mandatory. Allow access to shared python code from repository root\n",
    "from audace.jupytools import iprint           # timstamped (to the ms) print with CPU and RAM consumption information\n",
    "from audace.audiodataset import AudioDataset  # Class for audio dataset handling\n",
    "\n",
    "\n",
    "# Dataset name is the master key for dataset adressing\n",
    "DATASET_NAME = 'MONO1000'\n",
    "\n",
    "# Initialize Dataset Object. \n",
    "ds = AudioDataset(DATASET_NAME)\n",
    "    \n",
    "# The following line provides some information about the retrieved AudioDataset object    \n",
    "ds.info()\n"
   ]
  },
  {
   "cell_type": "code",
   "execution_count": 3,
   "metadata": {},
   "outputs": [
    {
     "data": {
      "text/html": [
       "<div>\n",
       "<style scoped>\n",
       "    .dataframe tbody tr th:only-of-type {\n",
       "        vertical-align: middle;\n",
       "    }\n",
       "\n",
       "    .dataframe tbody tr th {\n",
       "        vertical-align: top;\n",
       "    }\n",
       "\n",
       "    .dataframe thead th {\n",
       "        text-align: right;\n",
       "    }\n",
       "</style>\n",
       "<table border=\"1\" class=\"dataframe\">\n",
       "  <thead>\n",
       "    <tr style=\"text-align: right;\">\n",
       "      <th></th>\n",
       "      <th>hive</th>\n",
       "      <th>queen</th>\n",
       "      <th>count(*)</th>\n",
       "    </tr>\n",
       "  </thead>\n",
       "  <tbody>\n",
       "    <tr>\n",
       "      <th>0</th>\n",
       "      <td>Hive3</td>\n",
       "      <td>0.0</td>\n",
       "      <td>811</td>\n",
       "    </tr>\n",
       "    <tr>\n",
       "      <th>1</th>\n",
       "      <td>Hive3</td>\n",
       "      <td>1.0</td>\n",
       "      <td>606</td>\n",
       "    </tr>\n",
       "  </tbody>\n",
       "</table>\n",
       "</div>"
      ],
      "text/plain": [
       "    hive  queen  count(*)\n",
       "0  Hive3    0.0       811\n",
       "1  Hive3    1.0       606"
      ]
     },
     "execution_count": 3,
     "metadata": {},
     "output_type": "execute_result"
    }
   ],
   "source": [
    "# Display cardinalities by hives and queen/noqueen for samples with no external perturbation\n",
    "sql = \"\"\"\n",
    "    select distinct hive, queen, count(*)\n",
    "    from samples\n",
    "    where nobee = 0\n",
    "    group by hive, queen\n",
    "    order by hive\n",
    "    \"\"\"\n",
    "ds.queryDataFrame(sql)"
   ]
  },
  {
   "cell_type": "code",
   "execution_count": 7,
   "metadata": {
    "scrolled": true
   },
   "outputs": [
    {
     "data": {
      "text/html": [
       "<div>\n",
       "<style scoped>\n",
       "    .dataframe tbody tr th:only-of-type {\n",
       "        vertical-align: middle;\n",
       "    }\n",
       "\n",
       "    .dataframe tbody tr th {\n",
       "        vertical-align: top;\n",
       "    }\n",
       "\n",
       "    .dataframe thead th {\n",
       "        text-align: right;\n",
       "    }\n",
       "</style>\n",
       "<table border=\"1\" class=\"dataframe\">\n",
       "  <thead>\n",
       "    <tr style=\"text-align: right;\">\n",
       "      <th></th>\n",
       "      <th>name</th>\n",
       "      <th>file_id</th>\n",
       "      <th>hive</th>\n",
       "      <th>queen</th>\n",
       "      <th>MFCC</th>\n",
       "    </tr>\n",
       "  </thead>\n",
       "  <tbody>\n",
       "    <tr>\n",
       "      <th>0</th>\n",
       "      <td>00-000000</td>\n",
       "      <td>1</td>\n",
       "      <td>Hive3</td>\n",
       "      <td>0.0</td>\n",
       "      <td>[[-394.88925, -395.52295, -411.27222, -399.069...</td>\n",
       "    </tr>\n",
       "    <tr>\n",
       "      <th>1</th>\n",
       "      <td>00-000001</td>\n",
       "      <td>1</td>\n",
       "      <td>Hive3</td>\n",
       "      <td>0.0</td>\n",
       "      <td>[[-401.44745, -394.54202, -396.4122, -404.9671...</td>\n",
       "    </tr>\n",
       "    <tr>\n",
       "      <th>2</th>\n",
       "      <td>00-000002</td>\n",
       "      <td>1</td>\n",
       "      <td>Hive3</td>\n",
       "      <td>0.0</td>\n",
       "      <td>[[-419.504, -409.64413, -407.69608, -416.86414...</td>\n",
       "    </tr>\n",
       "    <tr>\n",
       "      <th>3</th>\n",
       "      <td>00-000003</td>\n",
       "      <td>1</td>\n",
       "      <td>Hive3</td>\n",
       "      <td>0.0</td>\n",
       "      <td>[[-420.08606, -418.07767, -417.40793, -404.803...</td>\n",
       "    </tr>\n",
       "    <tr>\n",
       "      <th>4</th>\n",
       "      <td>00-000004</td>\n",
       "      <td>1</td>\n",
       "      <td>Hive3</td>\n",
       "      <td>0.0</td>\n",
       "      <td>[[-372.56345, -371.13123, -384.61908, -378.365...</td>\n",
       "    </tr>\n",
       "    <tr>\n",
       "      <th>...</th>\n",
       "      <td>...</td>\n",
       "      <td>...</td>\n",
       "      <td>...</td>\n",
       "      <td>...</td>\n",
       "      <td>...</td>\n",
       "    </tr>\n",
       "    <tr>\n",
       "      <th>1412</th>\n",
       "      <td>01-001178</td>\n",
       "      <td>2</td>\n",
       "      <td>Hive3</td>\n",
       "      <td>1.0</td>\n",
       "      <td>[[-456.26517, -455.3929, -456.27307, -448.8443...</td>\n",
       "    </tr>\n",
       "    <tr>\n",
       "      <th>1413</th>\n",
       "      <td>01-001179</td>\n",
       "      <td>2</td>\n",
       "      <td>Hive3</td>\n",
       "      <td>1.0</td>\n",
       "      <td>[[-438.46368, -431.82635, -440.27603, -449.474...</td>\n",
       "    </tr>\n",
       "    <tr>\n",
       "      <th>1414</th>\n",
       "      <td>01-001180</td>\n",
       "      <td>2</td>\n",
       "      <td>Hive3</td>\n",
       "      <td>1.0</td>\n",
       "      <td>[[-444.8451, -443.43448, -448.0073, -452.25623...</td>\n",
       "    </tr>\n",
       "    <tr>\n",
       "      <th>1415</th>\n",
       "      <td>01-001181</td>\n",
       "      <td>2</td>\n",
       "      <td>Hive3</td>\n",
       "      <td>1.0</td>\n",
       "      <td>[[-455.87585, -447.3699, -445.45035, -446.2260...</td>\n",
       "    </tr>\n",
       "    <tr>\n",
       "      <th>1416</th>\n",
       "      <td>01-001182</td>\n",
       "      <td>2</td>\n",
       "      <td>Hive3</td>\n",
       "      <td>1.0</td>\n",
       "      <td>[[-449.1348, -441.7129, -444.20163, -447.613, ...</td>\n",
       "    </tr>\n",
       "  </tbody>\n",
       "</table>\n",
       "<p>1417 rows × 5 columns</p>\n",
       "</div>"
      ],
      "text/plain": [
       "           name  file_id   hive  queen  \\\n",
       "0     00-000000        1  Hive3    0.0   \n",
       "1     00-000001        1  Hive3    0.0   \n",
       "2     00-000002        1  Hive3    0.0   \n",
       "3     00-000003        1  Hive3    0.0   \n",
       "4     00-000004        1  Hive3    0.0   \n",
       "...         ...      ...    ...    ...   \n",
       "1412  01-001178        2  Hive3    1.0   \n",
       "1413  01-001179        2  Hive3    1.0   \n",
       "1414  01-001180        2  Hive3    1.0   \n",
       "1415  01-001181        2  Hive3    1.0   \n",
       "1416  01-001182        2  Hive3    1.0   \n",
       "\n",
       "                                                   MFCC  \n",
       "0     [[-394.88925, -395.52295, -411.27222, -399.069...  \n",
       "1     [[-401.44745, -394.54202, -396.4122, -404.9671...  \n",
       "2     [[-419.504, -409.64413, -407.69608, -416.86414...  \n",
       "3     [[-420.08606, -418.07767, -417.40793, -404.803...  \n",
       "4     [[-372.56345, -371.13123, -384.61908, -378.365...  \n",
       "...                                                 ...  \n",
       "1412  [[-456.26517, -455.3929, -456.27307, -448.8443...  \n",
       "1413  [[-438.46368, -431.82635, -440.27603, -449.474...  \n",
       "1414  [[-444.8451, -443.43448, -448.0073, -452.25623...  \n",
       "1415  [[-455.87585, -447.3699, -445.45035, -446.2260...  \n",
       "1416  [[-449.1348, -441.7129, -444.20163, -447.613, ...  \n",
       "\n",
       "[1417 rows x 5 columns]"
      ]
     },
     "execution_count": 7,
     "metadata": {},
     "output_type": "execute_result"
    }
   ],
   "source": [
    "# Get pandas dataframe\n",
    "sql = \"select name, file_id, hive, queen, mfcc from samples where nobee = 0\"\n",
    "df = ds.queryDataFrame(sql)\n",
    "df"
   ]
  },
  {
   "cell_type": "code",
   "execution_count": 30,
   "metadata": {
    "scrolled": true
   },
   "outputs": [
    {
     "data": {
      "text/plain": [
       "0       [[-394.88925, -395.52295, -411.27222, -399.069...\n",
       "1       [[-401.44745, -394.54202, -396.4122, -404.9671...\n",
       "2       [[-419.504, -409.64413, -407.69608, -416.86414...\n",
       "3       [[-420.08606, -418.07767, -417.40793, -404.803...\n",
       "4       [[-372.56345, -371.13123, -384.61908, -378.365...\n",
       "                              ...                        \n",
       "1412    [[-456.26517, -455.3929, -456.27307, -448.8443...\n",
       "1413    [[-438.46368, -431.82635, -440.27603, -449.474...\n",
       "1414    [[-444.8451, -443.43448, -448.0073, -452.25623...\n",
       "1415    [[-455.87585, -447.3699, -445.45035, -446.2260...\n",
       "1416    [[-449.1348, -441.7129, -444.20163, -447.613, ...\n",
       "Name: MFCC, Length: 1417, dtype: object"
      ]
     },
     "execution_count": 30,
     "metadata": {},
     "output_type": "execute_result"
    }
   ],
   "source": [
    "mfccs = df['MFCC']\n",
    "mfccs\n"
   ]
  },
  {
   "cell_type": "code",
   "execution_count": 33,
   "metadata": {},
   "outputs": [],
   "source": [
    "import csv\n",
    "\n",
    "output_path = Path('./output')\n",
    "output_path.mkdir(parents=True)\n",
    "\n",
    "with open(Path(output_path, 'tensors.tsv', 'w', newline='') as csvfile:\n",
    "    writer = csv.writer(csvfile, delimiter='\\t')\n",
    "    for mfcc in mfccs:\n",
    "        writer.writerow(mfcc.flatten().tolist()) "
   ]
  }
 ],
 "metadata": {
  "kernelspec": {
   "display_name": "Python 3",
   "language": "python",
   "name": "python3"
  },
  "language_info": {
   "codemirror_mode": {
    "name": "ipython",
    "version": 3
   },
   "file_extension": ".py",
   "mimetype": "text/x-python",
   "name": "python",
   "nbconvert_exporter": "python",
   "pygments_lexer": "ipython3",
   "version": "3.7.7"
  }
 },
 "nbformat": 4,
 "nbformat_minor": 4
}
