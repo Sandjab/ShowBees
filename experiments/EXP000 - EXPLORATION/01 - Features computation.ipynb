{
 "cells": [
  {
   "cell_type": "code",
   "execution_count": 1,
   "metadata": {},
   "outputs": [],
   "source": [
    "import warnings                            # This block prevents display of harmless warnings, but should be\n",
    "warnings.filterwarnings('ignore')          # commented out till the final version, to avoid missing \"real\" warnings \n",
    "\n",
    "import kilroy_was_here                     # Mandatory. Allow access to shared python code from repository root\n",
    "from audace.audiodataset import AudioDataset  # Class for audio dataset handling\n",
    "from audace import (\n",
    "    providers,\n",
    "    transformers,\n",
    "    featurizers\n",
    ")\n",
    "\n",
    "# Dataset name is the master key for dataset adressing\n",
    "# Changing according to the dataset you want to process\n",
    "DATASET_NAME = 'DUO1000_8kHz'\n",
    "\n",
    "# Initialize Dataset Object. \n",
    "ds = AudioDataset(DATASET_NAME)\n"
   ]
  },
  {
   "cell_type": "code",
   "execution_count": 2,
   "metadata": {},
   "outputs": [
    {
     "data": {
      "application/vnd.jupyter.widget-view+json": {
       "model_id": "6186eee7a7a6481aabab88f4ba3ed61c",
       "version_major": 2,
       "version_minor": 0
      },
      "text/plain": [
       "HBox(children=(FloatProgress(value=0.0, description='Computing std_mfcc20_std', max=2374.0, style=ProgressStyl…"
      ]
     },
     "metadata": {},
     "output_type": "display_data"
    },
    {
     "name": "stdout",
     "output_type": "stream",
     "text": [
      "\n"
     ]
    },
    {
     "data": {
      "application/vnd.jupyter.widget-view+json": {
       "model_id": "be0007e4f119412abefc995b9dc842b9",
       "version_major": 2,
       "version_minor": 0
      },
      "text/plain": [
       "HBox(children=(FloatProgress(value=0.0, description='Computing mfcc20_std', max=2374.0, style=ProgressStyle(de…"
      ]
     },
     "metadata": {},
     "output_type": "display_data"
    },
    {
     "name": "stdout",
     "output_type": "stream",
     "text": [
      "\n"
     ]
    },
    {
     "data": {
      "text/plain": [
       "2374"
      ]
     },
     "execution_count": 2,
     "metadata": {},
     "output_type": "execute_result"
    }
   ],
   "source": [
    "ds.addFeature('std_mfcc20_std')\n",
    "ds.setFeature(\n",
    "    'std_mfcc20_std', \n",
    "    providers.FromSample(ds.samples_path, [transformers.Standardize(), featurizers.MFCC(n_mfcc=20), transformers.Standardize()])\n",
    ")\n",
    "\n",
    "ds.addFeature('mfcc20_std')\n",
    "ds.setFeature(\n",
    "    'mfcc20_std', \n",
    "    providers.FromSample(ds.samples_path, [featurizers.MFCC(n_mfcc=20), transformers.Standardize()])\n",
    ")"
   ]
  },
  {
   "cell_type": "code",
   "execution_count": null,
   "metadata": {},
   "outputs": [],
   "source": [
    "# Compute various features\n",
    "ds.addFeature('mfcc20')\n",
    "ds.setFeature('mfcc20', providers.FromSample(ds.samples_path, featurizers.MFCC(n_mfcc=20)))\n",
    "\n",
    "ds.addFeature('mfcc10')\n",
    "ds.setFeature('mfcc10', providers.FromSample(ds.samples_path, featurizers.MFCC(n_mfcc=10)))\n",
    "\n",
    "ds.addFeature('mfcc8')\n",
    "ds.setFeature('mfcc8', providers.FromSample(ds.samples_path, featurizers.MFCC(n_mfcc=8)))\n",
    "\n",
    "ds.addFeature('magic05')\n",
    "ds.setFeature('magic05', providers.FromSample(ds.samples_path, featurizers.Magic(10,1000,5)))\n",
    "\n",
    "ds.addFeature('apidictor')\n",
    "ds.setFeature('apidictor', providers.FromSample(ds.samples_path, featurizers.Magic(180,300,5)))\n",
    "\n",
    "ds.addFeature('std_apidictor')\n",
    "ds.setFeature(\n",
    "    'std_apidictor',\n",
    "    providers.FromSample(ds.samples_path, [transformers.Standardize(), featurizers.Magic(180,300,5)])\n",
    ")"
   ]
  },
  {
   "cell_type": "code",
   "execution_count": 3,
   "metadata": {},
   "outputs": [
    {
     "data": {
      "application/vnd.jupyter.widget-view+json": {
       "model_id": "534c296a5a76402789c2a1277ed0d126",
       "version_major": 2,
       "version_minor": 0
      },
      "text/plain": [
       "HBox(children=(FloatProgress(value=0.0, description='Computing std_mfcc20', max=2374.0, style=ProgressStyle(de…"
      ]
     },
     "metadata": {},
     "output_type": "display_data"
    },
    {
     "name": "stdout",
     "output_type": "stream",
     "text": [
      "\n"
     ]
    },
    {
     "data": {
      "application/vnd.jupyter.widget-view+json": {
       "model_id": "26a799f21e9b43a7a758d9a7b6269c28",
       "version_major": 2,
       "version_minor": 0
      },
      "text/plain": [
       "HBox(children=(FloatProgress(value=0.0, description='Computing std_mfcc8', max=2374.0, style=ProgressStyle(des…"
      ]
     },
     "metadata": {},
     "output_type": "display_data"
    },
    {
     "name": "stdout",
     "output_type": "stream",
     "text": [
      "\n"
     ]
    },
    {
     "data": {
      "text/plain": [
       "2374"
      ]
     },
     "execution_count": 3,
     "metadata": {},
     "output_type": "execute_result"
    }
   ],
   "source": [
    "ds.addFeature('std_mfcc20')\n",
    "ds.setFeature(\n",
    "    'std_mfcc20', \n",
    "    providers.FromSample(ds.samples_path, [transformers.Standardize(), featurizers.MFCC(n_mfcc=20)])\n",
    ")\n",
    "\n",
    "ds.addFeature('std_mfcc8')\n",
    "ds.setFeature(\n",
    "    'std_mfcc8', \n",
    "    providers.FromSample(ds.samples_path, [transformers.Standardize(), featurizers.MFCC(n_mfcc=8)])\n",
    ")"
   ]
  }
 ],
 "metadata": {
  "kernelspec": {
   "display_name": "Python 3",
   "language": "python",
   "name": "python3"
  },
  "language_info": {
   "codemirror_mode": {
    "name": "ipython",
    "version": 3
   },
   "file_extension": ".py",
   "mimetype": "text/x-python",
   "name": "python",
   "nbconvert_exporter": "python",
   "pygments_lexer": "ipython3",
   "version": "3.7.7"
  }
 },
 "nbformat": 4,
 "nbformat_minor": 4
}
