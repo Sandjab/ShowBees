{
 "cells": [
  {
   "cell_type": "markdown",
   "metadata": {},
   "source": [
    "# 01 - Feature computation\n",
    "\n",
    "## Prerequisites\n",
    "\n",
    "- The dataset exists (if not, execute 00 - Dataset Initialisation)"
   ]
  },
  {
   "cell_type": "code",
   "execution_count": 14,
   "metadata": {},
   "outputs": [
    {
     "name": "stdout",
     "output_type": "stream",
     "text": [
      "[2020-08-23/13:23:20.772|48.6%|70.5%|0.11GB] ------------------------------------------------------\n",
      "[2020-08-23/13:23:20.774|00.0%|70.5%|0.11GB] DATASET NAME          : MAIN1000\n",
      "[2020-08-23/13:23:20.774|00.0%|70.5%|0.11GB] DATASET PATH          : D:\\Jupyter\\ShowBees\\datasets\\MAIN1000\n",
      "[2020-08-23/13:23:20.775|00.0%|70.5%|0.11GB] DATASET DB PATH       : D:\\Jupyter\\ShowBees\\datasets\\MAIN1000\\MAIN1000.db\n",
      "[2020-08-23/13:23:20.775|00.0%|70.5%|0.11GB] DATASET SAMPLES PATH  : D:\\Jupyter\\ShowBees\\datasets\\MAIN1000\\samples\n",
      "[2020-08-23/13:23:20.775|00.0%|70.5%|0.11GB] NB SOURCE AUDIO FILES : 48\n",
      "[2020-08-23/13:23:20.775|00.0%|70.5%|0.11GB] SAMPLE RATE           : 22050\n",
      "[2020-08-23/13:23:20.776|00.0%|70.5%|0.11GB] DURATION              : 1.0\n",
      "[2020-08-23/13:23:20.776|00.0%|70.5%|0.11GB] OVERLAP               : 0.0\n",
      "[2020-08-23/13:23:20.776|00.0%|70.5%|0.11GB] NB AUDIO CHUNKS       : 24788\n",
      "[2020-08-23/13:23:20.776|00.0%|70.5%|0.11GB] ------------------------------------------------------\n"
     ]
    }
   ],
   "source": [
    "import warnings                            # This block prevents display of harmless warnings, but should be\n",
    "warnings.filterwarnings('ignore')          # commented out till the final version, to avoid missing \"real\" warnings \n",
    "\n",
    "import kilroy_was_here                     # Mandatory. Allow access to shared python code from repository root\n",
    "from audace.audiodataset import AudioDataset  # Class for audio dataset handling\n",
    "from audace import (\n",
    "    providers,\n",
    "    transformers,\n",
    "    featurizers\n",
    ")\n",
    "\n",
    "# Dataset name is the master key for dataset adressing\n",
    "# Change it according to the dataset you want to process\n",
    "DATASET_NAME = 'MAIN0100'\n",
    "\n",
    "# Initialize Dataset Object. \n",
    "ds = AudioDataset(DATASET_NAME)\n",
    "\n",
    "# Display dataset summary\n",
    "ds.info()\n"
   ]
  },
  {
   "cell_type": "code",
   "execution_count": 13,
   "metadata": {},
   "outputs": [
    {
     "data": {
      "application/vnd.jupyter.widget-view+json": {
       "model_id": "f4b6455a081b4d0585c88976d634e8c1",
       "version_major": 2,
       "version_minor": 0
      },
      "text/plain": [
       "HBox(children=(FloatProgress(value=0.0, description='Computing mfcc20', max=24788.0, style=ProgressStyle(descr…"
      ]
     },
     "metadata": {},
     "output_type": "display_data"
    },
    {
     "name": "stdout",
     "output_type": "stream",
     "text": [
      "\n"
     ]
    },
    {
     "data": {
      "application/vnd.jupyter.widget-view+json": {
       "model_id": "b7fbca04b4ff4060a5b6aaf26a867d4c",
       "version_major": 2,
       "version_minor": 0
      },
      "text/plain": [
       "HBox(children=(FloatProgress(value=0.0, description='Computing std_mfcc20', max=24788.0, style=ProgressStyle(d…"
      ]
     },
     "metadata": {},
     "output_type": "display_data"
    },
    {
     "name": "stdout",
     "output_type": "stream",
     "text": [
      "\n"
     ]
    },
    {
     "data": {
      "application/vnd.jupyter.widget-view+json": {
       "model_id": "3aeb98e2d1c64c998f84ee80842a85ff",
       "version_major": 2,
       "version_minor": 0
      },
      "text/plain": [
       "HBox(children=(FloatProgress(value=0.0, description='Computing mfcc8', max=24788.0, style=ProgressStyle(descri…"
      ]
     },
     "metadata": {},
     "output_type": "display_data"
    },
    {
     "name": "stdout",
     "output_type": "stream",
     "text": [
      "\n"
     ]
    },
    {
     "data": {
      "application/vnd.jupyter.widget-view+json": {
       "model_id": "9fccf9e38cb24879b6fc2b175598aed4",
       "version_major": 2,
       "version_minor": 0
      },
      "text/plain": [
       "HBox(children=(FloatProgress(value=0.0, description='Computing std_mfcc8', max=24788.0, style=ProgressStyle(de…"
      ]
     },
     "metadata": {},
     "output_type": "display_data"
    },
    {
     "name": "stdout",
     "output_type": "stream",
     "text": [
      "\n"
     ]
    },
    {
     "data": {
      "application/vnd.jupyter.widget-view+json": {
       "model_id": "4af67171d2244abcac59a677db44dd71",
       "version_major": 2,
       "version_minor": 0
      },
      "text/plain": [
       "HBox(children=(FloatProgress(value=0.0, description='Computing apidictor', max=24788.0, style=ProgressStyle(de…"
      ]
     },
     "metadata": {},
     "output_type": "display_data"
    },
    {
     "name": "stdout",
     "output_type": "stream",
     "text": [
      "\n"
     ]
    },
    {
     "data": {
      "application/vnd.jupyter.widget-view+json": {
       "model_id": "dff873653df74827a0d9101eaa88eafb",
       "version_major": 2,
       "version_minor": 0
      },
      "text/plain": [
       "HBox(children=(FloatProgress(value=0.0, description='Computing std_apidictor', max=24788.0, style=ProgressStyl…"
      ]
     },
     "metadata": {},
     "output_type": "display_data"
    },
    {
     "name": "stdout",
     "output_type": "stream",
     "text": [
      "\n"
     ]
    },
    {
     "data": {
      "text/plain": [
       "24788"
      ]
     },
     "execution_count": 13,
     "metadata": {},
     "output_type": "execute_result"
    }
   ],
   "source": [
    "# Compute various features\n",
    "ds.addFeature('mfcc20')\n",
    "ds.setFeature('mfcc20', providers.FromSample(ds.samples_path, featurizers.MFCC(n_mfcc=20)))\n",
    "\n",
    "ds.addFeature('std_mfcc20')\n",
    "ds.setFeature('std_mfcc20', \n",
    "    providers.FromSample(ds.samples_path,[transformers.Standardize(), featurizers.MFCC(n_mfcc=20)])\n",
    ")\n",
    "\n",
    "\n",
    "ds.addFeature('mfcc8')\n",
    "ds.setFeature('mfcc8', providers.FromSample(ds.samples_path, featurizers.MFCC(n_mfcc=8)))\n",
    "\n",
    "ds.addFeature('std_mfcc8')\n",
    "ds.setFeature('std_mfcc8', \n",
    "    providers.FromSample(ds.samples_path,[transformers.Standardize(), featurizers.MFCC(n_mfcc=8)])\n",
    ")\n",
    "\n",
    "ds.addFeature('apidictor')\n",
    "ds.setFeature('apidictor', providers.FromSample(ds.samples_path, featurizers.Magic(180,300,5)))\n",
    "\n",
    "ds.addFeature('std_apidictor')\n",
    "ds.setFeature('std_apidictor', \n",
    "    providers.FromSample(ds.samples_path,[transformers.Standardize(), featurizers.Magic(180,300,5)])\n",
    ")"
   ]
  }
 ],
 "metadata": {
  "kernelspec": {
   "display_name": "Python 3",
   "language": "python",
   "name": "python3"
  },
  "language_info": {
   "codemirror_mode": {
    "name": "ipython",
    "version": 3
   },
   "file_extension": ".py",
   "mimetype": "text/x-python",
   "name": "python",
   "nbconvert_exporter": "python",
   "pygments_lexer": "ipython3",
   "version": "3.7.7"
  }
 },
 "nbformat": 4,
 "nbformat_minor": 4
}
