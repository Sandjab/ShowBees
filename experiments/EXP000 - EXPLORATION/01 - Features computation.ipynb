{
 "cells": [
  {
   "cell_type": "code",
   "execution_count": 11,
   "metadata": {},
   "outputs": [
    {
     "name": "stdout",
     "output_type": "stream",
     "text": [
      "[2020-08-23/12:47:17.134|04.2%|66.1%|0.07GB] ------------------------------------------------------\n",
      "[2020-08-23/12:47:17.145|00.0%|66.1%|0.07GB] DATASET NAME          : MAIN1000\n",
      "[2020-08-23/12:47:17.145|00.0%|66.1%|0.07GB] DATASET PATH          : D:\\Jupyter\\ShowBees\\datasets\\MAIN1000\n",
      "[2020-08-23/12:47:17.145|00.0%|66.1%|0.07GB] DATASET DB PATH       : D:\\Jupyter\\ShowBees\\datasets\\MAIN1000\\MAIN1000.db\n",
      "[2020-08-23/12:47:17.145|00.0%|66.1%|0.07GB] DATASET SAMPLES PATH  : D:\\Jupyter\\ShowBees\\datasets\\MAIN1000\\samples\n",
      "[2020-08-23/12:47:17.146|00.0%|66.1%|0.07GB] NB SOURCE AUDIO FILES : 48\n",
      "[2020-08-23/12:47:17.146|00.0%|66.1%|0.07GB] SAMPLE RATE           : 22050\n",
      "[2020-08-23/12:47:17.146|00.0%|66.1%|0.07GB] DURATION              : 1.0\n",
      "[2020-08-23/12:47:17.146|00.0%|66.1%|0.07GB] OVERLAP               : 0.0\n",
      "[2020-08-23/12:47:17.146|00.0%|66.1%|0.07GB] NB AUDIO CHUNKS       : 24788\n",
      "[2020-08-23/12:47:17.146|16.7%|66.1%|0.07GB] ------------------------------------------------------\n"
     ]
    }
   ],
   "source": [
    "import warnings                            # This block prevents display of harmless warnings, but should be\n",
    "warnings.filterwarnings('ignore')          # commented out till the final version, to avoid missing \"real\" warnings \n",
    "\n",
    "import kilroy_was_here                     # Mandatory. Allow access to shared python code from repository root\n",
    "from audace.audiodataset import AudioDataset  # Class for audio dataset handling\n",
    "from audace import (\n",
    "    providers,\n",
    "    transformers,\n",
    "    featurizers\n",
    ")\n",
    "\n",
    "# Dataset name is the master key for dataset adressing\n",
    "# Changing according to the dataset you want to process\n",
    "DATASET_NAME = 'MAIN1000'\n",
    "\n",
    "# Initialize Dataset Object. \n",
    "ds = AudioDataset(DATASET_NAME)\n",
    "\n",
    "# Display dataset summary\n",
    "ds.info()"
   ]
  },
  {
   "cell_type": "code",
   "execution_count": 2,
   "metadata": {},
   "outputs": [
    {
     "data": {
      "application/vnd.jupyter.widget-view+json": {
       "model_id": "2742f72e43da43daa7502299d0090f43",
       "version_major": 2,
       "version_minor": 0
      },
      "text/plain": [
       "HBox(children=(FloatProgress(value=0.0, description='Computing mfcc20', max=49579.0, style=ProgressStyle(descr…"
      ]
     },
     "metadata": {},
     "output_type": "display_data"
    },
    {
     "name": "stdout",
     "output_type": "stream",
     "text": [
      "\n"
     ]
    },
    {
     "data": {
      "application/vnd.jupyter.widget-view+json": {
       "model_id": "5e6ec2fa0f2a43cb90dc25049885a163",
       "version_major": 2,
       "version_minor": 0
      },
      "text/plain": [
       "HBox(children=(FloatProgress(value=0.0, description='Computing mfcc8', max=49579.0, style=ProgressStyle(descri…"
      ]
     },
     "metadata": {},
     "output_type": "display_data"
    },
    {
     "name": "stdout",
     "output_type": "stream",
     "text": [
      "\n"
     ]
    },
    {
     "data": {
      "application/vnd.jupyter.widget-view+json": {
       "model_id": "61aea9bdabb742c9b55f5395db5e57a5",
       "version_major": 2,
       "version_minor": 0
      },
      "text/plain": [
       "HBox(children=(FloatProgress(value=0.0, description='Computing magic05', max=49579.0, style=ProgressStyle(desc…"
      ]
     },
     "metadata": {},
     "output_type": "display_data"
    },
    {
     "name": "stdout",
     "output_type": "stream",
     "text": [
      "\n"
     ]
    },
    {
     "data": {
      "application/vnd.jupyter.widget-view+json": {
       "model_id": "308bdff286494ec9a69b904e284da699",
       "version_major": 2,
       "version_minor": 0
      },
      "text/plain": [
       "HBox(children=(FloatProgress(value=0.0, description='Computing apidictor', max=49579.0, style=ProgressStyle(de…"
      ]
     },
     "metadata": {},
     "output_type": "display_data"
    },
    {
     "name": "stdout",
     "output_type": "stream",
     "text": [
      "\n"
     ]
    },
    {
     "data": {
      "text/plain": [
       "49579"
      ]
     },
     "execution_count": 2,
     "metadata": {},
     "output_type": "execute_result"
    }
   ],
   "source": [
    "# Compute various features\n",
    "ds.addFeature('mfcc20')\n",
    "ds.setFeature('mfcc20', providers.FromSample(ds.samples_path, featurizers.MFCC(n_mfcc=20)))\n",
    "\n",
    "ds.addFeature('std_mfcc20')\n",
    "ds.setFeature('std_mfcc20', \n",
    "    providers.FromSample(ds.samples_path,[transformers.Standardize(), featurizers.MFCC(n_mfcc=20)])\n",
    ")\n",
    "\n",
    "\n",
    "ds.addFeature('mfcc8')\n",
    "ds.setFeature('mfcc8', providers.FromSample(ds.samples_path, featurizers.MFCC(n_mfcc=8)))\n",
    "\n",
    "ds.addFeature('std_mfcc8')\n",
    "ds.setFeature('std_mfcc8', \n",
    "    providers.FromSample(ds.samples_path,[transformers.Standardize(), featurizers.MFCC(n_mfcc=8)])\n",
    ")\n",
    "\n",
    "ds.addFeature('apidictor')\n",
    "ds.setFeature('apidictor', providers.FromSample(ds.samples_path, featurizers.Magic(180,300,5)))\n",
    "\n",
    "ds.addFeature('std_apidictor')\n",
    "ds.setFeature('std_apidictor', \n",
    "    providers.FromSample(ds.samples_path,[transformers.Standardize(), featurizers.Magic(180,300,5)])\n",
    ")"
   ]
  }
 ],
 "metadata": {
  "kernelspec": {
   "display_name": "Python 3",
   "language": "python",
   "name": "python3"
  },
  "language_info": {
   "codemirror_mode": {
    "name": "ipython",
    "version": 3
   },
   "file_extension": ".py",
   "mimetype": "text/x-python",
   "name": "python",
   "nbconvert_exporter": "python",
   "pygments_lexer": "ipython3",
   "version": "3.7.7"
  }
 },
 "nbformat": 4,
 "nbformat_minor": 4
}
