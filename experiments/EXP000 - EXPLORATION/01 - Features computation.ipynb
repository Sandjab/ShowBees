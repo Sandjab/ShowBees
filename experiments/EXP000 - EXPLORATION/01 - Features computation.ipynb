{
 "cells": [
  {
   "cell_type": "code",
   "execution_count": 1,
   "metadata": {},
   "outputs": [
    {
     "data": {
      "application/vnd.jupyter.widget-view+json": {
       "model_id": "d91eb860d5914d4fad980f4519edb303",
       "version_major": 2,
       "version_minor": 0
      },
      "text/plain": [
       "HBox(children=(FloatProgress(value=0.0, description='Computing mfcc20', max=24788.0, style=ProgressStyle(descr…"
      ]
     },
     "metadata": {},
     "output_type": "display_data"
    },
    {
     "name": "stdout",
     "output_type": "stream",
     "text": [
      "\n"
     ]
    },
    {
     "data": {
      "application/vnd.jupyter.widget-view+json": {
       "model_id": "8634d866a21c46b69e7ffd098261f057",
       "version_major": 2,
       "version_minor": 0
      },
      "text/plain": [
       "HBox(children=(FloatProgress(value=0.0, description='Computing mfcc10', max=24788.0, style=ProgressStyle(descr…"
      ]
     },
     "metadata": {},
     "output_type": "display_data"
    },
    {
     "name": "stdout",
     "output_type": "stream",
     "text": [
      "\n"
     ]
    },
    {
     "data": {
      "application/vnd.jupyter.widget-view+json": {
       "model_id": "6e69d51676cd4dcf99ed137711f7cfdf",
       "version_major": 2,
       "version_minor": 0
      },
      "text/plain": [
       "HBox(children=(FloatProgress(value=0.0, description='Computing magic05', max=24788.0, style=ProgressStyle(desc…"
      ]
     },
     "metadata": {},
     "output_type": "display_data"
    },
    {
     "name": "stdout",
     "output_type": "stream",
     "text": [
      "\n"
     ]
    },
    {
     "data": {
      "application/vnd.jupyter.widget-view+json": {
       "model_id": "e4078b5bcc0541c7b924674f66947bff",
       "version_major": 2,
       "version_minor": 0
      },
      "text/plain": [
       "HBox(children=(FloatProgress(value=0.0, description='Computing apidictor', max=24788.0, style=ProgressStyle(de…"
      ]
     },
     "metadata": {},
     "output_type": "display_data"
    },
    {
     "name": "stdout",
     "output_type": "stream",
     "text": [
      "\n"
     ]
    },
    {
     "data": {
      "text/plain": [
       "24788"
      ]
     },
     "execution_count": 1,
     "metadata": {},
     "output_type": "execute_result"
    }
   ],
   "source": [
    "import warnings                            # This block prevents display of harmless warnings, but should be\n",
    "warnings.filterwarnings('ignore')          # commented out till the final version, to avoid missing \"real\" warnings \n",
    "\n",
    "import kilroy_was_here                     # Mandatory. Allow access to shared python code from repository root\n",
    "from audace.audiodataset import AudioDataset  # Class for audio dataset handling\n",
    "from audace import providers\n",
    "from audace import featurizers\n",
    "\n",
    "\n",
    "# Dataset name is the master key for dataset adressing\n",
    "# Changing according to the dataset you want to process\n",
    "DATASET_NAME = 'MAIN1000'\n",
    "\n",
    "# Initialize Dataset Object. \n",
    "ds = AudioDataset(DATASET_NAME)\n",
    "\n",
    "\n",
    "# Compute various features\n",
    "\n",
    "ds.addFeature('mfcc20')\n",
    "ds.setFeature('mfcc20', providers.FromSample(ds.samples_path, featurizers.MFCC(n_mfcc=20)))\n",
    "\n",
    "ds.addFeature('mfcc10')\n",
    "ds.setFeature('mfcc10', providers.FromSample(ds.samples_path, featurizers.MFCC(n_mfcc=10)))\n",
    "\n",
    "ds.addFeature('magic05')\n",
    "ds.setFeature('magic05', providers.FromSample(ds.samples_path, featurizers.Magic(10,1000,5)))\n",
    "\n",
    "ds.addFeature('apidictor')\n",
    "ds.setFeature('apidictor', providers.FromSample(ds.samples_path, featurizers.Magic(180,300,5)))\n"
   ]
  }
 ],
 "metadata": {
  "kernelspec": {
   "display_name": "Python 3",
   "language": "python",
   "name": "python3"
  },
  "language_info": {
   "codemirror_mode": {
    "name": "ipython",
    "version": 3
   },
   "file_extension": ".py",
   "mimetype": "text/x-python",
   "name": "python",
   "nbconvert_exporter": "python",
   "pygments_lexer": "ipython3",
   "version": "3.7.7"
  }
 },
 "nbformat": 4,
 "nbformat_minor": 4
}
