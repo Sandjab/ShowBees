{
 "cells": [
  {
   "cell_type": "code",
   "execution_count": 1,
   "metadata": {},
   "outputs": [
    {
     "name": "stdout",
     "output_type": "stream",
     "text": [
      "[2020-08-18/21:26:53.594|28.5%|50.7%|0.26GB] ------------------------------------------------------\n",
      "[2020-08-18/21:26:53.594|00.0%|50.7%|0.26GB] DATASET NAME          : MAIN1000\n",
      "[2020-08-18/21:26:53.610|37.5%|50.7%|0.26GB] DATASET PATH          : D:\\Jupyter\\ShowBees\\datasets\\MAIN1000\n",
      "[2020-08-18/21:26:53.610|00.0%|50.7%|0.26GB] DATASET DB PATH       : D:\\Jupyter\\ShowBees\\datasets\\MAIN1000\\MAIN1000.db\n",
      "[2020-08-18/21:26:53.610|00.0%|50.7%|0.26GB] DATASET SAMPLES PATH  : D:\\Jupyter\\ShowBees\\datasets\\MAIN1000\\samples\n",
      "[2020-08-18/21:26:53.610|00.0%|50.7%|0.26GB] NB SOURCE AUDIO FILES : 48\n",
      "[2020-08-18/21:26:53.610|00.0%|50.7%|0.26GB] SAMPLE RATE           : 22050\n",
      "[2020-08-18/21:26:53.610|00.0%|50.7%|0.26GB] DURATION              : 1.0\n",
      "[2020-08-18/21:26:53.610|00.0%|50.7%|0.26GB] OVERLAP               : 0.0\n",
      "[2020-08-18/21:26:53.610|00.0%|50.7%|0.26GB] NB AUDIO CHUNKS       : 24788\n",
      "[2020-08-18/21:26:53.610|00.0%|50.7%|0.26GB] ------------------------------------------------------\n"
     ]
    }
   ],
   "source": [
    "import warnings                              # This block prevents display of harmless warnings, but should be\n",
    "warnings.filterwarnings('ignore')            # commented out till the experiment final version,\n",
    "                                             # in order to avoid missing \"real\" warnings \n",
    "\n",
    "import kilroy_was_here                       # Mandatory. Allow access to shared python code from repository root\n",
    "from audace.jupytools import predestination  # Global Random seed for reproducibilty.\n",
    "from audace.audiodataset import AudioDataset # Main class for audio dataset handling\n",
    "\n",
    "\n",
    "# Let's seed the various PRNGs, for reproducibility,\n",
    "# using de default seed.\n",
    "#\n",
    "# Note1: this cannot apply to SQLite Random() function,\n",
    "#       so its use is forbidden. e.g ORDER BY RANDOM()\n",
    "#       should not be used in an sql query.\n",
    "#\n",
    "# Note2: repeated execution of a any cell requiring\n",
    "#        randomness WILL NOT give the same result unless\n",
    "#        predestination invocation was done from this cell\n",
    "predestination()\n",
    "\n",
    "# Dataset name is the master key for dataset adressing\n",
    "# Changing according to the dataset you want to process\n",
    "DATASET_NAME = 'MAIN1000'\n",
    "\n",
    "# Initialize Dataset Object. \n",
    "ds = AudioDataset(DATASET_NAME)\n",
    "    \n",
    "# Display AudioDataset summary    \n",
    "ds.info()\n",
    "\n",
    "# Get pandas dataframe containing the columns we will need for this experiments\n",
    "sql = \"select mfcc20, queen from samples where nobee = 0\"\n",
    "df = ds.queryDataFrame(sql)\n",
    "\n"
   ]
  },
  {
   "cell_type": "code",
   "execution_count": 6,
   "metadata": {},
   "outputs": [
    {
     "name": "stdout",
     "output_type": "stream",
     "text": [
      "(17205,)\n",
      "(20, 44)\n",
      "(17205,)\n"
     ]
    }
   ],
   "source": [
    "print(df['mfcc20'].shape)\n",
    "print(df['mfcc20'][0].shape)\n",
    "print(df['mfcc20'].to_numpy().shape)\n"
   ]
  },
  {
   "cell_type": "code",
   "execution_count": 3,
   "metadata": {},
   "outputs": [],
   "source": [
    "from sklearn.model_selection import train_test_split\n",
    "# Seed the various PRNGs\n",
    "predestination()\n",
    "\n",
    "FEATURE_NAME = 'mfcc20'\n",
    "\n",
    "features = []\n",
    "for v in df[FEATURE_NAME]:\n",
    "    features.append(v.flatten().tolist())\n",
    "\n",
    "TEST_FRAC = 0.3\n",
    "\n",
    "X_train, X_test, y_train, y_test = train_test_split(features, df['queen'], test_size=TEST_FRAC)"
   ]
  },
  {
   "cell_type": "code",
   "execution_count": 4,
   "metadata": {},
   "outputs": [
    {
     "name": "stdout",
     "output_type": "stream",
     "text": [
      "train (12043,)\n",
      "pred (5162,)\n",
      "test (5162,)\n",
      "Accuracy: 0.9029445951181713\n",
      "Precision: 0.9515845070422535\n",
      "Recall: 0.8468468468468469\n",
      "F1: 0.8961658031088083\n"
     ]
    }
   ],
   "source": [
    "from sklearn import svm\n",
    "from sklearn import metrics\n",
    "\n",
    "# Seed the various PRNGs\n",
    "predestination()\n",
    "\n",
    "KERNEL='rbf'\n",
    "\n",
    "\n",
    "\n",
    "#Create a svm Classifier\n",
    "clf = svm.SVC(kernel=KERNEL)\n",
    "\n",
    "#Train the model using the training sets\n",
    "clf.fit(X_train, y_train)\n",
    "\n",
    "#Predict the response for test dataset\n",
    "y_pred = clf.predict(X_test)\n",
    "\n",
    "\n",
    "print(\"train\", y_train.shape)\n",
    "print(\"pred\", y_pred.shape)\n",
    "print(\"test\", y_test.shape)\n",
    "\n",
    "print(\"Accuracy:\",metrics.accuracy_score(y_test, y_pred))\n",
    "print(\"Precision:\",metrics.precision_score(y_test, y_pred))\n",
    "print(\"Recall:\",metrics.recall_score(y_test, y_pred))\n",
    "print(\"F1:\",metrics.f1_score(y_test, y_pred))\n"
   ]
  },
  {
   "cell_type": "code",
   "execution_count": 6,
   "metadata": {
    "scrolled": true
   },
   "outputs": [
    {
     "data": {
      "image/png": "[encoded data removed]",
      "text/plain": [
       "<Figure size 864x360 with 4 Axes>"
      ]
     },
     "metadata": {
      "needs_background": "light"
     },
     "output_type": "display_data"
    },
    {
     "name": "stdout",
     "output_type": "stream",
     "text": [
      "\n",
      "\n",
      "\n",
      "              precision    recall  f1-score   support\n",
      "\n",
      "    no queen       0.86      0.96      0.91      2609\n",
      "       queen       0.95      0.85      0.90      2553\n",
      "\n",
      "    accuracy                           0.90      5162\n",
      "   macro avg       0.91      0.90      0.90      5162\n",
      "weighted avg       0.91      0.90      0.90      5162\n",
      "\n"
     ]
    }
   ],
   "source": [
    "import matplotlib.pyplot as plt\n",
    "from audace.plotters import plot_confusion_matrix, save_fig\n",
    "from sklearn.metrics import classification_report\n",
    "from sklearn.metrics import confusion_matrix\n",
    "\n",
    "target_names=['no queen', 'queen']\n",
    "\n",
    "# Compute confusion matrix\n",
    "cnf_matrix = confusion_matrix(y_test, y_pred )\n",
    "\n",
    "\n",
    "ROWS=1\n",
    "plt.figure(figsize=(12, 5))\n",
    "\n",
    "plt.subplot(121)\n",
    "# Plot non-normalized confusion matrix\n",
    "plot_confusion_matrix(cnf_matrix, target_names=target_names, normalize=False,\n",
    "                      title='Confusion matrix, without normalization')\n",
    "\n",
    "plt.subplot(122)\n",
    "# Plot normalized confusion matrix\n",
    "plot_confusion_matrix(cnf_matrix, target_names=target_names, normalize=True,\n",
    "                      title='Normalized confusion matrix', cmap=plt.cm.RdYlGn)\n",
    "\n",
    "plt.tight_layout()\n",
    "save_fig(\"03 - SVM Confusion Matrices\")\n",
    "plt.show()\n",
    "\n",
    "print(\"\\n\\n\")\n",
    "print(classification_report(y_test, y_pred , target_names=target_names))\n",
    "\n"
   ]
  },
  {
   "cell_type": "code",
   "execution_count": null,
   "metadata": {},
   "outputs": [],
   "source": [
    "from sklearn.metrics import roc_curve\n",
    "from audace.plotters import plot_roc_curve\n",
    "from sklearn.metrics import roc_auc_score\n",
    "\n",
    "y_scores = clf.decision_function(X_test)\n",
    "\n",
    "fpr, tpr, thresholds = roc_curve(y_test, y_scores)\n",
    "\n",
    "plt.figure(figsize=(8, 6))\n",
    "\n",
    "plt.plot(fpr, tpr, linewidth=2, label='urg')\n",
    "plot_roc_curve(fpr, tpr)\n",
    "plt.show()\n",
    "\n",
    "\n",
    "print('AUC', roc_auc_score(y_test, y_scores))"
   ]
  },
  {
   "cell_type": "code",
   "execution_count": 49,
   "metadata": {},
   "outputs": [
    {
     "name": "stdout",
     "output_type": "stream",
     "text": [
      "Accuracy: 0.5528734055685092\n",
      "Precision: 0.22807017543859648\n",
      "Recall: 0.016581632653061226\n",
      "F1: 0.030915576694411417\n",
      "Accuracy: 0.4708235294117647\n",
      "Precision: 0.28599033816425123\n",
      "Recall: 0.07299630086313194\n",
      "F1: 0.1163064833005894\n"
     ]
    }
   ],
   "source": [
    "df1 = ds.queryDataFrame(\"select magic05, apidictor, mfcc20, queen from samples where nobee = 0 and hive = 'Hive1'\")\n",
    "df3 = ds.queryDataFrame(\"select magic05, apidictor, mfcc20, queen from samples where nobee = 0 and hive = 'Hive3'\")\n",
    "\n",
    "FEATURE_NAME = 'mfcc20'\n",
    "KERNEL='rbf'\n",
    "\n",
    "X1 = []\n",
    "for v in df1[FEATURE_NAME]:\n",
    "    X1.append(v.flatten().tolist())\n",
    "\n",
    "y1 = df1['queen']\n",
    "    \n",
    "    \n",
    "X3 = []\n",
    "for v in df3[FEATURE_NAME]:\n",
    "    X3.append(v.flatten().tolist())\n",
    "    \n",
    "y3 = df3['queen']\n",
    "    \n",
    "\n",
    "#Create a svm Classifier\n",
    "clf1 = svm.SVC(kernel=KERNEL)\n",
    "\n",
    "#Train the model using the training sets\n",
    "clf1.fit(X1, y1)\n",
    "\n",
    "#Predict the response for test dataset\n",
    "y3_pred = clf1.predict(X3)\n",
    "    \n",
    "\n",
    "#Import scikit-learn metrics module for accuracy calculation\n",
    "from sklearn import metrics\n",
    "\n",
    "print(\"Accuracy:\",metrics.accuracy_score(y3, y3_pred))\n",
    "print(\"Precision:\",metrics.precision_score(y3, y3_pred))\n",
    "print(\"Recall:\",metrics.recall_score(y3, y3_pred))\n",
    "print(\"F1:\",metrics.f1_score(y3, y3_pred))\n",
    "\n",
    "\n",
    "#Create a svm Classifier\n",
    "clf3 = svm.SVC(kernel=KERNEL)\n",
    "\n",
    "#Train the model using the training sets\n",
    "clf3.fit(X3, y3)\n",
    "\n",
    "#Predict the response for test dataset\n",
    "y1_pred = clf3.predict(X1)\n",
    "\n",
    "\n",
    "\n",
    "print(\"Accuracy:\",metrics.accuracy_score(y1, y1_pred))\n",
    "print(\"Precision:\",metrics.precision_score(y1, y1_pred))\n",
    "print(\"Recall:\",metrics.recall_score(y1, y1_pred))\n",
    "print(\"F1:\",metrics.f1_score(y1, y1_pred))"
   ]
  },
  {
   "cell_type": "markdown",
   "metadata": {},
   "source": []
  }
 ],
 "metadata": {
  "kernelspec": {
   "display_name": "Python 3",
   "language": "python",
   "name": "python3"
  },
  "language_info": {
   "codemirror_mode": {
    "name": "ipython",
    "version": 3
   },
   "file_extension": ".py",
   "mimetype": "text/x-python",
   "name": "python",
   "nbconvert_exporter": "python",
   "pygments_lexer": "ipython3",
   "version": "3.7.7"
  }
 },
 "nbformat": 4,
 "nbformat_minor": 4
}
