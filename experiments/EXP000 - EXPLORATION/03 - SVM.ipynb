{
 "cells": [
  {
   "cell_type": "code",
   "execution_count": 3,
   "metadata": {},
   "outputs": [
    {
     "name": "stdout",
     "output_type": "stream",
     "text": [
      "[2020-08-20/00:08:03.022|35.8%|71.4%|0.55GB] ------------------------------------------------------\n",
      "[2020-08-20/00:08:03.022|00.0%|71.4%|0.55GB] DATASET NAME          : DUO1000_8kHz\n",
      "[2020-08-20/00:08:03.022|00.0%|71.4%|0.55GB] DATASET PATH          : D:\\Jupyter\\ShowBees\\datasets\\DUO1000_8kHz\n",
      "[2020-08-20/00:08:03.022|00.0%|71.4%|0.55GB] DATASET DB PATH       : D:\\Jupyter\\ShowBees\\datasets\\DUO1000_8kHz\\DUO1000_8kHz.db\n",
      "[2020-08-20/00:08:03.023|00.0%|71.4%|0.55GB] DATASET SAMPLES PATH  : D:\\Jupyter\\ShowBees\\datasets\\DUO1000_8kHz\\samples\n",
      "[2020-08-20/00:08:03.023|00.0%|71.4%|0.55GB] NB SOURCE AUDIO FILES : 4\n",
      "[2020-08-20/00:08:03.023|00.0%|71.4%|0.55GB] SAMPLE RATE           : 8192\n",
      "[2020-08-20/00:08:03.023|00.0%|71.4%|0.55GB] DURATION              : 1.0\n",
      "[2020-08-20/00:08:03.023|00.0%|71.4%|0.55GB] OVERLAP               : 0.0\n",
      "[2020-08-20/00:08:03.025|37.5%|71.4%|0.55GB] NB AUDIO CHUNKS       : 2374\n",
      "[2020-08-20/00:08:03.025|00.0%|71.4%|0.55GB] ------------------------------------------------------\n"
     ]
    }
   ],
   "source": [
    "import warnings                              # This block prevents display of harmless warnings, but should be\n",
    "warnings.filterwarnings('ignore')            # commented out till the experiment final version,\n",
    "                                             # in order to avoid missing \"real\" warnings \n",
    "\n",
    "import kilroy_was_here                       # Mandatory. Allow access to shared python code from repository root\n",
    "from audace.jupytools import predestination  # Global Random seed for reproducibilty.\n",
    "from audace.audiodataset import AudioDataset # Main class for audio dataset handling\n",
    "\n",
    "\n",
    "# Let's seed the various PRNGs, for reproducibility,\n",
    "# using de default seed.\n",
    "#\n",
    "# Note1: this cannot apply to SQLite Random() function,\n",
    "#       so its use is forbidden. e.g ORDER BY RANDOM()\n",
    "#       should not be used in an sql query.\n",
    "#\n",
    "# Note2: repeated execution of a any cell requiring\n",
    "#        randomness WILL NOT give the same result unless\n",
    "#        predestination invocation was done from this cell\n",
    "predestination()\n",
    "\n",
    "# Dataset name is the master key for dataset adressing\n",
    "# Changing according to the dataset you want to process\n",
    "DATASET_NAME = 'DUO1000_8kHz'\n",
    "\n",
    "# Initialize Dataset Object. \n",
    "ds = AudioDataset(DATASET_NAME)\n",
    "    \n",
    "# Display AudioDataset summary    \n",
    "ds.info()\n",
    "\n",
    "# Get pandas dataframe containing the columns we will need for this experiments\n",
    "sql = \"select mfcc20, mfcc20_std, std_mfcc20, std_mfcc20_std, std_mfcc8, std_apidictor, queen from samples where nobee = 0\"\n",
    "df = ds.queryDataFrame(sql)\n",
    "\n"
   ]
  },
  {
   "cell_type": "code",
   "execution_count": 4,
   "metadata": {},
   "outputs": [],
   "source": [
    "from sklearn.model_selection import train_test_split\n",
    "# Seed the various PRNGs\n",
    "predestination()\n",
    "\n",
    "FEATURE_NAME = 'mfcc20'\n",
    "\n",
    "features = []\n",
    "for v in df[FEATURE_NAME]:\n",
    "    features.append(v.flatten().tolist())\n",
    "\n",
    "TEST_FRAC = 0.3\n",
    "\n",
    "X_train, X_test, y_train, y_test = train_test_split(features, df['queen'], test_size=TEST_FRAC)"
   ]
  },
  {
   "cell_type": "code",
   "execution_count": 5,
   "metadata": {},
   "outputs": [
    {
     "name": "stdout",
     "output_type": "stream",
     "text": [
      "[LibSVM]train (1057,)\n",
      "pred (453,)\n",
      "test (453,)\n",
      "Accuracy: 0.9690949227373068\n",
      "Precision: 0.9766355140186916\n",
      "Recall: 0.9587155963302753\n",
      "F1: 0.9675925925925927\n"
     ]
    }
   ],
   "source": [
    "from sklearn import svm\n",
    "from sklearn import metrics\n",
    "\n",
    "# Seed the various PRNGs\n",
    "predestination()\n",
    "\n",
    "KERNEL='rbf'\n",
    "\n",
    "\n",
    "\n",
    "#Create a svm Classifier\n",
    "clf = svm.SVC(kernel=KERNEL, verbose=True, C=100)\n",
    "\n",
    "#Train the model using the training sets\n",
    "clf.fit(X_train, y_train)\n",
    "\n",
    "#Predict the response for test dataset\n",
    "y_pred = clf.predict(X_test)\n",
    "\n",
    "\n",
    "print(\"train\", y_train.shape)\n",
    "print(\"pred\", y_pred.shape)\n",
    "print(\"test\", y_test.shape)\n",
    "\n",
    "print(\"Accuracy:\",metrics.accuracy_score(y_test, y_pred))\n",
    "print(\"Precision:\",metrics.precision_score(y_test, y_pred))\n",
    "print(\"Recall:\",metrics.recall_score(y_test, y_pred))\n",
    "print(\"F1:\",metrics.f1_score(y_test, y_pred))\n"
   ]
  },
  {
   "cell_type": "code",
   "execution_count": 6,
   "metadata": {
    "scrolled": true
   },
   "outputs": [
    {
     "data": {
      "image/png": "[encoded data removed]",
      "text/plain": [
       "<Figure size 864x360 with 4 Axes>"
      ]
     },
     "metadata": {
      "needs_background": "light"
     },
     "output_type": "display_data"
    },
    {
     "name": "stdout",
     "output_type": "stream",
     "text": [
      "\n",
      "\n",
      "\n",
      "              precision    recall  f1-score   support\n",
      "\n",
      "    no queen       0.96      0.98      0.97       235\n",
      "       queen       0.98      0.96      0.97       218\n",
      "\n",
      "    accuracy                           0.97       453\n",
      "   macro avg       0.97      0.97      0.97       453\n",
      "weighted avg       0.97      0.97      0.97       453\n",
      "\n"
     ]
    }
   ],
   "source": [
    "import matplotlib.pyplot as plt\n",
    "from audace.plotters import plot_confusion_matrix, save_fig\n",
    "from sklearn.metrics import classification_report\n",
    "from sklearn.metrics import confusion_matrix\n",
    "\n",
    "target_names=['no queen', 'queen']\n",
    "\n",
    "# Compute confusion matrix\n",
    "cnf_matrix = confusion_matrix(y_test, y_pred )\n",
    "\n",
    "\n",
    "ROWS=1\n",
    "plt.figure(figsize=(12, 5))\n",
    "\n",
    "plt.subplot(121)\n",
    "# Plot non-normalized confusion matrix\n",
    "plot_confusion_matrix(cnf_matrix, target_names=target_names, normalize=False,\n",
    "                      title='Confusion matrix, without normalization')\n",
    "\n",
    "plt.subplot(122)\n",
    "# Plot normalized confusion matrix\n",
    "plot_confusion_matrix(cnf_matrix, target_names=target_names, normalize=True,\n",
    "                      title='Normalized confusion matrix', cmap=plt.cm.RdYlGn)\n",
    "\n",
    "plt.tight_layout()\n",
    "save_fig(\"03 - SVM Confusion Matrices\")\n",
    "plt.show()\n",
    "\n",
    "print(\"\\n\\n\")\n",
    "print(classification_report(y_test, y_pred , target_names=target_names))\n",
    "\n"
   ]
  },
  {
   "cell_type": "code",
   "execution_count": 7,
   "metadata": {},
   "outputs": [
    {
     "data": {
      "image/png": "[encoded data removed]",
      "text/plain": [
       "<Figure size 576x432 with 1 Axes>"
      ]
     },
     "metadata": {
      "needs_background": "light"
     },
     "output_type": "display_data"
    },
    {
     "name": "stdout",
     "output_type": "stream",
     "text": [
      "Area Under Curve 0.9932071052117899\n"
     ]
    }
   ],
   "source": [
    "from sklearn.metrics import roc_curve\n",
    "from audace.plotters import plot_roc_curve\n",
    "from sklearn.metrics import roc_auc_score\n",
    "\n",
    "y_scores = clf.decision_function(X_test)\n",
    "\n",
    "fpr, tpr, thresholds = roc_curve(y_test, y_scores)\n",
    "\n",
    "plt.figure(figsize=(8, 6))\n",
    "\n",
    "plt.plot(fpr, tpr, linewidth=2, label='urg')\n",
    "plot_roc_curve(fpr, tpr)\n",
    "plt.show()\n",
    "\n",
    "\n",
    "print('Area Under Curve', roc_auc_score(y_test, y_scores))"
   ]
  },
  {
   "cell_type": "code",
   "execution_count": 13,
   "metadata": {
    "scrolled": true
   },
   "outputs": [],
   "source": [
    "df1 = ds.queryDataFrame(\"select mfcc20, mfcc20_std, std_mfcc20, std_mfcc20_std, std_mfcc8, std_apidictor, queen from samples where nobee = 0 and hive = 'Hive1'\")\n",
    "df3 = ds.queryDataFrame(\"select mfcc20, mfcc20_std, std_mfcc20, std_mfcc20_std, std_mfcc8, std_apidictor, queen from samples where nobee = 0 and hive = 'Hive3'\")\n",
    "\n",
    "FEATURE_NAME = 'mfcc20_std'\n",
    "KERNEL='rbf'\n",
    "\n",
    "X1 = []\n",
    "for v in df1[FEATURE_NAME]:\n",
    "    X1.append(v.flatten().tolist())\n",
    "\n",
    "y1 = df1['queen'].values\n",
    "    \n",
    "    \n",
    "X3 = []\n",
    "for v in df3[FEATURE_NAME]:\n",
    "    X3.append(v.flatten().tolist())\n",
    "    \n",
    "y3 = df3['queen'].values\n",
    "    \n"
   ]
  },
  {
   "cell_type": "code",
   "execution_count": 14,
   "metadata": {
    "scrolled": true
   },
   "outputs": [
    {
     "name": "stdout",
     "output_type": "stream",
     "text": [
      "Accuracy: 0.571830985915493\n",
      "Precision: 0.0\n",
      "Recall: 0.0\n",
      "F1: 0.0\n",
      "Accuracy: 0.505\n",
      "Precision: 0.0\n",
      "Recall: 0.0\n",
      "F1: 0.0\n"
     ]
    }
   ],
   "source": [
    "#Import scikit-learn metrics module for accuracy calculation\n",
    "from sklearn import metrics\n",
    "\n",
    "\n",
    "#Create a svm Classifier\n",
    "clf1 = svm.SVC(kernel=KERNEL)\n",
    "\n",
    "#Train the model using the training sets\n",
    "clf1.fit(X1, y1)\n",
    "\n",
    "#Predict the response for test dataset\n",
    "y3_pred = clf1.predict(X3)\n",
    "\n",
    "print(\"Accuracy:\",metrics.accuracy_score(y3, y3_pred))\n",
    "print(\"Precision:\",metrics.precision_score(y3, y3_pred))\n",
    "print(\"Recall:\",metrics.recall_score(y3, y3_pred))\n",
    "print(\"F1:\",metrics.f1_score(y3, y3_pred))\n",
    "\n",
    "#Create a svm Classifier\n",
    "clf3 = svm.SVC(kernel=KERNEL)\n",
    "\n",
    "#Train the model using the training sets\n",
    "clf3.fit(X3, y3)\n",
    "\n",
    "#Predict the response for test dataset\n",
    "y1_pred = clf3.predict(X1)\n",
    "\n",
    "print(\"Accuracy:\",metrics.accuracy_score(y1, y1_pred))\n",
    "print(\"Precision:\",metrics.precision_score(y1, y1_pred))\n",
    "print(\"Recall:\",metrics.recall_score(y1, y1_pred))\n",
    "print(\"F1:\",metrics.f1_score(y1, y1_pred))\n",
    "\n"
   ]
  }
 ],
 "metadata": {
  "kernelspec": {
   "display_name": "Python 3",
   "language": "python",
   "name": "python3"
  },
  "language_info": {
   "codemirror_mode": {
    "name": "ipython",
    "version": 3
   },
   "file_extension": ".py",
   "mimetype": "text/x-python",
   "name": "python",
   "nbconvert_exporter": "python",
   "pygments_lexer": "ipython3",
   "version": "3.7.7"
  }
 },
 "nbformat": 4,
 "nbformat_minor": 4
}
