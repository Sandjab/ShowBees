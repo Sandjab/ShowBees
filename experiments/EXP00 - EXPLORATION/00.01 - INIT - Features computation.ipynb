{
 "cells": [
  {
   "cell_type": "markdown",
   "metadata": {},
   "source": [
    "# 00.01 - Feature computation\n",
    "\n",
    "## Prerequisites\n",
    "\n",
    "- The dataset exists (if not, execute 00.00)"
   ]
  },
  {
   "cell_type": "code",
   "execution_count": 1,
   "metadata": {},
   "outputs": [
    {
     "name": "stdout",
     "output_type": "stream",
     "text": [
      "[2020-08-29/14:46:44.152|13.9%|60.3%|0.28GB] ------------------------------------------------------\n",
      "[2020-08-29/14:46:44.152|00.0%|60.3%|0.28GB] DATASET NAME          : NMMAIN1000\n",
      "[2020-08-29/14:46:44.152|00.0%|60.3%|0.28GB] DATASET PATH          : D:\\Jupyter\\ShowBees\\datasets\\NMMAIN1000\n",
      "[2020-08-29/14:46:44.153|00.0%|60.3%|0.28GB] DATASET DB PATH       : D:\\Jupyter\\ShowBees\\datasets\\NMMAIN1000\\NMMAIN1000.db\n",
      "[2020-08-29/14:46:44.153|00.0%|60.3%|0.28GB] DATASET SAMPLES PATH  : D:\\Jupyter\\ShowBees\\datasets\\NMMAIN1000\\samples\n",
      "[2020-08-29/14:46:44.153|00.0%|60.3%|0.28GB] NB SOURCE AUDIO FILES : 48\n",
      "[2020-08-29/14:46:44.153|00.0%|60.3%|0.28GB] SAMPLE RATE           : 22050\n",
      "[2020-08-29/14:46:44.153|00.0%|60.3%|0.28GB] DURATION              : 1.0\n",
      "[2020-08-29/14:46:44.153|00.0%|60.3%|0.28GB] OVERLAP               : 0.0\n",
      "[2020-08-29/14:46:44.153|00.0%|60.3%|0.28GB] NB AUDIO CHUNKS       : 24788\n",
      "[2020-08-29/14:46:44.153|00.0%|60.3%|0.28GB] ------------------------------------------------------\n"
     ]
    }
   ],
   "source": [
    "import warnings                            # This block prevents display of harmless warnings, but should be\n",
    "warnings.filterwarnings('ignore')          # commented out till the final version, to avoid missing \"real\" warnings \n",
    "\n",
    "import kilroy_was_here                     # Mandatory. Allow access to shared python code from repository root\n",
    "from audace.audiodataset import AudioDataset  # Class for audio dataset handling\n",
    "from audace.providers import FromSample\n",
    "from audace.transformers import Standardize, PreEmphasize\n",
    "from audace.featurizers import MFCC, Magic\n",
    "\n",
    "# Dataset name is the master key for dataset adressing\n",
    "# Change it according to the dataset you want to process\n",
    "DATASET_NAME = 'MAIN1000'\n",
    "\n",
    "# Initialize Dataset Object. \n",
    "ds = AudioDataset(DATASET_NAME)\n",
    "\n",
    "# Display dataset summary\n",
    "ds.info()\n"
   ]
  },
  {
   "cell_type": "code",
   "execution_count": 2,
   "metadata": {
    "scrolled": true
   },
   "outputs": [
    {
     "data": {
      "application/vnd.jupyter.widget-view+json": {
       "model_id": "72f464cb45654779971fbbf037655e15",
       "version_major": 2,
       "version_minor": 0
      },
      "text/plain": [
       "HBox(children=(FloatProgress(value=0.0, description='Computing mfcc20', max=24788.0, style=ProgressStyle(descr…"
      ]
     },
     "metadata": {},
     "output_type": "display_data"
    },
    {
     "name": "stdout",
     "output_type": "stream",
     "text": [
      "\n"
     ]
    },
    {
     "data": {
      "application/vnd.jupyter.widget-view+json": {
       "model_id": "14271c9571f34a24a575a18e67e1f23a",
       "version_major": 2,
       "version_minor": 0
      },
      "text/plain": [
       "HBox(children=(FloatProgress(value=0.0, description='Computing std_mfcc20', max=24788.0, style=ProgressStyle(d…"
      ]
     },
     "metadata": {},
     "output_type": "display_data"
    },
    {
     "name": "stdout",
     "output_type": "stream",
     "text": [
      "\n"
     ]
    },
    {
     "data": {
      "application/vnd.jupyter.widget-view+json": {
       "model_id": "e50221d9a5074fe6885e2c16d6e4d4cf",
       "version_major": 2,
       "version_minor": 0
      },
      "text/plain": [
       "HBox(children=(FloatProgress(value=0.0, description='Computing mfcc8', max=24788.0, style=ProgressStyle(descri…"
      ]
     },
     "metadata": {},
     "output_type": "display_data"
    },
    {
     "name": "stdout",
     "output_type": "stream",
     "text": [
      "\n"
     ]
    },
    {
     "data": {
      "application/vnd.jupyter.widget-view+json": {
       "model_id": "9bc62a0353804370be5970128221a2ea",
       "version_major": 2,
       "version_minor": 0
      },
      "text/plain": [
       "HBox(children=(FloatProgress(value=0.0, description='Computing std_mfcc8', max=24788.0, style=ProgressStyle(de…"
      ]
     },
     "metadata": {},
     "output_type": "display_data"
    },
    {
     "name": "stdout",
     "output_type": "stream",
     "text": [
      "\n"
     ]
    },
    {
     "data": {
      "application/vnd.jupyter.widget-view+json": {
       "model_id": "168e435f5bfd454da3f906f575b780b3",
       "version_major": 2,
       "version_minor": 0
      },
      "text/plain": [
       "HBox(children=(FloatProgress(value=0.0, description='Computing apidictor', max=24788.0, style=ProgressStyle(de…"
      ]
     },
     "metadata": {},
     "output_type": "display_data"
    },
    {
     "name": "stdout",
     "output_type": "stream",
     "text": [
      "\n"
     ]
    },
    {
     "data": {
      "application/vnd.jupyter.widget-view+json": {
       "model_id": "0ce72acb3b054a158ffe55f55d4153d2",
       "version_major": 2,
       "version_minor": 0
      },
      "text/plain": [
       "HBox(children=(FloatProgress(value=0.0, description='Computing std_apidictor', max=24788.0, style=ProgressStyl…"
      ]
     },
     "metadata": {},
     "output_type": "display_data"
    },
    {
     "name": "stdout",
     "output_type": "stream",
     "text": [
      "\n"
     ]
    },
    {
     "data": {
      "application/vnd.jupyter.widget-view+json": {
       "model_id": "b54bcaa57ff24db79b973af3a268d901",
       "version_major": 2,
       "version_minor": 0
      },
      "text/plain": [
       "HBox(children=(FloatProgress(value=0.0, description='Computing emph_mfcc20', max=24788.0, style=ProgressStyle(…"
      ]
     },
     "metadata": {},
     "output_type": "display_data"
    },
    {
     "name": "stdout",
     "output_type": "stream",
     "text": [
      "\n"
     ]
    },
    {
     "data": {
      "application/vnd.jupyter.widget-view+json": {
       "model_id": "01f70c4295a642e8a4105339841a022e",
       "version_major": 2,
       "version_minor": 0
      },
      "text/plain": [
       "HBox(children=(FloatProgress(value=0.0, description='Computing jpg00', max=24788.0, style=ProgressStyle(descri…"
      ]
     },
     "metadata": {},
     "output_type": "display_data"
    },
    {
     "name": "stdout",
     "output_type": "stream",
     "text": [
      "\n"
     ]
    },
    {
     "data": {
      "application/vnd.jupyter.widget-view+json": {
       "model_id": "5bdecf1fa4bc4d868465bd35aaaee352",
       "version_major": 2,
       "version_minor": 0
      },
      "text/plain": [
       "HBox(children=(FloatProgress(value=0.0, description='Computing api180_190_5', max=24788.0, style=ProgressStyle…"
      ]
     },
     "metadata": {},
     "output_type": "display_data"
    },
    {
     "name": "stdout",
     "output_type": "stream",
     "text": [
      "\n"
     ]
    },
    {
     "data": {
      "application/vnd.jupyter.widget-view+json": {
       "model_id": "8921da8dfd564728b5e744714a990479",
       "version_major": 2,
       "version_minor": 0
      },
      "text/plain": [
       "HBox(children=(FloatProgress(value=0.0, description='Computing api180_225_1', max=24788.0, style=ProgressStyle…"
      ]
     },
     "metadata": {},
     "output_type": "display_data"
    },
    {
     "name": "stdout",
     "output_type": "stream",
     "text": [
      "\n"
     ]
    }
   ],
   "source": [
    "# Compute various features\n",
    "if ds.addFeature('mfcc20'):\n",
    "    ds.setFeature('mfcc20', FromSample(ds.samples_path, MFCC(n_mfcc=20)))\n",
    "\n",
    "if ds.addFeature('std_mfcc20'):\n",
    "    ds.setFeature('std_mfcc20', \n",
    "        FromSample(ds.samples_path,[Standardize(), MFCC(n_mfcc=20)])\n",
    "    )\n",
    "\n",
    "if ds.addFeature('mfcc8'):\n",
    "    ds.setFeature('mfcc8', FromSample(ds.samples_path, MFCC(n_mfcc=8)))\n",
    "\n",
    "if ds.addFeature('std_mfcc8'):\n",
    "    ds.setFeature('std_mfcc8', \n",
    "        FromSample(ds.samples_path,[Standardize(), MFCC(n_mfcc=8)])\n",
    "    )\n",
    "\n",
    "if ds.addFeature('apidictor'):\n",
    "    ds.setFeature('apidictor', FromSample(ds.samples_path, Magic(180,300,5)))\n",
    "\n",
    "if ds.addFeature('std_apidictor'):\n",
    "    ds.setFeature('std_apidictor', \n",
    "        FromSample(ds.samples_path,[Standardize(), Magic(180,300,5)])\n",
    "    )\n",
    "    \n",
    "if ds.addFeature('emph_mfcc20'):\n",
    "    ds.setFeature('emph_mfcc20',\n",
    "        FromSample(ds.samples_path, [PreEmphasize(0.97), MFCC(n_mfcc=20)])\n",
    "    )\n",
    "    \n",
    "if ds.addFeature('jpg00'):\n",
    "    ds.setFeature('jpg00', \n",
    "        FromSample(ds.samples_path, Magic(2000, 3600, 100))\n",
    "    )\n",
    "    \n",
    "if ds.addFeature('api180_190_5'):\n",
    "    ds.setFeature('api180_190_5', \n",
    "        FromSample(ds.samples_path,Magic(180,190,5))\n",
    "    )\n",
    "\n",
    "if ds.addFeature('api180_225_1'):\n",
    "    ds.setFeature('api180_225_1', \n",
    "        FromSample(ds.samples_path,Magic(180,225,1))\n",
    "    )"
   ]
  }
 ],
 "metadata": {
  "kernelspec": {
   "display_name": "Python 3",
   "language": "python",
   "name": "python3"
  },
  "language_info": {
   "codemirror_mode": {
    "name": "ipython",
    "version": 3
   },
   "file_extension": ".py",
   "mimetype": "text/x-python",
   "name": "python",
   "nbconvert_exporter": "python",
   "pygments_lexer": "ipython3",
   "version": "3.7.7"
  }
 },
 "nbformat": 4,
 "nbformat_minor": 4
}
