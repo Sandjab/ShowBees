{
 "cells": [
  {
   "cell_type": "code",
   "execution_count": 11,
   "metadata": {},
   "outputs": [],
   "source": [
    "import sqlite3\n",
    "import pickle\n",
    "import numpy as np\n",
    "\n",
    "sqlite3.register_adapter(list, pickle.dumps)\n",
    "sqlite3.register_adapter(set, pickle.dumps)\n",
    "sqlite3.register_adapter(dict, pickle.dumps)\n",
    "sqlite3.register_adapter(np.ndarray, pickle.dumps)\n",
    "sqlite3.register_converter(\"feature\", pickle.loads)\n",
    "\n",
    "\n",
    "db = sqlite3.connect(\"my.db\", detect_types=sqlite3.PARSE_DECLTYPES)\n",
    "\n",
    "c = db.cursor()\n",
    "\n",
    "c.execute(\"CREATE TABLE IF NOT EXISTS T(value feature)\")\n",
    "\n",
    "\n",
    "db.close()"
   ]
  },
  {
   "cell_type": "code",
   "execution_count": 12,
   "metadata": {},
   "outputs": [
    {
     "data": {
      "text/plain": [
       "array([[-452.69193, -455.08923, -466.46518, -480.28445, -477.4826 ,\n",
       "        -465.8347 , -463.05835, -463.48172, -460.48157, -457.7622 ,\n",
       "        -453.01703, -459.93237, -476.52795, -484.89096, -486.52045,\n",
       "        -485.5235 , -486.40564, -492.45282, -493.42245, -494.182  ,\n",
       "        -503.64307, -500.08875, -487.63   , -489.2316 , -506.24585,\n",
       "        -519.7111 , -518.30304, -504.3754 , -490.10233, -485.0911 ,\n",
       "        -492.0853 , -494.24274, -490.73175, -491.99396, -498.64368,\n",
       "        -494.61444, -493.4582 , -491.57574, -489.15005, -479.20657,\n",
       "        -475.81195, -480.81857, -484.78366, -490.73123],\n",
       "       [ 198.46909,  200.0479 ,  199.36531,  195.44127,  195.96677,\n",
       "         193.33176,  193.8792 ,  197.26573,  197.63016,  197.45801,\n",
       "         202.73645,  206.96974,  207.88089,  199.82538,  200.16168,\n",
       "         196.69708,  194.34424,  198.13005,  202.60513,  201.88545,\n",
       "         198.41425,  198.46327,  200.56671,  204.35332,  203.31627,\n",
       "         196.56085,  194.63307,  198.95172,  197.97853,  197.69595,\n",
       "         196.78183,  193.82704,  195.1289 ,  196.67426,  195.94354,\n",
       "         202.59102,  198.88568,  189.78986,  194.73915,  200.38828,\n",
       "         198.5223 ,  196.53256,  197.07733,  191.097  ]], dtype=float32)"
      ]
     },
     "execution_count": 12,
     "metadata": {},
     "output_type": "execute_result"
    }
   ],
   "source": [
    "import kilroy_was_here\n",
    "from lib.jupytools import mooltipath\n",
    "import sqlite3\n",
    "import pickle\n",
    "import librosa\n",
    "from pathlib import Path\n",
    "\n",
    "\n",
    "def process(sample_path):\n",
    "    s, sr = librosa.core.load(str(sample_path))\n",
    "    Melspec = librosa.feature.melspectrogram(s, sr=sr)\n",
    "    x = librosa.feature.mfcc(S=librosa.power_to_db(Melspec),sr=sr, n_mfcc = 2)    \n",
    "    return x\n",
    "\n",
    "o1 = {\"chiffres\": (0,1,2,3,4,5), \"couleurs\": ((\"R\", 0), (\"V\",1) , (\"B\",2))}\n",
    "\n",
    "x = process(mooltipath(\"datasets/MAIN1000/samples/00-000000.wav\"))\n",
    "\n",
    "db = sqlite3.connect(\"my.db\", detect_types=sqlite3.PARSE_DECLTYPES)\n",
    "\n",
    "c = db.cursor()\n",
    "\n",
    "\n",
    "y=[1,(2,3),4]\n",
    "\n",
    "c.execute(\"INSERT INTO T (value) VALUES(?)\", (x, ))\n",
    "\n",
    "db.commit()\n",
    "\n",
    "db.close()\n",
    "\n",
    "x"
   ]
  },
  {
   "cell_type": "code",
   "execution_count": 13,
   "metadata": {
    "scrolled": true
   },
   "outputs": [
    {
     "name": "stdout",
     "output_type": "stream",
     "text": [
      "(array([[-452.69193, -455.08923, -466.46518, -480.28445, -477.4826 ,\n",
      "        -465.8347 , -463.05835, -463.48172, -460.48157, -457.7622 ,\n",
      "        -453.01703, -459.93237, -476.52795, -484.89096, -486.52045,\n",
      "        -485.5235 , -486.40564, -492.45282, -493.42245, -494.182  ,\n",
      "        -503.64307, -500.08875, -487.63   , -489.2316 , -506.24585,\n",
      "        -519.7111 , -518.30304, -504.3754 , -490.10233, -485.0911 ,\n",
      "        -492.0853 , -494.24274, -490.73175, -491.99396, -498.64368,\n",
      "        -494.61444, -493.4582 , -491.57574, -489.15005, -479.20657,\n",
      "        -475.81195, -480.81857, -484.78366, -490.73123],\n",
      "       [ 198.46909,  200.0479 ,  199.36531,  195.44127,  195.96677,\n",
      "         193.33176,  193.8792 ,  197.26573,  197.63016,  197.45801,\n",
      "         202.73645,  206.96974,  207.88089,  199.82538,  200.16168,\n",
      "         196.69708,  194.34424,  198.13005,  202.60513,  201.88545,\n",
      "         198.41425,  198.46327,  200.56671,  204.35332,  203.31627,\n",
      "         196.56085,  194.63307,  198.95172,  197.97853,  197.69595,\n",
      "         196.78183,  193.82704,  195.1289 ,  196.67426,  195.94354,\n",
      "         202.59102,  198.88568,  189.78986,  194.73915,  200.38828,\n",
      "         198.5223 ,  196.53256,  197.07733,  191.097  ]], dtype=float32),)\n"
     ]
    }
   ],
   "source": [
    "import sqlite3\n",
    "import pickle\n",
    "from contextlib import closing\n",
    "\n",
    "with closing(sqlite3.connect(\"my.db\", detect_types=sqlite3.PARSE_DECLTYPES)) as db:\n",
    "    c = db.cursor()\n",
    "    c.execute(\"SELECT value FROM T\")\n",
    "    row =c.fetchone()\n",
    "\n",
    "print(row)"
   ]
  },
  {
   "cell_type": "code",
   "execution_count": 62,
   "metadata": {},
   "outputs": [],
   "source": [
    "db.close()"
   ]
  }
 ],
 "metadata": {
  "kernelspec": {
   "display_name": "Python 3",
   "language": "python",
   "name": "python3"
  },
  "language_info": {
   "codemirror_mode": {
    "name": "ipython",
    "version": 3
   },
   "file_extension": ".py",
   "mimetype": "text/x-python",
   "name": "python",
   "nbconvert_exporter": "python",
   "pygments_lexer": "ipython3",
   "version": "3.7.7"
  }
 },
 "nbformat": 4,
 "nbformat_minor": 4
}
