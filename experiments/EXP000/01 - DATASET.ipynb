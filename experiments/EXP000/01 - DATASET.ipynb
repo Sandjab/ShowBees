{
 "cells": [
  {
   "cell_type": "markdown",
   "metadata": {},
   "source": [
    "# Dataset Creation\n",
    "You should run this notebook only if you have not previoulsy created the dataset"
   ]
  },
  {
   "cell_type": "markdown",
   "metadata": {},
   "source": [
    "## Step 1: Initialization\n",
    "\n",
    "Here we create the dataset from a bunch of audio source files\n",
    "These files resampled and sliced into chunks, according to the parameters provided in the dataset manifest (sample rate, duration, overlap).\n",
    "\n",
    "A SQLite database is also created for the dataset, to persist any useful information. \n",
    "\n",
    "*Note: When multiprocessing, progress is not tracked in jupyter notebook, so you have to look at the console*"
   ]
  },
  {
   "cell_type": "code",
   "execution_count": 1,
   "metadata": {},
   "outputs": [
    {
     "name": "stdout",
     "output_type": "stream",
     "text": [
      "[2020-08-05/12:06:00.084|14.1%|71.6%|0.25GB] >>>>> Starting Dataset SMALL1005 build\n",
      "[2020-08-05/12:06:00.084|00.0%|71.6%|0.25GB] Creating database tables\n",
      "[2020-08-05/12:06:00.131|04.2%|71.6%|0.25GB] Ready to process 4 audio files.\n",
      "[2020-08-05/12:06:38.078|49.6%|64.7%|0.26GB] Creating Database\n",
      "[2020-08-05/12:06:38.105|62.5%|64.7%|0.26GB] Database created\n",
      "[2020-08-05/12:06:38.105|00.0%|64.7%|0.26GB] Please wait, computing checksum...\n",
      "[2020-08-05/12:06:39.774|28.1%|67.0%|0.26GB]   Computed checksum 628e97cd138dc7586883e3b33e41cb2b\n",
      "[2020-08-05/12:06:39.774|00.0%|67.0%|0.26GB]   Expected checksum 628e97cd138dc7586883e3b33e41cb2b\n",
      "[2020-08-05/12:06:39.774|00.0%|67.0%|0.26GB] Checksum OK!\n",
      "[2020-08-05/12:06:39.774|00.0%|67.0%|0.26GB] >>>>> Dataset SMALL1005 successfully created.\n"
     ]
    }
   ],
   "source": [
    "import warnings                            # This block prevents display of harmless warnings, but should be\n",
    "warnings.filterwarnings('ignore')          # commented out till the final version, to avoid missing \"real\" warnings \n",
    "\n",
    "import kilroy_was_here                     # Mandatory. Allow access to shared python code in the upper 'codelib' directory\n",
    "from lib.audiodataset import AudioDataset  # Class for audio dataset handling\n",
    "\n",
    "# Path where to find initial annotated dataset (audio and lab files)\n",
    "SOURCE_PATH ='D:/datasets/sounds/Nolasco'\n",
    "\n",
    "# Dataset name is the master key for dataset adressing\n",
    "DATASET_NAME = 'SMALL1005'\n",
    "\n",
    "# Initialize Dataset Object. By providing a source path, you implicitly \n",
    "# indicates that you want to CREATE the data set\n",
    "# Run with a pool of 4 processes\n",
    "ds = AudioDataset(DATASET_NAME, SOURCE_PATH, nprocs=4)\n",
    "\n"
   ]
  },
  {
   "cell_type": "markdown",
   "metadata": {},
   "source": [
    "\n",
    "**The following line provides some information about the newly created AudioDataset object**\n"
   ]
  },
  {
   "cell_type": "code",
   "execution_count": 3,
   "metadata": {
    "scrolled": false
   },
   "outputs": [
    {
     "name": "stdout",
     "output_type": "stream",
     "text": [
      "[2020-08-04/10:04:03.889|07.3%|64.2%|0.25GB] ------------------------------------------------------\n",
      "[2020-08-04/10:04:03.889|00.0%|64.2%|0.25GB] DATASET PATH          : D:\\Jupyter\\ShowBees\\datasets\\SMALL1005\n",
      "[2020-08-04/10:04:03.889|00.0%|64.2%|0.25GB] DATASET DB PATH       : D:\\Jupyter\\ShowBees\\datasets\\SMALL1005\\database.db\n",
      "[2020-08-04/10:04:03.889|00.0%|64.2%|0.25GB] DATASET SAMPLES PATH  : D:\\Jupyter\\ShowBees\\datasets\\SMALL1005\\samples\n",
      "[2020-08-04/10:04:03.889|00.0%|64.2%|0.25GB] NB SOURCE AUDIO FILES : 4\n",
      "[2020-08-04/10:04:03.894|00.0%|64.2%|0.25GB] SAMPLE RATE           : 22050\n",
      "[2020-08-04/10:04:03.894|00.0%|64.2%|0.25GB] DURATION              : 1.0\n",
      "[2020-08-04/10:04:03.896|00.0%|64.2%|0.25GB] OVERLAP               : 0.5\n",
      "[2020-08-04/10:04:03.896|00.0%|64.2%|0.25GB] NB AUDIO CHUNKS       : 4744\n",
      "[2020-08-04/10:04:03.896|00.0%|64.2%|0.25GB] ------------------------------------------------------\n"
     ]
    }
   ],
   "source": [
    "ds.info()"
   ]
  },
  {
   "cell_type": "markdown",
   "metadata": {},
   "source": [
    "## Step 2: Add Labels\n",
    "\n",
    "Here we add **labels** to our dataset samples. Labels can be set using various functions called ***Labelizers***, either builtin within the toolbox, or developped by the user (the toolbox provides utilities functions for Labelizer development)."
   ]
  },
  {
   "cell_type": "code",
   "execution_count": null,
   "metadata": {},
   "outputs": [],
   "source": [
    "from lib.labelizers import AnnotationFile\n",
    "ds.setLabels()"
   ]
  },
  {
   "cell_type": "markdown",
   "metadata": {},
   "source": [
    "## Step 3: Add Attributes\n",
    "\n",
    "Here we add **attributes** to our dataset samples. Attributes can be set using various functions called ***Attributors***, either builtin within the toolbox, or developped by the user (the toolbox provides utilities functions for Attributors development)"
   ]
  },
  {
   "cell_type": "code",
   "execution_count": null,
   "metadata": {},
   "outputs": [],
   "source": [
    "from lib.Attributors "
   ]
  },
  {
   "cell_type": "markdown",
   "metadata": {},
   "source": [
    "## Step 4: Next Steps\n",
    "\n",
    "We can also add **features** and **augmentations** to our dataset samples. Features (resp. augmentations) can be set using various functions called ***Featurizers*** (resp. ***Augmentators**). Both are either builtin within the toolbox, or developped by the user (the toolbox provides utilities functions for Featurizers and Augmentators development)."
   ]
  }
 ],
 "metadata": {
  "kernelspec": {
   "display_name": "Python 3",
   "language": "python",
   "name": "python3"
  },
  "language_info": {
   "codemirror_mode": {
    "name": "ipython",
    "version": 3
   },
   "file_extension": ".py",
   "mimetype": "text/x-python",
   "name": "python",
   "nbconvert_exporter": "python",
   "pygments_lexer": "ipython3",
   "version": "3.7.7"
  }
 },
 "nbformat": 4,
 "nbformat_minor": 4
}
