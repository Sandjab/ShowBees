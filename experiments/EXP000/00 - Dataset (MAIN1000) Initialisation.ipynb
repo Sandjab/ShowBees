{
 "cells": [
  {
   "cell_type": "code",
   "execution_count": 3,
   "metadata": {
    "scrolled": false
   },
   "outputs": [
    {
     "name": "stdout",
     "output_type": "stream",
     "text": [
      "[2020-08-10/11:58:20.050|06.5%|56.4%|0.03GB] Dataset creation. This may take up to 10 mn. Go grab a coffee.\n",
      "[2020-08-10/11:58:20.068|71.4%|56.3%|0.03GB] >>>>> Starting Dataset MAIN1000 build\n",
      "[2020-08-10/11:58:20.105|06.7%|56.3%|0.03GB] Starting to process 48 audio files.\n",
      "[2020-08-10/12:04:38.226|48.3%|51.7%|0.05GB] Creating Database\n",
      "[2020-08-10/12:04:38.311|25.6%|51.6%|0.05GB] Database created\n",
      "[2020-08-10/12:04:38.316|12.5%|51.6%|0.05GB] Please wait, computing checksum...\n",
      "[2020-08-10/12:04:47.363|11.9%|53.7%|0.05GB]   Computed checksum 964a87370f449298e0ef681efe6094bb\n",
      "[2020-08-10/12:04:47.364|00.0%|53.7%|0.05GB]   Expected checksum 1ba14f84b713fcaf1c7dccff8b1e36a7\n"
     ]
    },
    {
     "ename": "AssertionError",
     "evalue": "Computed MD5 checksum does not match manifest expected value.",
     "output_type": "error",
     "traceback": [
      "\u001b[1;31m---------------------------------------------------------------------------\u001b[0m",
      "\u001b[1;31mAssertionError\u001b[0m                            Traceback (most recent call last)",
      "\u001b[1;32m<ipython-input-3-f06c8d754ae7>\u001b[0m in \u001b[0;36m<module>\u001b[1;34m\u001b[0m\n\u001b[0;32m     22\u001b[0m     \u001b[1;31m# Run with a pool of 4 processes\u001b[0m\u001b[1;33m\u001b[0m\u001b[1;33m\u001b[0m\u001b[1;33m\u001b[0m\u001b[0m\n\u001b[0;32m     23\u001b[0m     \u001b[0miprint\u001b[0m\u001b[1;33m(\u001b[0m\u001b[1;34m\"Dataset creation. This may take up to 10 mn. Go grab a coffee.\"\u001b[0m\u001b[1;33m)\u001b[0m\u001b[1;33m\u001b[0m\u001b[1;33m\u001b[0m\u001b[0m\n\u001b[1;32m---> 24\u001b[1;33m     \u001b[0mds\u001b[0m \u001b[1;33m=\u001b[0m \u001b[0mAudioDataset\u001b[0m\u001b[1;33m(\u001b[0m\u001b[0mDATASET_NAME\u001b[0m\u001b[1;33m,\u001b[0m \u001b[0mSOURCE_PATH\u001b[0m\u001b[1;33m,\u001b[0m \u001b[0mnprocs\u001b[0m\u001b[1;33m=\u001b[0m\u001b[1;36m4\u001b[0m\u001b[1;33m)\u001b[0m\u001b[1;33m\u001b[0m\u001b[1;33m\u001b[0m\u001b[0m\n\u001b[0m\u001b[0;32m     25\u001b[0m \u001b[1;33m\u001b[0m\u001b[0m\n\u001b[0;32m     26\u001b[0m \u001b[1;32mexcept\u001b[0m \u001b[0mFileExistsError\u001b[0m\u001b[1;33m:\u001b[0m\u001b[1;33m\u001b[0m\u001b[1;33m\u001b[0m\u001b[0m\n",
      "\u001b[1;32mD:\\Jupyter\\ShowBees\\audace\\audiodataset.py\u001b[0m in \u001b[0;36m__init__\u001b[1;34m(self, dataset_name, source_path_str, nprocs)\u001b[0m\n\u001b[0;32m    144\u001b[0m             \u001b[1;31m# Compute md5 checksum and check it agains manifest expected value\u001b[0m\u001b[1;33m\u001b[0m\u001b[1;33m\u001b[0m\u001b[1;33m\u001b[0m\u001b[0m\n\u001b[0;32m    145\u001b[0m             \u001b[0mself\u001b[0m\u001b[1;33m.\u001b[0m\u001b[0m_is_valid\u001b[0m\u001b[1;33m(\u001b[0m\u001b[0mmd5\u001b[0m\u001b[1;33m)\u001b[0m\u001b[1;33m\u001b[0m\u001b[1;33m\u001b[0m\u001b[0m\n\u001b[1;32m--> 146\u001b[1;33m             \u001b[1;31m# assert self._is_valid(\u001b[0m\u001b[1;33m\u001b[0m\u001b[1;33m\u001b[0m\u001b[1;33m\u001b[0m\u001b[0m\n\u001b[0m\u001b[0;32m    147\u001b[0m             \u001b[1;31m#     md5\u001b[0m\u001b[1;33m\u001b[0m\u001b[1;33m\u001b[0m\u001b[1;33m\u001b[0m\u001b[0m\n\u001b[0;32m    148\u001b[0m             \u001b[1;31m# ),\"Computed MD5 checksum does not match manifest expected value.\"\u001b[0m\u001b[1;33m\u001b[0m\u001b[1;33m\u001b[0m\u001b[1;33m\u001b[0m\u001b[0m\n",
      "\u001b[1;31mAssertionError\u001b[0m: Computed MD5 checksum does not match manifest expected value."
     ]
    }
   ],
   "source": [
    "import warnings                            # This block prevents display of harmless warnings, but should be\n",
    "warnings.filterwarnings('ignore')          # commented out till the final version, to avoid missing \"real\" warnings\n",
    "\n",
    "import kilroy_was_here                        # Mandatory. Allow access to shared python code from repository root\n",
    "from audace.jupytools import iprint           # timstamped (to the ms) print with CPU and RAM consumption information\n",
    "from audace.audiodataset import AudioDataset  # Class for audio dataset handling\n",
    "from audace import providers\n",
    "from audace import transformers\n",
    "from audace import featurizers\n",
    "\n",
    "\n",
    "# Path where to find initial annotated dataset (audio and lab files)\n",
    "SOURCE_PATH ='/Users/jpg/Documents/Nolasco'\n",
    "\n",
    "# Dataset name is the master key for dataset adressing\n",
    "DATASET_NAME = 'MAIN1000'\n",
    "\n",
    "# Initialize Dataset Object. \n",
    "try:\n",
    "    #By providing a source path,we implicitly indicates that you want to CREATE the data set.\n",
    "    # Run with a pool of 4 processes\n",
    "    iprint(\"Dataset creation. This may take up to 10 mn. Go grab a coffee.\")\n",
    "    ds = AudioDataset(DATASET_NAME, SOURCE_PATH, nprocs=4)\n",
    "    \n",
    "except FileExistsError:\n",
    "    # To allow rerun, we catch the exception in case the dataset was already created.\n",
    "    # Ideally, you should create the dataset once for all in a dedicated notebook,\n",
    "    # and then retrieve it from other notebooks when needed\n",
    "    # Here, by not providing a source path, we implicitly express the intent of RETRIEVING\n",
    "    # an existing dataset rather than CREATING a new one\n",
    "    iprint(\"Failing back to existing dataset retrieval\")\n",
    "    ds = AudioDataset(DATASET_NAME)\n",
    "    iprint(\"Dataset retrieved\")\n",
    "    \n",
    "# The following line provides some information about the newly created (or retrived) AudioDataset object    \n",
    "ds.info()\n",
    "\n",
    "ds.addLabel(\"nobee\")\n",
    "ds.addLabel(\"queen\")\n",
    "\n",
    "# The \"queen\" label value is deduced from the source file name, using a StringMapper transformer\n",
    "# This transformer iterates over a list 2-uples (regular expression, target value) and return\n",
    "# the target value as soon as a match is found. Thus, you must order your list from stricter to looser\n",
    "trsfrm_queen = transformers.StringMapper(\n",
    "        [('(?i)active', 1), \n",
    "         ('(?i)missing queen', 0),\n",
    "         ('NO_QueenBee', 0),\n",
    "         ('QueenBee', 1)     \n",
    "        ])\n",
    "\n",
    "# The transformer is then used over the source filenames, using the FromFileName labelizer\n",
    "# This labelizer does not provide label strength.\n",
    "\n",
    "n = ds.setLabel('queen', providers.FromFileName(trsfrm_queen))\n",
    "iprint(n, \"samples where processed for 'queen' label\")\n",
    "\n",
    "# The \"nobee\" label value comes from annotation files, (.lab files using the same base name as the audio\n",
    "# source file they annotate), using the FromAnnotation labelizer, with no transformation.\n",
    "# This labelizer takes 2 arguments:\n",
    "# - a mandatory source path, pointing to the directory where the .lab files reside\n",
    "# - an optional threshold, allowing to disregard any \"label\" event with a duration under this treshold\n",
    "# The label strength over a sample is computed by summing the duration of \"label\" events (if > th) and dividing\n",
    "# this sum by the sample duration.\n",
    "\n",
    "# Here we use a 0.5s threshold\n",
    "n = ds.setLabel('nobee', providers.FromAnnotation(SOURCE_PATH, th=0.5))\n",
    "iprint(n, \"samples where processed for 'nobee' label\")\n",
    "\n",
    "#The string matcher transformer behave differently than the StringMapper. It uses regexp\n",
    "# capture group to retrieve part pf a string matching a specific pattern. This can be used\n",
    "# either for complex or very basic matching. Here we just ask for the five first chars,\n",
    "# provided they belong to characters valid for identifiers (A-Z, a-z,0-9 and underscore)\n",
    "ds.addAttribute('hive')\n",
    "ds.setAttribute('hive', providers.FromFileName(transformers.StringMatcher(\"^(\\w{5})\")))\n",
    "\n",
    "# Display dataset as a pandas dataframe\n",
    "#ds.dumpDataFrame()"
   ]
  },
  {
   "cell_type": "code",
   "execution_count": 2,
   "metadata": {},
   "outputs": [
    {
     "data": {
      "text/plain": [
       "24"
      ]
     },
     "execution_count": 2,
     "metadata": {},
     "output_type": "execute_result"
    }
   ],
   "source": [
    "import gc\n",
    "gc.collect()"
   ]
  },
  {
   "cell_type": "code",
   "execution_count": 2,
   "metadata": {},
   "outputs": [
    {
     "data": {
      "application/vnd.jupyter.widget-view+json": {
       "model_id": "aff078e2b63946eca286b5132591a99d",
       "version_major": 2,
       "version_minor": 0
      },
      "text/plain": [
       "HBox(children=(FloatProgress(value=0.0, description='Computing MFCC', max=24788.0, style=ProgressStyle(descrip…"
      ]
     },
     "metadata": {},
     "output_type": "display_data"
    },
    {
     "name": "stdout",
     "output_type": "stream",
     "text": [
      "\n"
     ]
    },
    {
     "data": {
      "text/plain": [
       "24788"
      ]
     },
     "execution_count": 2,
     "metadata": {},
     "output_type": "execute_result"
    }
   ],
   "source": [
    "ds.addFeature('MFCC')\n",
    "ds.setFeature('MFCC', providers.FromSample(ds.samples_path, featurizers.MFCC(n_mfcc=20)))"
   ]
  }
 ],
 "metadata": {
  "kernelspec": {
   "display_name": "Python 3",
   "language": "python",
   "name": "python3"
  },
  "language_info": {
   "codemirror_mode": {
    "name": "ipython",
    "version": 3
   },
   "file_extension": ".py",
   "mimetype": "text/x-python",
   "name": "python",
   "nbconvert_exporter": "python",
   "pygments_lexer": "ipython3",
   "version": "3.7.7"
  }
 },
 "nbformat": 4,
 "nbformat_minor": 4
}
