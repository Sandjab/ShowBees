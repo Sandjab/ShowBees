{
 "cells": [
  {
   "cell_type": "code",
   "execution_count": 1,
   "metadata": {},
   "outputs": [
    {
     "name": "stdout",
     "output_type": "stream",
     "text": [
      "created schema\n",
      "created object\n",
      "(1, [1, 2, 3], {1, 2, 3})\n",
      "(1, [1, 2, 3], {1, 2, 3})\n",
      "saved object\n"
     ]
    }
   ],
   "source": [
    "import sqlite3\n",
    "import pickle\n",
    "\n",
    "protocol = 0\n",
    "sqlite3.register_converter(\"pickle\", pickle.loads)\n",
    "sqlite3.register_adapter(list, pickle.dumps)\n",
    "sqlite3.register_adapter(set, pickle.dumps)\n",
    "\n",
    "\n",
    "\n",
    "table_name    = \"articles\"\n",
    "insert_string = \"INSERT into %s values (?, ?, ?)\" % (table_name)\n",
    "update_string = \"UPDATE %s SET lines=?, parents=? WHERE id=?\" % (table_name)\n",
    "select_string = \"SELECT id, lines, parents FROM %s WHERE id=?\" % (table_name)\n",
    "\n",
    "def create_schema(cursor):\n",
    "    try:\n",
    "        cursor.execute(\"\"\"\n",
    "            CREATE TABLE %s (\n",
    "                id    integer primary key not null,\n",
    "                lines pickle,\n",
    "                parents pickle\n",
    "                )\"\"\" % (table_name))\n",
    "    except sqlite3.OperationalError:\n",
    "        pass\n",
    "\n",
    "def insert_into_db(cursor, obj):\n",
    "    try:\n",
    "        cursor.execute(\n",
    "            insert_string,\n",
    "            obj\n",
    "        )\n",
    "    except sqlite3.IntegrityError:\n",
    "        print(\"Duplicate key\")\n",
    "    conn.commit()\n",
    "\n",
    "\n",
    "def update_in_db(cursor, obj):\n",
    "    cursor.execute(update_string,\n",
    "        obj\n",
    "    )\n",
    "\n",
    "def get_obj_from_db(cursor, key):\n",
    "    cursor.execute(select_string, (key))\n",
    "    data = cursor.fetchone()\n",
    "    return data\n",
    "\n",
    "\n",
    "conn = sqlite3.connect('example.db', detect_types=sqlite3.PARSE_DECLTYPES)\n",
    "c = conn.cursor()\n",
    "\n",
    "create_schema(c)\n",
    "\n",
    "print(\"created schema\")\n",
    "\n",
    "key = 1\n",
    "\n",
    "some_object = (key, [1,2,3], set([1,2,3]))\n",
    "\n",
    "print(\"created object\")\n",
    "\n",
    "insert_into_db(c, some_object)\n",
    "\n",
    "print( get_obj_from_db(c, (key,)))\n",
    "\n",
    "update_in_db(c, (key, [1,2,4], set([1,2,3])) )\n",
    "\n",
    "print( get_obj_from_db(c, (key,)) )\n",
    "\n",
    "print(\"saved object\")"
   ]
  }
 ],
 "metadata": {
  "kernelspec": {
   "display_name": "Python 3",
   "language": "python",
   "name": "python3"
  },
  "language_info": {
   "codemirror_mode": {
    "name": "ipython",
    "version": 3
   },
   "file_extension": ".py",
   "mimetype": "text/x-python",
   "name": "python",
   "nbconvert_exporter": "python",
   "pygments_lexer": "ipython3",
   "version": "3.7.7"
  }
 },
 "nbformat": 4,
 "nbformat_minor": 4
}
