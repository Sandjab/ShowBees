{
 "cells": [
  {
   "cell_type": "markdown",
   "metadata": {},
   "source": [
    "Retrieve Dataset"
   ]
  },
  {
   "cell_type": "code",
   "execution_count": 2,
   "metadata": {},
   "outputs": [
    {
     "name": "stdout",
     "output_type": "stream",
     "text": [
      "[2020-08-05/15:27:12.534|04.2%|70.1%|0.25GB] ------------------------------------------------------\n",
      "[2020-08-05/15:27:12.534|00.0%|70.1%|0.25GB] DATASET PATH          : D:\\Jupyter\\ShowBees\\datasets\\SMALL1005\n",
      "[2020-08-05/15:27:12.535|00.0%|70.1%|0.25GB] DATASET DB PATH       : D:\\Jupyter\\ShowBees\\datasets\\SMALL1005\\database.db\n",
      "[2020-08-05/15:27:12.535|00.0%|70.1%|0.25GB] DATASET SAMPLES PATH  : D:\\Jupyter\\ShowBees\\datasets\\SMALL1005\\samples\n",
      "[2020-08-05/15:27:12.535|00.0%|70.1%|0.25GB] NB SOURCE AUDIO FILES : 4\n",
      "[2020-08-05/15:27:12.535|00.0%|70.1%|0.25GB] SAMPLE RATE           : 22050\n",
      "[2020-08-05/15:27:12.535|00.0%|70.1%|0.25GB] DURATION              : 1.0\n",
      "[2020-08-05/15:27:12.536|00.0%|70.1%|0.25GB] OVERLAP               : 0.5\n",
      "[2020-08-05/15:27:12.536|00.0%|70.1%|0.25GB] NB AUDIO CHUNKS       : 4744\n",
      "[2020-08-05/15:27:12.536|00.0%|70.1%|0.25GB] ------------------------------------------------------\n"
     ]
    }
   ],
   "source": [
    "import warnings                            # This block prevents display of harmless warnings, but should be\n",
    "warnings.filterwarnings('ignore')          # commented out till the final version, to avoid missing \"real\" warnings \n",
    "import kilroy_was_here                     # Mandatory. Allow access to shared python code in the upper 'lib' directory\n",
    "from lib.audiodataset import AudioDataset  # Class for audio dataset handling\n",
    "from lib.attributors import addAttr\n",
    "\n",
    "# Dataset name is the master key for dataset adressing\n",
    "DATASET_NAME = 'SMALL1005'\n",
    "\n",
    "# Initialize Dataset Object. By NOT providing a source path, you implicitly express\n",
    "# express the intent of RETRIEVING an existing dataset rather than CREATING a new one\n",
    "ds = AudioDataset(DATASET_NAME)\n",
    "\n",
    "ds.info()"
   ]
  },
  {
   "cell_type": "code",
   "execution_count": 2,
   "metadata": {
    "scrolled": true
   },
   "outputs": [
    {
     "name": "stdout",
     "output_type": "stream",
     "text": [
      "[2020-08-04/10:10:31.078|08.2%|68.0%|0.25GB] ------------------------------------------------------\n",
      "[2020-08-04/10:10:31.078|00.0%|68.0%|0.25GB] DATASET PATH          : D:\\Jupyter\\ShowBees\\datasets\\SMALL1005\n",
      "[2020-08-04/10:10:31.079|00.0%|68.0%|0.25GB] DATASET DB PATH       : D:\\Jupyter\\ShowBees\\datasets\\SMALL1005\\database.db\n",
      "[2020-08-04/10:10:31.079|00.0%|68.0%|0.25GB] DATASET SAMPLES PATH  : D:\\Jupyter\\ShowBees\\datasets\\SMALL1005\\samples\n",
      "[2020-08-04/10:10:31.080|00.0%|68.0%|0.25GB] NB SOURCE AUDIO FILES : 4\n",
      "[2020-08-04/10:10:31.080|00.0%|68.0%|0.25GB] SAMPLE RATE           : 22050\n",
      "[2020-08-04/10:10:31.081|00.0%|68.0%|0.25GB] DURATION              : 1.0\n",
      "[2020-08-04/10:10:31.082|00.0%|68.0%|0.25GB] OVERLAP               : 0.5\n",
      "[2020-08-04/10:10:31.082|00.0%|68.0%|0.25GB] NB AUDIO CHUNKS       : 4744\n",
      "[2020-08-04/10:10:31.083|00.0%|68.0%|0.25GB] ------------------------------------------------------\n"
     ]
    }
   ],
   "source": [
    "addAttr(ds, 'myAttr', fromFileName, )"
   ]
  },
  {
   "cell_type": "code",
   "execution_count": 1,
   "metadata": {
    "scrolled": true
   },
   "outputs": [],
   "source": [
    "import re\n",
    "import sqlite3\n",
    "\n",
    "\n",
    "def setAttr(_ds_, name, attributor, source):\n",
    "    with sqlite3.connect(_ds_.db_path) as db:\n",
    "        sql = source.format(name)\n",
    "        db.create_function(\"transform\", 1, attributor)\n",
    "        c = db.cursor()\n",
    "        c.execute(sql)\n",
    "        rows = c.fetchall()\n",
    "           \n",
    "        c.executemany(\n",
    "            \"INSERT OR REPLACE INTO attributes (sample_id, name, value) VALUES (?,?,?)\",\n",
    "            rows)\n",
    "        \n",
    "        db.commit()\n",
    "        \n",
    "\n",
    "def getAttrNames(_ds_):\n",
    "    with sqlite3.connect(_ds_.db_path) as db:\n",
    "        sql = \"SELECT DISTINCT name from attributes\"\n",
    "        c = db.cursor()\n",
    "        c.execute(sql)\n",
    "        rows = c.fetchall()  \n",
    "        result = [row[0] for row in rows]\n",
    "        return result        \n",
    "  \n",
    "        \n",
    "        \n",
    "def getLabelSerie(_ds_, name, fields):\n",
    "    with sqlite3.connect(_ds_.db_path) as db:\n",
    "        sql = f\"SELECT {', '.join(fields)} from labels where name = '{name}'\"\n",
    "        print(sql)\n",
    "        c = db.cursor()\n",
    "        c.execute(sql)\n",
    "        rows = c.fetchall()\n",
    "        return rows\n",
    "\n",
    "    \n",
    "def getAttrSerie(_ds_, name):\n",
    "    with sqlite3.connect(_ds_.db_path) as db:\n",
    "        sql = f\"SELECT value from attributes where name = '{name}'\"\n",
    "        c = db.cursor()\n",
    "        c.execute(sql)\n",
    "        rows = c.fetchall()\n",
    "        result = [row[0] for row in rows]\n",
    "        return result     \n",
    "    \n",
    "      "
   ]
  },
  {
   "cell_type": "code",
   "execution_count": 3,
   "metadata": {
    "scrolled": false
   },
   "outputs": [
    {
     "name": "stdout",
     "output_type": "stream",
     "text": [
      "[2020-08-05/17:36:14.408|05.2%|77.2%|0.26GB] [2] Hive1_12_06_2018_QueenBee_H1_audio___15_00_00.wav\n",
      "[2020-08-05/17:36:14.652|14.2%|77.2%|0.26GB] [3] Hive1_31_05_2018_NO_QueenBee_H1_audio___15_00_00.wav\n",
      "[2020-08-05/17:36:14.936|14.1%|77.2%|0.26GB] [4] Hive3_15_07_2017_NO_QueenBee_H3_audio___06_10_00.wav\n",
      "[2020-08-05/17:36:15.168|12.2%|76.9%|0.26GB] [5] Hive3_20_07_2017_QueenBee_H3_audio___06_10_00.wav\n"
     ]
    },
    {
     "data": {
      "text/plain": [
       "4744"
      ]
     },
     "execution_count": 3,
     "metadata": {},
     "output_type": "execute_result"
    }
   ],
   "source": [
    "import warnings\n",
    "warnings.filterwarnings('ignore')\n",
    "import sqlite3\n",
    "import kilroy_was_here\n",
    "from lib.audiodataset import AudioDataset \n",
    "from lib.labelizers import FromFileName, FromAnnotation\n",
    "from lib.transformers import StringMapper, StringMatcher\n",
    " \n",
    "\n",
    "# Dataset name is the master key for dataset adressing\n",
    "DATASET_NAME = 'SMALL1005'\n",
    "SOURCE_PATH ='D:/datasets/sounds/Nolasco'\n",
    "\n",
    "ds = AudioDataset(DATASET_NAME)\n",
    "\n",
    "trsfrm_queen = StringMapper(\n",
    "        [('(?i)active', 1), \n",
    "         ('(?i)missing queen', 0),\n",
    "         ('NO_QueenBee', 0),\n",
    "         ('QueenBee', 1)     \n",
    "        ])\n",
    "\n",
    "trsfrm_hive = StringMatcher(\"^(\\w{5})\")\n",
    "\n",
    "ds.setLabel('queen', FromFileName(trsfrm_queen))\n",
    "\n",
    "\n",
    "ds.setLabel('nobee', FromAnnotation(SOURCE_PATH))\n",
    "\n",
    "ds.setAttr('hive', FromFileName(trsfrm_hive))\n",
    "\n",
    "\n",
    "\n",
    "\n"
   ]
  },
  {
   "cell_type": "code",
   "execution_count": 3,
   "metadata": {},
   "outputs": [
    {
     "name": "stdout",
     "output_type": "stream",
     "text": [
      "4744\n",
      "4744\n",
      "0\n"
     ]
    }
   ],
   "source": [
    "print(ds.dropLabel('queen'))\n",
    "print(ds.dropLabel('nobee'))\n",
    "print(ds.dropLabel('Prout'))"
   ]
  }
 ],
 "metadata": {
  "kernelspec": {
   "display_name": "Python 3",
   "language": "python",
   "name": "python3"
  },
  "language_info": {
   "codemirror_mode": {
    "name": "ipython",
    "version": 3
   },
   "file_extension": ".py",
   "mimetype": "text/x-python",
   "name": "python",
   "nbconvert_exporter": "python",
   "pygments_lexer": "ipython3",
   "version": "3.7.7"
  }
 },
 "nbformat": 4,
 "nbformat_minor": 4
}
