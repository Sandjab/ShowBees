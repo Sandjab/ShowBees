{
 "cells": [
  {
   "cell_type": "code",
   "execution_count": 1,
   "metadata": {
    "scrolled": true
   },
   "outputs": [
    {
     "name": "stdout",
     "output_type": "stream",
     "text": [
      "[2020-08-09/19:27:27.600|15.9%|71.5%|0.26GB] Dataset database file does not exist.\n",
      "[2020-08-09/19:27:27.601|00.0%|71.5%|0.26GB] Please insure that the dataset name is correct and\n",
      "[2020-08-09/19:27:27.601|00.0%|71.5%|0.26GB] that the dataset has been previously created.\n",
      "[2020-08-09/19:27:27.601|00.0%|71.5%|0.26GB] ### ABORTING! ###\n"
     ]
    },
    {
     "ename": "FileNotFoundError",
     "evalue": "Dataset database not found",
     "output_type": "error",
     "traceback": [
      "\u001b[1;31m---------------------------------------------------------------------------\u001b[0m",
      "\u001b[1;31mFileNotFoundError\u001b[0m                         Traceback (most recent call last)",
      "\u001b[1;32m<ipython-input-1-6184263f29aa>\u001b[0m in \u001b[0;36m<module>\u001b[1;34m\u001b[0m\n\u001b[0;32m     11\u001b[0m \u001b[1;33m\u001b[0m\u001b[0m\n\u001b[0;32m     12\u001b[0m \u001b[1;31m# Initialize Dataset Object.\u001b[0m\u001b[1;33m\u001b[0m\u001b[1;33m\u001b[0m\u001b[1;33m\u001b[0m\u001b[0m\n\u001b[1;32m---> 13\u001b[1;33m \u001b[0mds\u001b[0m \u001b[1;33m=\u001b[0m \u001b[0mAudioDataset\u001b[0m\u001b[1;33m(\u001b[0m\u001b[0mDATASET_NAME\u001b[0m\u001b[1;33m)\u001b[0m\u001b[1;33m\u001b[0m\u001b[1;33m\u001b[0m\u001b[0m\n\u001b[0m\u001b[0;32m     14\u001b[0m \u001b[1;33m\u001b[0m\u001b[0m\n\u001b[0;32m     15\u001b[0m \u001b[1;31m# The following line provides some information about the newly created (or retrived) AudioDataset object\u001b[0m\u001b[1;33m\u001b[0m\u001b[1;33m\u001b[0m\u001b[1;33m\u001b[0m\u001b[0m\n",
      "\u001b[1;32mD:\\Jupyter\\ShowBees\\lib\\audiodataset.py\u001b[0m in \u001b[0;36m__init__\u001b[1;34m(self, dataset_name, source_path_str, nprocs)\u001b[0m\n\u001b[0;32m     72\u001b[0m                 \u001b[0miprint\u001b[0m\u001b[1;33m(\u001b[0m\u001b[1;34m\"that the dataset has been previously created.\"\u001b[0m\u001b[1;33m)\u001b[0m\u001b[1;33m\u001b[0m\u001b[1;33m\u001b[0m\u001b[0m\n\u001b[0;32m     73\u001b[0m                 \u001b[0miprint\u001b[0m\u001b[1;33m(\u001b[0m\u001b[1;34m\"### ABORTING! ###\"\u001b[0m\u001b[1;33m)\u001b[0m\u001b[1;33m\u001b[0m\u001b[1;33m\u001b[0m\u001b[0m\n\u001b[1;32m---> 74\u001b[1;33m                 \u001b[1;32mraise\u001b[0m \u001b[0mFileNotFoundError\u001b[0m\u001b[1;33m(\u001b[0m\u001b[1;34m\"Dataset database not found\"\u001b[0m\u001b[1;33m)\u001b[0m\u001b[1;33m\u001b[0m\u001b[1;33m\u001b[0m\u001b[0m\n\u001b[0m\u001b[0;32m     75\u001b[0m \u001b[1;33m\u001b[0m\u001b[0m\n\u001b[0;32m     76\u001b[0m             \u001b[1;31m# else retrieve dataset configuration from db\u001b[0m\u001b[1;33m\u001b[0m\u001b[1;33m\u001b[0m\u001b[1;33m\u001b[0m\u001b[0m\n",
      "\u001b[1;31mFileNotFoundError\u001b[0m: Dataset database not found"
     ]
    }
   ],
   "source": [
    "import warnings                            # This block prevents display of harmless warnings, but should be\n",
    "warnings.filterwarnings('ignore')          # commented out till the final version, to avoid missing \"real\" warnings \n",
    "\n",
    "import kilroy_was_here                     # Mandatory. Allow access to shared python code from repository root\n",
    "from audace.jupytools import iprint           # timstamped (to the ms) print with CPU and RAM consumption information\n",
    "from audace.audiodataset import AudioDataset  # Class for audio dataset handling\n",
    "\n",
    "\n",
    "# Dataset name is the master key for dataset adressing\n",
    "DATASET_NAME = 'MAIN1000'\n",
    "\n",
    "# Initialize Dataset Object. \n",
    "ds = AudioDataset(DATASET_NAME)\n",
    "    \n",
    "# The following line provides some information about the newly created (or retrived) AudioDataset object    \n",
    "ds.info()\n"
   ]
  },
  {
   "cell_type": "code",
   "execution_count": 2,
   "metadata": {
    "scrolled": false
   },
   "outputs": [
    {
     "data": {
      "text/html": [
       "<div>\n",
       "<style scoped>\n",
       "    .dataframe tbody tr th:only-of-type {\n",
       "        vertical-align: middle;\n",
       "    }\n",
       "\n",
       "    .dataframe tbody tr th {\n",
       "        vertical-align: top;\n",
       "    }\n",
       "\n",
       "    .dataframe thead th {\n",
       "        text-align: right;\n",
       "    }\n",
       "</style>\n",
       "<table border=\"1\" class=\"dataframe\">\n",
       "  <thead>\n",
       "    <tr style=\"text-align: right;\">\n",
       "      <th></th>\n",
       "      <th>rowid</th>\n",
       "      <th>name</th>\n",
       "      <th>queen</th>\n",
       "    </tr>\n",
       "  </thead>\n",
       "  <tbody>\n",
       "    <tr>\n",
       "      <th>0</th>\n",
       "      <td>1</td>\n",
       "      <td>00-000000</td>\n",
       "      <td>0.0</td>\n",
       "    </tr>\n",
       "    <tr>\n",
       "      <th>1</th>\n",
       "      <td>2</td>\n",
       "      <td>00-000001</td>\n",
       "      <td>0.0</td>\n",
       "    </tr>\n",
       "    <tr>\n",
       "      <th>2</th>\n",
       "      <td>3</td>\n",
       "      <td>00-000002</td>\n",
       "      <td>0.0</td>\n",
       "    </tr>\n",
       "    <tr>\n",
       "      <th>3</th>\n",
       "      <td>4</td>\n",
       "      <td>00-000003</td>\n",
       "      <td>0.0</td>\n",
       "    </tr>\n",
       "    <tr>\n",
       "      <th>4</th>\n",
       "      <td>5</td>\n",
       "      <td>00-000004</td>\n",
       "      <td>0.0</td>\n",
       "    </tr>\n",
       "    <tr>\n",
       "      <th>...</th>\n",
       "      <td>...</td>\n",
       "      <td>...</td>\n",
       "      <td>...</td>\n",
       "    </tr>\n",
       "    <tr>\n",
       "      <th>17269</th>\n",
       "      <td>24780</td>\n",
       "      <td>47-000583</td>\n",
       "      <td>1.0</td>\n",
       "    </tr>\n",
       "    <tr>\n",
       "      <th>17270</th>\n",
       "      <td>24781</td>\n",
       "      <td>47-000584</td>\n",
       "      <td>1.0</td>\n",
       "    </tr>\n",
       "    <tr>\n",
       "      <th>17271</th>\n",
       "      <td>24782</td>\n",
       "      <td>47-000585</td>\n",
       "      <td>1.0</td>\n",
       "    </tr>\n",
       "    <tr>\n",
       "      <th>17272</th>\n",
       "      <td>24783</td>\n",
       "      <td>47-000586</td>\n",
       "      <td>1.0</td>\n",
       "    </tr>\n",
       "    <tr>\n",
       "      <th>17273</th>\n",
       "      <td>24784</td>\n",
       "      <td>47-000587</td>\n",
       "      <td>1.0</td>\n",
       "    </tr>\n",
       "  </tbody>\n",
       "</table>\n",
       "<p>17274 rows × 3 columns</p>\n",
       "</div>"
      ],
      "text/plain": [
       "       rowid       name  queen\n",
       "0          1  00-000000    0.0\n",
       "1          2  00-000001    0.0\n",
       "2          3  00-000002    0.0\n",
       "3          4  00-000003    0.0\n",
       "4          5  00-000004    0.0\n",
       "...      ...        ...    ...\n",
       "17269  24780  47-000583    1.0\n",
       "17270  24781  47-000584    1.0\n",
       "17271  24782  47-000585    1.0\n",
       "17272  24783  47-000586    1.0\n",
       "17273  24784  47-000587    1.0\n",
       "\n",
       "[17274 rows x 3 columns]"
      ]
     },
     "execution_count": 2,
     "metadata": {},
     "output_type": "execute_result"
    }
   ],
   "source": [
    "df =ds.queryDataFrame(\"select rowid, name, queen from samples where nobee = 0\")\n",
    "df"
   ]
  },
  {
   "cell_type": "code",
   "execution_count": null,
   "metadata": {},
   "outputs": [],
   "source": [
    "# Iterating over one column - `f` is some function that processes your data\n",
    "result = [f(x) for x in df['col']]\n",
    "# Iterating over two columns, use `zip`\n",
    "result = [f(x, y) for x, y in zip(df['col1'], df['col2'])]\n",
    "# Iterating over multiple columns - same data type\n",
    "result = [f(row[0], ..., row[n]) for row in df[['col1', ...,'coln']].to_numpy()]\n",
    "# Iterating over multiple columns - differing data type\n",
    "result = [f(row[0], ..., row[n]) for row in zip(df['col1'], ..., df['coln'])]\n",
    "\n",
    "for index, row in df.iterrows():\n",
    "    print(row['name'])"
   ]
  },
  {
   "cell_type": "code",
   "execution_count": 4,
   "metadata": {
    "scrolled": false
   },
   "outputs": [
    {
     "data": {
      "application/vnd.jupyter.widget-view+json": {
       "model_id": "ba7ea9a20e154d0a896e1a6ea8419b6f",
       "version_major": 2,
       "version_minor": 0
      },
      "text/plain": [
       "HBox(children=(FloatProgress(value=0.0, description='CHUNK', max=499.0, style=ProgressStyle(description_width=…"
      ]
     },
     "metadata": {},
     "output_type": "display_data"
    },
    {
     "name": "stdout",
     "output_type": "stream",
     "text": [
      "\n"
     ]
    }
   ],
   "source": [
    "import librosa\n",
    "from pathlib import Path\n",
    "from tqdm.auto import tqdm\n",
    "def process(id, sample_path):\n",
    "    #if (id % 1000 == 0):\n",
    "    #    iprint(sample_path)        \n",
    "    s, sr = librosa.core.load(str(sample_path))\n",
    "    \n",
    "    \n",
    "    Melspec = librosa.feature.melspectrogram(s, sr=sr)\n",
    "    x = librosa.feature.mfcc(S=librosa.power_to_db(Melspec),sr=sr, n_mfcc = 20)    \n",
    "    return (id, x)\n",
    "\n",
    "df1 = df[1:500]\n",
    "\n",
    "result = [process(index,Path(ds.samples_path,name + '.wav'))\n",
    "         for index,name in tqdm(zip(df1['rowid'], df1['name']),\n",
    "                desc = \"CHUNK\",\n",
    "                total = len(df1.index),\n",
    "                mininterval = 0.5\n",
    "            )\n",
    "         ]\n"
   ]
  },
  {
   "cell_type": "code",
   "execution_count": 3,
   "metadata": {
    "scrolled": true
   },
   "outputs": [
    {
     "ename": "NameError",
     "evalue": "name 'result' is not defined",
     "output_type": "error",
     "traceback": [
      "\u001b[1;31m---------------------------------------------------------------------------\u001b[0m",
      "\u001b[1;31mNameError\u001b[0m                                 Traceback (most recent call last)",
      "\u001b[1;32m<ipython-input-3-b5e57bbab90b>\u001b[0m in \u001b[0;36m<module>\u001b[1;34m\u001b[0m\n\u001b[1;32m----> 1\u001b[1;33m \u001b[0mresult\u001b[0m\u001b[1;33m[\u001b[0m\u001b[1;36m0\u001b[0m\u001b[1;33m:\u001b[0m\u001b[1;36m10\u001b[0m\u001b[1;33m]\u001b[0m\u001b[1;33m\u001b[0m\u001b[1;33m\u001b[0m\u001b[0m\n\u001b[0m",
      "\u001b[1;31mNameError\u001b[0m: name 'result' is not defined"
     ]
    }
   ],
   "source": [
    "result[0:10]"
   ]
  },
  {
   "cell_type": "code",
   "execution_count": 2,
   "metadata": {
    "scrolled": true
   },
   "outputs": [
    {
     "name": "stdout",
     "output_type": "stream",
     "text": [
      "[2020-08-09/10:13:56.495|07.0%|64.9%|0.27GB] >>>>> Starting Dataset SMALL1000 build\n",
      "[2020-08-09/10:13:56.523|06.7%|64.9%|0.27GB] Starting to process 4 audio files.\n"
     ]
    },
    {
     "data": {
      "application/vnd.jupyter.widget-view+json": {
       "model_id": "1f586d2d01dc4a658d2764cc381bc687",
       "version_major": 2,
       "version_minor": 0
      },
      "text/plain": [
       "HBox(children=(FloatProgress(value=0.0, description='Total', max=4.0, style=ProgressStyle(description_width='i…"
      ]
     },
     "metadata": {},
     "output_type": "display_data"
    },
    {
     "data": {
      "application/vnd.jupyter.widget-view+json": {
       "model_id": "6163003ef0ac4310adcd928798b1afd6",
       "version_major": 2,
       "version_minor": 0
      },
      "text/plain": [
       "HBox(children=(FloatProgress(value=1.0, bar_style='info', description='Process 00', max=1.0, style=ProgressSty…"
      ]
     },
     "metadata": {},
     "output_type": "display_data"
    },
    {
     "data": {
      "application/vnd.jupyter.widget-view+json": {
       "model_id": "066887a1fcfe4a8b8456b2e9a2aa4891",
       "version_major": 2,
       "version_minor": 0
      },
      "text/plain": [
       "HBox(children=(FloatProgress(value=1.0, bar_style='info', description='Process 01', max=1.0, style=ProgressSty…"
      ]
     },
     "metadata": {},
     "output_type": "display_data"
    },
    {
     "data": {
      "application/vnd.jupyter.widget-view+json": {
       "model_id": "42142a2d7fa64726af400e9f4cff501f",
       "version_major": 2,
       "version_minor": 0
      },
      "text/plain": [
       "HBox(children=(FloatProgress(value=1.0, bar_style='info', description='Process 02', max=1.0, style=ProgressSty…"
      ]
     },
     "metadata": {},
     "output_type": "display_data"
    },
    {
     "data": {
      "application/vnd.jupyter.widget-view+json": {
       "model_id": "3c20cdd178f2439fb70e67651a3b476c",
       "version_major": 2,
       "version_minor": 0
      },
      "text/plain": [
       "HBox(children=(FloatProgress(value=1.0, bar_style='info', description='Process 03', max=1.0, style=ProgressSty…"
      ]
     },
     "metadata": {},
     "output_type": "display_data"
    },
    {
     "name": "stdout",
     "output_type": "stream",
     "text": [
      "[2020-08-09/10:14:33.767|47.4%|65.2%|0.27GB] Creating Database\n",
      "[2020-08-09/10:14:33.789|43.8%|65.2%|0.27GB] Database created\n",
      "[2020-08-09/10:14:33.791|00.0%|65.2%|0.27GB] Please wait, computing checksum...\n",
      "[2020-08-09/10:14:34.717|29.7%|66.0%|0.27GB]   Computed checksum d6e8796d8e357646cd0c6b0c4b3966a1\n",
      "[2020-08-09/10:14:34.717|00.0%|66.0%|0.27GB]   Expected checksum d6e8796d8e357646cd0c6b0c4b3966a1\n",
      "[2020-08-09/10:14:34.717|00.0%|66.0%|0.27GB] Checksum OK!\n",
      "[2020-08-09/10:14:34.718|00.0%|66.0%|0.27GB] >>>>> Dataset SMALL1000 successfully created.\n",
      "[2020-08-09/10:14:34.718|00.0%|66.0%|0.27GB] ------------------------------------------------------\n",
      "[2020-08-09/10:14:34.718|00.0%|66.0%|0.27GB] DATASET PATH          : D:\\Jupyter\\ShowBees\\datasets\\SMALL1000\n",
      "[2020-08-09/10:14:34.718|00.0%|66.0%|0.27GB] DATASET DB PATH       : D:\\Jupyter\\ShowBees\\datasets\\SMALL1000\\database.db\n",
      "[2020-08-09/10:14:34.718|00.0%|66.0%|0.27GB] DATASET SAMPLES PATH  : D:\\Jupyter\\ShowBees\\datasets\\SMALL1000\\samples\n",
      "[2020-08-09/10:14:34.718|00.0%|66.0%|0.27GB] NB SOURCE AUDIO FILES : 4\n",
      "[2020-08-09/10:14:34.719|00.0%|66.0%|0.27GB] SAMPLE RATE           : 22050\n",
      "[2020-08-09/10:14:34.719|00.0%|66.0%|0.27GB] DURATION              : 1.0\n",
      "[2020-08-09/10:14:34.719|00.0%|66.0%|0.27GB] OVERLAP               : 0.0\n",
      "[2020-08-09/10:14:34.719|00.0%|66.0%|0.27GB] NB AUDIO CHUNKS       : 2374\n",
      "[2020-08-09/10:14:34.719|00.0%|66.0%|0.27GB] ------------------------------------------------------\n"
     ]
    }
   ],
   "source": [
    "import warnings                            # This block prevents display of harmless warnings, but should be\n",
    "warnings.filterwarnings('ignore')          # commented out till the final version, to avoid missing \"real\" warnings \n",
    "\n",
    "import kilroy_was_here                        # Mandatory. Allow access to shared python code from repository root\n",
    "from audace.audiodataset import AudioDataset  # Class for audio dataset handling\n",
    "from audace.jupytools import iprint           # timstamped (to the ms) print with CPU and RAM consumption information\n",
    "\n",
    "# Path where to find initial annotated dataset (audio and lab files)\n",
    "SOURCE_PATH ='D:/datasets/sounds/Nolasco'\n",
    "\n",
    "# Dataset name is the master key for dataset adressing.\n",
    "DATASET_NAME = 'SMALL1000'\n",
    "\n",
    "# Initialize Dataset Object. \n",
    "try:\n",
    "    #By providing a source path,we implicitly indicates that you want to CREATE the data set.\n",
    "    # Run with a pool of 4 processes\n",
    "    ds = AudioDataset(DATASET_NAME, SOURCE_PATH, nprocs=4)\n",
    "    \n",
    "except FileExistsError:\n",
    "    # To allow rerun, we catch the exception in case the dataset was already created.\n",
    "    # Ideally, you should create the dataset once for all in a dedicated notebook,\n",
    "    # and then retrieve it from other notebooks when needed\n",
    "    # Here, by not providing a source path, we implicitly express the intent of RETRIEVING\n",
    "    # an existing dataset rather than CREATING a new one\n",
    "    iprint(\"Retrieving existing dataset\")\n",
    "    ds = AudioDataset(DATASET_NAME)\n",
    "    iprint(\"Dataset retrieved\")\n",
    "    \n",
    "# The following line provides some information about the newly created (or retrieved) AudioDataset object    \n",
    "ds.info()\n",
    "\n"
   ]
  }
 ],
 "metadata": {
  "kernelspec": {
   "display_name": "Python 3",
   "language": "python",
   "name": "python3"
  },
  "language_info": {
   "codemirror_mode": {
    "name": "ipython",
    "version": 3
   },
   "file_extension": ".py",
   "mimetype": "text/x-python",
   "name": "python",
   "nbconvert_exporter": "python",
   "pygments_lexer": "ipython3",
   "version": "3.7.7"
  }
 },
 "nbformat": 4,
 "nbformat_minor": 4
}
