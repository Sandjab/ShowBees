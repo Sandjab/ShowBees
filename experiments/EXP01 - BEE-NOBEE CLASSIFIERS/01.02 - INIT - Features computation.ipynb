{
 "cells": [
  {
   "cell_type": "markdown",
   "metadata": {},
   "source": [
    "# 01.02 - INIT - Features computation\n",
    "\n",
    "## Prerequisites\n",
    "\n",
    "- The dataset exists (if not, execute 01.01)"
   ]
  },
  {
   "cell_type": "code",
   "execution_count": 15,
   "metadata": {},
   "outputs": [
    {
     "name": "stdout",
     "output_type": "stream",
     "text": [
      "[2020-08-23/15:45:52.633|10.7%|73.9%|0.05GB] ------------------------------------------------------\n",
      "[2020-08-23/15:45:52.637|00.0%|73.9%|0.05GB] DATASET NAME          : MAIN0100\n",
      "[2020-08-23/15:45:52.638|00.0%|73.9%|0.05GB] DATASET PATH          : D:\\Jupyter\\ShowBees\\datasets\\MAIN0100\n",
      "[2020-08-23/15:45:52.638|00.0%|73.9%|0.05GB] DATASET DB PATH       : D:\\Jupyter\\ShowBees\\datasets\\MAIN0100\\MAIN0100.db\n",
      "[2020-08-23/15:45:52.638|00.0%|73.9%|0.05GB] DATASET SAMPLES PATH  : D:\\Jupyter\\ShowBees\\datasets\\MAIN0100\\samples\n",
      "[2020-08-23/15:45:52.638|00.0%|73.9%|0.05GB] NB SOURCE AUDIO FILES : 48\n",
      "[2020-08-23/15:45:52.638|00.0%|73.9%|0.05GB] SAMPLE RATE           : 22050\n",
      "[2020-08-23/15:45:52.639|00.0%|73.9%|0.05GB] DURATION              : 0.1\n",
      "[2020-08-23/15:45:52.639|00.0%|73.9%|0.05GB] OVERLAP               : 0.0\n",
      "[2020-08-23/15:45:52.639|00.0%|73.9%|0.05GB] NB AUDIO CHUNKS       : 247967\n",
      "[2020-08-23/15:45:52.639|00.0%|73.9%|0.05GB] ------------------------------------------------------\n"
     ]
    }
   ],
   "source": [
    "import warnings                            # This block prevents display of harmless warnings, but should be\n",
    "warnings.filterwarnings('ignore')          # commented out till the final version, to avoid missing \"real\" warnings \n",
    "\n",
    "import kilroy_was_here                     # Mandatory. Allow access to shared python code from repository root\n",
    "from audace.audiodataset import AudioDataset  # Class for audio dataset handling\n",
    "from audace import (\n",
    "    providers,\n",
    "    transformers,\n",
    "    featurizers\n",
    ")\n",
    "\n",
    "# Dataset name is the master key for dataset adressing\n",
    "# Change it according to the dataset you want to process\n",
    "DATASET_NAME = 'MAIN1000'\n",
    "\n",
    "# Initialize Dataset Object. \n",
    "ds = AudioDataset(DATASET_NAME)\n",
    "\n",
    "# Display dataset summary\n",
    "ds.info()\n"
   ]
  },
  {
   "cell_type": "code",
   "execution_count": 16,
   "metadata": {},
   "outputs": [
    {
     "data": {
      "application/vnd.jupyter.widget-view+json": {
       "model_id": "6a25b860e6734d32ba5f71c152a4d28b",
       "version_major": 2,
       "version_minor": 0
      },
      "text/plain": [
       "HBox(children=(FloatProgress(value=0.0, description='Computing mfcc20', max=247967.0, style=ProgressStyle(desc…"
      ]
     },
     "metadata": {},
     "output_type": "display_data"
    },
    {
     "name": "stdout",
     "output_type": "stream",
     "text": [
      "\n"
     ]
    },
    {
     "data": {
      "application/vnd.jupyter.widget-view+json": {
       "model_id": "da3fc0a58332406cab82373239df45c3",
       "version_major": 2,
       "version_minor": 0
      },
      "text/plain": [
       "HBox(children=(FloatProgress(value=0.0, description='Computing std_mfcc20', max=247967.0, style=ProgressStyle(…"
      ]
     },
     "metadata": {},
     "output_type": "display_data"
    },
    {
     "name": "stdout",
     "output_type": "stream",
     "text": [
      "\n"
     ]
    },
    {
     "data": {
      "application/vnd.jupyter.widget-view+json": {
       "model_id": "3bf3fe4b39d64004b2b5d51bad66c602",
       "version_major": 2,
       "version_minor": 0
      },
      "text/plain": [
       "HBox(children=(FloatProgress(value=0.0, description='Computing mfcc8', max=247967.0, style=ProgressStyle(descr…"
      ]
     },
     "metadata": {},
     "output_type": "display_data"
    },
    {
     "name": "stdout",
     "output_type": "stream",
     "text": [
      "\n"
     ]
    },
    {
     "data": {
      "application/vnd.jupyter.widget-view+json": {
       "model_id": "ad2f807264dd48609516d0e654cd19e2",
       "version_major": 2,
       "version_minor": 0
      },
      "text/plain": [
       "HBox(children=(FloatProgress(value=0.0, description='Computing std_mfcc8', max=247967.0, style=ProgressStyle(d…"
      ]
     },
     "metadata": {},
     "output_type": "display_data"
    },
    {
     "name": "stdout",
     "output_type": "stream",
     "text": [
      "\n"
     ]
    },
    {
     "data": {
      "application/vnd.jupyter.widget-view+json": {
       "model_id": "a83f75f2a9f4495ab9c9666fcb0cd5e6",
       "version_major": 2,
       "version_minor": 0
      },
      "text/plain": [
       "HBox(children=(FloatProgress(value=0.0, description='Computing apidictor', max=247967.0, style=ProgressStyle(d…"
      ]
     },
     "metadata": {},
     "output_type": "display_data"
    },
    {
     "name": "stdout",
     "output_type": "stream",
     "text": [
      "\n"
     ]
    },
    {
     "data": {
      "application/vnd.jupyter.widget-view+json": {
       "model_id": "fac0030c63af49688b170cc1825348f3",
       "version_major": 2,
       "version_minor": 0
      },
      "text/plain": [
       "HBox(children=(FloatProgress(value=0.0, description='Computing std_apidictor', max=247967.0, style=ProgressSty…"
      ]
     },
     "metadata": {},
     "output_type": "display_data"
    },
    {
     "name": "stdout",
     "output_type": "stream",
     "text": [
      "\n"
     ]
    },
    {
     "data": {
      "text/plain": [
       "247967"
      ]
     },
     "execution_count": 16,
     "metadata": {},
     "output_type": "execute_result"
    }
   ],
   "source": [
    "# Compute various features\n",
    "ds.addFeature('mfcc20')\n",
    "ds.setFeature('mfcc20', providers.FromSample(ds.samples_path, featurizers.MFCC(n_mfcc=20)))\n",
    "\n",
    "ds.addFeature('std_mfcc20')\n",
    "ds.setFeature('std_mfcc20', \n",
    "    providers.FromSample(ds.samples_path,[transformers.Standardize(), featurizers.MFCC(n_mfcc=20)])\n",
    ")\n",
    "\n",
    "\n",
    "ds.addFeature('mfcc8')\n",
    "ds.setFeature('mfcc8', providers.FromSample(ds.samples_path, featurizers.MFCC(n_mfcc=8)))\n",
    "\n",
    "ds.addFeature('std_mfcc8')\n",
    "ds.setFeature('std_mfcc8', \n",
    "    providers.FromSample(ds.samples_path,[transformers.Standardize(), featurizers.MFCC(n_mfcc=8)])\n",
    ")\n",
    "\n",
    "ds.addFeature('apidictor')\n",
    "ds.setFeature('apidictor', providers.FromSample(ds.samples_path, featurizers.Magic(180,300,5)))\n",
    "\n",
    "ds.addFeature('std_apidictor')\n",
    "ds.setFeature('std_apidictor', \n",
    "    providers.FromSample(ds.samples_path,[transformers.Standardize(), featurizers.Magic(180,300,5)])\n",
    ")"
   ]
  }
 ],
 "metadata": {
  "kernelspec": {
   "display_name": "Python 3",
   "language": "python",
   "name": "python3"
  },
  "language_info": {
   "codemirror_mode": {
    "name": "ipython",
    "version": 3
   },
   "file_extension": ".py",
   "mimetype": "text/x-python",
   "name": "python",
   "nbconvert_exporter": "python",
   "pygments_lexer": "ipython3",
   "version": "3.7.7"
  }
 },
 "nbformat": 4,
 "nbformat_minor": 4
}
