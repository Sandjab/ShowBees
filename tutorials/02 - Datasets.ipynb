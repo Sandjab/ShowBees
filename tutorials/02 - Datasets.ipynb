{
 "cells": [
  {
   "cell_type": "markdown",
   "metadata": {},
   "source": [
    "# Datasets\n",
    "\n",
    "$$\\int_0^{2\\pi} f(r, \\phi) \\partial \\phi $$\n",
    "\n"
   ]
  },
  {
   "cell_type": "code",
   "execution_count": 1,
   "metadata": {
    "scrolled": false,
    "tags": []
   },
   "outputs": [
    {
     "name": "stdout",
     "output_type": "stream",
     "text": [
      "[2020-08-03/23:13:55.655|17.7%|68.6%|0.25GB] >>>>> Starting Dataset SMALL1005 build\n",
      "[2020-08-03/23:13:55.656|00.0%|68.6%|0.25GB] Creating database tables\n",
      "[2020-08-03/23:13:55.695|00.0%|68.6%|0.25GB] Ready to process 4 audio files.\n",
      "[2020-08-03/23:14:39.388|49.6%|65.5%|0.26GB] Creating Database\n",
      "[2020-08-03/23:14:39.416|20.0%|65.5%|0.26GB] Database created\n",
      "[2020-08-03/23:14:39.419|37.5%|65.5%|0.26GB] Please wait, computing checksum...\n",
      "[2020-08-03/23:14:40.940|16.6%|66.0%|0.26GB]   Computed checksum 628e97cd138dc7586883e3b33e41cb2b\n",
      "[2020-08-03/23:14:40.940|00.0%|66.0%|0.26GB]   Expected checksum 628e97cd138dc7586883e3b33e41cb2b\n",
      "[2020-08-03/23:14:40.940|00.0%|66.0%|0.26GB] Checksum OK!\n",
      "[2020-08-03/23:14:40.941|00.0%|66.0%|0.26GB] >>>>> Dataset SMALL1005 successfully created.\n"
     ]
    }
   ],
   "source": [
    "import warnings                           # This block prevents display of harmless warnings, but should be\n",
    "warnings.filterwarnings('ignore')         # commented out till the final version, to avoid missing \"real\" warnings \n",
    "\n",
    "import kilroy_was_here                    # Mandatory. Allow access to shared python code in the upper 'codelib' directory\n",
    "from lib.dataset import AudioDataset  # Class for audio dataset handling\n",
    "\n",
    "# Path where to find initial annotated dataset (audio and lab files)\n",
    "SOURCE_PATH ='D:/datasets/sounds/Nolasco'\n",
    "\n",
    "# Dataset name is the master key for dataset adressing\n",
    "DATASET_NAME = 'SMALL1005'\n",
    "\n",
    "# Initialize Dataset Object. By providing a source path, you implicitly \n",
    "# indicates that you want to CREATE the data set\n",
    "ds = AudioDataset(DATASET_NAME, SOURCE_PATH, nprocs=4)\n",
    "\n",
    "#for i in range(8):\n",
    "#    %timeit -n1 -r1 ds = AudioDataset(\"MAIN1000-\" + str(i+1), SOURCE_PATH, nprocs=i+1)\n"
   ]
  },
  {
   "cell_type": "code",
   "execution_count": 2,
   "metadata": {},
   "outputs": [
    {
     "name": "stdout",
     "output_type": "stream",
     "text": [
      "[2020-07-31/23:10:55.098|04.5%|72.7%|0.27GB] The dataset directory (D:\\Jupyter\\ShowBees\\datasets\\TUTO) already exists.\n",
      "[2020-07-31/23:10:55.098|00.0%|72.7%|0.27GB] If you really intent to CREATE this dataset, please erase this directory first\n",
      "[2020-07-31/23:10:55.099|00.0%|72.7%|0.27GB] ### ABORTING! ###\n"
     ]
    },
    {
     "ename": "FileExistsError",
     "evalue": "Dataset directory already exists",
     "output_type": "error",
     "traceback": [
      "\u001b[1;31m---------------------------------------------------------------------------\u001b[0m",
      "\u001b[1;31mFileExistsError\u001b[0m                           Traceback (most recent call last)",
      "\u001b[1;32m<ipython-input-2-df837da27f8e>\u001b[0m in \u001b[0;36m<module>\u001b[1;34m\u001b[0m\n\u001b[0;32m      1\u001b[0m \u001b[1;31m# if you try again to recreate an existing dataset, nothing will be done\u001b[0m\u001b[1;33m\u001b[0m\u001b[1;33m\u001b[0m\u001b[1;33m\u001b[0m\u001b[0m\n\u001b[1;32m----> 2\u001b[1;33m \u001b[0mds\u001b[0m \u001b[1;33m=\u001b[0m \u001b[0mAudioDataset\u001b[0m\u001b[1;33m(\u001b[0m\u001b[0mDATASET_NAME\u001b[0m\u001b[1;33m,\u001b[0m \u001b[0mSOURCE_PATH\u001b[0m\u001b[1;33m)\u001b[0m\u001b[1;33m\u001b[0m\u001b[1;33m\u001b[0m\u001b[0m\n\u001b[0m",
      "\u001b[1;32mD:\\Jupyter\\ShowBees\\codelib\\dataset.py\u001b[0m in \u001b[0;36m__init__\u001b[1;34m(self, dataset_name, source_path_str, th)\u001b[0m\n\u001b[0;32m    116\u001b[0m                     'If you really intent to CREATE this dataset, please erase this directory first')\n\u001b[0;32m    117\u001b[0m                 \u001b[0miprint\u001b[0m\u001b[1;33m(\u001b[0m\u001b[1;34m'### ABORTING! ###'\u001b[0m\u001b[1;33m)\u001b[0m\u001b[1;33m\u001b[0m\u001b[1;33m\u001b[0m\u001b[0m\n\u001b[1;32m--> 118\u001b[1;33m                 \u001b[1;32mraise\u001b[0m \u001b[0mFileExistsError\u001b[0m\u001b[1;33m(\u001b[0m\u001b[1;34m'Dataset directory already exists'\u001b[0m\u001b[1;33m)\u001b[0m\u001b[1;33m\u001b[0m\u001b[1;33m\u001b[0m\u001b[0m\n\u001b[0m\u001b[0;32m    119\u001b[0m \u001b[1;33m\u001b[0m\u001b[0m\n\u001b[0;32m    120\u001b[0m             \u001b[0miprint\u001b[0m\u001b[1;33m(\u001b[0m\u001b[1;34m'>>>>> Starting Dataset build'\u001b[0m\u001b[1;33m)\u001b[0m\u001b[1;33m\u001b[0m\u001b[1;33m\u001b[0m\u001b[0m\n",
      "\u001b[1;31mFileExistsError\u001b[0m: Dataset directory already exists"
     ]
    }
   ],
   "source": [
    "# if you try again to recreate an existing dataset, nothing will be done\n",
    "ds = AudioDataset(DATASET_NAME, SOURCE_PATH)"
   ]
  },
  {
   "cell_type": "code",
   "execution_count": 3,
   "metadata": {},
   "outputs": [
    {
     "name": "stdout",
     "output_type": "stream",
     "text": [
      "[2020-08-01/12:56:13.014|07.9%|75.4%|0.27GB] ------------------------------------------------------\n",
      "[2020-08-01/12:56:13.014|00.0%|75.4%|0.27GB] DATASET PATH          : D:\\Jupyter\\ShowBees\\datasets\\SMALL1005\n",
      "[2020-08-01/12:56:13.015|00.0%|75.4%|0.27GB] DATASET DB PATH       : D:\\Jupyter\\ShowBees\\datasets\\SMALL1005\\database.db\n",
      "[2020-08-01/12:56:13.015|00.0%|75.4%|0.27GB] DATASET SAMPLES PATH  : D:\\Jupyter\\ShowBees\\datasets\\SMALL1005\\samples\n",
      "[2020-08-01/12:56:13.015|00.0%|75.4%|0.27GB] NB SOURCE AUDIO FILES : 4\n",
      "[2020-08-01/12:56:13.015|00.0%|75.4%|0.27GB] SAMPLE RATE           : 22050\n",
      "[2020-08-01/12:56:13.015|00.0%|75.4%|0.27GB] DURATION              : 1.0\n",
      "[2020-08-01/12:56:13.016|00.0%|75.4%|0.27GB] OVERLAP               : 0.5\n",
      "[2020-08-01/12:56:13.016|00.0%|75.4%|0.27GB] NB AUDIO CHUNKS       : 4744\n",
      "[2020-08-01/12:56:13.016|00.0%|75.4%|0.27GB] ------------------------------------------------------\n"
     ]
    }
   ],
   "source": [
    "import kilroy_was_here            # Mandatory. Allow access to shared python code in the upper 'codelib' directory\n",
    "from lib.dataset import AudioDataset  # Class for audio dataset handling\n",
    "\n",
    "# You express the intent of RETRIEVING an existing dataset by NOT specifying a source path\n",
    "ds = AudioDataset(DATASET_NAME)\n",
    "\n",
    "ds.info()"
   ]
  },
  {
   "cell_type": "code",
   "execution_count": 4,
   "metadata": {},
   "outputs": [
    {
     "name": "stdout",
     "output_type": "stream",
     "text": [
      "[2020-07-31/23:11:17.974|04.0%|72.8%|0.27GB] Dataset database (D:\\Jupyter\\ShowBees\\datasets\\THERE_IS_NO_SPOON\\database.db) does not exist.\n",
      "[2020-07-31/23:11:17.975|00.0%|72.8%|0.27GB] Please insure that the dataset name is correct and that the dataset\n",
      "[2020-07-31/23:11:17.975|00.0%|72.8%|0.27GB] has been succesfully created previously.\n",
      "[2020-07-31/23:11:17.977|00.0%|72.8%|0.27GB] ### ABORTING! ###\n"
     ]
    },
    {
     "ename": "FileNotFoundError",
     "evalue": "Dataset database not found",
     "output_type": "error",
     "traceback": [
      "\u001b[1;31m---------------------------------------------------------------------------\u001b[0m",
      "\u001b[1;31mFileNotFoundError\u001b[0m                         Traceback (most recent call last)",
      "\u001b[1;32m<ipython-input-4-2f89a48dbab0>\u001b[0m in \u001b[0;36m<module>\u001b[1;34m\u001b[0m\n\u001b[0;32m      1\u001b[0m \u001b[1;31m# Conversely, trying to retrieve a non existing dataset will fail\u001b[0m\u001b[1;33m\u001b[0m\u001b[1;33m\u001b[0m\u001b[1;33m\u001b[0m\u001b[0m\n\u001b[1;32m----> 2\u001b[1;33m \u001b[0mds\u001b[0m \u001b[1;33m=\u001b[0m \u001b[0mAudioDataset\u001b[0m\u001b[1;33m(\u001b[0m\u001b[1;34m'THERE_IS_NO_SPOON'\u001b[0m\u001b[1;33m)\u001b[0m\u001b[1;33m\u001b[0m\u001b[1;33m\u001b[0m\u001b[0m\n\u001b[0m",
      "\u001b[1;32mD:\\Jupyter\\ShowBees\\codelib\\dataset.py\u001b[0m in \u001b[0;36m__init__\u001b[1;34m(self, dataset_name, source_path_str, th)\u001b[0m\n\u001b[0;32m     71\u001b[0m                 \u001b[0miprint\u001b[0m\u001b[1;33m(\u001b[0m\u001b[1;34m'has been succesfully created previously.'\u001b[0m\u001b[1;33m)\u001b[0m\u001b[1;33m\u001b[0m\u001b[1;33m\u001b[0m\u001b[0m\n\u001b[0;32m     72\u001b[0m                 \u001b[0miprint\u001b[0m\u001b[1;33m(\u001b[0m\u001b[1;34m'### ABORTING! ###'\u001b[0m\u001b[1;33m)\u001b[0m\u001b[1;33m\u001b[0m\u001b[1;33m\u001b[0m\u001b[0m\n\u001b[1;32m---> 73\u001b[1;33m                 \u001b[1;32mraise\u001b[0m \u001b[0mFileNotFoundError\u001b[0m\u001b[1;33m(\u001b[0m\u001b[1;34m'Dataset database not found'\u001b[0m\u001b[1;33m)\u001b[0m\u001b[1;33m\u001b[0m\u001b[1;33m\u001b[0m\u001b[0m\n\u001b[0m\u001b[0;32m     74\u001b[0m \u001b[1;33m\u001b[0m\u001b[0m\n\u001b[0;32m     75\u001b[0m             \u001b[1;31m# else we connect to the database and retrieve its configuration\u001b[0m\u001b[1;33m\u001b[0m\u001b[1;33m\u001b[0m\u001b[1;33m\u001b[0m\u001b[0m\n",
      "\u001b[1;31mFileNotFoundError\u001b[0m: Dataset database not found"
     ]
    }
   ],
   "source": [
    "# Conversely, trying to retrieve a non existing dataset will fail\n",
    "ds = AudioDataset('THERE_IS_NO_SPOON')"
   ]
  },
  {
   "cell_type": "code",
   "execution_count": 4,
   "metadata": {
    "scrolled": true
   },
   "outputs": [
    {
     "name": "stdout",
     "output_type": "stream",
     "text": [
      "[2020-07-31/23:15:46.604|04.4%|71.7%|0.26GB] ------------------------------------------------------\n",
      "[2020-07-31/23:15:46.604|00.0%|71.7%|0.26GB] DATASET PATH          : D:\\Jupyter\\ShowBees\\datasets\\TUTO\n",
      "[2020-07-31/23:15:46.604|00.0%|71.7%|0.26GB] DATASET DB PATH       : D:\\Jupyter\\ShowBees\\datasets\\TUTO\\database.db\n",
      "[2020-07-31/23:15:46.604|00.0%|71.7%|0.26GB] DATASET SAMPLES PATH  : D:\\Jupyter\\ShowBees\\datasets\\TUTO\\samples\n",
      "[2020-07-31/23:15:46.605|00.0%|71.7%|0.26GB] NB SOURCE AUDIO FILES : 1\n",
      "[2020-07-31/23:15:46.605|00.0%|71.7%|0.26GB] SAMPLE RATE           : 22050\n",
      "[2020-07-31/23:15:46.605|00.0%|71.7%|0.26GB] DURATION              : 1.0\n",
      "[2020-07-31/23:15:46.607|00.0%|71.7%|0.26GB] OVERLAP               : 0.0\n",
      "[2020-07-31/23:15:46.608|00.0%|71.7%|0.26GB] NB AUDIO CHUNKS       : 598\n",
      "[2020-07-31/23:15:46.608|00.0%|71.7%|0.26GB] ------------------------------------------------------\n"
     ]
    }
   ],
   "source": [
    "ds.info()"
   ]
  },
  {
   "cell_type": "code",
   "execution_count": 14,
   "metadata": {
    "scrolled": true
   },
   "outputs": [
    {
     "name": "stdout",
     "output_type": "stream",
     "text": [
      "(1, 'CF001', 1.0, 2.0, 0.0)\n"
     ]
    }
   ],
   "source": [
    "ds.query(\"SELECT * FROM samples WHERE id = 1\")"
   ]
  },
  {
   "cell_type": "code",
   "execution_count": 15,
   "metadata": {
    "scrolled": false
   },
   "outputs": [
    {
     "name": "stdout",
     "output_type": "stream",
     "text": [
      "(8840, 'Hive1', 1.0, 2.0, 0.0)\n",
      "(9438, 'Hive1', 1.0, 2.0, 0.0)\n",
      "(10033, 'Hive1', 1.0, 2.0, 0.0)\n",
      "(10631, 'Hive1', 1.0, 2.0, 0.0)\n",
      "(11229, 'Hive1', 1.0, 2.0, 0.0)\n",
      "(11827, 'Hive1', 1.0, 2.0, 0.0)\n",
      "(12422, 'Hive1', 1.0, 2.0, 0.0)\n",
      "(13014, 'Hive1', 1.0, 2.0, 0.0)\n",
      "(13602, 'Hive1', 1.0, 2.0, 0.0)\n",
      "(14200, 'Hive1', 1.0, 2.0, 0.0)\n"
     ]
    }
   ],
   "source": [
    "ds.query(\"SELECT * FROM samples WHERE start_t = 1 and hive = ?\", ('Hive1',), as_dict=False)"
   ]
  },
  {
   "cell_type": "code",
   "execution_count": 13,
   "metadata": {
    "scrolled": true
   },
   "outputs": [
    {
     "name": "stdout",
     "output_type": "stream",
     "text": [
      "{'id': 8840, 'hive': 'Hive1', 'start_t': 1.0, 'end_t': 2.0, 'p_ratio': 0.0}\n",
      "{'id': 9438, 'hive': 'Hive1', 'start_t': 1.0, 'end_t': 2.0, 'p_ratio': 0.0}\n",
      "{'id': 10033, 'hive': 'Hive1', 'start_t': 1.0, 'end_t': 2.0, 'p_ratio': 0.0}\n",
      "{'id': 10631, 'hive': 'Hive1', 'start_t': 1.0, 'end_t': 2.0, 'p_ratio': 0.0}\n",
      "{'id': 11229, 'hive': 'Hive1', 'start_t': 1.0, 'end_t': 2.0, 'p_ratio': 0.0}\n",
      "{'id': 11827, 'hive': 'Hive1', 'start_t': 1.0, 'end_t': 2.0, 'p_ratio': 0.0}\n",
      "{'id': 12422, 'hive': 'Hive1', 'start_t': 1.0, 'end_t': 2.0, 'p_ratio': 0.0}\n",
      "{'id': 13014, 'hive': 'Hive1', 'start_t': 1.0, 'end_t': 2.0, 'p_ratio': 0.0}\n",
      "{'id': 13602, 'hive': 'Hive1', 'start_t': 1.0, 'end_t': 2.0, 'p_ratio': 0.0}\n",
      "{'id': 14200, 'hive': 'Hive1', 'start_t': 1.0, 'end_t': 2.0, 'p_ratio': 0.0}\n"
     ]
    }
   ],
   "source": [
    "ds.search(\"start_t = 1 and hive = ?\", ('Hive1',), as_dict=True)"
   ]
  },
  {
   "cell_type": "code",
   "execution_count": 2,
   "metadata": {},
   "outputs": [
    {
     "name": "stdout",
     "output_type": "stream",
     "text": [
      "(0, 'a')\n",
      "(1, 'b')\n",
      "(2, 'c')\n",
      "1.6 µs ± 0 ns per loop (mean ± std. dev. of 1 run, 1 loop each)\n"
     ]
    },
    {
     "data": {
      "application/json": {
       "cell": {
        "!": "OSMagics",
        "HTML": "Other",
        "SVG": "Other",
        "bash": "Other",
        "capture": "ExecutionMagics",
        "cmd": "Other",
        "debug": "ExecutionMagics",
        "file": "Other",
        "html": "DisplayMagics",
        "javascript": "DisplayMagics",
        "js": "DisplayMagics",
        "latex": "DisplayMagics",
        "markdown": "DisplayMagics",
        "perl": "Other",
        "prun": "ExecutionMagics",
        "pypy": "Other",
        "python": "Other",
        "python2": "Other",
        "python3": "Other",
        "ruby": "Other",
        "script": "ScriptMagics",
        "sh": "Other",
        "svg": "DisplayMagics",
        "sx": "OSMagics",
        "system": "OSMagics",
        "time": "ExecutionMagics",
        "timeit": "ExecutionMagics",
        "writefile": "OSMagics"
       },
       "line": {
        "alias": "OSMagics",
        "alias_magic": "BasicMagics",
        "autoawait": "AsyncMagics",
        "autocall": "AutoMagics",
        "automagic": "AutoMagics",
        "autosave": "KernelMagics",
        "bookmark": "OSMagics",
        "cd": "OSMagics",
        "clear": "KernelMagics",
        "cls": "KernelMagics",
        "colors": "BasicMagics",
        "conda": "PackagingMagics",
        "config": "ConfigMagics",
        "connect_info": "KernelMagics",
        "copy": "Other",
        "ddir": "Other",
        "debug": "ExecutionMagics",
        "dhist": "OSMagics",
        "dirs": "OSMagics",
        "doctest_mode": "BasicMagics",
        "echo": "Other",
        "ed": "Other",
        "edit": "KernelMagics",
        "env": "OSMagics",
        "gui": "BasicMagics",
        "hist": "Other",
        "history": "HistoryMagics",
        "killbgscripts": "ScriptMagics",
        "ldir": "Other",
        "less": "KernelMagics",
        "load": "CodeMagics",
        "load_ext": "ExtensionMagics",
        "loadpy": "CodeMagics",
        "logoff": "LoggingMagics",
        "logon": "LoggingMagics",
        "logstart": "LoggingMagics",
        "logstate": "LoggingMagics",
        "logstop": "LoggingMagics",
        "ls": "Other",
        "lsmagic": "BasicMagics",
        "macro": "ExecutionMagics",
        "magic": "BasicMagics",
        "matplotlib": "PylabMagics",
        "mkdir": "Other",
        "more": "KernelMagics",
        "notebook": "BasicMagics",
        "page": "BasicMagics",
        "pastebin": "CodeMagics",
        "pdb": "ExecutionMagics",
        "pdef": "NamespaceMagics",
        "pdoc": "NamespaceMagics",
        "pfile": "NamespaceMagics",
        "pinfo": "NamespaceMagics",
        "pinfo2": "NamespaceMagics",
        "pip": "PackagingMagics",
        "popd": "OSMagics",
        "pprint": "BasicMagics",
        "precision": "BasicMagics",
        "prun": "ExecutionMagics",
        "psearch": "NamespaceMagics",
        "psource": "NamespaceMagics",
        "pushd": "OSMagics",
        "pwd": "OSMagics",
        "pycat": "OSMagics",
        "pylab": "PylabMagics",
        "qtconsole": "KernelMagics",
        "quickref": "BasicMagics",
        "recall": "HistoryMagics",
        "rehashx": "OSMagics",
        "reload_ext": "ExtensionMagics",
        "ren": "Other",
        "rep": "Other",
        "rerun": "HistoryMagics",
        "reset": "NamespaceMagics",
        "reset_selective": "NamespaceMagics",
        "rmdir": "Other",
        "run": "ExecutionMagics",
        "save": "CodeMagics",
        "sc": "OSMagics",
        "set_env": "OSMagics",
        "store": "StoreMagics",
        "sx": "OSMagics",
        "system": "OSMagics",
        "tb": "ExecutionMagics",
        "time": "ExecutionMagics",
        "timeit": "ExecutionMagics",
        "unalias": "OSMagics",
        "unload_ext": "ExtensionMagics",
        "who": "NamespaceMagics",
        "who_ls": "NamespaceMagics",
        "whos": "NamespaceMagics",
        "xdel": "NamespaceMagics",
        "xmode": "BasicMagics"
       }
      },
      "text/plain": [
       "Available line magics:\n",
       "%alias  %alias_magic  %autoawait  %autocall  %automagic  %autosave  %bookmark  %cd  %clear  %cls  %colors  %conda  %config  %connect_info  %copy  %ddir  %debug  %dhist  %dirs  %doctest_mode  %echo  %ed  %edit  %env  %gui  %hist  %history  %killbgscripts  %ldir  %less  %load  %load_ext  %loadpy  %logoff  %logon  %logstart  %logstate  %logstop  %ls  %lsmagic  %macro  %magic  %matplotlib  %mkdir  %more  %notebook  %page  %pastebin  %pdb  %pdef  %pdoc  %pfile  %pinfo  %pinfo2  %pip  %popd  %pprint  %precision  %prun  %psearch  %psource  %pushd  %pwd  %pycat  %pylab  %qtconsole  %quickref  %recall  %rehashx  %reload_ext  %ren  %rep  %rerun  %reset  %reset_selective  %rmdir  %run  %save  %sc  %set_env  %store  %sx  %system  %tb  %time  %timeit  %unalias  %unload_ext  %who  %who_ls  %whos  %xdel  %xmode\n",
       "\n",
       "Available cell magics:\n",
       "%%!  %%HTML  %%SVG  %%bash  %%capture  %%cmd  %%debug  %%file  %%html  %%javascript  %%js  %%latex  %%markdown  %%perl  %%prun  %%pypy  %%python  %%python2  %%python3  %%ruby  %%script  %%sh  %%svg  %%sx  %%system  %%time  %%timeit  %%writefile\n",
       "\n",
       "Automagic is ON, % prefix IS NOT needed for line magics."
      ]
     },
     "execution_count": 2,
     "metadata": {},
     "output_type": "execute_result"
    }
   ],
   "source": [
    "toto=['a', 'b', 'c']\n",
    "\n",
    "for e in enumerate(toto):\n",
    "    print(e)\n",
    "\n",
    "%timeit -n1 -r1 [[e] for e in toto]    \n",
    "    \n",
    "%lsmagic\n",
    "\n",
    "    \n"
   ]
  }
 ],
 "metadata": {
  "kernelspec": {
   "display_name": "Python 3",
   "language": "python",
   "name": "python3"
  },
  "language_info": {
   "codemirror_mode": {
    "name": "ipython",
    "version": 3
   },
   "file_extension": ".py",
   "mimetype": "text/x-python",
   "name": "python",
   "nbconvert_exporter": "python",
   "pygments_lexer": "ipython3",
   "version": "3.7.7"
  }
 },
 "nbformat": 4,
 "nbformat_minor": 4
}
