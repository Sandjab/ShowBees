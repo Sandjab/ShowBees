{
 "cells": [
  {
   "cell_type": "markdown",
   "metadata": {},
   "source": [
    "# 03 - Datasets (Usage)\n",
    "\n",
    "<hr style=\"border:1px solid gray\"></hr>\n",
    "\n",
    "### Retrieving an existing dataset"
   ]
  },
  {
   "cell_type": "code",
   "execution_count": 1,
   "metadata": {
    "scrolled": true
   },
   "outputs": [
    {
     "name": "stdout",
     "output_type": "stream",
     "text": [
      "[2020-09-03/12:52:20.035|14.9%|74.2%|0.28GB] ------------------------------------------------------\n",
      "[2020-09-03/12:52:20.035|00.0%|74.2%|0.28GB] DATASET NAME          : TUTO\n",
      "[2020-09-03/12:52:20.035|00.0%|74.2%|0.28GB] DATASET PATH          : D:\\Jupyter\\ShowBees\\datasets\\TUTO\n",
      "[2020-09-03/12:52:20.035|00.0%|74.2%|0.28GB] DATASET DB PATH       : D:\\Jupyter\\ShowBees\\datasets\\TUTO\\TUTO.db\n",
      "[2020-09-03/12:52:20.035|00.0%|74.2%|0.28GB] DATASET SAMPLES PATH  : D:\\Jupyter\\ShowBees\\datasets\\TUTO\\samples\n",
      "[2020-09-03/12:52:20.035|00.0%|74.2%|0.28GB] NB SOURCE AUDIO FILES : 2\n",
      "[2020-09-03/12:52:20.035|00.0%|74.2%|0.28GB] SAMPLE RATE           : 22050\n",
      "[2020-09-03/12:52:20.035|00.0%|74.2%|0.28GB] DURATION              : 60.0\n",
      "[2020-09-03/12:52:20.035|00.0%|74.2%|0.28GB] OVERLAP               : 0.0\n",
      "[2020-09-03/12:52:20.035|00.0%|74.2%|0.28GB] NB AUDIO CHUNKS       : 18\n",
      "[2020-09-03/12:52:20.035|00.0%|74.2%|0.28GB] ------------------------------------------------------\n"
     ]
    }
   ],
   "source": [
    "import warnings                            # This block prevents display of harmless warnings, but should be\n",
    "warnings.filterwarnings('ignore')          # commented out till the final version, to avoid missing \"real\" warnings \n",
    "import kilroy_was_here                     # Mandatory. Allow access to shared python code in the upper 'lib' directory\n",
    "from audace.audiodataset import AudioDataset  # Class for audio dataset handling\n",
    "\n",
    "# Dataset name is the master key for dataset adressing\n",
    "DATASET_NAME = 'TUTO'\n",
    "\n",
    "# Initialize Dataset Object. By NOT providing a source path, you implicitly express\n",
    "# express the intent of RETRIEVING an existing dataset rather than CREATING a new one\n",
    "ds = AudioDataset(DATASET_NAME)\n",
    "\n",
    "ds.info()"
   ]
  },
  {
   "cell_type": "markdown",
   "metadata": {},
   "source": [
    "<hr style=\"border:1px solid gray\"></hr>\n",
    "\n",
    "### Adding and Dropping an attribute"
   ]
  },
  {
   "cell_type": "code",
   "execution_count": 2,
   "metadata": {},
   "outputs": [
    {
     "name": "stdout",
     "output_type": "stream",
     "text": [
      "Before adding attribute:  ['hive']\n",
      "Adding a non existing attributes returns True\n",
      "Trying to add an already existing attribute does not raise an exception but returns False\n",
      "After adding attribute:  ['hive', 'prout']\n",
      "Dropping an existing attribute returns True\n",
      "Trying to drop a non existing attribute does not raise an exception but returns False\n",
      "After dropping attribute:  ['hive']\n"
     ]
    }
   ],
   "source": [
    "print(\"Before adding attribute: \", ds.listAttributes()) \n",
    "print(\"Adding a non existing attributes returns\", ds.addAttribute('prout'))\n",
    "print(\"Trying to add an already existing attribute does not raise an exception but returns\", ds.addAttribute('prout'))\n",
    "\n",
    "print(\"After adding attribute: \", ds.listAttributes())  \n",
    "\n",
    "print(\"Dropping an existing attribute returns\", ds.dropAttribute('prout'))\n",
    "print(\"Trying to drop a non existing attribute does not raise an exception but returns\", ds.dropAttribute('prout'))\n",
    "print(\"After dropping attribute: \", ds.listAttributes())   \n"
   ]
  },
  {
   "cell_type": "markdown",
   "metadata": {},
   "source": [
    "<hr style=\"border:1px solid gray\"></hr>\n",
    "\n",
    "### Adding an dropping a feature"
   ]
  },
  {
   "cell_type": "code",
   "execution_count": 3,
   "metadata": {
    "scrolled": true
   },
   "outputs": [
    {
     "name": "stdout",
     "output_type": "stream",
     "text": [
      "Before adding feature:  []\n",
      "Adding a non existing feature returns True\n",
      "Trying to add an already existing feature does not raise an exception but returns False\n",
      "After adding feature:  ['prout']\n",
      "Dropping an existing feature returns True\n",
      "Trying to drop a non existing feature does not raise an exception but returns False\n",
      "After dropping feature:  []\n"
     ]
    }
   ],
   "source": [
    "print(\"Before adding feature: \", ds.listFeatures()) \n",
    "print(\"Adding a non existing feature returns\", ds.addFeature('prout'))\n",
    "print(\"Trying to add an already existing feature does not raise an exception but returns\", ds.addFeature('prout'))\n",
    "\n",
    "print(\"After adding feature: \", ds.listFeatures())  \n",
    "\n",
    "print(\"Dropping an existing feature returns\", ds.dropFeature('prout'))\n",
    "print(\"Trying to drop a non existing feature does not raise an exception but returns\", ds.dropFeature('prout'))\n",
    "print(\"After dropping feature: \", ds.listFeatures())   "
   ]
  },
  {
   "cell_type": "markdown",
   "metadata": {},
   "source": [
    "<hr style=\"border:1px solid gray\"></hr>\n",
    "\n",
    "### Populating a feature"
   ]
  },
  {
   "cell_type": "code",
   "execution_count": 2,
   "metadata": {
    "scrolled": true
   },
   "outputs": [
    {
     "data": {
      "application/vnd.jupyter.widget-view+json": {
       "model_id": "133abc7167fc4bbe92d6020b16736054",
       "version_major": 2,
       "version_minor": 0
      },
      "text/plain": [
       "HBox(children=(FloatProgress(value=0.0, description='Computing mfcc20', max=18.0, style=ProgressStyle(descript…"
      ]
     },
     "metadata": {},
     "output_type": "display_data"
    },
    {
     "name": "stdout",
     "output_type": "stream",
     "text": [
      "\n"
     ]
    },
    {
     "data": {
      "text/plain": [
       "18"
      ]
     },
     "execution_count": 2,
     "metadata": {},
     "output_type": "execute_result"
    }
   ],
   "source": [
    "import kilroy_was_here\n",
    "from audace.jupytools import mooltipath\n",
    "from audace import providers, featurizers\n",
    "\n",
    "ds.addFeature('mfcc20')\n",
    "ds.setFeature('mfcc20', providers.FromSample(ds.samples_path, featurizers.MFCC(n_mfcc=20)))"
   ]
  }
 ],
 "metadata": {
  "kernelspec": {
   "display_name": "Python 3",
   "language": "python",
   "name": "python3"
  },
  "language_info": {
   "codemirror_mode": {
    "name": "ipython",
    "version": 3
   },
   "file_extension": ".py",
   "mimetype": "text/x-python",
   "name": "python",
   "nbconvert_exporter": "python",
   "pygments_lexer": "ipython3",
   "version": "3.7.7"
  }
 },
 "nbformat": 4,
 "nbformat_minor": 4
}
