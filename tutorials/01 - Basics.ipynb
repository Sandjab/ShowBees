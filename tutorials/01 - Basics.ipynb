{
 "cells": [
  {
   "cell_type": "markdown",
   "metadata": {},
   "source": [
    "# 01 - Basics\n",
    "\n",
    "### Importing files regardless of where you are\n",
    "\n",
    "As long as you import the `kilroy_was_here.py` file in your notebook (which usually means you copied this file in your notebook directory), you can import any file exisitng in the repository, from anywhere in the repository tree, regardless where you installed the repository on you local computer. \n",
    "\n",
    "Basically, when you import your own files, your importing paths are based on the directory root"
   ]
  },
  {
   "cell_type": "code",
   "execution_count": 2,
   "metadata": {},
   "outputs": [
    {
     "name": "stdout",
     "output_type": "stream",
     "text": [
      "Hello world!\n"
     ]
    }
   ],
   "source": [
    "# Allow access to shared python code from repository root\n",
    "# this sould always be inmprted into any notebook needing to access\n",
    "# either the audace module or your own modules\n",
    "import kilroy_was_here  \n",
    "\n",
    "# see how we defined the import path? \n",
    "# it is neither relative nor absolute\n",
    "from userlib.hello import say_hello_to\n",
    "\n",
    "say_hello_to('world')\n"
   ]
  },
  {
   "cell_type": "markdown",
   "metadata": {},
   "source": [
    "### Using independant paths in your notebooks\n",
    "\n",
    "The `mooltipath()` function allows to build paths that do not depend on:\n",
    "- where you installed your repository on your local computer, \n",
    "- where your notebook stays within the repository's tree\n",
    "- your operating system (No need to worry anymore about using '/', '\\' or `os.sep`)\n",
    "\n",
    "*Note: There is **no need to use** (and **you should not use**) `mooltipath` for subdirectories of your notebook directory.\n",
    "For these directories (e.g those where you store output files or generated figures), simply use `Path` (from the pathlib module) and relative path.*"
   ]
  },
  {
   "cell_type": "code",
   "execution_count": 42,
   "metadata": {},
   "outputs": [
    {
     "name": "stdout",
     "output_type": "stream",
     "text": [
      "mooltipath()                           : D:\\Jupyter\\ShowBees\n",
      "mooltipath('.')                        : D:\\Jupyter\\ShowBees\n",
      "mooltipath('userlib')                  : D:\\Jupyter\\ShowBees\\userlib\n",
      "mooltipath('userlib', 'hello.py')      : D:\\Jupyter\\ShowBees\\userlib\\hello.py\n",
      "mooltipath('/tmp/foo/bar')             : D:\\tmp\\foo\\bar\n",
      "mooltipath('a', 'b','c')               : D:\\Jupyter\\ShowBees\\a\\b\\c\n",
      "mooltipath('a', 'b/c','d/e/f', 'g')    : D:\\Jupyter\\ShowBees\\a\\b\\c\\d\\e\\f\\g\n",
      "mooltipath('a', 'b//c','d\\e/f', 'g\\h') : D:\\Jupyter\\ShowBees\\a\\b\\c\\d\\e\\f\\g\\h\n",
      "mooltipath('a', '/b/c','d/e/f', 'g')   : D:\\b\\c\\d\\e\\f\\g\n",
      "mooltipath('/a', '/b/c','/d/e/f', 'g') : D:\\d\\e\\f\\g\n"
     ]
    }
   ],
   "source": [
    "# Allow access to shared python code from repository root\n",
    "import kilroy_was_here\n",
    "\n",
    "# import mooltipath function\n",
    "from audace.jupytools import mooltipath\n",
    "\n",
    "# this will resolve to the absolute path of the root directory\n",
    "print(\"mooltipath()                           :\", mooltipath())\n",
    "\n",
    "# same here\n",
    "print(\"mooltipath('.')                        :\", mooltipath('.'))\n",
    "\n",
    "\n",
    "# this will resolve to the absolute path of the userlib directory\n",
    "print(\"mooltipath('userlib')                  :\", mooltipath('userlib'))\n",
    "\n",
    "# this will resolve to the absolute path of the hello.py file\n",
    "# under the userlib directory\n",
    "print(\"mooltipath('userlib', 'hello.py')      :\", mooltipath('userlib', 'hello.py'))\n",
    "\n",
    "\n",
    "# Because of the leading slash, this will be absolute\n",
    "print(\"mooltipath('/tmp/foo/bar')             :\", mooltipath('/tmp/foo/bar'))\n",
    "\n",
    "# you can use asmany path segments as you want, either atomic\n",
    "print(\"mooltipath('a', 'b','c')               :\", mooltipath('a', 'b','c'))\n",
    "\n",
    "# or non atomic\n",
    "print(\"mooltipath('a', 'b/c','d/e/f', 'g')    :\", mooltipath('a', 'b/c','d/e/f', 'g'))\n",
    "\n",
    "# you can also use any separator\n",
    "# but it's better to stick to the simple '/'\n",
    "print(\"mooltipath('a', 'b//c','d\\\\e/f', 'g\\h') :\", mooltipath('a', 'b//c','d\\\\e/f', 'g\\h'))\n",
    "\n",
    "# but in any case, remember that using a LEADING SLASH\n",
    "# in ANY of the segments will build an absolute path from this segment\n",
    "# diregarding any previous segments\n",
    "print(\"mooltipath('a', '/b/c','d/e/f', 'g')   :\", mooltipath('a', '/b/c','d/e/f', 'g'))\n",
    "\n",
    "# and if several segments have a leading slash...\n",
    "# (even if there is no reason of doing this)\n",
    "# the absolute path will be built using the LAST segment having a leading slash,\n",
    "# diregarding any previous segments (even if they have a leading slash)\n",
    "print(\"mooltipath('/a', '/b/c','/d/e/f', 'g') :\", mooltipath('/a', '/b/c','/d/e/f', 'g'))\n",
    "\n",
    "# Anyways, mooltipath is not meant for building absolute path\n",
    "# but you may use it as an helper function for building path without worrying about OS separators...\n",
    "# In that case it's better to insure that only the first segment has a leading slash\n",
    "\n",
    "# and remember: There is no need to use (and you you should not use) mooltipath for subdirectories of your notebook directory.\n",
    "# for them, use simply Path from pathlib and relative path"
   ]
  }
 ],
 "metadata": {
  "kernelspec": {
   "display_name": "Python 3",
   "language": "python",
   "name": "python3"
  },
  "language_info": {
   "codemirror_mode": {
    "name": "ipython",
    "version": 3
   },
   "file_extension": ".py",
   "mimetype": "text/x-python",
   "name": "python",
   "nbconvert_exporter": "python",
   "pygments_lexer": "ipython3",
   "version": "3.7.7"
  }
 },
 "nbformat": 4,
 "nbformat_minor": 4
}
