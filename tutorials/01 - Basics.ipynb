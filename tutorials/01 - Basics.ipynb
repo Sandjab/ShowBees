{
 "cells": [
  {
   "cell_type": "code",
   "execution_count": 3,
   "metadata": {},
   "outputs": [
    {
     "name": "stdout",
     "output_type": "stream",
     "text": [
      "In function f1 in mod01\n",
      "In function f2 in mod02\n",
      "In function f3 in mod03\n"
     ]
    }
   ],
   "source": [
    "import warnings                           # This block prevents display of harmless warnings, but should be\n",
    "warnings.filterwarnings('ignore')         # commented out till the final version, to avoid missing \"real\" warnings \n",
    "\n",
    "import kilroy_was_here  # Mandatory. Allow access to shared python code from repository root\n",
    "\n",
    "from codelib.lib01.mod01 import f1\n",
    "\n",
    "f1()\n",
    "\n",
    "\n"
   ]
  }
 ],
 "metadata": {
  "kernelspec": {
   "display_name": "Python 3",
   "language": "python",
   "name": "python3"
  },
  "language_info": {
   "codemirror_mode": {
    "name": "ipython",
    "version": 3
   },
   "file_extension": ".py",
   "mimetype": "text/x-python",
   "name": "python",
   "nbconvert_exporter": "python",
   "pygments_lexer": "ipython3",
   "version": "3.7.7"
  }
 },
 "nbformat": 4,
 "nbformat_minor": 4
}
