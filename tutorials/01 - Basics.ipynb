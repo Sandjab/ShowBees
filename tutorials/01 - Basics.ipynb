{
 "cells": [
  {
   "cell_type": "markdown",
   "metadata": {},
   "source": [
    "# 01 - Basics\n",
    "\n",
    "<hr style=\"border:1px solid gray\"></hr>\n",
    "\n",
    "### Importing files regardless of where you are\n",
    "\n",
    "As long as you import the `kilroy_was_here.py` file in your notebook (which usually means you copied this file in your notebook directory), you can import any file exisitng in the repository, from anywhere in the repository tree, regardless where you installed the repository on you local computer. \n",
    "\n",
    "Basically, when you import your own files, your importing paths are based on the directory root"
   ]
  },
  {
   "cell_type": "code",
   "execution_count": 1,
   "metadata": {},
   "outputs": [
    {
     "name": "stdout",
     "output_type": "stream",
     "text": [
      "Hello world!\n"
     ]
    }
   ],
   "source": [
    "# Allow access to shared python code from repository root\n",
    "# this sould always be imported into any notebook needing to access\n",
    "# either the audace module or your own modules\n",
    "import kilroy_was_here  \n",
    "\n",
    "# see how we defined the import path? \n",
    "# it is neither relative nor absolute\n",
    "from userlib.hello import say_hello_to\n",
    "\n",
    "say_hello_to('world')\n"
   ]
  },
  {
   "cell_type": "markdown",
   "metadata": {},
   "source": [
    "<hr style=\"border:1px solid gray\"></hr>\n",
    "\n",
    "### Using independant paths in your notebooks\n",
    "\n",
    "The `mooltipath()` function allows to build paths that do not depend on:\n",
    "- where you installed your repository on your local computer, \n",
    "- where your notebook stays within the repository's tree\n",
    "- your operating system (No need to worry anymore about using '/', '\\' or `os.sep`)\n",
    "\n",
    "*Note: There is **no need to use** (and **you should not use**) `mooltipath` for subdirectories of your notebook directory.\n",
    "For these directories (e.g those where you store output files or generated figures), simply use `Path` (from the pathlib module) and relative path.*"
   ]
  },
  {
   "cell_type": "code",
   "execution_count": 2,
   "metadata": {
    "scrolled": false
   },
   "outputs": [
    {
     "name": "stdout",
     "output_type": "stream",
     "text": [
      "mooltipath()                           : D:\\Jupyter\\ShowBees\n",
      "mooltipath('.')                        : D:\\Jupyter\\ShowBees\n",
      "mooltipath('userlib')                  : D:\\Jupyter\\ShowBees\\userlib\n",
      "mooltipath('userlib', 'hello.py')      : D:\\Jupyter\\ShowBees\\userlib\\hello.py\n",
      "mooltipath('/tmp/foo/bar')             : D:\\tmp\\foo\\bar\n",
      "mooltipath('a', 'b','c')               : D:\\Jupyter\\ShowBees\\a\\b\\c\n",
      "mooltipath('a', 'b/c','d/e/f', 'g')    : D:\\Jupyter\\ShowBees\\a\\b\\c\\d\\e\\f\\g\n",
      "mooltipath('a', 'b//c','d\\e/f', 'g\\h') : D:\\Jupyter\\ShowBees\\a\\b\\c\\d\\e\\f\\g\\h\n",
      "mooltipath('a', '/b/c','d/e/f', 'g')   : D:\\b\\c\\d\\e\\f\\g\n",
      "mooltipath('/a', '/b/c','/d/e/f', 'g') : D:\\d\\e\\f\\g\n"
     ]
    }
   ],
   "source": [
    "# Allow access to shared python code from repository root\n",
    "import kilroy_was_here\n",
    "\n",
    "# import mooltipath function\n",
    "from audace.jupytools import mooltipath\n",
    "\n",
    "# this will resolve to the absolute path of the root directory\n",
    "print(\"mooltipath()                           :\", mooltipath())\n",
    "\n",
    "# same here\n",
    "print(\"mooltipath('.')                        :\", mooltipath('.'))\n",
    "\n",
    "\n",
    "# this will resolve to the absolute path of the userlib directory\n",
    "print(\"mooltipath('userlib')                  :\", mooltipath('userlib'))\n",
    "\n",
    "# this will resolve to the absolute path of the hello.py file\n",
    "# under the userlib directory\n",
    "print(\"mooltipath('userlib', 'hello.py')      :\", mooltipath('userlib', 'hello.py'))\n",
    "\n",
    "\n",
    "# Because of the leading slash, this will be absolute\n",
    "print(\"mooltipath('/tmp/foo/bar')             :\", mooltipath('/tmp/foo/bar'))\n",
    "\n",
    "# you can use asmany path segments as you want, either atomic\n",
    "print(\"mooltipath('a', 'b','c')               :\", mooltipath('a', 'b','c'))\n",
    "\n",
    "# or non atomic\n",
    "print(\"mooltipath('a', 'b/c','d/e/f', 'g')    :\", mooltipath('a', 'b/c','d/e/f', 'g'))\n",
    "\n",
    "# you can also use any separator\n",
    "# but it's better to stick to the simple '/'\n",
    "print(\"mooltipath('a', 'b//c','d\\\\e/f', 'g\\h') :\", mooltipath('a', 'b//c','d\\\\e/f', 'g\\h'))\n",
    "\n",
    "# but in any case, remember that using a LEADING SLASH\n",
    "# in ANY of the segments will build an absolute path from this segment\n",
    "# diregarding any previous segments\n",
    "print(\"mooltipath('a', '/b/c','d/e/f', 'g')   :\", mooltipath('a', '/b/c','d/e/f', 'g'))\n",
    "\n",
    "# and if several segments have a leading slash...\n",
    "# (even if there is no reason of doing this)\n",
    "# the absolute path will be built using the LAST segment having a leading slash,\n",
    "# diregarding any previous segments (even if they have a leading slash)\n",
    "print(\"mooltipath('/a', '/b/c','/d/e/f', 'g') :\", mooltipath('/a', '/b/c','/d/e/f', 'g'))\n",
    "\n",
    "# Anyways, mooltipath is not meant for building absolute path\n",
    "# but you may use it as an helper function for building path without worrying about OS separators...\n",
    "# In that case it's better to insure that only the first segment has a leading slash\n",
    "\n",
    "# and remember: There is no need to use (and you you should not use) mooltipath for subdirectories of your notebook directory.\n",
    "# for them, use simply Path from pathlib and relative path"
   ]
  },
  {
   "cell_type": "markdown",
   "metadata": {},
   "source": [
    "<hr style=\"border:1px solid gray\"></hr>\n",
    "\n",
    "### Get notebook name\n",
    "\n",
    "Sometimes you need to know the notebook name, for instance if you want to create a specific output directory for this notebook.\n",
    "\n",
    "The `say_my_name()` function returns the notebook name, without extension.\n",
    "\n",
    "it works only when the security is token-based or there is also no password, and will return 'default' in case of failure to obtain the n otebook name.\n"
   ]
  },
  {
   "cell_type": "code",
   "execution_count": 3,
   "metadata": {},
   "outputs": [
    {
     "data": {
      "text/plain": [
       "'01 - Basics'"
      ]
     },
     "execution_count": 3,
     "metadata": {},
     "output_type": "execute_result"
    }
   ],
   "source": [
    "# Allow access to shared python code from repository root\n",
    "import kilroy_was_here\n",
    "\n",
    "# import say_my_name function\n",
    "from audace.jupytools import say_my_name\n",
    "\n",
    "say_my_name()"
   ]
  },
  {
   "cell_type": "markdown",
   "metadata": {},
   "source": [
    "<hr style=\"border:1px solid gray\"></hr>\n",
    "\n",
    "### Insure reproducibility\n",
    "\n",
    "The `predestination()` function allows to seed the various PRNGs, to insure reproducibility.\n",
    "\n",
    "It can be invoked using your prefered seed or without any argument (it will then use the constant `23081965` as the default seed).\n",
    "\n",
    "\n",
    "- ***Note1***: *There is no clean way for seeding SQLite Random() function,  so its use is forbidden. e.g ORDER BY RANDOM() should not be used in an sql query.*\n",
    "- ***Note2***: *repeated execution of a any cell requiring randomness WILL NOT give the same result unless predestination invocation was done from this cell*\n"
   ]
  },
  {
   "cell_type": "code",
   "execution_count": 4,
   "metadata": {},
   "outputs": [
    {
     "name": "stdout",
     "output_type": "stream",
     "text": [
      "----------------------\n",
      "Without predestination\n",
      "First invokation: [10.63753554  9.16064917  9.11183836 10.74450959]\n",
      "Second invokation: [ 9.51290356  9.25565269 10.25345809  8.51106843]\n",
      "----------------------\n",
      "With predestination\n",
      "[10.94548769 10.08877503 10.53941984 10.88152974]\n",
      "[10.94548769 10.08877503 10.53941984 10.88152974]\n"
     ]
    }
   ],
   "source": [
    "import warnings                            # This block prevents display of harmless warnings, but should be\n",
    "warnings.filterwarnings('ignore')          # commented out till the final version, to avoid missing \"real\" warnings\n",
    "\n",
    "# Allow access to shared python code from repository root\n",
    "import kilroy_was_here\n",
    "\n",
    "# import predestination function\n",
    "from audace.jupytools import predestination\n",
    "\n",
    "\n",
    "import numpy as np\n",
    "from scipy.stats import norm\n",
    "\n",
    "print('----------------------')\n",
    "print('Without predestination')\n",
    "print('First invokation:', norm.rvs(10, size = 4))\n",
    "print('Second invokation:', norm.rvs(10, size = 4))\n",
    "\n",
    "print('----------------------')\n",
    "print('With predestination')\n",
    "predestination()\n",
    "print(norm.rvs(10, size = 4))\n",
    "predestination()\n",
    "print(norm.rvs(10, size = 4))\n"
   ]
  }
 ],
 "metadata": {
  "kernelspec": {
   "display_name": "Python 3",
   "language": "python",
   "name": "python3"
  },
  "language_info": {
   "codemirror_mode": {
    "name": "ipython",
    "version": 3
   },
   "file_extension": ".py",
   "mimetype": "text/x-python",
   "name": "python",
   "nbconvert_exporter": "python",
   "pygments_lexer": "ipython3",
   "version": "3.7.7"
  }
 },
 "nbformat": 4,
 "nbformat_minor": 4
}
