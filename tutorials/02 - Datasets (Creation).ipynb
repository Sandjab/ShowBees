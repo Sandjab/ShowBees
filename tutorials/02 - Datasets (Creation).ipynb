{
 "cells": [
  {
   "cell_type": "markdown",
   "metadata": {},
   "source": [
    "# 02 - Datasets (Creation)"
   ]
  },
  {
   "cell_type": "markdown",
   "metadata": {},
   "source": [
    "<hr style=\"border:1px solid gray\"></hr>\n",
    "\n",
    "## Step 1: Initialization and Slicing\n",
    "\n",
    "Here we create the dataset from a bunch of audio source files\n",
    "These files resampled and sliced into chunks, according to the parameters provided in the dataset manifest (sample rate, duration, overlap).\n",
    "\n",
    "A SQLite database is also created for the dataset, to persist any useful information. \n",
    "\n",
    "*Note: In the current version, when multiprocessing, progress is not tracked in jupyter notebook, so you have to look at the console*"
   ]
  },
  {
   "cell_type": "code",
   "execution_count": 1,
   "metadata": {
    "scrolled": false
   },
   "outputs": [
    {
     "name": "stdout",
     "output_type": "stream",
     "text": [
      "[2020-09-03/12:42:34.895|11.4%|72.9%|0.28GB] >>>>> Starting Dataset TUTO build\n",
      "[2020-09-03/12:42:34.914|00.0%|72.9%|0.28GB] Starting to process 2 audio files.\n",
      "[2020-09-03/12:43:01.621|25.3%|72.4%|0.28GB] Creating Database\n",
      "[2020-09-03/12:43:01.637|33.3%|72.4%|0.28GB] Database created\n",
      "[2020-09-03/12:43:01.637|00.0%|72.4%|0.28GB] Please wait, computing checksum...\n",
      "[2020-09-03/12:43:01.721|20.0%|72.5%|0.28GB]   Computed checksum d02ebf42437ed11fa55c3d35cc5502ec\n",
      "[2020-09-03/12:43:01.721|00.0%|72.5%|0.28GB]   Expected checksum d02ebf42437ed11fa55c3d35cc5502ec\n",
      "[2020-09-03/12:43:01.721|00.0%|72.5%|0.28GB] >>>>> Dataset TUTO successfully created.\n",
      "[2020-09-03/12:43:01.721|00.0%|72.5%|0.28GB] ------------------------------------------------------\n",
      "[2020-09-03/12:43:01.721|00.0%|72.5%|0.28GB] DATASET NAME          : TUTO\n",
      "[2020-09-03/12:43:01.721|00.0%|72.5%|0.28GB] DATASET PATH          : D:\\Jupyter\\ShowBees\\datasets\\TUTO\n",
      "[2020-09-03/12:43:01.721|00.0%|72.5%|0.28GB] DATASET DB PATH       : D:\\Jupyter\\ShowBees\\datasets\\TUTO\\TUTO.db\n",
      "[2020-09-03/12:43:01.721|00.0%|72.5%|0.28GB] DATASET SAMPLES PATH  : D:\\Jupyter\\ShowBees\\datasets\\TUTO\\samples\n",
      "[2020-09-03/12:43:01.721|00.0%|72.5%|0.28GB] NB SOURCE AUDIO FILES : 2\n",
      "[2020-09-03/12:43:01.721|00.0%|72.5%|0.28GB] SAMPLE RATE           : 22050\n",
      "[2020-09-03/12:43:01.721|00.0%|72.5%|0.28GB] DURATION              : 60.0\n",
      "[2020-09-03/12:43:01.721|00.0%|72.5%|0.28GB] OVERLAP               : 0.0\n",
      "[2020-09-03/12:43:01.721|00.0%|72.5%|0.28GB] NB AUDIO CHUNKS       : 18\n",
      "[2020-09-03/12:43:01.721|00.0%|72.5%|0.28GB] ------------------------------------------------------\n"
     ]
    }
   ],
   "source": [
    "import warnings                            # This block prevents display of harmless warnings, but should be\n",
    "warnings.filterwarnings('ignore')          # commented out till the final version, to avoid missing \"real\" warnings \n",
    "\n",
    "import kilroy_was_here                     # Mandatory. Allow access to shared python code from repository root\n",
    "from audace.audiodataset import AudioDataset  # Class for audio dataset handling\n",
    "from audace.jupytools import iprint           # timstamped (to the ms) print with CPU and RAM consumption information\n",
    "\n",
    "# Path where to find initial annotated dataset (audio and lab files)\n",
    "SOURCE_PATH ='/Users/jpg/Documents/Nolasco'\n",
    "\n",
    "# Dataset name is the master key for dataset adressing.\n",
    "# He we use a tiny dataset with only 2 audio files\n",
    "# that will be sliced into 60s chunks \n",
    "DATASET_NAME = 'TUTO'\n",
    "\n",
    "# Initialize Dataset Object. \n",
    "try:\n",
    "    #By providing a source path,we implicitly indicates that you want to CREATE the data set.\n",
    "    # Run with a pool of 2 processes\n",
    "    ds = AudioDataset(DATASET_NAME, SOURCE_PATH, nprocs=2)\n",
    "    \n",
    "except FileExistsError:\n",
    "    # To allow rerun, we catch the exception in case the dataset was already created.\n",
    "    # Ideally, you should create the dataset once for all in a dedicated notebook,\n",
    "    # and then retrieve it from other notebooks when needed\n",
    "    # Here, by not providing a source path, we implicitly express the intent of RETRIEVING\n",
    "    # an existing dataset rather than CREATING a new one\n",
    "    iprint(\"Retrieving existing dataset\")\n",
    "    ds = AudioDataset(DATASET_NAME)\n",
    "    iprint(\"Dataset retrieved\")\n",
    "    \n",
    "# The following line provides some information about the newly created (or retrieved) AudioDataset object    \n",
    "ds.info()\n",
    "\n"
   ]
  },
  {
   "cell_type": "markdown",
   "metadata": {},
   "source": [
    "<hr style=\"border:1px solid gray\"></hr>\n",
    "\n",
    "## Step 2: Add Labels\n",
    "\n",
    "Here we add **labels** to our dataset samples. Labels can be set using various functions called ***Providers*** which basically define the source of the label. Providers then make use of **Transformers**, which (as the name suggests) transform the source into an acceptable format.\n",
    "\n",
    "Both providers and transformers are either built in within the toolbox, or developped by the user (the Audace framework provides utilities functions for their development).\n",
    "\n",
    "Labels have a name and a float numeric value \n",
    "\n",
    "- *Note1: By design, labels do not have a string value, as usually machine learning frameworks expect numerals.* \n",
    "- *Note2: Currently, labels are aimed only at binary classifiers, so their value is usually either 0 or 1 (There are some cases where the label value belongs to [0,1] which reflects the confidence associated with the label).*\n",
    "\n",
    "\n",
    "We are adding two labels, using two different labelizers:\n",
    "\n",
    "- the \"queen\" label, using the builtin FromFileName provider, associated with the builtin StringMatcher transformer\n",
    "- the \"nobee\" label, using the builtin FromAnnotation provider, without transformation\n"
   ]
  },
  {
   "cell_type": "markdown",
   "metadata": {},
   "source": [
    "**First, we use the listLabels method to show that no labels where defined**"
   ]
  },
  {
   "cell_type": "code",
   "execution_count": 3,
   "metadata": {},
   "outputs": [
    {
     "data": {
      "text/plain": [
       "[]"
      ]
     },
     "execution_count": 3,
     "metadata": {},
     "output_type": "execute_result"
    }
   ],
   "source": [
    "ds.listLabels()"
   ]
  },
  {
   "cell_type": "markdown",
   "metadata": {},
   "source": [
    "**Next, we add the labels**\n",
    "\n",
    "*Label addition just extends the database tables to store the labels, they have no value yet*"
   ]
  },
  {
   "cell_type": "code",
   "execution_count": 4,
   "metadata": {
    "scrolled": true
   },
   "outputs": [
    {
     "data": {
      "text/plain": [
       "['nobee', 'queen']"
      ]
     },
     "execution_count": 4,
     "metadata": {},
     "output_type": "execute_result"
    }
   ],
   "source": [
    "ds.addLabel(\"queen\")\n",
    "ds.addLabel(\"nobee\")\n",
    "\n",
    "# Check that labels were created\n",
    "ds.listLabels()"
   ]
  },
  {
   "cell_type": "code",
   "execution_count": 5,
   "metadata": {},
   "outputs": [
    {
     "name": "stdout",
     "output_type": "stream",
     "text": [
      "[2020-09-03/12:48:19.373|06.5%|72.2%|0.28GB] 18 samples where processed for 'queen' label\n"
     ]
    },
    {
     "data": {
      "application/vnd.jupyter.widget-view+json": {
       "model_id": "9275f0fcc4004572a2ccbd6355ed3cbf",
       "version_major": 2,
       "version_minor": 0
      },
      "text/plain": [
       "HBox(children=(FloatProgress(value=0.0, description='Annotating nobee', max=2.0, style=ProgressStyle(descripti…"
      ]
     },
     "metadata": {},
     "output_type": "display_data"
    },
    {
     "name": "stdout",
     "output_type": "stream",
     "text": [
      "\n",
      "[2020-09-03/12:48:19.403|35.7%|72.2%|0.28GB] 18 samples where processed for 'nobee' label\n"
     ]
    }
   ],
   "source": [
    "from audace import providers\n",
    "from audace import transformers\n",
    "\n",
    "# The \"queen\" label value is deduced from the source file name, using a StringMapper transformer\n",
    "# This transformer iterates over a list 2-uples (regular expression, target value) and return\n",
    "# the target value as soon as a match is found. Thus, you must order your list from stricter to looser\n",
    "trsfrm_queen = transformers.StringMapper(\n",
    "        [('(?i)active', 1), \n",
    "         ('(?i)missing queen', 0),\n",
    "         ('NO_QueenBee', 0),\n",
    "         ('QueenBee', 1)     \n",
    "        ])\n",
    "\n",
    "# The transformer is then used over the source filenames, using the FromFileName provider\n",
    "# This labelizer does not provide label strength.\n",
    "\n",
    "n = ds.setLabel('queen', providers.FromFileName(trsfrm_queen))\n",
    "iprint(n, \"samples where processed for 'queen' label\")\n",
    "\n",
    "# The \"nobee\" label value comes from annotation files, (.lab files using the same base name as the audio\n",
    "# source file they annotate), using the FromAnnotation labelizer, with no transformation.\n",
    "# This labelizer takes 2 arguments:\n",
    "# - a mandatory source path, pointing to the directory where the .lab files reside\n",
    "# - an optional threshold, allowing to disregard any \"label\" event with a duration under this treshold\n",
    "# The label strength over a sample is computed by summing the duration of \"label\" events (if > th) and dividing\n",
    "#   this sum by the sample duration\n",
    " \n",
    "n = ds.setLabel('nobee', providers.FromAnnotation(SOURCE_PATH, th=0))\n",
    "iprint(n, \"samples where processed for 'nobee' label\")"
   ]
  },
  {
   "cell_type": "markdown",
   "metadata": {},
   "source": [
    "<hr style=\"border:1px solid gray\"></hr>\n",
    "\n",
    "## Step 3: Add Attributes\n",
    "\n",
    "Here we add **attributes** to our dataset samples. Just like Labels, Attributes make use of providers and transformers \n",
    "\n",
    "Attributes can be used to \"tag\" samples, for future subsets extractions. They have a name, and a value, always stored as a string (note the difference with labels)\n",
    "\n",
    "Here we tag each sample with the hive it belongs to. As the hive is encoded in the first 5 characters of the source file name, we use a FromFileName attributor, with a StringMatcher transformer."
   ]
  },
  {
   "cell_type": "code",
   "execution_count": 6,
   "metadata": {},
   "outputs": [
    {
     "data": {
      "text/plain": [
       "['hive']"
      ]
     },
     "execution_count": 6,
     "metadata": {},
     "output_type": "execute_result"
    }
   ],
   "source": [
    "#The string matcher transformer behave differently than the StringMapper. It uses regexp\n",
    "# capture group to retrieve part pf a string matching a specific pattern. This can be used\n",
    "# either for complex or very basic matching. Here we just ask for the five first chars,\n",
    "# provided they belong to characters valid for identifiers (A-Z, a-z,0-9 and underscore)\n",
    "ds.addAttribute('hive')\n",
    "ds.setAttribute('hive', providers.FromFileName(transformers.StringMatcher(\"^(\\w{5})\")))\n",
    "ds.listAttributes()"
   ]
  },
  {
   "cell_type": "markdown",
   "metadata": {},
   "source": [
    "<hr style=\"border:1px solid gray\"></hr>\n",
    "\n",
    "## Step 4: Perform some requests\n",
    "\n",
    "**You can dump the full db as a pandas dataframe**"
   ]
  },
  {
   "cell_type": "code",
   "execution_count": 7,
   "metadata": {
    "scrolled": false
   },
   "outputs": [
    {
     "data": {
      "text/html": [
       "<div>\n",
       "<style scoped>\n",
       "    .dataframe tbody tr th:only-of-type {\n",
       "        vertical-align: middle;\n",
       "    }\n",
       "\n",
       "    .dataframe tbody tr th {\n",
       "        vertical-align: top;\n",
       "    }\n",
       "\n",
       "    .dataframe thead th {\n",
       "        text-align: right;\n",
       "    }\n",
       "</style>\n",
       "<table border=\"1\" class=\"dataframe\">\n",
       "  <thead>\n",
       "    <tr style=\"text-align: right;\">\n",
       "      <th></th>\n",
       "      <th>name</th>\n",
       "      <th>file_id</th>\n",
       "      <th>start_t</th>\n",
       "      <th>end_t</th>\n",
       "      <th>queen</th>\n",
       "      <th>nobee</th>\n",
       "      <th>hive</th>\n",
       "    </tr>\n",
       "  </thead>\n",
       "  <tbody>\n",
       "    <tr>\n",
       "      <th>0</th>\n",
       "      <td>00-000000</td>\n",
       "      <td>1</td>\n",
       "      <td>0.0</td>\n",
       "      <td>60.0</td>\n",
       "      <td>1.0</td>\n",
       "      <td>0.084</td>\n",
       "      <td>Hive1</td>\n",
       "    </tr>\n",
       "    <tr>\n",
       "      <th>1</th>\n",
       "      <td>00-000001</td>\n",
       "      <td>1</td>\n",
       "      <td>60.0</td>\n",
       "      <td>120.0</td>\n",
       "      <td>1.0</td>\n",
       "      <td>0.001</td>\n",
       "      <td>Hive1</td>\n",
       "    </tr>\n",
       "    <tr>\n",
       "      <th>2</th>\n",
       "      <td>00-000002</td>\n",
       "      <td>1</td>\n",
       "      <td>120.0</td>\n",
       "      <td>180.0</td>\n",
       "      <td>1.0</td>\n",
       "      <td>0.583</td>\n",
       "      <td>Hive1</td>\n",
       "    </tr>\n",
       "    <tr>\n",
       "      <th>3</th>\n",
       "      <td>00-000003</td>\n",
       "      <td>1</td>\n",
       "      <td>180.0</td>\n",
       "      <td>240.0</td>\n",
       "      <td>1.0</td>\n",
       "      <td>0.125</td>\n",
       "      <td>Hive1</td>\n",
       "    </tr>\n",
       "    <tr>\n",
       "      <th>4</th>\n",
       "      <td>00-000004</td>\n",
       "      <td>1</td>\n",
       "      <td>240.0</td>\n",
       "      <td>300.0</td>\n",
       "      <td>1.0</td>\n",
       "      <td>0.499</td>\n",
       "      <td>Hive1</td>\n",
       "    </tr>\n",
       "    <tr>\n",
       "      <th>5</th>\n",
       "      <td>00-000005</td>\n",
       "      <td>1</td>\n",
       "      <td>300.0</td>\n",
       "      <td>360.0</td>\n",
       "      <td>1.0</td>\n",
       "      <td>0.459</td>\n",
       "      <td>Hive1</td>\n",
       "    </tr>\n",
       "    <tr>\n",
       "      <th>6</th>\n",
       "      <td>00-000006</td>\n",
       "      <td>1</td>\n",
       "      <td>360.0</td>\n",
       "      <td>420.0</td>\n",
       "      <td>1.0</td>\n",
       "      <td>0.581</td>\n",
       "      <td>Hive1</td>\n",
       "    </tr>\n",
       "    <tr>\n",
       "      <th>7</th>\n",
       "      <td>00-000007</td>\n",
       "      <td>1</td>\n",
       "      <td>420.0</td>\n",
       "      <td>480.0</td>\n",
       "      <td>1.0</td>\n",
       "      <td>0.126</td>\n",
       "      <td>Hive1</td>\n",
       "    </tr>\n",
       "    <tr>\n",
       "      <th>8</th>\n",
       "      <td>00-000008</td>\n",
       "      <td>1</td>\n",
       "      <td>480.0</td>\n",
       "      <td>540.0</td>\n",
       "      <td>1.0</td>\n",
       "      <td>0.541</td>\n",
       "      <td>Hive1</td>\n",
       "    </tr>\n",
       "    <tr>\n",
       "      <th>9</th>\n",
       "      <td>01-000000</td>\n",
       "      <td>2</td>\n",
       "      <td>0.0</td>\n",
       "      <td>60.0</td>\n",
       "      <td>0.0</td>\n",
       "      <td>0.064</td>\n",
       "      <td>Hive3</td>\n",
       "    </tr>\n",
       "    <tr>\n",
       "      <th>10</th>\n",
       "      <td>01-000001</td>\n",
       "      <td>2</td>\n",
       "      <td>60.0</td>\n",
       "      <td>120.0</td>\n",
       "      <td>0.0</td>\n",
       "      <td>0.293</td>\n",
       "      <td>Hive3</td>\n",
       "    </tr>\n",
       "    <tr>\n",
       "      <th>11</th>\n",
       "      <td>01-000002</td>\n",
       "      <td>2</td>\n",
       "      <td>120.0</td>\n",
       "      <td>180.0</td>\n",
       "      <td>0.0</td>\n",
       "      <td>0.114</td>\n",
       "      <td>Hive3</td>\n",
       "    </tr>\n",
       "    <tr>\n",
       "      <th>12</th>\n",
       "      <td>01-000003</td>\n",
       "      <td>2</td>\n",
       "      <td>180.0</td>\n",
       "      <td>240.0</td>\n",
       "      <td>0.0</td>\n",
       "      <td>0.170</td>\n",
       "      <td>Hive3</td>\n",
       "    </tr>\n",
       "    <tr>\n",
       "      <th>13</th>\n",
       "      <td>01-000004</td>\n",
       "      <td>2</td>\n",
       "      <td>240.0</td>\n",
       "      <td>300.0</td>\n",
       "      <td>0.0</td>\n",
       "      <td>0.000</td>\n",
       "      <td>Hive3</td>\n",
       "    </tr>\n",
       "    <tr>\n",
       "      <th>14</th>\n",
       "      <td>01-000005</td>\n",
       "      <td>2</td>\n",
       "      <td>300.0</td>\n",
       "      <td>360.0</td>\n",
       "      <td>0.0</td>\n",
       "      <td>0.411</td>\n",
       "      <td>Hive3</td>\n",
       "    </tr>\n",
       "    <tr>\n",
       "      <th>15</th>\n",
       "      <td>01-000006</td>\n",
       "      <td>2</td>\n",
       "      <td>360.0</td>\n",
       "      <td>420.0</td>\n",
       "      <td>0.0</td>\n",
       "      <td>0.244</td>\n",
       "      <td>Hive3</td>\n",
       "    </tr>\n",
       "    <tr>\n",
       "      <th>16</th>\n",
       "      <td>01-000007</td>\n",
       "      <td>2</td>\n",
       "      <td>420.0</td>\n",
       "      <td>480.0</td>\n",
       "      <td>0.0</td>\n",
       "      <td>0.803</td>\n",
       "      <td>Hive3</td>\n",
       "    </tr>\n",
       "    <tr>\n",
       "      <th>17</th>\n",
       "      <td>01-000008</td>\n",
       "      <td>2</td>\n",
       "      <td>480.0</td>\n",
       "      <td>540.0</td>\n",
       "      <td>0.0</td>\n",
       "      <td>0.679</td>\n",
       "      <td>Hive3</td>\n",
       "    </tr>\n",
       "  </tbody>\n",
       "</table>\n",
       "</div>"
      ],
      "text/plain": [
       "         name  file_id  start_t  end_t  queen  nobee   hive\n",
       "0   00-000000        1      0.0   60.0    1.0  0.084  Hive1\n",
       "1   00-000001        1     60.0  120.0    1.0  0.001  Hive1\n",
       "2   00-000002        1    120.0  180.0    1.0  0.583  Hive1\n",
       "3   00-000003        1    180.0  240.0    1.0  0.125  Hive1\n",
       "4   00-000004        1    240.0  300.0    1.0  0.499  Hive1\n",
       "5   00-000005        1    300.0  360.0    1.0  0.459  Hive1\n",
       "6   00-000006        1    360.0  420.0    1.0  0.581  Hive1\n",
       "7   00-000007        1    420.0  480.0    1.0  0.126  Hive1\n",
       "8   00-000008        1    480.0  540.0    1.0  0.541  Hive1\n",
       "9   01-000000        2      0.0   60.0    0.0  0.064  Hive3\n",
       "10  01-000001        2     60.0  120.0    0.0  0.293  Hive3\n",
       "11  01-000002        2    120.0  180.0    0.0  0.114  Hive3\n",
       "12  01-000003        2    180.0  240.0    0.0  0.170  Hive3\n",
       "13  01-000004        2    240.0  300.0    0.0  0.000  Hive3\n",
       "14  01-000005        2    300.0  360.0    0.0  0.411  Hive3\n",
       "15  01-000006        2    360.0  420.0    0.0  0.244  Hive3\n",
       "16  01-000007        2    420.0  480.0    0.0  0.803  Hive3\n",
       "17  01-000008        2    480.0  540.0    0.0  0.679  Hive3"
      ]
     },
     "execution_count": 7,
     "metadata": {},
     "output_type": "execute_result"
    }
   ],
   "source": [
    "# this dump all columns from the samples table into a pandas dataframe\n",
    "ds.dumpDataFrame()"
   ]
  },
  {
   "cell_type": "markdown",
   "metadata": {},
   "source": [
    "**Or be more specific**\n",
    "\n",
    "Here we select only some columns, for chuncks without external perturbation (nobee = 0)"
   ]
  },
  {
   "cell_type": "code",
   "execution_count": 8,
   "metadata": {
    "scrolled": false
   },
   "outputs": [
    {
     "data": {
      "text/html": [
       "<div>\n",
       "<style scoped>\n",
       "    .dataframe tbody tr th:only-of-type {\n",
       "        vertical-align: middle;\n",
       "    }\n",
       "\n",
       "    .dataframe tbody tr th {\n",
       "        vertical-align: top;\n",
       "    }\n",
       "\n",
       "    .dataframe thead th {\n",
       "        text-align: right;\n",
       "    }\n",
       "</style>\n",
       "<table border=\"1\" class=\"dataframe\">\n",
       "  <thead>\n",
       "    <tr style=\"text-align: right;\">\n",
       "      <th></th>\n",
       "      <th>name</th>\n",
       "      <th>hive</th>\n",
       "      <th>nobee</th>\n",
       "      <th>queen</th>\n",
       "    </tr>\n",
       "  </thead>\n",
       "  <tbody>\n",
       "    <tr>\n",
       "      <th>0</th>\n",
       "      <td>01-000004</td>\n",
       "      <td>Hive3</td>\n",
       "      <td>0.0</td>\n",
       "      <td>0.0</td>\n",
       "    </tr>\n",
       "  </tbody>\n",
       "</table>\n",
       "</div>"
      ],
      "text/plain": [
       "        name   hive  nobee  queen\n",
       "0  01-000004  Hive3    0.0    0.0"
      ]
     },
     "execution_count": 8,
     "metadata": {},
     "output_type": "execute_result"
    }
   ],
   "source": [
    "# but you can also be more specific\n",
    "ds.queryDataFrame(\"select name, hive, nobee, queen from samples where nobee = 0\")"
   ]
  },
  {
   "cell_type": "markdown",
   "metadata": {},
   "source": [
    "**Or use sqlite builtin functions and the full power of the sql langage**\n",
    "\n",
    "Here  we select only chunks recorded on Hived1, that were perturbed by an external noise, ordered by descending perturbation ratio, and at the same time we binarize this perturbation ratio into a boolean via the use of the iif sqlite builtin function."
   ]
  },
  {
   "cell_type": "code",
   "execution_count": 9,
   "metadata": {},
   "outputs": [
    {
     "data": {
      "text/html": [
       "<div>\n",
       "<style scoped>\n",
       "    .dataframe tbody tr th:only-of-type {\n",
       "        vertical-align: middle;\n",
       "    }\n",
       "\n",
       "    .dataframe tbody tr th {\n",
       "        vertical-align: top;\n",
       "    }\n",
       "\n",
       "    .dataframe thead th {\n",
       "        text-align: right;\n",
       "    }\n",
       "</style>\n",
       "<table border=\"1\" class=\"dataframe\">\n",
       "  <thead>\n",
       "    <tr style=\"text-align: right;\">\n",
       "      <th></th>\n",
       "      <th>rowid</th>\n",
       "      <th>name</th>\n",
       "      <th>file_id</th>\n",
       "      <th>hive</th>\n",
       "      <th>nobee</th>\n",
       "      <th>b_nobee</th>\n",
       "    </tr>\n",
       "  </thead>\n",
       "  <tbody>\n",
       "    <tr>\n",
       "      <th>0</th>\n",
       "      <td>3</td>\n",
       "      <td>00-000002</td>\n",
       "      <td>1</td>\n",
       "      <td>Hive1</td>\n",
       "      <td>0.583</td>\n",
       "      <td>1</td>\n",
       "    </tr>\n",
       "    <tr>\n",
       "      <th>1</th>\n",
       "      <td>7</td>\n",
       "      <td>00-000006</td>\n",
       "      <td>1</td>\n",
       "      <td>Hive1</td>\n",
       "      <td>0.581</td>\n",
       "      <td>1</td>\n",
       "    </tr>\n",
       "    <tr>\n",
       "      <th>2</th>\n",
       "      <td>9</td>\n",
       "      <td>00-000008</td>\n",
       "      <td>1</td>\n",
       "      <td>Hive1</td>\n",
       "      <td>0.541</td>\n",
       "      <td>1</td>\n",
       "    </tr>\n",
       "    <tr>\n",
       "      <th>3</th>\n",
       "      <td>5</td>\n",
       "      <td>00-000004</td>\n",
       "      <td>1</td>\n",
       "      <td>Hive1</td>\n",
       "      <td>0.499</td>\n",
       "      <td>1</td>\n",
       "    </tr>\n",
       "    <tr>\n",
       "      <th>4</th>\n",
       "      <td>6</td>\n",
       "      <td>00-000005</td>\n",
       "      <td>1</td>\n",
       "      <td>Hive1</td>\n",
       "      <td>0.459</td>\n",
       "      <td>1</td>\n",
       "    </tr>\n",
       "    <tr>\n",
       "      <th>5</th>\n",
       "      <td>8</td>\n",
       "      <td>00-000007</td>\n",
       "      <td>1</td>\n",
       "      <td>Hive1</td>\n",
       "      <td>0.126</td>\n",
       "      <td>1</td>\n",
       "    </tr>\n",
       "    <tr>\n",
       "      <th>6</th>\n",
       "      <td>4</td>\n",
       "      <td>00-000003</td>\n",
       "      <td>1</td>\n",
       "      <td>Hive1</td>\n",
       "      <td>0.125</td>\n",
       "      <td>1</td>\n",
       "    </tr>\n",
       "    <tr>\n",
       "      <th>7</th>\n",
       "      <td>1</td>\n",
       "      <td>00-000000</td>\n",
       "      <td>1</td>\n",
       "      <td>Hive1</td>\n",
       "      <td>0.084</td>\n",
       "      <td>0</td>\n",
       "    </tr>\n",
       "    <tr>\n",
       "      <th>8</th>\n",
       "      <td>2</td>\n",
       "      <td>00-000001</td>\n",
       "      <td>1</td>\n",
       "      <td>Hive1</td>\n",
       "      <td>0.001</td>\n",
       "      <td>0</td>\n",
       "    </tr>\n",
       "  </tbody>\n",
       "</table>\n",
       "</div>"
      ],
      "text/plain": [
       "   rowid       name  file_id   hive  nobee  b_nobee\n",
       "0      3  00-000002        1  Hive1  0.583        1\n",
       "1      7  00-000006        1  Hive1  0.581        1\n",
       "2      9  00-000008        1  Hive1  0.541        1\n",
       "3      5  00-000004        1  Hive1  0.499        1\n",
       "4      6  00-000005        1  Hive1  0.459        1\n",
       "5      8  00-000007        1  Hive1  0.126        1\n",
       "6      4  00-000003        1  Hive1  0.125        1\n",
       "7      1  00-000000        1  Hive1  0.084        0\n",
       "8      2  00-000001        1  Hive1  0.001        0"
      ]
     },
     "execution_count": 9,
     "metadata": {},
     "output_type": "execute_result"
    }
   ],
   "source": [
    "sql = \"\"\"\n",
    "select\n",
    "    rowid,\n",
    "    name,\n",
    "    file_id,\n",
    "    hive,\n",
    "    nobee,\n",
    "    iif(nobee < 0.1, 0, 1) as b_nobee -- using sqlite builtin function \n",
    "from samples\n",
    "where hive = 'Hive1'\n",
    "and nobee != 0\n",
    "ORDER BY nobee DESC\n",
    "\"\"\"\n",
    "ds.queryDataFrame(sql)"
   ]
  }
 ],
 "metadata": {
  "kernelspec": {
   "display_name": "Python 3",
   "language": "python",
   "name": "python3"
  },
  "language_info": {
   "codemirror_mode": {
    "name": "ipython",
    "version": 3
   },
   "file_extension": ".py",
   "mimetype": "text/x-python",
   "name": "python",
   "nbconvert_exporter": "python",
   "pygments_lexer": "ipython3",
   "version": "3.7.7"
  }
 },
 "nbformat": 4,
 "nbformat_minor": 4
}
