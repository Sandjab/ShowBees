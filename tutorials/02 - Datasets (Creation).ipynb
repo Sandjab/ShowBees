{
 "cells": [
  {
   "cell_type": "markdown",
   "metadata": {},
   "source": [
    "# 01 - Dataset Creation\n"
   ]
  },
  {
   "cell_type": "markdown",
   "metadata": {},
   "source": [
    "## Step 1: Initialization and Slicing\n",
    "\n",
    "Here we create the dataset from a bunch of audio source files\n",
    "These files resampled and sliced into chunks, according to the parameters provided in the dataset manifest (sample rate, duration, overlap).\n",
    "\n",
    "A SQLite database is also created for the dataset, to persist any useful information. \n",
    "\n",
    "*Note: When multiprocessing, progress is not tracked in jupyter notebook, so you have to look at the console*"
   ]
  },
  {
   "cell_type": "code",
   "execution_count": 1,
   "metadata": {},
   "outputs": [
    {
     "name": "stdout",
     "output_type": "stream",
     "text": [
      "[2020-08-07/21:40:56.002|12.8%|78.0%|0.25GB] The dataset directory (D:\\Jupyter\\ShowBees\\datasets\\SMALL1005) already exists.\n",
      "[2020-08-07/21:40:56.002|00.0%|78.0%|0.25GB] If you really intent to CREATE this dataset, please erase this directory first\n",
      "[2020-08-07/21:40:56.002|00.0%|78.0%|0.25GB] ### ABORTING! ###\n",
      "[2020-08-07/21:40:56.002|00.0%|78.0%|0.25GB] Retrieving existing dataset\n",
      "[2020-08-07/21:40:56.003|00.0%|78.0%|0.25GB] Dataset retrieved\n",
      "[2020-08-07/21:40:56.004|20.0%|78.0%|0.25GB] ------------------------------------------------------\n",
      "[2020-08-07/21:40:56.004|00.0%|78.0%|0.25GB] DATASET PATH          : D:\\Jupyter\\ShowBees\\datasets\\SMALL1005\n",
      "[2020-08-07/21:40:56.004|00.0%|78.0%|0.25GB] DATASET DB PATH       : D:\\Jupyter\\ShowBees\\datasets\\SMALL1005\\database.db\n",
      "[2020-08-07/21:40:56.004|00.0%|78.0%|0.25GB] DATASET SAMPLES PATH  : D:\\Jupyter\\ShowBees\\datasets\\SMALL1005\\samples\n",
      "[2020-08-07/21:40:56.004|00.0%|78.0%|0.25GB] NB SOURCE AUDIO FILES : 4\n",
      "[2020-08-07/21:40:56.004|00.0%|78.0%|0.25GB] SAMPLE RATE           : 22050\n",
      "[2020-08-07/21:40:56.004|00.0%|78.0%|0.25GB] DURATION              : 1.0\n",
      "[2020-08-07/21:40:56.004|00.0%|78.0%|0.25GB] OVERLAP               : 0.5\n",
      "[2020-08-07/21:40:56.004|00.0%|78.0%|0.25GB] NB AUDIO CHUNKS       : 4744\n",
      "[2020-08-07/21:40:56.005|00.0%|78.0%|0.25GB] ------------------------------------------------------\n"
     ]
    }
   ],
   "source": [
    "import warnings                            # This block prevents display of harmless warnings, but should be\n",
    "warnings.filterwarnings('ignore')          # commented out till the final version, to avoid missing \"real\" warnings \n",
    "\n",
    "import kilroy_was_here                     # Mandatory. Allow access to shared python code from repository root\n",
    "from lib.audiodataset import AudioDataset  # Class for audio dataset handling\n",
    "from lib.jupytools import iprint           # timstamped (to the ms) print with CPU and RAM consumption information\n",
    "\n",
    "# Path where to find initial annotated dataset (audio and lab files)\n",
    "SOURCE_PATH ='D:/datasets/sounds/Nolasco'\n",
    "\n",
    "# Dataset name is the master key for dataset adressing.\n",
    "DATASET_NAME = 'SMALL1005'\n",
    "\n",
    "# Initialize Dataset Object. \n",
    "try:\n",
    "    #By providing a source path,we implicitly indicates that you want to CREATE the data set.\n",
    "    # Run with a pool of 4 processes\n",
    "    ds = AudioDataset(DATASET_NAME, SOURCE_PATH, nprocs=4)\n",
    "    \n",
    "except FileExistsError:\n",
    "    # To allow rerun, we catch the exception in case the dataset was already created.\n",
    "    # Ideally, you should create the dataset once for all in a dedicated notebook,\n",
    "    # and then retrieve it from other notebooks when needed\n",
    "    # Here, by not providing a source path, we implicitly express the intent of RETRIEVING\n",
    "    # an existing dataset rather than CREATING a new one\n",
    "    iprint(\"Retrieving existing dataset\")\n",
    "    ds = AudioDataset(DATASET_NAME)\n",
    "    iprint(\"Dataset retrieved\")\n",
    "    \n",
    "# The following line provides some information about the newly created (or retrieved) AudioDataset object    \n",
    "ds.info()\n",
    "\n"
   ]
  },
  {
   "cell_type": "markdown",
   "metadata": {},
   "source": [
    "## Step 2: Add Labels\n",
    "\n",
    "Here we add **labels** to our dataset samples. Labels can be set using various functions called ***Labelizers*** which basically define the source of the label, and the way it wil be inserted into the database. Labelizers then make use of **Transformers**, which (as the name suggests) transform the source into an acceptable format.\n",
    "\n",
    "Both labelizers and transformers are either built in within the toolbox, or developped by the user (the toolbox provides utilities functions for their development).\n",
    "\n",
    "Labels have a name and a float numeric value \n",
    "\n",
    "- *Note1: By design, labels do not have a string value, as usually machine learning frameworks expect numerals.* \n",
    "- *Note2: Currently, labels are aimed only at binary classifiers, so their value is usually either 0 or 1 (There are some cases where the label value belongs to [0,1] which reflects the confidence associated with the label).*\n",
    "\n",
    "\n",
    "We are adding two labels, using two different labelizers:\n",
    "\n",
    "- the \"queen\" label, using the builtin FromFileName labelizer, associated with the builtin StringMatcher transformer\n",
    "- the \"nobee\" label, using the builtin FromAnnotation labelizer, without transformation\n"
   ]
  },
  {
   "cell_type": "markdown",
   "metadata": {},
   "source": [
    "**First, we use the listLabels method to show that no labels where defined**"
   ]
  },
  {
   "cell_type": "code",
   "execution_count": 3,
   "metadata": {},
   "outputs": [
    {
     "data": {
      "text/plain": [
       "[]"
      ]
     },
     "execution_count": 3,
     "metadata": {},
     "output_type": "execute_result"
    }
   ],
   "source": [
    "ds.listLabels()"
   ]
  },
  {
   "cell_type": "markdown",
   "metadata": {},
   "source": [
    "**Next, we add the labels**\n",
    "\n",
    "*Label addition just extends the database tables to store the labels, they have no value yet*"
   ]
  },
  {
   "cell_type": "code",
   "execution_count": 4,
   "metadata": {},
   "outputs": [
    {
     "data": {
      "text/plain": [
       "['nobee', 'queen']"
      ]
     },
     "execution_count": 4,
     "metadata": {},
     "output_type": "execute_result"
    }
   ],
   "source": [
    "ds.addLabel(\"queen\")\n",
    "ds.addLabel(\"nobee\")\n",
    "\n",
    "# Check that labels were created\n",
    "ds.listLabels()"
   ]
  },
  {
   "cell_type": "code",
   "execution_count": 10,
   "metadata": {},
   "outputs": [
    {
     "name": "stdout",
     "output_type": "stream",
     "text": [
      "[2020-08-07/21:14:06.038|06.5%|76.6%|0.26GB] 4744 samples where processed for 'queen' label\n",
      "[2020-08-07/21:14:07.034|12.9%|76.6%|0.26GB] 4744 samples where processed for 'nobee' label\n"
     ]
    }
   ],
   "source": [
    "from lib import labelizers\n",
    "from lib import transformers\n",
    "\n",
    "# The \"queen\" label value is deduced from the source file name, using a StringMapper transformer\n",
    "# This transformer iterates over a list 2-uples (regular expression, target value) and return\n",
    "# the target value as soon as a match is found. Thus, you must order your list from stricter to looser\n",
    "trsfrm_queen = transformers.StringMapper(\n",
    "        [('(?i)active', 1), \n",
    "         ('(?i)missing queen', 0),\n",
    "         ('NO_QueenBee', 0),\n",
    "         ('QueenBee', 1)     \n",
    "        ])\n",
    "\n",
    "# The transformer is then used over the source filenames, using the FromFileName labelizer\n",
    "# This labelizer does not provide label strength.\n",
    "\n",
    "n = ds.setLabel('queen', labelizers.FromFileName(trsfrm_queen))\n",
    "iprint(n, \"samples where processed for 'queen' label\")\n",
    "\n",
    "# The \"nobee\" label value comes from annotation files, (.lab files using the same base name as the audio\n",
    "# source file they annotate), using the FromAnnotation labelizer, with no transformation.\n",
    "# This labelizer takes 2 arguments:\n",
    "# - a mandatory source path, pointing to the directory where the .lab files reside\n",
    "# - an optional threshold, allowing to disregard any \"label\" event with a duration under this treshold\n",
    "# The label strength over a sample is computed by summing the duration of \"label\" events (if > th) and dividing\n",
    "#   this sum by the sample duration\n",
    " \n",
    "n = ds.setLabel('nobee', labelizers.FromAnnotation(SOURCE_PATH, th=0))\n",
    "iprint(n, \"samples where processed for 'nobee' label\")"
   ]
  },
  {
   "cell_type": "markdown",
   "metadata": {},
   "source": [
    "## Step 3: Add Attributes\n",
    "\n",
    "Here we add **attributes** to our dataset samples. Attributes can be set using various functions called ***Attributors***, either builtin within the toolbox, or developped by the user (the toolbox provides utilities functions for Attributors development).\n",
    "\n",
    "Attributes can be used to \"tag\" samples, for future subsets extractions. They have a name, and a value, always stored as a string (note the difference with labels)\n",
    "\n",
    "Here we tag each sample with the hive it belongs to. As the hive is encoded in the first 5 characters of the source file name, we use a FromFileName attributor, with a StringMatcher transformer."
   ]
  },
  {
   "cell_type": "code",
   "execution_count": 11,
   "metadata": {},
   "outputs": [
    {
     "name": "stdout",
     "output_type": "stream",
     "text": [
      "None\n"
     ]
    },
    {
     "data": {
      "text/plain": [
       "4744"
      ]
     },
     "execution_count": 11,
     "metadata": {},
     "output_type": "execute_result"
    }
   ],
   "source": [
    "from lib import attributors\n",
    "\n",
    "#The string matcher transformer behave differently than the StringMapper. It uses regexp\n",
    "# capture group to retrieve part pf a string matching a specific pattern. This can be used\n",
    "# either for complex or very basic matching. Here we just ask for the five first chars,\n",
    "# provided they belong to characters valid for identifiers (A-Z, a-z,0-9 and underscore)\n",
    "ds.addAttribute('hive')\n",
    "ds.setAttribute('hive', attributors.FromFileName(transformers.StringMatcher(\"^(\\w{5})\")))"
   ]
  },
  {
   "cell_type": "markdown",
   "metadata": {},
   "source": [
    "## Step 4: Perform some requests"
   ]
  },
  {
   "cell_type": "code",
   "execution_count": 18,
   "metadata": {
    "scrolled": true
   },
   "outputs": [
    {
     "data": {
      "text/html": [
       "<div>\n",
       "<style scoped>\n",
       "    .dataframe tbody tr th:only-of-type {\n",
       "        vertical-align: middle;\n",
       "    }\n",
       "\n",
       "    .dataframe tbody tr th {\n",
       "        vertical-align: top;\n",
       "    }\n",
       "\n",
       "    .dataframe thead th {\n",
       "        text-align: right;\n",
       "    }\n",
       "</style>\n",
       "<table border=\"1\" class=\"dataframe\">\n",
       "  <thead>\n",
       "    <tr style=\"text-align: right;\">\n",
       "      <th></th>\n",
       "      <th>name</th>\n",
       "      <th>file_id</th>\n",
       "      <th>start_t</th>\n",
       "      <th>end_t</th>\n",
       "      <th>queen</th>\n",
       "      <th>nobee</th>\n",
       "      <th>hive</th>\n",
       "    </tr>\n",
       "  </thead>\n",
       "  <tbody>\n",
       "    <tr>\n",
       "      <th>0</th>\n",
       "      <td>00-000000</td>\n",
       "      <td>1</td>\n",
       "      <td>0.0</td>\n",
       "      <td>1.0</td>\n",
       "      <td>1.0</td>\n",
       "      <td>0.0</td>\n",
       "      <td>Hive1</td>\n",
       "    </tr>\n",
       "    <tr>\n",
       "      <th>1</th>\n",
       "      <td>00-000001</td>\n",
       "      <td>1</td>\n",
       "      <td>0.5</td>\n",
       "      <td>1.5</td>\n",
       "      <td>1.0</td>\n",
       "      <td>0.0</td>\n",
       "      <td>Hive1</td>\n",
       "    </tr>\n",
       "    <tr>\n",
       "      <th>2</th>\n",
       "      <td>00-000002</td>\n",
       "      <td>1</td>\n",
       "      <td>1.0</td>\n",
       "      <td>2.0</td>\n",
       "      <td>1.0</td>\n",
       "      <td>0.0</td>\n",
       "      <td>Hive1</td>\n",
       "    </tr>\n",
       "    <tr>\n",
       "      <th>3</th>\n",
       "      <td>00-000003</td>\n",
       "      <td>1</td>\n",
       "      <td>1.5</td>\n",
       "      <td>2.5</td>\n",
       "      <td>1.0</td>\n",
       "      <td>0.0</td>\n",
       "      <td>Hive1</td>\n",
       "    </tr>\n",
       "    <tr>\n",
       "      <th>4</th>\n",
       "      <td>00-000004</td>\n",
       "      <td>1</td>\n",
       "      <td>2.0</td>\n",
       "      <td>3.0</td>\n",
       "      <td>1.0</td>\n",
       "      <td>0.0</td>\n",
       "      <td>Hive1</td>\n",
       "    </tr>\n",
       "    <tr>\n",
       "      <th>...</th>\n",
       "      <td>...</td>\n",
       "      <td>...</td>\n",
       "      <td>...</td>\n",
       "      <td>...</td>\n",
       "      <td>...</td>\n",
       "      <td>...</td>\n",
       "      <td>...</td>\n",
       "    </tr>\n",
       "    <tr>\n",
       "      <th>4739</th>\n",
       "      <td>03-001178</td>\n",
       "      <td>4</td>\n",
       "      <td>589.0</td>\n",
       "      <td>590.0</td>\n",
       "      <td>1.0</td>\n",
       "      <td>0.0</td>\n",
       "      <td>Hive3</td>\n",
       "    </tr>\n",
       "    <tr>\n",
       "      <th>4740</th>\n",
       "      <td>03-001179</td>\n",
       "      <td>4</td>\n",
       "      <td>589.5</td>\n",
       "      <td>590.5</td>\n",
       "      <td>1.0</td>\n",
       "      <td>0.0</td>\n",
       "      <td>Hive3</td>\n",
       "    </tr>\n",
       "    <tr>\n",
       "      <th>4741</th>\n",
       "      <td>03-001180</td>\n",
       "      <td>4</td>\n",
       "      <td>590.0</td>\n",
       "      <td>591.0</td>\n",
       "      <td>1.0</td>\n",
       "      <td>0.0</td>\n",
       "      <td>Hive3</td>\n",
       "    </tr>\n",
       "    <tr>\n",
       "      <th>4742</th>\n",
       "      <td>03-001181</td>\n",
       "      <td>4</td>\n",
       "      <td>590.5</td>\n",
       "      <td>591.5</td>\n",
       "      <td>1.0</td>\n",
       "      <td>0.0</td>\n",
       "      <td>Hive3</td>\n",
       "    </tr>\n",
       "    <tr>\n",
       "      <th>4743</th>\n",
       "      <td>03-001182</td>\n",
       "      <td>4</td>\n",
       "      <td>591.0</td>\n",
       "      <td>592.0</td>\n",
       "      <td>1.0</td>\n",
       "      <td>0.0</td>\n",
       "      <td>Hive3</td>\n",
       "    </tr>\n",
       "  </tbody>\n",
       "</table>\n",
       "<p>4744 rows × 7 columns</p>\n",
       "</div>"
      ],
      "text/plain": [
       "           name  file_id  start_t  end_t  queen  nobee   hive\n",
       "0     00-000000        1      0.0    1.0    1.0    0.0  Hive1\n",
       "1     00-000001        1      0.5    1.5    1.0    0.0  Hive1\n",
       "2     00-000002        1      1.0    2.0    1.0    0.0  Hive1\n",
       "3     00-000003        1      1.5    2.5    1.0    0.0  Hive1\n",
       "4     00-000004        1      2.0    3.0    1.0    0.0  Hive1\n",
       "...         ...      ...      ...    ...    ...    ...    ...\n",
       "4739  03-001178        4    589.0  590.0    1.0    0.0  Hive3\n",
       "4740  03-001179        4    589.5  590.5    1.0    0.0  Hive3\n",
       "4741  03-001180        4    590.0  591.0    1.0    0.0  Hive3\n",
       "4742  03-001181        4    590.5  591.5    1.0    0.0  Hive3\n",
       "4743  03-001182        4    591.0  592.0    1.0    0.0  Hive3\n",
       "\n",
       "[4744 rows x 7 columns]"
      ]
     },
     "execution_count": 18,
     "metadata": {},
     "output_type": "execute_result"
    }
   ],
   "source": [
    "# this dump all columns from the sampls table into a pandas dataframe\n",
    "ds.dumpDataFrame()"
   ]
  },
  {
   "cell_type": "code",
   "execution_count": 20,
   "metadata": {},
   "outputs": [
    {
     "data": {
      "text/html": [
       "<div>\n",
       "<style scoped>\n",
       "    .dataframe tbody tr th:only-of-type {\n",
       "        vertical-align: middle;\n",
       "    }\n",
       "\n",
       "    .dataframe tbody tr th {\n",
       "        vertical-align: top;\n",
       "    }\n",
       "\n",
       "    .dataframe thead th {\n",
       "        text-align: right;\n",
       "    }\n",
       "</style>\n",
       "<table border=\"1\" class=\"dataframe\">\n",
       "  <thead>\n",
       "    <tr style=\"text-align: right;\">\n",
       "      <th></th>\n",
       "      <th>name</th>\n",
       "      <th>hive</th>\n",
       "      <th>nobee</th>\n",
       "      <th>queen</th>\n",
       "    </tr>\n",
       "  </thead>\n",
       "  <tbody>\n",
       "    <tr>\n",
       "      <th>0</th>\n",
       "      <td>00-000000</td>\n",
       "      <td>Hive1</td>\n",
       "      <td>0.0</td>\n",
       "      <td>1.0</td>\n",
       "    </tr>\n",
       "    <tr>\n",
       "      <th>1</th>\n",
       "      <td>00-000001</td>\n",
       "      <td>Hive1</td>\n",
       "      <td>0.0</td>\n",
       "      <td>1.0</td>\n",
       "    </tr>\n",
       "    <tr>\n",
       "      <th>2</th>\n",
       "      <td>00-000002</td>\n",
       "      <td>Hive1</td>\n",
       "      <td>0.0</td>\n",
       "      <td>1.0</td>\n",
       "    </tr>\n",
       "    <tr>\n",
       "      <th>3</th>\n",
       "      <td>00-000003</td>\n",
       "      <td>Hive1</td>\n",
       "      <td>0.0</td>\n",
       "      <td>1.0</td>\n",
       "    </tr>\n",
       "    <tr>\n",
       "      <th>4</th>\n",
       "      <td>00-000004</td>\n",
       "      <td>Hive1</td>\n",
       "      <td>0.0</td>\n",
       "      <td>1.0</td>\n",
       "    </tr>\n",
       "    <tr>\n",
       "      <th>...</th>\n",
       "      <td>...</td>\n",
       "      <td>...</td>\n",
       "      <td>...</td>\n",
       "      <td>...</td>\n",
       "    </tr>\n",
       "    <tr>\n",
       "      <th>3020</th>\n",
       "      <td>03-001178</td>\n",
       "      <td>Hive3</td>\n",
       "      <td>0.0</td>\n",
       "      <td>1.0</td>\n",
       "    </tr>\n",
       "    <tr>\n",
       "      <th>3021</th>\n",
       "      <td>03-001179</td>\n",
       "      <td>Hive3</td>\n",
       "      <td>0.0</td>\n",
       "      <td>1.0</td>\n",
       "    </tr>\n",
       "    <tr>\n",
       "      <th>3022</th>\n",
       "      <td>03-001180</td>\n",
       "      <td>Hive3</td>\n",
       "      <td>0.0</td>\n",
       "      <td>1.0</td>\n",
       "    </tr>\n",
       "    <tr>\n",
       "      <th>3023</th>\n",
       "      <td>03-001181</td>\n",
       "      <td>Hive3</td>\n",
       "      <td>0.0</td>\n",
       "      <td>1.0</td>\n",
       "    </tr>\n",
       "    <tr>\n",
       "      <th>3024</th>\n",
       "      <td>03-001182</td>\n",
       "      <td>Hive3</td>\n",
       "      <td>0.0</td>\n",
       "      <td>1.0</td>\n",
       "    </tr>\n",
       "  </tbody>\n",
       "</table>\n",
       "<p>3025 rows × 4 columns</p>\n",
       "</div>"
      ],
      "text/plain": [
       "           name   hive  nobee  queen\n",
       "0     00-000000  Hive1    0.0    1.0\n",
       "1     00-000001  Hive1    0.0    1.0\n",
       "2     00-000002  Hive1    0.0    1.0\n",
       "3     00-000003  Hive1    0.0    1.0\n",
       "4     00-000004  Hive1    0.0    1.0\n",
       "...         ...    ...    ...    ...\n",
       "3020  03-001178  Hive3    0.0    1.0\n",
       "3021  03-001179  Hive3    0.0    1.0\n",
       "3022  03-001180  Hive3    0.0    1.0\n",
       "3023  03-001181  Hive3    0.0    1.0\n",
       "3024  03-001182  Hive3    0.0    1.0\n",
       "\n",
       "[3025 rows x 4 columns]"
      ]
     },
     "execution_count": 20,
     "metadata": {},
     "output_type": "execute_result"
    }
   ],
   "source": [
    "# but you can also be more specific\n",
    "ds.queryDataFrame(\"select name, hive, nobee, queen from samples where nobee = 0\")"
   ]
  },
  {
   "cell_type": "code",
   "execution_count": null,
   "metadata": {},
   "outputs": [],
   "source": []
  }
 ],
 "metadata": {
  "kernelspec": {
   "display_name": "Python 3",
   "language": "python",
   "name": "python3"
  },
  "language_info": {
   "codemirror_mode": {
    "name": "ipython",
    "version": 3
   },
   "file_extension": ".py",
   "mimetype": "text/x-python",
   "name": "python",
   "nbconvert_exporter": "python",
   "pygments_lexer": "ipython3",
   "version": "3.7.7"
  }
 },
 "nbformat": 4,
 "nbformat_minor": 4
}
