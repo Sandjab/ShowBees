{
 "cells": [
  {
   "cell_type": "code",
   "execution_count": 8,
   "metadata": {},
   "outputs": [
    {
     "data": {
      "text/plain": [
       "['BatchExploration.ipynb',\n",
       " 'CompareSlicingMP3.ipynb',\n",
       " 'fastSlicer.ipynb',\n",
       " 'Librosa.ipynb',\n",
       " 'Mono Wav Spectrogram.ipynb',\n",
       " 'snippets.ipynb',\n",
       " 'test_imports.ipynb',\n",
       " 'ThinkDSP.ipynb',\n",
       " 'Untitled.ipynb',\n",
       " 'watermark.ipynb',\n",
       " 'WidgetsDemo.ipynb',\n",
       " 'proxycodelib.py']"
      ]
     },
     "execution_count": 8,
     "metadata": {},
     "output_type": "execute_result"
    }
   ],
   "source": [
    "import glob\n",
    "glob.glob(\"*.ipynb\")+glob.glob(\"*.py\")"
   ]
  },
  {
   "cell_type": "code",
   "execution_count": 9,
   "metadata": {},
   "outputs": [
    {
     "name": "stdout",
     "output_type": "stream",
     "text": [
      "D:\\Jupyter\\ShowBees\\a\\b\\c\\d\\e\\f\\toto.txt\n"
     ]
    }
   ],
   "source": [
    "import proxycodelib\n",
    "from jupytools import mooltipath\n",
    "\n",
    "\n",
    "print(mooltipath('a/b/c','d\\\\e\\\\f', 'toto.txt'))"
   ]
  },
  {
   "cell_type": "code",
   "execution_count": 16,
   "metadata": {},
   "outputs": [
    {
     "data": {
      "text/plain": [
       "True"
      ]
     },
     "execution_count": 16,
     "metadata": {},
     "output_type": "execute_result"
    }
   ],
   "source": [
    "import proxycodelib\n",
    "from jupytools import mooltipath\n",
    "from pathlib import Path\n",
    "\n",
    "mooltipath('datasets', 'MINI.lof').is_file()\n",
    "\n",
    "\n",
    "\n"
   ]
  }
 ],
 "metadata": {
  "kernelspec": {
   "display_name": "Python 3",
   "language": "python",
   "name": "python3"
  },
  "language_info": {
   "codemirror_mode": {
    "name": "ipython",
    "version": 3
   },
   "file_extension": ".py",
   "mimetype": "text/x-python",
   "name": "python",
   "nbconvert_exporter": "python",
   "pygments_lexer": "ipython3",
   "version": "3.7.7"
  }
 },
 "nbformat": 4,
 "nbformat_minor": 4
}
