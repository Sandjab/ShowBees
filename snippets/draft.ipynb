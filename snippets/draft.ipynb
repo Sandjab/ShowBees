{
 "cells": [
  {
   "cell_type": "code",
   "execution_count": 3,
   "metadata": {},
   "outputs": [
    {
     "data": {
      "text/plain": [
       "['3D.ipynb',\n",
       " 'BatchExploration.ipynb',\n",
       " 'CompareSlicingMP3.ipynb',\n",
       " 'draft.ipynb',\n",
       " 'fastSlicer.ipynb',\n",
       " 'Librosa.ipynb',\n",
       " 'Mono Wav Spectrogram.ipynb',\n",
       " 'snippets.ipynb',\n",
       " 'TestPersistence.ipynb',\n",
       " 'test_imports.ipynb',\n",
       " 'ThinkDSP.ipynb',\n",
       " 'watermark.ipynb',\n",
       " 'WidgetsDemo.ipynb',\n",
       " 'proxycodelib.py']"
      ]
     },
     "execution_count": 3,
     "metadata": {},
     "output_type": "execute_result"
    }
   ],
   "source": [
    "import glob\n",
    "glob.glob(\"*.ipynb\")+glob.glob(\"*.py\")"
   ]
  },
  {
   "cell_type": "code",
   "execution_count": 41,
   "metadata": {},
   "outputs": [
    {
     "name": "stdout",
     "output_type": "stream",
     "text": [
      "D:\\Jupyter\\ShowBees\\snippets\\toto.txt\n",
      "D:\\Jupyter\\ShowBees\\snippets\\tmp\n",
      "True\n",
      "Not empty\n"
     ]
    },
    {
     "data": {
      "text/plain": [
       "2"
      ]
     },
     "execution_count": 41,
     "metadata": {},
     "output_type": "execute_result"
    }
   ],
   "source": [
    "from pathlib import Path\n",
    "P=Path('./tmp')\n",
    "\n",
    "print(P.absolute().with_name('toto.txt'))\n",
    "\n",
    "\n",
    "print(P.absolute())\n",
    "print(any(P.iterdir()))\n",
    "\n",
    "if list(P.glob('*.wav')):\n",
    "    print('Not empty')\n",
    "else:\n",
    "    print('empty')\n",
    "\n",
    "len(list(P.glob('*.wav')))"
   ]
  },
  {
   "cell_type": "code",
   "execution_count": 53,
   "metadata": {},
   "outputs": [
    {
     "name": "stdout",
     "output_type": "stream",
     "text": [
      "0\n"
     ]
    }
   ],
   "source": [
    "\n",
    "for i in range(1):\n",
    "    print(i)"
   ]
  },
  {
   "cell_type": "code",
   "execution_count": 37,
   "metadata": {},
   "outputs": [
    {
     "name": "stdout",
     "output_type": "stream",
     "text": [
      "D:\\Jupyter\\ShowBees\\datasets\\TEST\n"
     ]
    }
   ],
   "source": [
    "import proxycodelib\n",
    "from dataset import Dataset\n",
    "\n",
    "D = Dataset('TEST')\n",
    "\n",
    "print(D.path)"
   ]
  },
  {
   "cell_type": "code",
   "execution_count": 1,
   "metadata": {},
   "outputs": [
    {
     "data": {
      "text/plain": [
       "['D:\\\\jupyter\\\\ShowBees\\\\snippets',\n",
       " 'D:\\\\Anaconda3\\\\python37.zip',\n",
       " 'D:\\\\Anaconda3\\\\DLLs',\n",
       " 'D:\\\\Anaconda3\\\\lib',\n",
       " 'D:\\\\Anaconda3',\n",
       " '',\n",
       " 'C:\\\\Users\\\\jp\\\\AppData\\\\Roaming\\\\Python\\\\Python37\\\\site-packages',\n",
       " 'D:\\\\Anaconda3\\\\lib\\\\site-packages',\n",
       " 'D:\\\\Anaconda3\\\\lib\\\\site-packages\\\\win32',\n",
       " 'D:\\\\Anaconda3\\\\lib\\\\site-packages\\\\win32\\\\lib',\n",
       " 'D:\\\\Anaconda3\\\\lib\\\\site-packages\\\\Pythonwin',\n",
       " 'D:\\\\Anaconda3\\\\lib\\\\site-packages\\\\IPython\\\\extensions',\n",
       " 'C:\\\\Users\\\\jp\\\\.ipython',\n",
       " 'D:\\\\jupyter\\\\ShowBees\\\\codelib']"
      ]
     },
     "execution_count": 1,
     "metadata": {},
     "output_type": "execute_result"
    }
   ],
   "source": [
    "import sys\n",
    "import os\n",
    "#sys.path.insert(0, os.path.abspath('.'))\n",
    "import proxycodelib\n",
    "#sys.path.insert(0, os.path.abspath('.'))\n",
    "#import datasets.chunker\n",
    "sys.path"
   ]
  },
  {
   "cell_type": "code",
   "execution_count": 9,
   "metadata": {},
   "outputs": [
    {
     "name": "stdout",
     "output_type": "stream",
     "text": [
      "D:\\Jupyter\\ShowBees\\a\\b\\c\\d\\e\\f\\toto.txt\n"
     ]
    }
   ],
   "source": [
    "import proxycodelib\n",
    "from jupytools import mooltipath\n",
    "\n",
    "\n",
    "print(mooltipath('a/b/c','d\\\\e\\\\f', 'toto.txt'))"
   ]
  },
  {
   "cell_type": "code",
   "execution_count": 16,
   "metadata": {},
   "outputs": [
    {
     "data": {
      "text/plain": [
       "True"
      ]
     },
     "execution_count": 16,
     "metadata": {},
     "output_type": "execute_result"
    }
   ],
   "source": [
    "import proxycodelib\n",
    "from jupytools import mooltipath\n",
    "from pathlib import Path\n",
    "\n",
    "mooltipath('datasets', 'MINI.lof').is_file()\n",
    "\n",
    "\n",
    "\n"
   ]
  },
  {
   "cell_type": "code",
   "execution_count": 20,
   "metadata": {},
   "outputs": [
    {
     "name": "stdout",
     "output_type": "stream",
     "text": [
      "D:\\Jupyter\\ShowBees\n",
      "D:\\a\n",
      "D:\\c\n",
      "D:\\d\n",
      "D:\\Jupyter\\ShowBees\\a\n",
      "D:\\Jupyter\\ShowBees\\a\\b\\c\\d\\e\\f\\foo.bar\n"
     ]
    }
   ],
   "source": [
    "import proxycodelib\n",
    "from jupytools import mooltipath\n",
    "\n",
    "# Without arguments\n",
    "# will print the repository root directory C:/Users/me/ShowBees\n",
    "print(mooltipath())\n",
    "\n",
    "# if any argument has a leading slash, will build an absolute path\n",
    "# directlyusing the last argument with leading slash\n",
    "#\n",
    "print(mooltipath('/a')) # will print C:\\a\n",
    "print(mooltipath('/a', '/b', '/c')) # will print C:\\c\n",
    "print(mooltipath('/a', '/b', 'c', '/d')) # will print C:\\d\n",
    "\n",
    "# if there is no argument with a leading slash (ony relative paths)\n",
    "# will build an absolute path by joining these relative paths,\n",
    "# using the repository root directory as a starting point\n",
    "# (This is the most useful case)\n",
    "#\n",
    "print(mooltipath('a')) # will print C:/Users/me/ShowBees/a\n",
    "print(mooltipath('a/b','c\\\\d/e', 'f/foo.bar')) # will print C:\\Users\\me\\ShowBees\\a\\b\\c\\d\\e\\f\\foo.bar"
   ]
  },
  {
   "cell_type": "code",
   "execution_count": 22,
   "metadata": {},
   "outputs": [
    {
     "data": {
      "text/plain": [
       "WindowsPath('toto/titi/tata/tutu')"
      ]
     },
     "execution_count": 22,
     "metadata": {},
     "output_type": "execute_result"
    }
   ],
   "source": [
    "from pathlib import Path\n",
    "\n",
    "Path(\"toto\",\"titi\",\"tata/tutu\")"
   ]
  },
  {
   "cell_type": "code",
   "execution_count": 3,
   "metadata": {},
   "outputs": [
    {
     "name": "stdout",
     "output_type": "stream",
     "text": [
      "Hello World!\n"
     ]
    },
    {
     "data": {
      "text/plain": [
       "'Hello World!'"
      ]
     },
     "execution_count": 3,
     "metadata": {},
     "output_type": "execute_result"
    }
   ],
   "source": [
    "import proxycodelib\n",
    "from hello import hello_world\n",
    "hello_world()"
   ]
  },
  {
   "cell_type": "code",
   "execution_count": 5,
   "metadata": {
    "scrolled": true
   },
   "outputs": [
    {
     "name": "stdout",
     "output_type": "stream",
     "text": [
      "toto\\titi\\tata\\tutu\\foo.bar\n",
      "foo.bar\n",
      "foo\n"
     ]
    }
   ],
   "source": [
    "from pathlib import Path\n",
    "\n",
    "p = Path(\"toto\",\"titi\",\"tata/tutu\", 'foo.bar')\n",
    "print(p)\n",
    "print(p.name)\n",
    "print(p.stem)\n"
   ]
  },
  {
   "cell_type": "code",
   "execution_count": 2,
   "metadata": {},
   "outputs": [
    {
     "name": "stdout",
     "output_type": "stream",
     "text": [
      "1\n",
      "2\n"
     ]
    }
   ],
   "source": [
    "mufri = (1,2,3,4,5,6,7, 8, 9, 10)\n",
    "\n",
    "un, deux, *_ = mufri\n",
    "print(un)\n",
    "print(deux)\n"
   ]
  },
  {
   "cell_type": "code",
   "execution_count": 1,
   "metadata": {},
   "outputs": [
    {
     "name": "stdout",
     "output_type": "stream",
     "text": [
      "In features \n",
      " ['D:\\\\jupyter\\\\ShowBees\\\\snippets', 'D:\\\\Anaconda3\\\\python37.zip', 'D:\\\\Anaconda3\\\\DLLs', 'D:\\\\Anaconda3\\\\lib', 'D:\\\\Anaconda3', '', 'C:\\\\Users\\\\jp\\\\AppData\\\\Roaming\\\\Python\\\\Python37\\\\site-packages', 'D:\\\\Anaconda3\\\\lib\\\\site-packages', 'D:\\\\Anaconda3\\\\lib\\\\site-packages\\\\win32', 'D:\\\\Anaconda3\\\\lib\\\\site-packages\\\\win32\\\\lib', 'D:\\\\Anaconda3\\\\lib\\\\site-packages\\\\Pythonwin', 'D:\\\\Anaconda3\\\\lib\\\\site-packages\\\\IPython\\\\extensions', 'C:\\\\Users\\\\jp\\\\.ipython', 'D:\\\\jupyter\\\\ShowBees\\\\codelib']\n"
     ]
    }
   ],
   "source": [
    "import proxycodelib\n",
    "from chunker import build_dataset_projector_files\n",
    "build_dataset_projector_files('MAIN0504', './projector', th=0)\n"
   ]
  },
  {
   "cell_type": "code",
   "execution_count": 11,
   "metadata": {
    "tags": []
   },
   "outputs": [
    {
     "output_type": "stream",
     "name": "stdout",
     "text": "d:\\Jupyter\\ShowBees\\snippets\n"
    }
   ],
   "source": [
    "from pathlib import Path\n",
    "import kilroy_was_here\n",
    "import lib.jupytools\n",
    "import lib.dblib\n",
    "\n",
    "print(Path('.').absolute())"
   ]
  },
  {
   "cell_type": "code",
   "execution_count": null,
   "metadata": {},
   "outputs": [],
   "source": []
  }
 ],
 "metadata": {
  "kernelspec": {
   "display_name": "Python 3",
   "language": "python",
   "name": "python3"
  },
  "language_info": {
   "codemirror_mode": {
    "name": "ipython",
    "version": 3
   },
   "file_extension": ".py",
   "mimetype": "text/x-python",
   "name": "python",
   "nbconvert_exporter": "python",
   "pygments_lexer": "ipython3",
   "version": "3.7.7-final"
  }
 },
 "nbformat": 4,
 "nbformat_minor": 4
}