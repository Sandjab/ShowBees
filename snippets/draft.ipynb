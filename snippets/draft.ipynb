{
 "cells": [
  {
   "cell_type": "code",
   "execution_count": 8,
   "metadata": {},
   "outputs": [
    {
     "data": {
      "text/plain": [
       "['BatchExploration.ipynb',\n",
       " 'CompareSlicingMP3.ipynb',\n",
       " 'fastSlicer.ipynb',\n",
       " 'Librosa.ipynb',\n",
       " 'Mono Wav Spectrogram.ipynb',\n",
       " 'snippets.ipynb',\n",
       " 'test_imports.ipynb',\n",
       " 'ThinkDSP.ipynb',\n",
       " 'Untitled.ipynb',\n",
       " 'watermark.ipynb',\n",
       " 'WidgetsDemo.ipynb',\n",
       " 'proxycodelib.py']"
      ]
     },
     "execution_count": 8,
     "metadata": {},
     "output_type": "execute_result"
    }
   ],
   "source": [
    "import glob\n",
    "glob.glob(\"*.ipynb\")+glob.glob(\"*.py\")"
   ]
  },
  {
   "cell_type": "code",
   "execution_count": 17,
   "metadata": {},
   "outputs": [
    {
     "name": "stdout",
     "output_type": "stream",
     "text": [
      "[2020-07-23 18:57:34 RAM81.8% 0.06GB] Hello\n",
      "[2020-07-23 18:57:34 RAM81.8% 0.06GB] <class 'list'>   N/A   N/A   N/A   len:4   N/A   N/A\n"
     ]
    }
   ],
   "source": [
    "import proxycodelib\n",
    "from info import i, printb, printr, printp, print\n",
    "\n",
    "print(\"Hello\")\n",
    "a= [1,2,3,4]\n",
    "\n",
    "i(a)"
   ]
  },
  {
   "cell_type": "code",
   "execution_count": 25,
   "metadata": {},
   "outputs": [
    {
     "name": "stdout",
     "output_type": "stream",
     "text": [
      "D:\\Jupyter\\ShowBees\\snippets\n",
      "D:\\Jupyter\\ShowBees\n",
      "D:\\Jupyter\\ShowBees\\datasets\\BNB\\chunks_SR22050Hz_DUR1s_OVL0s\\CF003 - Active - Day - (214)_chunk0000.wav\n"
     ]
    }
   ],
   "source": [
    "from pyprojroot import here\n",
    "import os\n",
    "!cd\n",
    "print(here())\n",
    "\n",
    "dir = './datasets/BNB/chunks_SR22050Hz_DUR1s_OVL0s'\n",
    "f0 = here(os.path.join(dir, 'CF003 - Active - Day - (214)_chunk0000.wav'))\n",
    "\n",
    "\n",
    "print(f0)\n",
    "\n",
    "\n"
   ]
  }
 ],
 "metadata": {
  "kernelspec": {
   "display_name": "Python 3",
   "language": "python",
   "name": "python3"
  },
  "language_info": {
   "codemirror_mode": {
    "name": "ipython",
    "version": 3
   },
   "file_extension": ".py",
   "mimetype": "text/x-python",
   "name": "python",
   "nbconvert_exporter": "python",
   "pygments_lexer": "ipython3",
   "version": "3.7.7"
  }
 },
 "nbformat": 4,
 "nbformat_minor": 4
}
