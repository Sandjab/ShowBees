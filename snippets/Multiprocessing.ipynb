{
 "cells": [
  {
   "cell_type": "code",
   "execution_count": 3,
   "metadata": {
    "scrolled": false
   },
   "outputs": [
    {
     "name": "stdout",
     "output_type": "stream",
     "text": [
      "3.1427, 3.1427, 3.1424, 3.1415, 3.1409, 3.1424, 3.1382, 3.1417, 3.1429, 3.1415, "
     ]
    },
    {
     "data": {
      "text/plain": [
       "14.9843881"
      ]
     },
     "execution_count": 3,
     "metadata": {},
     "output_type": "execute_result"
    }
   ],
   "source": [
    "import multiprocessing as mp\n",
    "import timeit\n",
    "\n",
    "from def_calculate_pi import calculate_pi\n",
    "\n",
    "\n",
    "def run_pool(processes, total_iterations):\n",
    "    with mp.Pool(processes) as pool:\n",
    "        # Divide the total iterations among the processes.\n",
    "        iterations = [total_iterations // processes] * processes\n",
    "        result = pool.map(calculate_pi, iterations)\n",
    "    print( \"%0.4f\" % (sum(result) / processes), end=', ')\n",
    "    \n",
    "\n",
    "\n",
    "timeit.timeit(lambda: run_pool(8, one_million), number=10)\n"
   ]
  },
  {
   "cell_type": "code",
   "execution_count": 11,
   "metadata": {},
   "outputs": [
    {
     "name": "stdout",
     "output_type": "stream",
     "text": [
      "[WindowsPath('D:/Jupyter/ShowBees/datasets/TUTO/samples/000000.wav'), WindowsPath('D:/Jupyter/ShowBees/datasets/TUTO/samples/000001.wav'), WindowsPath('D:/Jupyter/ShowBees/datasets/TUTO/samples/000002.wav'), WindowsPath('D:/Jupyter/ShowBees/datasets/TUTO/samples/000003.wav'), WindowsPath('D:/Jupyter/ShowBees/datasets/TUTO/samples/000004.wav'), WindowsPath('D:/Jupyter/ShowBees/datasets/TUTO/samples/000005.wav'), WindowsPath('D:/Jupyter/ShowBees/datasets/TUTO/samples/000006.wav'), WindowsPath('D:/Jupyter/ShowBees/datasets/TUTO/samples/000007.wav'), WindowsPath('D:/Jupyter/ShowBees/datasets/TUTO/samples/000008.wav'), WindowsPath('D:/Jupyter/ShowBees/datasets/TUTO/samples/000009.wav'), WindowsPath('D:/Jupyter/ShowBees/datasets/TUTO/samples/000010.wav'), WindowsPath('D:/Jupyter/ShowBees/datasets/TUTO/samples/000011.wav'), WindowsPath('D:/Jupyter/ShowBees/datasets/TUTO/samples/000012.wav'), WindowsPath('D:/Jupyter/ShowBees/datasets/TUTO/samples/000013.wav'), WindowsPath('D:/Jupyter/ShowBees/datasets/TUTO/samples/000014.wav'), WindowsPath('D:/Jupyter/ShowBees/datasets/TUTO/samples/000015.wav'), WindowsPath('D:/Jupyter/ShowBees/datasets/TUTO/samples/000016.wav'), WindowsPath('D:/Jupyter/ShowBees/datasets/TUTO/samples/000017.wav'), WindowsPath('D:/Jupyter/ShowBees/datasets/TUTO/samples/000018.wav'), WindowsPath('D:/Jupyter/ShowBees/datasets/TUTO/samples/000019.wav'), WindowsPath('D:/Jupyter/ShowBees/datasets/TUTO/samples/000020.wav'), WindowsPath('D:/Jupyter/ShowBees/datasets/TUTO/samples/000021.wav'), WindowsPath('D:/Jupyter/ShowBees/datasets/TUTO/samples/000022.wav'), WindowsPath('D:/Jupyter/ShowBees/datasets/TUTO/samples/000023.wav'), WindowsPath('D:/Jupyter/ShowBees/datasets/TUTO/samples/000024.wav'), WindowsPath('D:/Jupyter/ShowBees/datasets/TUTO/samples/000025.wav'), WindowsPath('D:/Jupyter/ShowBees/datasets/TUTO/samples/000026.wav'), WindowsPath('D:/Jupyter/ShowBees/datasets/TUTO/samples/000027.wav'), WindowsPath('D:/Jupyter/ShowBees/datasets/TUTO/samples/000028.wav'), WindowsPath('D:/Jupyter/ShowBees/datasets/TUTO/samples/000029.wav'), WindowsPath('D:/Jupyter/ShowBees/datasets/TUTO/samples/000030.wav'), WindowsPath('D:/Jupyter/ShowBees/datasets/TUTO/samples/000031.wav'), WindowsPath('D:/Jupyter/ShowBees/datasets/TUTO/samples/000032.wav'), WindowsPath('D:/Jupyter/ShowBees/datasets/TUTO/samples/000033.wav'), WindowsPath('D:/Jupyter/ShowBees/datasets/TUTO/samples/000034.wav'), WindowsPath('D:/Jupyter/ShowBees/datasets/TUTO/samples/000035.wav'), WindowsPath('D:/Jupyter/ShowBees/datasets/TUTO/samples/000036.wav'), WindowsPath('D:/Jupyter/ShowBees/datasets/TUTO/samples/000037.wav'), WindowsPath('D:/Jupyter/ShowBees/datasets/TUTO/samples/000038.wav'), WindowsPath('D:/Jupyter/ShowBees/datasets/TUTO/samples/000039.wav'), WindowsPath('D:/Jupyter/ShowBees/datasets/TUTO/samples/000040.wav'), WindowsPath('D:/Jupyter/ShowBees/datasets/TUTO/samples/000041.wav'), WindowsPath('D:/Jupyter/ShowBees/datasets/TUTO/samples/000042.wav'), WindowsPath('D:/Jupyter/ShowBees/datasets/TUTO/samples/000043.wav'), WindowsPath('D:/Jupyter/ShowBees/datasets/TUTO/samples/000044.wav'), WindowsPath('D:/Jupyter/ShowBees/datasets/TUTO/samples/000045.wav'), WindowsPath('D:/Jupyter/ShowBees/datasets/TUTO/samples/000046.wav'), WindowsPath('D:/Jupyter/ShowBees/datasets/TUTO/samples/000047.wav'), WindowsPath('D:/Jupyter/ShowBees/datasets/TUTO/samples/000048.wav'), WindowsPath('D:/Jupyter/ShowBees/datasets/TUTO/samples/000049.wav'), WindowsPath('D:/Jupyter/ShowBees/datasets/TUTO/samples/000050.wav'), WindowsPath('D:/Jupyter/ShowBees/datasets/TUTO/samples/000051.wav'), WindowsPath('D:/Jupyter/ShowBees/datasets/TUTO/samples/000052.wav'), WindowsPath('D:/Jupyter/ShowBees/datasets/TUTO/samples/000053.wav'), WindowsPath('D:/Jupyter/ShowBees/datasets/TUTO/samples/000054.wav'), WindowsPath('D:/Jupyter/ShowBees/datasets/TUTO/samples/000055.wav'), WindowsPath('D:/Jupyter/ShowBees/datasets/TUTO/samples/000056.wav'), WindowsPath('D:/Jupyter/ShowBees/datasets/TUTO/samples/000057.wav'), WindowsPath('D:/Jupyter/ShowBees/datasets/TUTO/samples/000058.wav'), WindowsPath('D:/Jupyter/ShowBees/datasets/TUTO/samples/000059.wav'), WindowsPath('D:/Jupyter/ShowBees/datasets/TUTO/samples/000060.wav'), WindowsPath('D:/Jupyter/ShowBees/datasets/TUTO/samples/000061.wav'), WindowsPath('D:/Jupyter/ShowBees/datasets/TUTO/samples/000062.wav'), WindowsPath('D:/Jupyter/ShowBees/datasets/TUTO/samples/000063.wav'), WindowsPath('D:/Jupyter/ShowBees/datasets/TUTO/samples/000064.wav'), WindowsPath('D:/Jupyter/ShowBees/datasets/TUTO/samples/000065.wav'), WindowsPath('D:/Jupyter/ShowBees/datasets/TUTO/samples/000066.wav'), WindowsPath('D:/Jupyter/ShowBees/datasets/TUTO/samples/000067.wav'), WindowsPath('D:/Jupyter/ShowBees/datasets/TUTO/samples/000068.wav'), WindowsPath('D:/Jupyter/ShowBees/datasets/TUTO/samples/000069.wav'), WindowsPath('D:/Jupyter/ShowBees/datasets/TUTO/samples/000070.wav'), WindowsPath('D:/Jupyter/ShowBees/datasets/TUTO/samples/000071.wav'), WindowsPath('D:/Jupyter/ShowBees/datasets/TUTO/samples/000072.wav'), WindowsPath('D:/Jupyter/ShowBees/datasets/TUTO/samples/000073.wav'), WindowsPath('D:/Jupyter/ShowBees/datasets/TUTO/samples/000074.wav'), WindowsPath('D:/Jupyter/ShowBees/datasets/TUTO/samples/000075.wav'), WindowsPath('D:/Jupyter/ShowBees/datasets/TUTO/samples/000076.wav'), WindowsPath('D:/Jupyter/ShowBees/datasets/TUTO/samples/000077.wav'), WindowsPath('D:/Jupyter/ShowBees/datasets/TUTO/samples/000078.wav'), WindowsPath('D:/Jupyter/ShowBees/datasets/TUTO/samples/000079.wav'), WindowsPath('D:/Jupyter/ShowBees/datasets/TUTO/samples/000080.wav'), WindowsPath('D:/Jupyter/ShowBees/datasets/TUTO/samples/000081.wav'), WindowsPath('D:/Jupyter/ShowBees/datasets/TUTO/samples/000082.wav'), WindowsPath('D:/Jupyter/ShowBees/datasets/TUTO/samples/000083.wav'), WindowsPath('D:/Jupyter/ShowBees/datasets/TUTO/samples/000084.wav'), WindowsPath('D:/Jupyter/ShowBees/datasets/TUTO/samples/000085.wav'), WindowsPath('D:/Jupyter/ShowBees/datasets/TUTO/samples/000086.wav'), WindowsPath('D:/Jupyter/ShowBees/datasets/TUTO/samples/000087.wav'), WindowsPath('D:/Jupyter/ShowBees/datasets/TUTO/samples/000088.wav'), WindowsPath('D:/Jupyter/ShowBees/datasets/TUTO/samples/000089.wav'), WindowsPath('D:/Jupyter/ShowBees/datasets/TUTO/samples/000090.wav'), WindowsPath('D:/Jupyter/ShowBees/datasets/TUTO/samples/000091.wav'), WindowsPath('D:/Jupyter/ShowBees/datasets/TUTO/samples/000092.wav'), WindowsPath('D:/Jupyter/ShowBees/datasets/TUTO/samples/000093.wav'), WindowsPath('D:/Jupyter/ShowBees/datasets/TUTO/samples/000094.wav'), WindowsPath('D:/Jupyter/ShowBees/datasets/TUTO/samples/000095.wav'), WindowsPath('D:/Jupyter/ShowBees/datasets/TUTO/samples/000096.wav'), WindowsPath('D:/Jupyter/ShowBees/datasets/TUTO/samples/000097.wav'), WindowsPath('D:/Jupyter/ShowBees/datasets/TUTO/samples/000098.wav'), WindowsPath('D:/Jupyter/ShowBees/datasets/TUTO/samples/000099.wav'), WindowsPath('D:/Jupyter/ShowBees/datasets/TUTO/samples/000100.wav'), WindowsPath('D:/Jupyter/ShowBees/datasets/TUTO/samples/000101.wav'), WindowsPath('D:/Jupyter/ShowBees/datasets/TUTO/samples/000102.wav'), WindowsPath('D:/Jupyter/ShowBees/datasets/TUTO/samples/000103.wav'), WindowsPath('D:/Jupyter/ShowBees/datasets/TUTO/samples/000104.wav'), WindowsPath('D:/Jupyter/ShowBees/datasets/TUTO/samples/000105.wav'), WindowsPath('D:/Jupyter/ShowBees/datasets/TUTO/samples/000106.wav'), WindowsPath('D:/Jupyter/ShowBees/datasets/TUTO/samples/000107.wav'), WindowsPath('D:/Jupyter/ShowBees/datasets/TUTO/samples/000108.wav'), WindowsPath('D:/Jupyter/ShowBees/datasets/TUTO/samples/000109.wav'), WindowsPath('D:/Jupyter/ShowBees/datasets/TUTO/samples/000110.wav'), WindowsPath('D:/Jupyter/ShowBees/datasets/TUTO/samples/000111.wav'), WindowsPath('D:/Jupyter/ShowBees/datasets/TUTO/samples/000112.wav'), WindowsPath('D:/Jupyter/ShowBees/datasets/TUTO/samples/000113.wav'), WindowsPath('D:/Jupyter/ShowBees/datasets/TUTO/samples/000114.wav'), WindowsPath('D:/Jupyter/ShowBees/datasets/TUTO/samples/000115.wav'), WindowsPath('D:/Jupyter/ShowBees/datasets/TUTO/samples/000116.wav'), WindowsPath('D:/Jupyter/ShowBees/datasets/TUTO/samples/000117.wav'), WindowsPath('D:/Jupyter/ShowBees/datasets/TUTO/samples/000118.wav'), WindowsPath('D:/Jupyter/ShowBees/datasets/TUTO/samples/000119.wav'), WindowsPath('D:/Jupyter/ShowBees/datasets/TUTO/samples/000120.wav'), WindowsPath('D:/Jupyter/ShowBees/datasets/TUTO/samples/000121.wav'), WindowsPath('D:/Jupyter/ShowBees/datasets/TUTO/samples/000122.wav'), WindowsPath('D:/Jupyter/ShowBees/datasets/TUTO/samples/000123.wav'), WindowsPath('D:/Jupyter/ShowBees/datasets/TUTO/samples/000124.wav'), WindowsPath('D:/Jupyter/ShowBees/datasets/TUTO/samples/000125.wav'), WindowsPath('D:/Jupyter/ShowBees/datasets/TUTO/samples/000126.wav'), WindowsPath('D:/Jupyter/ShowBees/datasets/TUTO/samples/000127.wav'), WindowsPath('D:/Jupyter/ShowBees/datasets/TUTO/samples/000128.wav'), WindowsPath('D:/Jupyter/ShowBees/datasets/TUTO/samples/000129.wav'), WindowsPath('D:/Jupyter/ShowBees/datasets/TUTO/samples/000130.wav'), WindowsPath('D:/Jupyter/ShowBees/datasets/TUTO/samples/000131.wav'), WindowsPath('D:/Jupyter/ShowBees/datasets/TUTO/samples/000132.wav'), WindowsPath('D:/Jupyter/ShowBees/datasets/TUTO/samples/000133.wav'), WindowsPath('D:/Jupyter/ShowBees/datasets/TUTO/samples/000134.wav'), WindowsPath('D:/Jupyter/ShowBees/datasets/TUTO/samples/000135.wav'), WindowsPath('D:/Jupyter/ShowBees/datasets/TUTO/samples/000136.wav'), WindowsPath('D:/Jupyter/ShowBees/datasets/TUTO/samples/000137.wav'), WindowsPath('D:/Jupyter/ShowBees/datasets/TUTO/samples/000138.wav'), WindowsPath('D:/Jupyter/ShowBees/datasets/TUTO/samples/000139.wav'), WindowsPath('D:/Jupyter/ShowBees/datasets/TUTO/samples/000140.wav'), WindowsPath('D:/Jupyter/ShowBees/datasets/TUTO/samples/000141.wav'), WindowsPath('D:/Jupyter/ShowBees/datasets/TUTO/samples/000142.wav'), WindowsPath('D:/Jupyter/ShowBees/datasets/TUTO/samples/000143.wav'), WindowsPath('D:/Jupyter/ShowBees/datasets/TUTO/samples/000144.wav'), WindowsPath('D:/Jupyter/ShowBees/datasets/TUTO/samples/000145.wav'), WindowsPath('D:/Jupyter/ShowBees/datasets/TUTO/samples/000146.wav'), WindowsPath('D:/Jupyter/ShowBees/datasets/TUTO/samples/000147.wav'), WindowsPath('D:/Jupyter/ShowBees/datasets/TUTO/samples/000148.wav'), WindowsPath('D:/Jupyter/ShowBees/datasets/TUTO/samples/000149.wav'), WindowsPath('D:/Jupyter/ShowBees/datasets/TUTO/samples/000150.wav'), WindowsPath('D:/Jupyter/ShowBees/datasets/TUTO/samples/000151.wav'), WindowsPath('D:/Jupyter/ShowBees/datasets/TUTO/samples/000152.wav'), WindowsPath('D:/Jupyter/ShowBees/datasets/TUTO/samples/000153.wav'), WindowsPath('D:/Jupyter/ShowBees/datasets/TUTO/samples/000154.wav'), WindowsPath('D:/Jupyter/ShowBees/datasets/TUTO/samples/000155.wav'), WindowsPath('D:/Jupyter/ShowBees/datasets/TUTO/samples/000156.wav'), WindowsPath('D:/Jupyter/ShowBees/datasets/TUTO/samples/000157.wav'), WindowsPath('D:/Jupyter/ShowBees/datasets/TUTO/samples/000158.wav'), WindowsPath('D:/Jupyter/ShowBees/datasets/TUTO/samples/000159.wav'), WindowsPath('D:/Jupyter/ShowBees/datasets/TUTO/samples/000160.wav'), WindowsPath('D:/Jupyter/ShowBees/datasets/TUTO/samples/000161.wav'), WindowsPath('D:/Jupyter/ShowBees/datasets/TUTO/samples/000162.wav'), WindowsPath('D:/Jupyter/ShowBees/datasets/TUTO/samples/000163.wav'), WindowsPath('D:/Jupyter/ShowBees/datasets/TUTO/samples/000164.wav'), WindowsPath('D:/Jupyter/ShowBees/datasets/TUTO/samples/000165.wav'), WindowsPath('D:/Jupyter/ShowBees/datasets/TUTO/samples/000166.wav'), WindowsPath('D:/Jupyter/ShowBees/datasets/TUTO/samples/000167.wav'), WindowsPath('D:/Jupyter/ShowBees/datasets/TUTO/samples/000168.wav'), WindowsPath('D:/Jupyter/ShowBees/datasets/TUTO/samples/000169.wav'), WindowsPath('D:/Jupyter/ShowBees/datasets/TUTO/samples/000170.wav'), WindowsPath('D:/Jupyter/ShowBees/datasets/TUTO/samples/000171.wav'), WindowsPath('D:/Jupyter/ShowBees/datasets/TUTO/samples/000172.wav'), WindowsPath('D:/Jupyter/ShowBees/datasets/TUTO/samples/000173.wav'), WindowsPath('D:/Jupyter/ShowBees/datasets/TUTO/samples/000174.wav'), WindowsPath('D:/Jupyter/ShowBees/datasets/TUTO/samples/000175.wav'), WindowsPath('D:/Jupyter/ShowBees/datasets/TUTO/samples/000176.wav'), WindowsPath('D:/Jupyter/ShowBees/datasets/TUTO/samples/000177.wav'), WindowsPath('D:/Jupyter/ShowBees/datasets/TUTO/samples/000178.wav'), WindowsPath('D:/Jupyter/ShowBees/datasets/TUTO/samples/000179.wav'), WindowsPath('D:/Jupyter/ShowBees/datasets/TUTO/samples/000180.wav'), WindowsPath('D:/Jupyter/ShowBees/datasets/TUTO/samples/000181.wav'), WindowsPath('D:/Jupyter/ShowBees/datasets/TUTO/samples/000182.wav'), WindowsPath('D:/Jupyter/ShowBees/datasets/TUTO/samples/000183.wav'), WindowsPath('D:/Jupyter/ShowBees/datasets/TUTO/samples/000184.wav'), WindowsPath('D:/Jupyter/ShowBees/datasets/TUTO/samples/000185.wav'), WindowsPath('D:/Jupyter/ShowBees/datasets/TUTO/samples/000186.wav'), WindowsPath('D:/Jupyter/ShowBees/datasets/TUTO/samples/000187.wav'), WindowsPath('D:/Jupyter/ShowBees/datasets/TUTO/samples/000188.wav'), WindowsPath('D:/Jupyter/ShowBees/datasets/TUTO/samples/000189.wav'), WindowsPath('D:/Jupyter/ShowBees/datasets/TUTO/samples/000190.wav'), WindowsPath('D:/Jupyter/ShowBees/datasets/TUTO/samples/000191.wav'), WindowsPath('D:/Jupyter/ShowBees/datasets/TUTO/samples/000192.wav'), WindowsPath('D:/Jupyter/ShowBees/datasets/TUTO/samples/000193.wav'), WindowsPath('D:/Jupyter/ShowBees/datasets/TUTO/samples/000194.wav'), WindowsPath('D:/Jupyter/ShowBees/datasets/TUTO/samples/000195.wav'), WindowsPath('D:/Jupyter/ShowBees/datasets/TUTO/samples/000196.wav'), WindowsPath('D:/Jupyter/ShowBees/datasets/TUTO/samples/000197.wav'), WindowsPath('D:/Jupyter/ShowBees/datasets/TUTO/samples/000198.wav'), WindowsPath('D:/Jupyter/ShowBees/datasets/TUTO/samples/000199.wav'), WindowsPath('D:/Jupyter/ShowBees/datasets/TUTO/samples/000200.wav'), WindowsPath('D:/Jupyter/ShowBees/datasets/TUTO/samples/000201.wav'), WindowsPath('D:/Jupyter/ShowBees/datasets/TUTO/samples/000202.wav'), WindowsPath('D:/Jupyter/ShowBees/datasets/TUTO/samples/000203.wav'), WindowsPath('D:/Jupyter/ShowBees/datasets/TUTO/samples/000204.wav'), WindowsPath('D:/Jupyter/ShowBees/datasets/TUTO/samples/000205.wav'), WindowsPath('D:/Jupyter/ShowBees/datasets/TUTO/samples/000206.wav'), WindowsPath('D:/Jupyter/ShowBees/datasets/TUTO/samples/000207.wav'), WindowsPath('D:/Jupyter/ShowBees/datasets/TUTO/samples/000208.wav'), WindowsPath('D:/Jupyter/ShowBees/datasets/TUTO/samples/000209.wav'), WindowsPath('D:/Jupyter/ShowBees/datasets/TUTO/samples/000210.wav'), WindowsPath('D:/Jupyter/ShowBees/datasets/TUTO/samples/000211.wav'), WindowsPath('D:/Jupyter/ShowBees/datasets/TUTO/samples/000212.wav'), WindowsPath('D:/Jupyter/ShowBees/datasets/TUTO/samples/000213.wav'), WindowsPath('D:/Jupyter/ShowBees/datasets/TUTO/samples/000214.wav'), WindowsPath('D:/Jupyter/ShowBees/datasets/TUTO/samples/000215.wav'), WindowsPath('D:/Jupyter/ShowBees/datasets/TUTO/samples/000216.wav'), WindowsPath('D:/Jupyter/ShowBees/datasets/TUTO/samples/000217.wav'), WindowsPath('D:/Jupyter/ShowBees/datasets/TUTO/samples/000218.wav'), WindowsPath('D:/Jupyter/ShowBees/datasets/TUTO/samples/000219.wav'), WindowsPath('D:/Jupyter/ShowBees/datasets/TUTO/samples/000220.wav'), WindowsPath('D:/Jupyter/ShowBees/datasets/TUTO/samples/000221.wav'), WindowsPath('D:/Jupyter/ShowBees/datasets/TUTO/samples/000222.wav'), WindowsPath('D:/Jupyter/ShowBees/datasets/TUTO/samples/000223.wav'), WindowsPath('D:/Jupyter/ShowBees/datasets/TUTO/samples/000224.wav'), WindowsPath('D:/Jupyter/ShowBees/datasets/TUTO/samples/000225.wav'), WindowsPath('D:/Jupyter/ShowBees/datasets/TUTO/samples/000226.wav'), WindowsPath('D:/Jupyter/ShowBees/datasets/TUTO/samples/000227.wav'), WindowsPath('D:/Jupyter/ShowBees/datasets/TUTO/samples/000228.wav'), WindowsPath('D:/Jupyter/ShowBees/datasets/TUTO/samples/000229.wav'), WindowsPath('D:/Jupyter/ShowBees/datasets/TUTO/samples/000230.wav'), WindowsPath('D:/Jupyter/ShowBees/datasets/TUTO/samples/000231.wav'), WindowsPath('D:/Jupyter/ShowBees/datasets/TUTO/samples/000232.wav'), WindowsPath('D:/Jupyter/ShowBees/datasets/TUTO/samples/000233.wav'), WindowsPath('D:/Jupyter/ShowBees/datasets/TUTO/samples/000234.wav'), WindowsPath('D:/Jupyter/ShowBees/datasets/TUTO/samples/000235.wav'), WindowsPath('D:/Jupyter/ShowBees/datasets/TUTO/samples/000236.wav'), WindowsPath('D:/Jupyter/ShowBees/datasets/TUTO/samples/000237.wav'), WindowsPath('D:/Jupyter/ShowBees/datasets/TUTO/samples/000238.wav'), WindowsPath('D:/Jupyter/ShowBees/datasets/TUTO/samples/000239.wav'), WindowsPath('D:/Jupyter/ShowBees/datasets/TUTO/samples/000240.wav'), WindowsPath('D:/Jupyter/ShowBees/datasets/TUTO/samples/000241.wav'), WindowsPath('D:/Jupyter/ShowBees/datasets/TUTO/samples/000242.wav'), WindowsPath('D:/Jupyter/ShowBees/datasets/TUTO/samples/000243.wav'), WindowsPath('D:/Jupyter/ShowBees/datasets/TUTO/samples/000244.wav'), WindowsPath('D:/Jupyter/ShowBees/datasets/TUTO/samples/000245.wav'), WindowsPath('D:/Jupyter/ShowBees/datasets/TUTO/samples/000246.wav'), WindowsPath('D:/Jupyter/ShowBees/datasets/TUTO/samples/000247.wav'), WindowsPath('D:/Jupyter/ShowBees/datasets/TUTO/samples/000248.wav'), WindowsPath('D:/Jupyter/ShowBees/datasets/TUTO/samples/000249.wav'), WindowsPath('D:/Jupyter/ShowBees/datasets/TUTO/samples/000250.wav'), WindowsPath('D:/Jupyter/ShowBees/datasets/TUTO/samples/000251.wav'), WindowsPath('D:/Jupyter/ShowBees/datasets/TUTO/samples/000252.wav'), WindowsPath('D:/Jupyter/ShowBees/datasets/TUTO/samples/000253.wav'), WindowsPath('D:/Jupyter/ShowBees/datasets/TUTO/samples/000254.wav'), WindowsPath('D:/Jupyter/ShowBees/datasets/TUTO/samples/000255.wav'), WindowsPath('D:/Jupyter/ShowBees/datasets/TUTO/samples/000256.wav'), WindowsPath('D:/Jupyter/ShowBees/datasets/TUTO/samples/000257.wav'), WindowsPath('D:/Jupyter/ShowBees/datasets/TUTO/samples/000258.wav'), WindowsPath('D:/Jupyter/ShowBees/datasets/TUTO/samples/000259.wav'), WindowsPath('D:/Jupyter/ShowBees/datasets/TUTO/samples/000260.wav'), WindowsPath('D:/Jupyter/ShowBees/datasets/TUTO/samples/000261.wav'), WindowsPath('D:/Jupyter/ShowBees/datasets/TUTO/samples/000262.wav'), WindowsPath('D:/Jupyter/ShowBees/datasets/TUTO/samples/000263.wav'), WindowsPath('D:/Jupyter/ShowBees/datasets/TUTO/samples/000264.wav'), WindowsPath('D:/Jupyter/ShowBees/datasets/TUTO/samples/000265.wav'), WindowsPath('D:/Jupyter/ShowBees/datasets/TUTO/samples/000266.wav'), WindowsPath('D:/Jupyter/ShowBees/datasets/TUTO/samples/000267.wav'), WindowsPath('D:/Jupyter/ShowBees/datasets/TUTO/samples/000268.wav'), WindowsPath('D:/Jupyter/ShowBees/datasets/TUTO/samples/000269.wav'), WindowsPath('D:/Jupyter/ShowBees/datasets/TUTO/samples/000270.wav'), WindowsPath('D:/Jupyter/ShowBees/datasets/TUTO/samples/000271.wav'), WindowsPath('D:/Jupyter/ShowBees/datasets/TUTO/samples/000272.wav'), WindowsPath('D:/Jupyter/ShowBees/datasets/TUTO/samples/000273.wav'), WindowsPath('D:/Jupyter/ShowBees/datasets/TUTO/samples/000274.wav'), WindowsPath('D:/Jupyter/ShowBees/datasets/TUTO/samples/000275.wav'), WindowsPath('D:/Jupyter/ShowBees/datasets/TUTO/samples/000276.wav'), WindowsPath('D:/Jupyter/ShowBees/datasets/TUTO/samples/000277.wav'), WindowsPath('D:/Jupyter/ShowBees/datasets/TUTO/samples/000278.wav'), WindowsPath('D:/Jupyter/ShowBees/datasets/TUTO/samples/000279.wav'), WindowsPath('D:/Jupyter/ShowBees/datasets/TUTO/samples/000280.wav'), WindowsPath('D:/Jupyter/ShowBees/datasets/TUTO/samples/000281.wav'), WindowsPath('D:/Jupyter/ShowBees/datasets/TUTO/samples/000282.wav'), WindowsPath('D:/Jupyter/ShowBees/datasets/TUTO/samples/000283.wav'), WindowsPath('D:/Jupyter/ShowBees/datasets/TUTO/samples/000284.wav'), WindowsPath('D:/Jupyter/ShowBees/datasets/TUTO/samples/000285.wav'), WindowsPath('D:/Jupyter/ShowBees/datasets/TUTO/samples/000286.wav'), WindowsPath('D:/Jupyter/ShowBees/datasets/TUTO/samples/000287.wav'), WindowsPath('D:/Jupyter/ShowBees/datasets/TUTO/samples/000288.wav'), WindowsPath('D:/Jupyter/ShowBees/datasets/TUTO/samples/000289.wav'), WindowsPath('D:/Jupyter/ShowBees/datasets/TUTO/samples/000290.wav'), WindowsPath('D:/Jupyter/ShowBees/datasets/TUTO/samples/000291.wav'), WindowsPath('D:/Jupyter/ShowBees/datasets/TUTO/samples/000292.wav'), WindowsPath('D:/Jupyter/ShowBees/datasets/TUTO/samples/000293.wav'), WindowsPath('D:/Jupyter/ShowBees/datasets/TUTO/samples/000294.wav'), WindowsPath('D:/Jupyter/ShowBees/datasets/TUTO/samples/000295.wav'), WindowsPath('D:/Jupyter/ShowBees/datasets/TUTO/samples/000296.wav'), WindowsPath('D:/Jupyter/ShowBees/datasets/TUTO/samples/000297.wav'), WindowsPath('D:/Jupyter/ShowBees/datasets/TUTO/samples/000298.wav'), WindowsPath('D:/Jupyter/ShowBees/datasets/TUTO/samples/000299.wav'), WindowsPath('D:/Jupyter/ShowBees/datasets/TUTO/samples/000300.wav'), WindowsPath('D:/Jupyter/ShowBees/datasets/TUTO/samples/000301.wav'), WindowsPath('D:/Jupyter/ShowBees/datasets/TUTO/samples/000302.wav'), WindowsPath('D:/Jupyter/ShowBees/datasets/TUTO/samples/000303.wav'), WindowsPath('D:/Jupyter/ShowBees/datasets/TUTO/samples/000304.wav'), WindowsPath('D:/Jupyter/ShowBees/datasets/TUTO/samples/000305.wav'), WindowsPath('D:/Jupyter/ShowBees/datasets/TUTO/samples/000306.wav'), WindowsPath('D:/Jupyter/ShowBees/datasets/TUTO/samples/000307.wav'), WindowsPath('D:/Jupyter/ShowBees/datasets/TUTO/samples/000308.wav'), WindowsPath('D:/Jupyter/ShowBees/datasets/TUTO/samples/000309.wav'), WindowsPath('D:/Jupyter/ShowBees/datasets/TUTO/samples/000310.wav'), WindowsPath('D:/Jupyter/ShowBees/datasets/TUTO/samples/000311.wav'), WindowsPath('D:/Jupyter/ShowBees/datasets/TUTO/samples/000312.wav'), WindowsPath('D:/Jupyter/ShowBees/datasets/TUTO/samples/000313.wav'), WindowsPath('D:/Jupyter/ShowBees/datasets/TUTO/samples/000314.wav'), WindowsPath('D:/Jupyter/ShowBees/datasets/TUTO/samples/000315.wav'), WindowsPath('D:/Jupyter/ShowBees/datasets/TUTO/samples/000316.wav'), WindowsPath('D:/Jupyter/ShowBees/datasets/TUTO/samples/000317.wav'), WindowsPath('D:/Jupyter/ShowBees/datasets/TUTO/samples/000318.wav'), WindowsPath('D:/Jupyter/ShowBees/datasets/TUTO/samples/000319.wav'), WindowsPath('D:/Jupyter/ShowBees/datasets/TUTO/samples/000320.wav'), WindowsPath('D:/Jupyter/ShowBees/datasets/TUTO/samples/000321.wav'), WindowsPath('D:/Jupyter/ShowBees/datasets/TUTO/samples/000322.wav'), WindowsPath('D:/Jupyter/ShowBees/datasets/TUTO/samples/000323.wav'), WindowsPath('D:/Jupyter/ShowBees/datasets/TUTO/samples/000324.wav'), WindowsPath('D:/Jupyter/ShowBees/datasets/TUTO/samples/000325.wav'), WindowsPath('D:/Jupyter/ShowBees/datasets/TUTO/samples/000326.wav'), WindowsPath('D:/Jupyter/ShowBees/datasets/TUTO/samples/000327.wav'), WindowsPath('D:/Jupyter/ShowBees/datasets/TUTO/samples/000328.wav'), WindowsPath('D:/Jupyter/ShowBees/datasets/TUTO/samples/000329.wav'), WindowsPath('D:/Jupyter/ShowBees/datasets/TUTO/samples/000330.wav'), WindowsPath('D:/Jupyter/ShowBees/datasets/TUTO/samples/000331.wav'), WindowsPath('D:/Jupyter/ShowBees/datasets/TUTO/samples/000332.wav'), WindowsPath('D:/Jupyter/ShowBees/datasets/TUTO/samples/000333.wav'), WindowsPath('D:/Jupyter/ShowBees/datasets/TUTO/samples/000334.wav'), WindowsPath('D:/Jupyter/ShowBees/datasets/TUTO/samples/000335.wav'), WindowsPath('D:/Jupyter/ShowBees/datasets/TUTO/samples/000336.wav'), WindowsPath('D:/Jupyter/ShowBees/datasets/TUTO/samples/000337.wav'), WindowsPath('D:/Jupyter/ShowBees/datasets/TUTO/samples/000338.wav'), WindowsPath('D:/Jupyter/ShowBees/datasets/TUTO/samples/000339.wav'), WindowsPath('D:/Jupyter/ShowBees/datasets/TUTO/samples/000340.wav'), WindowsPath('D:/Jupyter/ShowBees/datasets/TUTO/samples/000341.wav'), WindowsPath('D:/Jupyter/ShowBees/datasets/TUTO/samples/000342.wav'), WindowsPath('D:/Jupyter/ShowBees/datasets/TUTO/samples/000343.wav'), WindowsPath('D:/Jupyter/ShowBees/datasets/TUTO/samples/000344.wav'), WindowsPath('D:/Jupyter/ShowBees/datasets/TUTO/samples/000345.wav'), WindowsPath('D:/Jupyter/ShowBees/datasets/TUTO/samples/000346.wav'), WindowsPath('D:/Jupyter/ShowBees/datasets/TUTO/samples/000347.wav'), WindowsPath('D:/Jupyter/ShowBees/datasets/TUTO/samples/000348.wav'), WindowsPath('D:/Jupyter/ShowBees/datasets/TUTO/samples/000349.wav'), WindowsPath('D:/Jupyter/ShowBees/datasets/TUTO/samples/000350.wav'), WindowsPath('D:/Jupyter/ShowBees/datasets/TUTO/samples/000351.wav'), WindowsPath('D:/Jupyter/ShowBees/datasets/TUTO/samples/000352.wav'), WindowsPath('D:/Jupyter/ShowBees/datasets/TUTO/samples/000353.wav'), WindowsPath('D:/Jupyter/ShowBees/datasets/TUTO/samples/000354.wav'), WindowsPath('D:/Jupyter/ShowBees/datasets/TUTO/samples/000355.wav'), WindowsPath('D:/Jupyter/ShowBees/datasets/TUTO/samples/000356.wav'), WindowsPath('D:/Jupyter/ShowBees/datasets/TUTO/samples/000357.wav'), WindowsPath('D:/Jupyter/ShowBees/datasets/TUTO/samples/000358.wav'), WindowsPath('D:/Jupyter/ShowBees/datasets/TUTO/samples/000359.wav'), WindowsPath('D:/Jupyter/ShowBees/datasets/TUTO/samples/000360.wav'), WindowsPath('D:/Jupyter/ShowBees/datasets/TUTO/samples/000361.wav'), WindowsPath('D:/Jupyter/ShowBees/datasets/TUTO/samples/000362.wav'), WindowsPath('D:/Jupyter/ShowBees/datasets/TUTO/samples/000363.wav'), WindowsPath('D:/Jupyter/ShowBees/datasets/TUTO/samples/000364.wav'), WindowsPath('D:/Jupyter/ShowBees/datasets/TUTO/samples/000365.wav'), WindowsPath('D:/Jupyter/ShowBees/datasets/TUTO/samples/000366.wav'), WindowsPath('D:/Jupyter/ShowBees/datasets/TUTO/samples/000367.wav'), WindowsPath('D:/Jupyter/ShowBees/datasets/TUTO/samples/000368.wav'), WindowsPath('D:/Jupyter/ShowBees/datasets/TUTO/samples/000369.wav'), WindowsPath('D:/Jupyter/ShowBees/datasets/TUTO/samples/000370.wav'), WindowsPath('D:/Jupyter/ShowBees/datasets/TUTO/samples/000371.wav'), WindowsPath('D:/Jupyter/ShowBees/datasets/TUTO/samples/000372.wav'), WindowsPath('D:/Jupyter/ShowBees/datasets/TUTO/samples/000373.wav'), WindowsPath('D:/Jupyter/ShowBees/datasets/TUTO/samples/000374.wav'), WindowsPath('D:/Jupyter/ShowBees/datasets/TUTO/samples/000375.wav'), WindowsPath('D:/Jupyter/ShowBees/datasets/TUTO/samples/000376.wav'), WindowsPath('D:/Jupyter/ShowBees/datasets/TUTO/samples/000377.wav'), WindowsPath('D:/Jupyter/ShowBees/datasets/TUTO/samples/000378.wav'), WindowsPath('D:/Jupyter/ShowBees/datasets/TUTO/samples/000379.wav'), WindowsPath('D:/Jupyter/ShowBees/datasets/TUTO/samples/000380.wav'), WindowsPath('D:/Jupyter/ShowBees/datasets/TUTO/samples/000381.wav'), WindowsPath('D:/Jupyter/ShowBees/datasets/TUTO/samples/000382.wav'), WindowsPath('D:/Jupyter/ShowBees/datasets/TUTO/samples/000383.wav'), WindowsPath('D:/Jupyter/ShowBees/datasets/TUTO/samples/000384.wav'), WindowsPath('D:/Jupyter/ShowBees/datasets/TUTO/samples/000385.wav'), WindowsPath('D:/Jupyter/ShowBees/datasets/TUTO/samples/000386.wav'), WindowsPath('D:/Jupyter/ShowBees/datasets/TUTO/samples/000387.wav'), WindowsPath('D:/Jupyter/ShowBees/datasets/TUTO/samples/000388.wav'), WindowsPath('D:/Jupyter/ShowBees/datasets/TUTO/samples/000389.wav'), WindowsPath('D:/Jupyter/ShowBees/datasets/TUTO/samples/000390.wav'), WindowsPath('D:/Jupyter/ShowBees/datasets/TUTO/samples/000391.wav'), WindowsPath('D:/Jupyter/ShowBees/datasets/TUTO/samples/000392.wav'), WindowsPath('D:/Jupyter/ShowBees/datasets/TUTO/samples/000393.wav'), WindowsPath('D:/Jupyter/ShowBees/datasets/TUTO/samples/000394.wav'), WindowsPath('D:/Jupyter/ShowBees/datasets/TUTO/samples/000395.wav'), WindowsPath('D:/Jupyter/ShowBees/datasets/TUTO/samples/000396.wav'), WindowsPath('D:/Jupyter/ShowBees/datasets/TUTO/samples/000397.wav'), WindowsPath('D:/Jupyter/ShowBees/datasets/TUTO/samples/000398.wav'), WindowsPath('D:/Jupyter/ShowBees/datasets/TUTO/samples/000399.wav'), WindowsPath('D:/Jupyter/ShowBees/datasets/TUTO/samples/000400.wav'), WindowsPath('D:/Jupyter/ShowBees/datasets/TUTO/samples/000401.wav'), WindowsPath('D:/Jupyter/ShowBees/datasets/TUTO/samples/000402.wav'), WindowsPath('D:/Jupyter/ShowBees/datasets/TUTO/samples/000403.wav'), WindowsPath('D:/Jupyter/ShowBees/datasets/TUTO/samples/000404.wav'), WindowsPath('D:/Jupyter/ShowBees/datasets/TUTO/samples/000405.wav'), WindowsPath('D:/Jupyter/ShowBees/datasets/TUTO/samples/000406.wav'), WindowsPath('D:/Jupyter/ShowBees/datasets/TUTO/samples/000407.wav'), WindowsPath('D:/Jupyter/ShowBees/datasets/TUTO/samples/000408.wav'), WindowsPath('D:/Jupyter/ShowBees/datasets/TUTO/samples/000409.wav'), WindowsPath('D:/Jupyter/ShowBees/datasets/TUTO/samples/000410.wav'), WindowsPath('D:/Jupyter/ShowBees/datasets/TUTO/samples/000411.wav'), WindowsPath('D:/Jupyter/ShowBees/datasets/TUTO/samples/000412.wav'), WindowsPath('D:/Jupyter/ShowBees/datasets/TUTO/samples/000413.wav'), WindowsPath('D:/Jupyter/ShowBees/datasets/TUTO/samples/000414.wav'), WindowsPath('D:/Jupyter/ShowBees/datasets/TUTO/samples/000415.wav'), WindowsPath('D:/Jupyter/ShowBees/datasets/TUTO/samples/000416.wav'), WindowsPath('D:/Jupyter/ShowBees/datasets/TUTO/samples/000417.wav'), WindowsPath('D:/Jupyter/ShowBees/datasets/TUTO/samples/000418.wav'), WindowsPath('D:/Jupyter/ShowBees/datasets/TUTO/samples/000419.wav'), WindowsPath('D:/Jupyter/ShowBees/datasets/TUTO/samples/000420.wav'), WindowsPath('D:/Jupyter/ShowBees/datasets/TUTO/samples/000421.wav'), WindowsPath('D:/Jupyter/ShowBees/datasets/TUTO/samples/000422.wav'), WindowsPath('D:/Jupyter/ShowBees/datasets/TUTO/samples/000423.wav'), WindowsPath('D:/Jupyter/ShowBees/datasets/TUTO/samples/000424.wav'), WindowsPath('D:/Jupyter/ShowBees/datasets/TUTO/samples/000425.wav'), WindowsPath('D:/Jupyter/ShowBees/datasets/TUTO/samples/000426.wav'), WindowsPath('D:/Jupyter/ShowBees/datasets/TUTO/samples/000427.wav'), WindowsPath('D:/Jupyter/ShowBees/datasets/TUTO/samples/000428.wav'), WindowsPath('D:/Jupyter/ShowBees/datasets/TUTO/samples/000429.wav'), WindowsPath('D:/Jupyter/ShowBees/datasets/TUTO/samples/000430.wav'), WindowsPath('D:/Jupyter/ShowBees/datasets/TUTO/samples/000431.wav'), WindowsPath('D:/Jupyter/ShowBees/datasets/TUTO/samples/000432.wav'), WindowsPath('D:/Jupyter/ShowBees/datasets/TUTO/samples/000433.wav'), WindowsPath('D:/Jupyter/ShowBees/datasets/TUTO/samples/000434.wav'), WindowsPath('D:/Jupyter/ShowBees/datasets/TUTO/samples/000435.wav'), WindowsPath('D:/Jupyter/ShowBees/datasets/TUTO/samples/000436.wav'), WindowsPath('D:/Jupyter/ShowBees/datasets/TUTO/samples/000437.wav'), WindowsPath('D:/Jupyter/ShowBees/datasets/TUTO/samples/000438.wav'), WindowsPath('D:/Jupyter/ShowBees/datasets/TUTO/samples/000439.wav'), WindowsPath('D:/Jupyter/ShowBees/datasets/TUTO/samples/000440.wav'), WindowsPath('D:/Jupyter/ShowBees/datasets/TUTO/samples/000441.wav'), WindowsPath('D:/Jupyter/ShowBees/datasets/TUTO/samples/000442.wav'), WindowsPath('D:/Jupyter/ShowBees/datasets/TUTO/samples/000443.wav'), WindowsPath('D:/Jupyter/ShowBees/datasets/TUTO/samples/000444.wav'), WindowsPath('D:/Jupyter/ShowBees/datasets/TUTO/samples/000445.wav'), WindowsPath('D:/Jupyter/ShowBees/datasets/TUTO/samples/000446.wav'), WindowsPath('D:/Jupyter/ShowBees/datasets/TUTO/samples/000447.wav'), WindowsPath('D:/Jupyter/ShowBees/datasets/TUTO/samples/000448.wav'), WindowsPath('D:/Jupyter/ShowBees/datasets/TUTO/samples/000449.wav'), WindowsPath('D:/Jupyter/ShowBees/datasets/TUTO/samples/000450.wav'), WindowsPath('D:/Jupyter/ShowBees/datasets/TUTO/samples/000451.wav'), WindowsPath('D:/Jupyter/ShowBees/datasets/TUTO/samples/000452.wav'), WindowsPath('D:/Jupyter/ShowBees/datasets/TUTO/samples/000453.wav'), WindowsPath('D:/Jupyter/ShowBees/datasets/TUTO/samples/000454.wav'), WindowsPath('D:/Jupyter/ShowBees/datasets/TUTO/samples/000455.wav'), WindowsPath('D:/Jupyter/ShowBees/datasets/TUTO/samples/000456.wav'), WindowsPath('D:/Jupyter/ShowBees/datasets/TUTO/samples/000457.wav'), WindowsPath('D:/Jupyter/ShowBees/datasets/TUTO/samples/000458.wav'), WindowsPath('D:/Jupyter/ShowBees/datasets/TUTO/samples/000459.wav'), WindowsPath('D:/Jupyter/ShowBees/datasets/TUTO/samples/000460.wav'), WindowsPath('D:/Jupyter/ShowBees/datasets/TUTO/samples/000461.wav'), WindowsPath('D:/Jupyter/ShowBees/datasets/TUTO/samples/000462.wav'), WindowsPath('D:/Jupyter/ShowBees/datasets/TUTO/samples/000463.wav'), WindowsPath('D:/Jupyter/ShowBees/datasets/TUTO/samples/000464.wav'), WindowsPath('D:/Jupyter/ShowBees/datasets/TUTO/samples/000465.wav'), WindowsPath('D:/Jupyter/ShowBees/datasets/TUTO/samples/000466.wav'), WindowsPath('D:/Jupyter/ShowBees/datasets/TUTO/samples/000467.wav'), WindowsPath('D:/Jupyter/ShowBees/datasets/TUTO/samples/000468.wav'), WindowsPath('D:/Jupyter/ShowBees/datasets/TUTO/samples/000469.wav'), WindowsPath('D:/Jupyter/ShowBees/datasets/TUTO/samples/000470.wav'), WindowsPath('D:/Jupyter/ShowBees/datasets/TUTO/samples/000471.wav'), WindowsPath('D:/Jupyter/ShowBees/datasets/TUTO/samples/000472.wav'), WindowsPath('D:/Jupyter/ShowBees/datasets/TUTO/samples/000473.wav'), WindowsPath('D:/Jupyter/ShowBees/datasets/TUTO/samples/000474.wav'), WindowsPath('D:/Jupyter/ShowBees/datasets/TUTO/samples/000475.wav'), WindowsPath('D:/Jupyter/ShowBees/datasets/TUTO/samples/000476.wav'), WindowsPath('D:/Jupyter/ShowBees/datasets/TUTO/samples/000477.wav'), WindowsPath('D:/Jupyter/ShowBees/datasets/TUTO/samples/000478.wav'), WindowsPath('D:/Jupyter/ShowBees/datasets/TUTO/samples/000479.wav'), WindowsPath('D:/Jupyter/ShowBees/datasets/TUTO/samples/000480.wav'), WindowsPath('D:/Jupyter/ShowBees/datasets/TUTO/samples/000481.wav'), WindowsPath('D:/Jupyter/ShowBees/datasets/TUTO/samples/000482.wav'), WindowsPath('D:/Jupyter/ShowBees/datasets/TUTO/samples/000483.wav'), WindowsPath('D:/Jupyter/ShowBees/datasets/TUTO/samples/000484.wav'), WindowsPath('D:/Jupyter/ShowBees/datasets/TUTO/samples/000485.wav'), WindowsPath('D:/Jupyter/ShowBees/datasets/TUTO/samples/000486.wav'), WindowsPath('D:/Jupyter/ShowBees/datasets/TUTO/samples/000487.wav'), WindowsPath('D:/Jupyter/ShowBees/datasets/TUTO/samples/000488.wav'), WindowsPath('D:/Jupyter/ShowBees/datasets/TUTO/samples/000489.wav'), WindowsPath('D:/Jupyter/ShowBees/datasets/TUTO/samples/000490.wav'), WindowsPath('D:/Jupyter/ShowBees/datasets/TUTO/samples/000491.wav'), WindowsPath('D:/Jupyter/ShowBees/datasets/TUTO/samples/000492.wav'), WindowsPath('D:/Jupyter/ShowBees/datasets/TUTO/samples/000493.wav'), WindowsPath('D:/Jupyter/ShowBees/datasets/TUTO/samples/000494.wav'), WindowsPath('D:/Jupyter/ShowBees/datasets/TUTO/samples/000495.wav'), WindowsPath('D:/Jupyter/ShowBees/datasets/TUTO/samples/000496.wav'), WindowsPath('D:/Jupyter/ShowBees/datasets/TUTO/samples/000497.wav'), WindowsPath('D:/Jupyter/ShowBees/datasets/TUTO/samples/000498.wav'), WindowsPath('D:/Jupyter/ShowBees/datasets/TUTO/samples/000499.wav'), WindowsPath('D:/Jupyter/ShowBees/datasets/TUTO/samples/000500.wav'), WindowsPath('D:/Jupyter/ShowBees/datasets/TUTO/samples/000501.wav'), WindowsPath('D:/Jupyter/ShowBees/datasets/TUTO/samples/000502.wav'), WindowsPath('D:/Jupyter/ShowBees/datasets/TUTO/samples/000503.wav'), WindowsPath('D:/Jupyter/ShowBees/datasets/TUTO/samples/000504.wav'), WindowsPath('D:/Jupyter/ShowBees/datasets/TUTO/samples/000505.wav'), WindowsPath('D:/Jupyter/ShowBees/datasets/TUTO/samples/000506.wav'), WindowsPath('D:/Jupyter/ShowBees/datasets/TUTO/samples/000507.wav'), WindowsPath('D:/Jupyter/ShowBees/datasets/TUTO/samples/000508.wav'), WindowsPath('D:/Jupyter/ShowBees/datasets/TUTO/samples/000509.wav'), WindowsPath('D:/Jupyter/ShowBees/datasets/TUTO/samples/000510.wav'), WindowsPath('D:/Jupyter/ShowBees/datasets/TUTO/samples/000511.wav'), WindowsPath('D:/Jupyter/ShowBees/datasets/TUTO/samples/000512.wav'), WindowsPath('D:/Jupyter/ShowBees/datasets/TUTO/samples/000513.wav'), WindowsPath('D:/Jupyter/ShowBees/datasets/TUTO/samples/000514.wav'), WindowsPath('D:/Jupyter/ShowBees/datasets/TUTO/samples/000515.wav'), WindowsPath('D:/Jupyter/ShowBees/datasets/TUTO/samples/000516.wav'), WindowsPath('D:/Jupyter/ShowBees/datasets/TUTO/samples/000517.wav'), WindowsPath('D:/Jupyter/ShowBees/datasets/TUTO/samples/000518.wav'), WindowsPath('D:/Jupyter/ShowBees/datasets/TUTO/samples/000519.wav'), WindowsPath('D:/Jupyter/ShowBees/datasets/TUTO/samples/000520.wav'), WindowsPath('D:/Jupyter/ShowBees/datasets/TUTO/samples/000521.wav'), WindowsPath('D:/Jupyter/ShowBees/datasets/TUTO/samples/000522.wav'), WindowsPath('D:/Jupyter/ShowBees/datasets/TUTO/samples/000523.wav'), WindowsPath('D:/Jupyter/ShowBees/datasets/TUTO/samples/000524.wav'), WindowsPath('D:/Jupyter/ShowBees/datasets/TUTO/samples/000525.wav'), WindowsPath('D:/Jupyter/ShowBees/datasets/TUTO/samples/000526.wav'), WindowsPath('D:/Jupyter/ShowBees/datasets/TUTO/samples/000527.wav'), WindowsPath('D:/Jupyter/ShowBees/datasets/TUTO/samples/000528.wav'), WindowsPath('D:/Jupyter/ShowBees/datasets/TUTO/samples/000529.wav'), WindowsPath('D:/Jupyter/ShowBees/datasets/TUTO/samples/000530.wav'), WindowsPath('D:/Jupyter/ShowBees/datasets/TUTO/samples/000531.wav'), WindowsPath('D:/Jupyter/ShowBees/datasets/TUTO/samples/000532.wav'), WindowsPath('D:/Jupyter/ShowBees/datasets/TUTO/samples/000533.wav'), WindowsPath('D:/Jupyter/ShowBees/datasets/TUTO/samples/000534.wav'), WindowsPath('D:/Jupyter/ShowBees/datasets/TUTO/samples/000535.wav'), WindowsPath('D:/Jupyter/ShowBees/datasets/TUTO/samples/000536.wav'), WindowsPath('D:/Jupyter/ShowBees/datasets/TUTO/samples/000537.wav'), WindowsPath('D:/Jupyter/ShowBees/datasets/TUTO/samples/000538.wav'), WindowsPath('D:/Jupyter/ShowBees/datasets/TUTO/samples/000539.wav'), WindowsPath('D:/Jupyter/ShowBees/datasets/TUTO/samples/000540.wav'), WindowsPath('D:/Jupyter/ShowBees/datasets/TUTO/samples/000541.wav'), WindowsPath('D:/Jupyter/ShowBees/datasets/TUTO/samples/000542.wav'), WindowsPath('D:/Jupyter/ShowBees/datasets/TUTO/samples/000543.wav'), WindowsPath('D:/Jupyter/ShowBees/datasets/TUTO/samples/000544.wav'), WindowsPath('D:/Jupyter/ShowBees/datasets/TUTO/samples/000545.wav'), WindowsPath('D:/Jupyter/ShowBees/datasets/TUTO/samples/000546.wav'), WindowsPath('D:/Jupyter/ShowBees/datasets/TUTO/samples/000547.wav'), WindowsPath('D:/Jupyter/ShowBees/datasets/TUTO/samples/000548.wav'), WindowsPath('D:/Jupyter/ShowBees/datasets/TUTO/samples/000549.wav'), WindowsPath('D:/Jupyter/ShowBees/datasets/TUTO/samples/000550.wav'), WindowsPath('D:/Jupyter/ShowBees/datasets/TUTO/samples/000551.wav'), WindowsPath('D:/Jupyter/ShowBees/datasets/TUTO/samples/000552.wav'), WindowsPath('D:/Jupyter/ShowBees/datasets/TUTO/samples/000553.wav'), WindowsPath('D:/Jupyter/ShowBees/datasets/TUTO/samples/000554.wav'), WindowsPath('D:/Jupyter/ShowBees/datasets/TUTO/samples/000555.wav'), WindowsPath('D:/Jupyter/ShowBees/datasets/TUTO/samples/000556.wav'), WindowsPath('D:/Jupyter/ShowBees/datasets/TUTO/samples/000557.wav'), WindowsPath('D:/Jupyter/ShowBees/datasets/TUTO/samples/000558.wav'), WindowsPath('D:/Jupyter/ShowBees/datasets/TUTO/samples/000559.wav'), WindowsPath('D:/Jupyter/ShowBees/datasets/TUTO/samples/000560.wav'), WindowsPath('D:/Jupyter/ShowBees/datasets/TUTO/samples/000561.wav'), WindowsPath('D:/Jupyter/ShowBees/datasets/TUTO/samples/000562.wav'), WindowsPath('D:/Jupyter/ShowBees/datasets/TUTO/samples/000563.wav'), WindowsPath('D:/Jupyter/ShowBees/datasets/TUTO/samples/000564.wav'), WindowsPath('D:/Jupyter/ShowBees/datasets/TUTO/samples/000565.wav'), WindowsPath('D:/Jupyter/ShowBees/datasets/TUTO/samples/000566.wav'), WindowsPath('D:/Jupyter/ShowBees/datasets/TUTO/samples/000567.wav'), WindowsPath('D:/Jupyter/ShowBees/datasets/TUTO/samples/000568.wav'), WindowsPath('D:/Jupyter/ShowBees/datasets/TUTO/samples/000569.wav'), WindowsPath('D:/Jupyter/ShowBees/datasets/TUTO/samples/000570.wav'), WindowsPath('D:/Jupyter/ShowBees/datasets/TUTO/samples/000571.wav'), WindowsPath('D:/Jupyter/ShowBees/datasets/TUTO/samples/000572.wav'), WindowsPath('D:/Jupyter/ShowBees/datasets/TUTO/samples/000573.wav'), WindowsPath('D:/Jupyter/ShowBees/datasets/TUTO/samples/000574.wav'), WindowsPath('D:/Jupyter/ShowBees/datasets/TUTO/samples/000575.wav'), WindowsPath('D:/Jupyter/ShowBees/datasets/TUTO/samples/000576.wav'), WindowsPath('D:/Jupyter/ShowBees/datasets/TUTO/samples/000577.wav'), WindowsPath('D:/Jupyter/ShowBees/datasets/TUTO/samples/000578.wav'), WindowsPath('D:/Jupyter/ShowBees/datasets/TUTO/samples/000579.wav'), WindowsPath('D:/Jupyter/ShowBees/datasets/TUTO/samples/000580.wav'), WindowsPath('D:/Jupyter/ShowBees/datasets/TUTO/samples/000581.wav'), WindowsPath('D:/Jupyter/ShowBees/datasets/TUTO/samples/000582.wav'), WindowsPath('D:/Jupyter/ShowBees/datasets/TUTO/samples/000583.wav'), WindowsPath('D:/Jupyter/ShowBees/datasets/TUTO/samples/000584.wav'), WindowsPath('D:/Jupyter/ShowBees/datasets/TUTO/samples/000585.wav'), WindowsPath('D:/Jupyter/ShowBees/datasets/TUTO/samples/000586.wav'), WindowsPath('D:/Jupyter/ShowBees/datasets/TUTO/samples/000587.wav'), WindowsPath('D:/Jupyter/ShowBees/datasets/TUTO/samples/000588.wav'), WindowsPath('D:/Jupyter/ShowBees/datasets/TUTO/samples/000589.wav'), WindowsPath('D:/Jupyter/ShowBees/datasets/TUTO/samples/000590.wav'), WindowsPath('D:/Jupyter/ShowBees/datasets/TUTO/samples/000591.wav'), WindowsPath('D:/Jupyter/ShowBees/datasets/TUTO/samples/000592.wav'), WindowsPath('D:/Jupyter/ShowBees/datasets/TUTO/samples/000593.wav'), WindowsPath('D:/Jupyter/ShowBees/datasets/TUTO/samples/000594.wav'), WindowsPath('D:/Jupyter/ShowBees/datasets/TUTO/samples/000595.wav'), WindowsPath('D:/Jupyter/ShowBees/datasets/TUTO/samples/000596.wav'), WindowsPath('D:/Jupyter/ShowBees/datasets/TUTO/samples/000597.wav')]\n"
     ]
    }
   ],
   "source": [
    "\n",
    "\n",
    "\n",
    "\n",
    "\n",
    "\n",
    "\n",
    "\n"
   ]
  },
  {
   "cell_type": "code",
   "execution_count": 3,
   "metadata": {
    "scrolled": true
   },
   "outputs": [
    {
     "name": "stdout",
     "output_type": "stream",
     "text": [
      "NB FILES: 24788\n"
     ]
    },
    {
     "ename": "TypeError",
     "evalue": "worker() argument after * must be an iterable, not WindowsPath",
     "output_type": "error",
     "traceback": [
      "\u001b[1;31m---------------------------------------------------------------------------\u001b[0m",
      "\u001b[1;31mRemoteTraceback\u001b[0m                           Traceback (most recent call last)",
      "\u001b[1;31mRemoteTraceback\u001b[0m: \n\"\"\"\nTraceback (most recent call last):\n  File \"D:\\Anaconda3\\lib\\multiprocessing\\pool.py\", line 121, in worker\n    result = (True, func(*args, **kwds))\nTypeError: worker() argument after * must be an iterable, not WindowsPath\n\"\"\"",
      "\nThe above exception was the direct cause of the following exception:\n",
      "\u001b[1;31mTypeError\u001b[0m                                 Traceback (most recent call last)",
      "\u001b[1;32m<ipython-input-3-d15dac761676>\u001b[0m in \u001b[0;36m<module>\u001b[1;34m\u001b[0m\n\u001b[0;32m     45\u001b[0m \u001b[1;31m#print(\"Async 2 :\", timeit.timeit(lambda: run_pool_async(2, wavs), number=1))\u001b[0m\u001b[1;33m\u001b[0m\u001b[1;33m\u001b[0m\u001b[1;33m\u001b[0m\u001b[0m\n\u001b[0;32m     46\u001b[0m \u001b[1;31m#print(\"Async 3 :\", timeit.timeit(lambda: run_pool_async(3, wavs), number=1))\u001b[0m\u001b[1;33m\u001b[0m\u001b[1;33m\u001b[0m\u001b[1;33m\u001b[0m\u001b[0m\n\u001b[1;32m---> 47\u001b[1;33m \u001b[0mprint\u001b[0m\u001b[1;33m(\u001b[0m\u001b[1;34m\"Async 4 :\"\u001b[0m\u001b[1;33m,\u001b[0m \u001b[0mtimeit\u001b[0m\u001b[1;33m.\u001b[0m\u001b[0mtimeit\u001b[0m\u001b[1;33m(\u001b[0m\u001b[1;32mlambda\u001b[0m\u001b[1;33m:\u001b[0m \u001b[0mrun_pool_async\u001b[0m\u001b[1;33m(\u001b[0m\u001b[1;36m4\u001b[0m\u001b[1;33m,\u001b[0m \u001b[0mwavs\u001b[0m\u001b[1;33m)\u001b[0m\u001b[1;33m,\u001b[0m \u001b[0mnumber\u001b[0m\u001b[1;33m=\u001b[0m\u001b[1;36m1\u001b[0m\u001b[1;33m)\u001b[0m\u001b[1;33m)\u001b[0m\u001b[1;33m\u001b[0m\u001b[1;33m\u001b[0m\u001b[0m\n\u001b[0m\u001b[0;32m     48\u001b[0m \u001b[1;31m#print(\"Async 5 :\", timeit.timeit(lambda: run_pool_async(5, wavs), number=1))\u001b[0m\u001b[1;33m\u001b[0m\u001b[1;33m\u001b[0m\u001b[1;33m\u001b[0m\u001b[0m\n\u001b[0;32m     49\u001b[0m \u001b[1;31m#print(\"Async 6 :\", timeit.timeit(lambda: run_pool_async(6, wavs), number=1))\u001b[0m\u001b[1;33m\u001b[0m\u001b[1;33m\u001b[0m\u001b[1;33m\u001b[0m\u001b[0m\n",
      "\u001b[1;32mD:\\Anaconda3\\lib\\timeit.py\u001b[0m in \u001b[0;36mtimeit\u001b[1;34m(stmt, setup, timer, number, globals)\u001b[0m\n\u001b[0;32m    230\u001b[0m            number=default_number, globals=None):\n\u001b[0;32m    231\u001b[0m     \u001b[1;34m\"\"\"Convenience function to create Timer object and call timeit method.\"\"\"\u001b[0m\u001b[1;33m\u001b[0m\u001b[1;33m\u001b[0m\u001b[0m\n\u001b[1;32m--> 232\u001b[1;33m     \u001b[1;32mreturn\u001b[0m \u001b[0mTimer\u001b[0m\u001b[1;33m(\u001b[0m\u001b[0mstmt\u001b[0m\u001b[1;33m,\u001b[0m \u001b[0msetup\u001b[0m\u001b[1;33m,\u001b[0m \u001b[0mtimer\u001b[0m\u001b[1;33m,\u001b[0m \u001b[0mglobals\u001b[0m\u001b[1;33m)\u001b[0m\u001b[1;33m.\u001b[0m\u001b[0mtimeit\u001b[0m\u001b[1;33m(\u001b[0m\u001b[0mnumber\u001b[0m\u001b[1;33m)\u001b[0m\u001b[1;33m\u001b[0m\u001b[1;33m\u001b[0m\u001b[0m\n\u001b[0m\u001b[0;32m    233\u001b[0m \u001b[1;33m\u001b[0m\u001b[0m\n\u001b[0;32m    234\u001b[0m def repeat(stmt=\"pass\", setup=\"pass\", timer=default_timer,\n",
      "\u001b[1;32mD:\\Anaconda3\\lib\\timeit.py\u001b[0m in \u001b[0;36mtimeit\u001b[1;34m(self, number)\u001b[0m\n\u001b[0;32m    174\u001b[0m         \u001b[0mgc\u001b[0m\u001b[1;33m.\u001b[0m\u001b[0mdisable\u001b[0m\u001b[1;33m(\u001b[0m\u001b[1;33m)\u001b[0m\u001b[1;33m\u001b[0m\u001b[1;33m\u001b[0m\u001b[0m\n\u001b[0;32m    175\u001b[0m         \u001b[1;32mtry\u001b[0m\u001b[1;33m:\u001b[0m\u001b[1;33m\u001b[0m\u001b[1;33m\u001b[0m\u001b[0m\n\u001b[1;32m--> 176\u001b[1;33m             \u001b[0mtiming\u001b[0m \u001b[1;33m=\u001b[0m \u001b[0mself\u001b[0m\u001b[1;33m.\u001b[0m\u001b[0minner\u001b[0m\u001b[1;33m(\u001b[0m\u001b[0mit\u001b[0m\u001b[1;33m,\u001b[0m \u001b[0mself\u001b[0m\u001b[1;33m.\u001b[0m\u001b[0mtimer\u001b[0m\u001b[1;33m)\u001b[0m\u001b[1;33m\u001b[0m\u001b[1;33m\u001b[0m\u001b[0m\n\u001b[0m\u001b[0;32m    177\u001b[0m         \u001b[1;32mfinally\u001b[0m\u001b[1;33m:\u001b[0m\u001b[1;33m\u001b[0m\u001b[1;33m\u001b[0m\u001b[0m\n\u001b[0;32m    178\u001b[0m             \u001b[1;32mif\u001b[0m \u001b[0mgcold\u001b[0m\u001b[1;33m:\u001b[0m\u001b[1;33m\u001b[0m\u001b[1;33m\u001b[0m\u001b[0m\n",
      "\u001b[1;32mD:\\Anaconda3\\lib\\timeit.py\u001b[0m in \u001b[0;36minner\u001b[1;34m(_it, _timer, _stmt)\u001b[0m\n",
      "\u001b[1;32m<ipython-input-3-d15dac761676>\u001b[0m in \u001b[0;36m<lambda>\u001b[1;34m()\u001b[0m\n\u001b[0;32m     45\u001b[0m \u001b[1;31m#print(\"Async 2 :\", timeit.timeit(lambda: run_pool_async(2, wavs), number=1))\u001b[0m\u001b[1;33m\u001b[0m\u001b[1;33m\u001b[0m\u001b[1;33m\u001b[0m\u001b[0m\n\u001b[0;32m     46\u001b[0m \u001b[1;31m#print(\"Async 3 :\", timeit.timeit(lambda: run_pool_async(3, wavs), number=1))\u001b[0m\u001b[1;33m\u001b[0m\u001b[1;33m\u001b[0m\u001b[1;33m\u001b[0m\u001b[0m\n\u001b[1;32m---> 47\u001b[1;33m \u001b[0mprint\u001b[0m\u001b[1;33m(\u001b[0m\u001b[1;34m\"Async 4 :\"\u001b[0m\u001b[1;33m,\u001b[0m \u001b[0mtimeit\u001b[0m\u001b[1;33m.\u001b[0m\u001b[0mtimeit\u001b[0m\u001b[1;33m(\u001b[0m\u001b[1;32mlambda\u001b[0m\u001b[1;33m:\u001b[0m \u001b[0mrun_pool_async\u001b[0m\u001b[1;33m(\u001b[0m\u001b[1;36m4\u001b[0m\u001b[1;33m,\u001b[0m \u001b[0mwavs\u001b[0m\u001b[1;33m)\u001b[0m\u001b[1;33m,\u001b[0m \u001b[0mnumber\u001b[0m\u001b[1;33m=\u001b[0m\u001b[1;36m1\u001b[0m\u001b[1;33m)\u001b[0m\u001b[1;33m)\u001b[0m\u001b[1;33m\u001b[0m\u001b[1;33m\u001b[0m\u001b[0m\n\u001b[0m\u001b[0;32m     48\u001b[0m \u001b[1;31m#print(\"Async 5 :\", timeit.timeit(lambda: run_pool_async(5, wavs), number=1))\u001b[0m\u001b[1;33m\u001b[0m\u001b[1;33m\u001b[0m\u001b[1;33m\u001b[0m\u001b[0m\n\u001b[0;32m     49\u001b[0m \u001b[1;31m#print(\"Async 6 :\", timeit.timeit(lambda: run_pool_async(6, wavs), number=1))\u001b[0m\u001b[1;33m\u001b[0m\u001b[1;33m\u001b[0m\u001b[1;33m\u001b[0m\u001b[0m\n",
      "\u001b[1;32m<ipython-input-3-d15dac761676>\u001b[0m in \u001b[0;36mrun_pool_async\u001b[1;34m(processes, files)\u001b[0m\n\u001b[0;32m     17\u001b[0m     \u001b[1;32mwith\u001b[0m \u001b[0mmp\u001b[0m\u001b[1;33m.\u001b[0m\u001b[0mPool\u001b[0m\u001b[1;33m(\u001b[0m\u001b[0mprocesses\u001b[0m\u001b[1;33m)\u001b[0m \u001b[1;32mas\u001b[0m \u001b[0mpool\u001b[0m\u001b[1;33m:\u001b[0m\u001b[1;33m\u001b[0m\u001b[1;33m\u001b[0m\u001b[0m\n\u001b[0;32m     18\u001b[0m         \u001b[0mresults\u001b[0m \u001b[1;33m=\u001b[0m \u001b[1;33m[\u001b[0m\u001b[0mpool\u001b[0m\u001b[1;33m.\u001b[0m\u001b[0mapply_async\u001b[0m\u001b[1;33m(\u001b[0m\u001b[0mworker\u001b[0m\u001b[1;33m,\u001b[0m \u001b[0mf\u001b[0m\u001b[1;33m)\u001b[0m \u001b[1;32mfor\u001b[0m \u001b[0mf\u001b[0m \u001b[1;32min\u001b[0m \u001b[0mfiles\u001b[0m\u001b[1;33m]\u001b[0m\u001b[1;33m\u001b[0m\u001b[1;33m\u001b[0m\u001b[0m\n\u001b[1;32m---> 19\u001b[1;33m         \u001b[0mprint\u001b[0m\u001b[1;33m(\u001b[0m\u001b[1;33m[\u001b[0m\u001b[0mres\u001b[0m\u001b[1;33m.\u001b[0m\u001b[0mget\u001b[0m\u001b[1;33m(\u001b[0m\u001b[0mtimeout\u001b[0m\u001b[1;33m=\u001b[0m\u001b[1;36m30\u001b[0m\u001b[1;33m)\u001b[0m \u001b[1;32mfor\u001b[0m \u001b[0mres\u001b[0m \u001b[1;32min\u001b[0m \u001b[0mresults\u001b[0m\u001b[1;33m]\u001b[0m\u001b[1;33m)\u001b[0m\u001b[1;33m\u001b[0m\u001b[1;33m\u001b[0m\u001b[0m\n\u001b[0m\u001b[0;32m     20\u001b[0m \u001b[1;33m\u001b[0m\u001b[0m\n\u001b[0;32m     21\u001b[0m \u001b[0mpath\u001b[0m \u001b[1;33m=\u001b[0m \u001b[0mmooltipath\u001b[0m\u001b[1;33m(\u001b[0m\u001b[1;34m'datasets/MAIN1000/samples'\u001b[0m\u001b[1;33m)\u001b[0m\u001b[1;33m\u001b[0m\u001b[1;33m\u001b[0m\u001b[0m\n",
      "\u001b[1;32m<ipython-input-3-d15dac761676>\u001b[0m in \u001b[0;36m<listcomp>\u001b[1;34m(.0)\u001b[0m\n\u001b[0;32m     17\u001b[0m     \u001b[1;32mwith\u001b[0m \u001b[0mmp\u001b[0m\u001b[1;33m.\u001b[0m\u001b[0mPool\u001b[0m\u001b[1;33m(\u001b[0m\u001b[0mprocesses\u001b[0m\u001b[1;33m)\u001b[0m \u001b[1;32mas\u001b[0m \u001b[0mpool\u001b[0m\u001b[1;33m:\u001b[0m\u001b[1;33m\u001b[0m\u001b[1;33m\u001b[0m\u001b[0m\n\u001b[0;32m     18\u001b[0m         \u001b[0mresults\u001b[0m \u001b[1;33m=\u001b[0m \u001b[1;33m[\u001b[0m\u001b[0mpool\u001b[0m\u001b[1;33m.\u001b[0m\u001b[0mapply_async\u001b[0m\u001b[1;33m(\u001b[0m\u001b[0mworker\u001b[0m\u001b[1;33m,\u001b[0m \u001b[0mf\u001b[0m\u001b[1;33m)\u001b[0m \u001b[1;32mfor\u001b[0m \u001b[0mf\u001b[0m \u001b[1;32min\u001b[0m \u001b[0mfiles\u001b[0m\u001b[1;33m]\u001b[0m\u001b[1;33m\u001b[0m\u001b[1;33m\u001b[0m\u001b[0m\n\u001b[1;32m---> 19\u001b[1;33m         \u001b[0mprint\u001b[0m\u001b[1;33m(\u001b[0m\u001b[1;33m[\u001b[0m\u001b[0mres\u001b[0m\u001b[1;33m.\u001b[0m\u001b[0mget\u001b[0m\u001b[1;33m(\u001b[0m\u001b[0mtimeout\u001b[0m\u001b[1;33m=\u001b[0m\u001b[1;36m30\u001b[0m\u001b[1;33m)\u001b[0m \u001b[1;32mfor\u001b[0m \u001b[0mres\u001b[0m \u001b[1;32min\u001b[0m \u001b[0mresults\u001b[0m\u001b[1;33m]\u001b[0m\u001b[1;33m)\u001b[0m\u001b[1;33m\u001b[0m\u001b[1;33m\u001b[0m\u001b[0m\n\u001b[0m\u001b[0;32m     20\u001b[0m \u001b[1;33m\u001b[0m\u001b[0m\n\u001b[0;32m     21\u001b[0m \u001b[0mpath\u001b[0m \u001b[1;33m=\u001b[0m \u001b[0mmooltipath\u001b[0m\u001b[1;33m(\u001b[0m\u001b[1;34m'datasets/MAIN1000/samples'\u001b[0m\u001b[1;33m)\u001b[0m\u001b[1;33m\u001b[0m\u001b[1;33m\u001b[0m\u001b[0m\n",
      "\u001b[1;32mD:\\Anaconda3\\lib\\multiprocessing\\pool.py\u001b[0m in \u001b[0;36mget\u001b[1;34m(self, timeout)\u001b[0m\n\u001b[0;32m    655\u001b[0m             \u001b[1;32mreturn\u001b[0m \u001b[0mself\u001b[0m\u001b[1;33m.\u001b[0m\u001b[0m_value\u001b[0m\u001b[1;33m\u001b[0m\u001b[1;33m\u001b[0m\u001b[0m\n\u001b[0;32m    656\u001b[0m         \u001b[1;32melse\u001b[0m\u001b[1;33m:\u001b[0m\u001b[1;33m\u001b[0m\u001b[1;33m\u001b[0m\u001b[0m\n\u001b[1;32m--> 657\u001b[1;33m             \u001b[1;32mraise\u001b[0m \u001b[0mself\u001b[0m\u001b[1;33m.\u001b[0m\u001b[0m_value\u001b[0m\u001b[1;33m\u001b[0m\u001b[1;33m\u001b[0m\u001b[0m\n\u001b[0m\u001b[0;32m    658\u001b[0m \u001b[1;33m\u001b[0m\u001b[0m\n\u001b[0;32m    659\u001b[0m     \u001b[1;32mdef\u001b[0m \u001b[0m_set\u001b[0m\u001b[1;33m(\u001b[0m\u001b[0mself\u001b[0m\u001b[1;33m,\u001b[0m \u001b[0mi\u001b[0m\u001b[1;33m,\u001b[0m \u001b[0mobj\u001b[0m\u001b[1;33m)\u001b[0m\u001b[1;33m:\u001b[0m\u001b[1;33m\u001b[0m\u001b[1;33m\u001b[0m\u001b[0m\n",
      "\u001b[1;31mTypeError\u001b[0m: worker() argument after * must be an iterable, not WindowsPath"
     ]
    }
   ],
   "source": [
    "import kilroy_was_here\n",
    "from lib.jupytools import mooltipath\n",
    "from pathlib import Path\n",
    "import multiprocessing as mp\n",
    "import timeit\n",
    "import librosa\n",
    "from os import fspath\n",
    "\n",
    "from worker_audioload import worker\n",
    "\n",
    "\n",
    "def run_pool(processes, files):\n",
    "    with mp.Pool(processes) as pool:\n",
    "        results = pool.map(worker, files)\n",
    "        \n",
    "def run_pool_async(processes, files):\n",
    "    with mp.Pool(processes) as pool:\n",
    "        results = [pool.apply_async(worker, f) for f in files]  \n",
    "        print([res.get(timeout=30) for res in results])\n",
    "\n",
    "path = mooltipath('datasets/MAIN1000/samples')\n",
    "\n",
    "wavs = [f for f in path.glob('*.wav') if f.is_file()]\n",
    "print(\"NB FILES:\",len(wavs))\n",
    "\n",
    "def sequential(files): \n",
    "    for f in files:\n",
    "        sig1, sr = librosa.core.load(fspath(f))\n",
    "        sig2, sr = librosa.core.load(fspath(f))\n",
    "        sig3, sr = librosa.core.load(fspath(f))\n",
    "        sig4, sr = librosa.core.load(fspath(f))   \n",
    "\n",
    "        \n",
    "#print(\"Sequential:\", timeit.timeit(lambda: sequential(wavs), number=1))\n",
    "#print(\"Parallel 1 :\", timeit.timeit(lambda: run_pool(1, wavs), number=1))\n",
    "#print(\"Parallel 2 :\", timeit.timeit(lambda: run_pool(2, wavs), number=1))\n",
    "#print(\"Parallel 3 :\", timeit.timeit(lambda: run_pool(3, wavs), number=1))\n",
    "#print(\"Parallel 4 :\", timeit.timeit(lambda: run_pool(4, wavs), number=1))\n",
    "#print(\"Parallel 5 :\", timeit.timeit(lambda: run_pool(5, wavs), number=1))\n",
    "#print(\"Parallel 6 :\", timeit.timeit(lambda: run_pool(6, wavs), number=1))\n",
    "#print(\"Parallel 7 :\", timeit.timeit(lambda: run_pool(7, wavs), number=1))\n",
    "#print(\"Parallel 8 :\", timeit.timeit(lambda: run_pool(8, wavs), number=1))\n",
    "\n",
    "#print(\"Async 1 :\", timeit.timeit(lambda: run_pool_async(1, wavs), number=1))\n",
    "#print(\"Async 2 :\", timeit.timeit(lambda: run_pool_async(2, wavs), number=1))\n",
    "#print(\"Async 3 :\", timeit.timeit(lambda: run_pool_async(3, wavs), number=1))\n",
    "print(\"Async 4 :\", timeit.timeit(lambda: run_pool_async(4, wavs), number=1))\n",
    "#print(\"Async 5 :\", timeit.timeit(lambda: run_pool_async(5, wavs), number=1))\n",
    "#print(\"Async 6 :\", timeit.timeit(lambda: run_pool_async(6, wavs), number=1))\n",
    "#print(\"Async 7 :\", timeit.timeit(lambda: run_pool_async(7, wavs), number=1))\n",
    "#print(\"Async 8 :\", timeit.timeit(lambda: run_pool_async(8, wavs), number=1))\n"
   ]
  },
  {
   "cell_type": "code",
   "execution_count": 1,
   "metadata": {},
   "outputs": [],
   "source": [
    "import multiprocess as mp\n",
    "\n",
    "def double(a):\n",
    "    print('working')\n",
    "    return a * 2\n",
    "\n",
    "def driver_func():\n",
    "    PROCESSES = 4\n",
    "    print('About to create pool')\n",
    "    with mp.Pool(PROCESSES) as pool:\n",
    "        print('Pool created')\n",
    "        params = [(1, ), (2, ), (3, ), (4, )]\n",
    "        results = [pool.apply_async(double, p) for p in params]\n",
    "\n",
    "        for r in results:\n",
    "            print('\\t', r.get())\n",
    "                    "
   ]
  },
  {
   "cell_type": "code",
   "execution_count": 2,
   "metadata": {
    "scrolled": true
   },
   "outputs": [
    {
     "name": "stdout",
     "output_type": "stream",
     "text": [
      "About to create pool\n",
      "Pool created\n",
      "\t 2\n",
      "\t 4\n",
      "\t 6\n",
      "\t 8\n"
     ]
    }
   ],
   "source": [
    "driver_func() "
   ]
  },
  {
   "cell_type": "code",
   "execution_count": 9,
   "metadata": {},
   "outputs": [
    {
     "name": "stdout",
     "output_type": "stream",
     "text": [
      "[1, 4, 9, 16]\n"
     ]
    }
   ],
   "source": [
    "from multiprocessing import Pool\n",
    "import defs\n",
    "\n",
    "if __name__ == '__main__':\n",
    "    with Pool(1) as p:\n",
    "        print(p.map(defs.f, [1, 2, 3, 4]))"
   ]
  },
  {
   "cell_type": "code",
   "execution_count": 1,
   "metadata": {},
   "outputs": [
    {
     "name": "stderr",
     "output_type": "stream",
     "text": [
      "D:\\Anaconda3\\lib\\site-packages\\tensorflow\\python\\framework\\dtypes.py:516: FutureWarning: Passing (type, 1) or '1type' as a synonym of type is deprecated; in a future version of numpy, it will be understood as (type, (1,)) / '(1,)type'.\n",
      "  _np_qint8 = np.dtype([(\"qint8\", np.int8, 1)])\n",
      "D:\\Anaconda3\\lib\\site-packages\\tensorflow\\python\\framework\\dtypes.py:517: FutureWarning: Passing (type, 1) or '1type' as a synonym of type is deprecated; in a future version of numpy, it will be understood as (type, (1,)) / '(1,)type'.\n",
      "  _np_quint8 = np.dtype([(\"quint8\", np.uint8, 1)])\n",
      "D:\\Anaconda3\\lib\\site-packages\\tensorflow\\python\\framework\\dtypes.py:518: FutureWarning: Passing (type, 1) or '1type' as a synonym of type is deprecated; in a future version of numpy, it will be understood as (type, (1,)) / '(1,)type'.\n",
      "  _np_qint16 = np.dtype([(\"qint16\", np.int16, 1)])\n",
      "D:\\Anaconda3\\lib\\site-packages\\tensorflow\\python\\framework\\dtypes.py:519: FutureWarning: Passing (type, 1) or '1type' as a synonym of type is deprecated; in a future version of numpy, it will be understood as (type, (1,)) / '(1,)type'.\n",
      "  _np_quint16 = np.dtype([(\"quint16\", np.uint16, 1)])\n",
      "D:\\Anaconda3\\lib\\site-packages\\tensorflow\\python\\framework\\dtypes.py:520: FutureWarning: Passing (type, 1) or '1type' as a synonym of type is deprecated; in a future version of numpy, it will be understood as (type, (1,)) / '(1,)type'.\n",
      "  _np_qint32 = np.dtype([(\"qint32\", np.int32, 1)])\n",
      "D:\\Anaconda3\\lib\\site-packages\\tensorflow\\python\\framework\\dtypes.py:525: FutureWarning: Passing (type, 1) or '1type' as a synonym of type is deprecated; in a future version of numpy, it will be understood as (type, (1,)) / '(1,)type'.\n",
      "  np_resource = np.dtype([(\"resource\", np.ubyte, 1)])\n",
      "D:\\Anaconda3\\lib\\site-packages\\tensorboard\\compat\\tensorflow_stub\\dtypes.py:541: FutureWarning: Passing (type, 1) or '1type' as a synonym of type is deprecated; in a future version of numpy, it will be understood as (type, (1,)) / '(1,)type'.\n",
      "  _np_qint8 = np.dtype([(\"qint8\", np.int8, 1)])\n",
      "D:\\Anaconda3\\lib\\site-packages\\tensorboard\\compat\\tensorflow_stub\\dtypes.py:542: FutureWarning: Passing (type, 1) or '1type' as a synonym of type is deprecated; in a future version of numpy, it will be understood as (type, (1,)) / '(1,)type'.\n",
      "  _np_quint8 = np.dtype([(\"quint8\", np.uint8, 1)])\n",
      "D:\\Anaconda3\\lib\\site-packages\\tensorboard\\compat\\tensorflow_stub\\dtypes.py:543: FutureWarning: Passing (type, 1) or '1type' as a synonym of type is deprecated; in a future version of numpy, it will be understood as (type, (1,)) / '(1,)type'.\n",
      "  _np_qint16 = np.dtype([(\"qint16\", np.int16, 1)])\n",
      "D:\\Anaconda3\\lib\\site-packages\\tensorboard\\compat\\tensorflow_stub\\dtypes.py:544: FutureWarning: Passing (type, 1) or '1type' as a synonym of type is deprecated; in a future version of numpy, it will be understood as (type, (1,)) / '(1,)type'.\n",
      "  _np_quint16 = np.dtype([(\"quint16\", np.uint16, 1)])\n",
      "D:\\Anaconda3\\lib\\site-packages\\tensorboard\\compat\\tensorflow_stub\\dtypes.py:545: FutureWarning: Passing (type, 1) or '1type' as a synonym of type is deprecated; in a future version of numpy, it will be understood as (type, (1,)) / '(1,)type'.\n",
      "  _np_qint32 = np.dtype([(\"qint32\", np.int32, 1)])\n",
      "D:\\Anaconda3\\lib\\site-packages\\tensorboard\\compat\\tensorflow_stub\\dtypes.py:550: FutureWarning: Passing (type, 1) or '1type' as a synonym of type is deprecated; in a future version of numpy, it will be understood as (type, (1,)) / '(1,)type'.\n",
      "  np_resource = np.dtype([(\"resource\", np.ubyte, 1)])\n"
     ]
    },
    {
     "name": "stdout",
     "output_type": "stream",
     "text": [
      "NB FILES: 4\n",
      "5\n",
      "Sequential: 0.010055900000001117\n",
      "Start Pool\n",
      "End Pool\n",
      "[10, 10, 10, 10]\n",
      "------------------\n",
      "10\n",
      "10\n",
      "10\n",
      "10\n",
      "Parallel 1 : 1.3320391999999988\n"
     ]
    }
   ],
   "source": [
    "import kilroy_was_here\n",
    "from lib.jupytools import mooltipath\n",
    "import full_audioload\n",
    "\n",
    "path = mooltipath('datasets/MAIN1000/samples')\n",
    "N=4\n",
    "files = [f for f in path.glob('*.wav') if f.is_file()]\n",
    "wavs = files[:4]\n",
    "print(\"NB FILES:\",len(wavs))\n",
    "\n",
    "full_audioload.run(wavs, iterations=5, nprocs=1, repeat=1)"
   ]
  },
  {
   "cell_type": "code",
   "execution_count": 7,
   "metadata": {
    "scrolled": true
   },
   "outputs": [
    {
     "name": "stdout",
     "output_type": "stream",
     "text": [
      "15000\n",
      "Sequential: 15.513270799999987\n",
      "Start Pool\n",
      "End Pool\n",
      "0\n",
      "0\n",
      "0\n",
      "0\n",
      "Parallel 2 : 10.406598700000018\n"
     ]
    }
   ],
   "source": [
    "full_audioload.run(wavs, iterations=15000, nprocs=2, repeat=1)"
   ]
  },
  {
   "cell_type": "code",
   "execution_count": 9,
   "metadata": {},
   "outputs": [
    {
     "name": "stdout",
     "output_type": "stream",
     "text": [
      "15000\n",
      "Sequential: 15.369980099999964\n",
      "Start Pool\n",
      "End Pool\n",
      "0\n",
      "0\n",
      "0\n",
      "0\n",
      "Parallel 3 : 11.41987370000004\n"
     ]
    }
   ],
   "source": [
    "full_audioload.run(wavs, iterations=15000, nprocs=3, repeat=1)"
   ]
  },
  {
   "cell_type": "code",
   "execution_count": 16,
   "metadata": {},
   "outputs": [
    {
     "name": "stdout",
     "output_type": "stream",
     "text": [
      "50000\n",
      "Sequential: 54.63501139999994\n",
      "Start Pool\n",
      "End Pool\n",
      "0\n",
      "0\n",
      "0\n",
      "0\n",
      "Parallel 4 : 24.738893399999938\n"
     ]
    }
   ],
   "source": [
    "full_audioload.run(wavs, iterations=50000, nprocs=4, repeat=1)"
   ]
  }
 ],
 "metadata": {
  "kernelspec": {
   "display_name": "Python 3",
   "language": "python",
   "name": "python3"
  },
  "language_info": {
   "codemirror_mode": {
    "name": "ipython",
    "version": 3
   },
   "file_extension": ".py",
   "mimetype": "text/x-python",
   "name": "python",
   "nbconvert_exporter": "python",
   "pygments_lexer": "ipython3",
   "version": "3.7.7"
  }
 },
 "nbformat": 4,
 "nbformat_minor": 4
}
