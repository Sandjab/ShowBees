{
 "cells": [
  {
   "cell_type": "code",
   "execution_count": 86,
   "metadata": {},
   "outputs": [
    {
     "name": "stdout",
     "output_type": "stream",
     "text": [
      "1\n",
      "[2020-07-30/16:55:30.231|04.6%|83.6%|0.03GB] Processing 1 files over 5\n",
      "[2020-07-30/16:55:30.232|00.0%|83.6%|0.03GB] Processing 2 files over 5\n",
      "[2020-07-30/16:55:30.232|00.0%|83.6%|0.03GB] Processing 3 files over 5\n",
      "[2020-07-30/16:55:30.232|00.0%|83.6%|0.03GB] Processing 4 files over 5\n",
      "[2020-07-30/16:55:30.232|00.0%|83.6%|0.03GB] Processing 5 files over 5\n"
     ]
    }
   ],
   "source": [
    "from datetime import datetime\n",
    "import os\n",
    "import psutil\n",
    "\n",
    "def iprint(*args, **kwargs):\n",
    "    t = datetime.now().strftime('%Y-%m-%d/%H:%M:%S.%f')[:-3]\n",
    "    ucpu = psutil.cpu_percent(interval=None, percpu=False)\n",
    "    uram = psutil.virtual_memory().percent\n",
    "    process_uram = psutil.Process().memory_info().rss/1024/1024/1024  # Bytes to GB    \n",
    "    print('[{0}|{1:04.1f}%|{2:04.1f}%|{3:.2f}GB]'.format(t, ucpu, uram, process_uram), *args, **kwargs)  \n",
    "    \n",
    "print('{0}'.format(1))\n",
    "\n",
    "for i in range(5):\n",
    "    iprint('Processing {0} files over {1}'.format(i+1,5))\n"
   ]
  }
 ],
 "metadata": {
  "kernelspec": {
   "display_name": "Python 3",
   "language": "python",
   "name": "python3"
  },
  "language_info": {
   "codemirror_mode": {
    "name": "ipython",
    "version": 3
   },
   "file_extension": ".py",
   "mimetype": "text/x-python",
   "name": "python",
   "nbconvert_exporter": "python",
   "pygments_lexer": "ipython3",
   "version": "3.7.7"
  }
 },
 "nbformat": 4,
 "nbformat_minor": 4
}
