{
 "cells": [
  {
   "cell_type": "code",
   "execution_count": 1,
   "metadata": {},
   "outputs": [
    {
     "name": "stdout",
     "output_type": "stream",
     "text": [
      "In features \n",
      " ['D:\\\\jupyter\\\\ShowBees\\\\snippets', 'D:\\\\Anaconda3\\\\python37.zip', 'D:\\\\Anaconda3\\\\DLLs', 'D:\\\\Anaconda3\\\\lib', 'D:\\\\Anaconda3', '', 'C:\\\\Users\\\\jp\\\\AppData\\\\Roaming\\\\Python\\\\Python37\\\\site-packages', 'D:\\\\Anaconda3\\\\lib\\\\site-packages', 'D:\\\\Anaconda3\\\\lib\\\\site-packages\\\\win32', 'D:\\\\Anaconda3\\\\lib\\\\site-packages\\\\win32\\\\lib', 'D:\\\\Anaconda3\\\\lib\\\\site-packages\\\\Pythonwin', 'D:\\\\Anaconda3\\\\lib\\\\site-packages\\\\IPython\\\\extensions', 'C:\\\\Users\\\\jp\\\\.ipython', 'D:\\\\jupyter\\\\ShowBees\\\\codelib']\n",
      "In subpack.toto\n",
      "rrr\n",
      "12\n",
      "34\n",
      "34\n"
     ]
    }
   ],
   "source": [
    "import proxycodelib\n",
    "from features import extract_feature_from_sample, extractor1, extractor2\n",
    "from subpack import toto\n",
    "\n",
    "toto.toto(\"rrr\")\n",
    "\n",
    "print(extract_feature_from_sample('toto', extractor1, P1=12, P2=34))\n",
    "print(extract_feature_from_sample('toto', extractor2, 1, P1=12, P2=34))\n",
    "print(extract_feature_from_sample('toto', extractor2, 1, 12, 34))"
   ]
  }
 ],
 "metadata": {
  "kernelspec": {
   "display_name": "Python 3",
   "language": "python",
   "name": "python3"
  },
  "language_info": {
   "codemirror_mode": {
    "name": "ipython",
    "version": 3
   },
   "file_extension": ".py",
   "mimetype": "text/x-python",
   "name": "python",
   "nbconvert_exporter": "python",
   "pygments_lexer": "ipython3",
   "version": "3.7.7"
  }
 },
 "nbformat": 4,
 "nbformat_minor": 4
}
