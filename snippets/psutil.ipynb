{
 "cells": [
  {
   "cell_type": "code",
   "execution_count": 104,
   "metadata": {
    "scrolled": true
   },
   "outputs": [
    {
     "name": "stdout",
     "output_type": "stream",
     "text": [
      "[03.1% 82.6% 0.03GB]\n"
     ]
    }
   ],
   "source": [
    "import psutil\n",
    "\n",
    "ucpu = psutil.cpu_percent(interval=None, percpu=False)\n",
    "uram = psutil.virtual_memory().percent\n",
    "process_uram = psutil.Process().memory_info().rss/1024/1024/1024  # Bytes to GB\n",
    "\n",
    "\n",
    "print('[{0:04.1f}% {1:04.1f}% {2:.2f}GB]'.format(cpu, uram, process_uram))\n",
    "\n"
   ]
  }
 ],
 "metadata": {
  "kernelspec": {
   "display_name": "Python 3",
   "language": "python",
   "name": "python3"
  },
  "language_info": {
   "codemirror_mode": {
    "name": "ipython",
    "version": 3
   },
   "file_extension": ".py",
   "mimetype": "text/x-python",
   "name": "python",
   "nbconvert_exporter": "python",
   "pygments_lexer": "ipython3",
   "version": "3.7.7"
  }
 },
 "nbformat": 4,
 "nbformat_minor": 4
}
